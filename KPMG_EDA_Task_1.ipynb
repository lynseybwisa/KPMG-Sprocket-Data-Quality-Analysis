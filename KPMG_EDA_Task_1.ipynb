{
  "cells": [
    {
      "cell_type": "code",
      "execution_count": 1,
      "metadata": {
        "colab": {
          "base_uri": "https://localhost:8080/"
        },
        "id": "GwOrbkfnuYBR",
        "outputId": "ee5251a1-69d3-43ab-c3db-95b5047b96a1"
      },
      "outputs": [
        {
          "output_type": "stream",
          "name": "stdout",
          "text": [
            "\n",
            "Usage:   \n",
            "  pip3 install [options] <requirement specifier> [package-index-options] ...\n",
            "  pip3 install [options] -r <requirements file> [package-index-options] ...\n",
            "  pip3 install [options] [-e] <vcs project url> ...\n",
            "  pip3 install [options] [-e] <local project path> ...\n",
            "  pip3 install [options] <archive url/path> ...\n",
            "\n",
            "no such option: -y\n"
          ]
        }
      ],
      "source": [
        "!pip install -qy pandas==1.3.4 numpy==1.21.4 seaborn==0.9.0 matplotlib==3.5.0 scikit-learn==0.20.1 pycountry\n"
      ]
    },
    {
      "cell_type": "code",
      "execution_count": 2,
      "metadata": {
        "id": "WhHMGvGlvIyB"
      },
      "outputs": [],
      "source": [
        "# Surpress warnings from using older version of sklearn:\n",
        "def warn(*args, **kwargs):\n",
        "    pass\n",
        "import warnings\n",
        "warnings.warn = warn"
      ]
    },
    {
      "cell_type": "code",
      "execution_count": 3,
      "metadata": {
        "id": "7C-AYxm1vL1w"
      },
      "outputs": [],
      "source": [
        "import pandas as pd\n",
        "import numpy as np\n",
        "\n",
        "import matplotlib.pyplot as plt\n",
        "%matplotlib inline\n",
        "import seaborn as sns\n",
        "import plotly.express as px\n",
        "\n",
        "from sklearn.preprocessing import StandardScaler\n",
        "from sklearn.decomposition import PCA\n",
        "\n",
        "from datetime import datetime\n"
      ]
    },
    {
      "cell_type": "markdown",
      "metadata": {
        "id": "5D1uq5mUv6eO"
      },
      "source": [
        "#Load the Data"
      ]
    },
    {
      "cell_type": "code",
      "execution_count": 4,
      "metadata": {
        "id": "4AOx9n1Nv8xd"
      },
      "outputs": [],
      "source": [
        "file_path ='/content/KPMG_dataset.xlsx'"
      ]
    },
    {
      "cell_type": "code",
      "execution_count": 5,
      "metadata": {
        "id": "oqTk0u1nwKXT"
      },
      "outputs": [],
      "source": [
        "# Read the XLSX file into a DataFrame\n",
        "df = pd.read_excel(file_path)"
      ]
    },
    {
      "cell_type": "code",
      "execution_count": 6,
      "metadata": {
        "colab": {
          "base_uri": "https://localhost:8080/"
        },
        "id": "qKnC0FJOy8rA",
        "outputId": "faf5e8f5-04c1-4b59-b694-3e14b1642092"
      },
      "outputs": [
        {
          "output_type": "execute_result",
          "data": {
            "text/plain": [
              "['Title Sheet',\n",
              " 'Transactions',\n",
              " 'NewCustomerList',\n",
              " 'CustomerDemographic',\n",
              " 'CustomerAddress']"
            ]
          },
          "metadata": {},
          "execution_count": 6
        }
      ],
      "source": [
        "# List the sheet names in the XLSX file\n",
        "xls = pd.ExcelFile(file_path)\n",
        "sheet_names = xls.sheet_names\n",
        "sheet_names"
      ]
    },
    {
      "cell_type": "code",
      "execution_count": 7,
      "metadata": {
        "id": "rDmwy2Cj1peU"
      },
      "outputs": [],
      "source": [
        "# Read a specific sheet into a DataFrame\n",
        "customer_demographic = pd.read_excel(file_path, sheet_name='CustomerDemographic', skiprows=1)"
      ]
    },
    {
      "cell_type": "code",
      "execution_count": 8,
      "metadata": {
        "id": "VLgcpCCfThsK"
      },
      "outputs": [],
      "source": [
        "# Read a specific sheet into a DataFrame\n",
        "customer_addresses = pd.read_excel(file_path, sheet_name='CustomerAddress', skiprows=1)"
      ]
    },
    {
      "cell_type": "code",
      "execution_count": 9,
      "metadata": {
        "id": "SJTV13hyVXy6"
      },
      "outputs": [],
      "source": [
        "transactions = pd.read_excel(file_path, sheet_name='Transactions', skiprows=1)"
      ]
    },
    {
      "cell_type": "code",
      "execution_count": 10,
      "metadata": {
        "colab": {
          "base_uri": "https://localhost:8080/",
          "height": 331
        },
        "id": "B4cbIonWwU_M",
        "outputId": "7fb9dad3-0cc3-4560-9d83-3efe09ed7468"
      },
      "outputs": [
        {
          "output_type": "execute_result",
          "data": {
            "text/plain": [
              "   customer_id      first_name  last_name  gender  \\\n",
              "0            1         Laraine  Medendorp       F   \n",
              "1            2             Eli    Bockman    Male   \n",
              "2            3           Arlin     Dearle    Male   \n",
              "3            4          Talbot        NaN    Male   \n",
              "4            5  Sheila-kathryn     Calton  Female   \n",
              "\n",
              "   past_3_years_bike_related_purchases        DOB               job_title  \\\n",
              "0                                   93 1953-10-12     Executive Secretary   \n",
              "1                                   81 1980-12-16  Administrative Officer   \n",
              "2                                   61 1954-01-20      Recruiting Manager   \n",
              "3                                   33 1961-10-03                     NaN   \n",
              "4                                   56 1977-05-13           Senior Editor   \n",
              "\n",
              "  job_industry_category     wealth_segment deceased_indicator  \\\n",
              "0                Health      Mass Customer                  N   \n",
              "1    Financial Services      Mass Customer                  N   \n",
              "2              Property      Mass Customer                  N   \n",
              "3                    IT      Mass Customer                  N   \n",
              "4                   NaN  Affluent Customer                  N   \n",
              "\n",
              "                                             default owns_car  tenure  \n",
              "0                                                 \"'      Yes    11.0  \n",
              "1                       <script>alert('hi')</script>      Yes    16.0  \n",
              "2                                2018-02-01 00:00:00      Yes    15.0  \n",
              "3  () { _; } >_[$($())] { touch /tmp/blns.shellsh...       No     7.0  \n",
              "4                                                NIL      Yes     8.0  "
            ],
            "text/html": [
              "\n",
              "  <div id=\"df-f48306d3-5089-4622-afd8-a570e3d35701\" class=\"colab-df-container\">\n",
              "    <div>\n",
              "<style scoped>\n",
              "    .dataframe tbody tr th:only-of-type {\n",
              "        vertical-align: middle;\n",
              "    }\n",
              "\n",
              "    .dataframe tbody tr th {\n",
              "        vertical-align: top;\n",
              "    }\n",
              "\n",
              "    .dataframe thead th {\n",
              "        text-align: right;\n",
              "    }\n",
              "</style>\n",
              "<table border=\"1\" class=\"dataframe\">\n",
              "  <thead>\n",
              "    <tr style=\"text-align: right;\">\n",
              "      <th></th>\n",
              "      <th>customer_id</th>\n",
              "      <th>first_name</th>\n",
              "      <th>last_name</th>\n",
              "      <th>gender</th>\n",
              "      <th>past_3_years_bike_related_purchases</th>\n",
              "      <th>DOB</th>\n",
              "      <th>job_title</th>\n",
              "      <th>job_industry_category</th>\n",
              "      <th>wealth_segment</th>\n",
              "      <th>deceased_indicator</th>\n",
              "      <th>default</th>\n",
              "      <th>owns_car</th>\n",
              "      <th>tenure</th>\n",
              "    </tr>\n",
              "  </thead>\n",
              "  <tbody>\n",
              "    <tr>\n",
              "      <th>0</th>\n",
              "      <td>1</td>\n",
              "      <td>Laraine</td>\n",
              "      <td>Medendorp</td>\n",
              "      <td>F</td>\n",
              "      <td>93</td>\n",
              "      <td>1953-10-12</td>\n",
              "      <td>Executive Secretary</td>\n",
              "      <td>Health</td>\n",
              "      <td>Mass Customer</td>\n",
              "      <td>N</td>\n",
              "      <td>\"'</td>\n",
              "      <td>Yes</td>\n",
              "      <td>11.0</td>\n",
              "    </tr>\n",
              "    <tr>\n",
              "      <th>1</th>\n",
              "      <td>2</td>\n",
              "      <td>Eli</td>\n",
              "      <td>Bockman</td>\n",
              "      <td>Male</td>\n",
              "      <td>81</td>\n",
              "      <td>1980-12-16</td>\n",
              "      <td>Administrative Officer</td>\n",
              "      <td>Financial Services</td>\n",
              "      <td>Mass Customer</td>\n",
              "      <td>N</td>\n",
              "      <td>&lt;script&gt;alert('hi')&lt;/script&gt;</td>\n",
              "      <td>Yes</td>\n",
              "      <td>16.0</td>\n",
              "    </tr>\n",
              "    <tr>\n",
              "      <th>2</th>\n",
              "      <td>3</td>\n",
              "      <td>Arlin</td>\n",
              "      <td>Dearle</td>\n",
              "      <td>Male</td>\n",
              "      <td>61</td>\n",
              "      <td>1954-01-20</td>\n",
              "      <td>Recruiting Manager</td>\n",
              "      <td>Property</td>\n",
              "      <td>Mass Customer</td>\n",
              "      <td>N</td>\n",
              "      <td>2018-02-01 00:00:00</td>\n",
              "      <td>Yes</td>\n",
              "      <td>15.0</td>\n",
              "    </tr>\n",
              "    <tr>\n",
              "      <th>3</th>\n",
              "      <td>4</td>\n",
              "      <td>Talbot</td>\n",
              "      <td>NaN</td>\n",
              "      <td>Male</td>\n",
              "      <td>33</td>\n",
              "      <td>1961-10-03</td>\n",
              "      <td>NaN</td>\n",
              "      <td>IT</td>\n",
              "      <td>Mass Customer</td>\n",
              "      <td>N</td>\n",
              "      <td>() { _; } &gt;_[$($())] { touch /tmp/blns.shellsh...</td>\n",
              "      <td>No</td>\n",
              "      <td>7.0</td>\n",
              "    </tr>\n",
              "    <tr>\n",
              "      <th>4</th>\n",
              "      <td>5</td>\n",
              "      <td>Sheila-kathryn</td>\n",
              "      <td>Calton</td>\n",
              "      <td>Female</td>\n",
              "      <td>56</td>\n",
              "      <td>1977-05-13</td>\n",
              "      <td>Senior Editor</td>\n",
              "      <td>NaN</td>\n",
              "      <td>Affluent Customer</td>\n",
              "      <td>N</td>\n",
              "      <td>NIL</td>\n",
              "      <td>Yes</td>\n",
              "      <td>8.0</td>\n",
              "    </tr>\n",
              "  </tbody>\n",
              "</table>\n",
              "</div>\n",
              "    <div class=\"colab-df-buttons\">\n",
              "\n",
              "  <div class=\"colab-df-container\">\n",
              "    <button class=\"colab-df-convert\" onclick=\"convertToInteractive('df-f48306d3-5089-4622-afd8-a570e3d35701')\"\n",
              "            title=\"Convert this dataframe to an interactive table.\"\n",
              "            style=\"display:none;\">\n",
              "\n",
              "  <svg xmlns=\"http://www.w3.org/2000/svg\" height=\"24px\" viewBox=\"0 -960 960 960\">\n",
              "    <path d=\"M120-120v-720h720v720H120Zm60-500h600v-160H180v160Zm220 220h160v-160H400v160Zm0 220h160v-160H400v160ZM180-400h160v-160H180v160Zm440 0h160v-160H620v160ZM180-180h160v-160H180v160Zm440 0h160v-160H620v160Z\"/>\n",
              "  </svg>\n",
              "    </button>\n",
              "\n",
              "  <style>\n",
              "    .colab-df-container {\n",
              "      display:flex;\n",
              "      gap: 12px;\n",
              "    }\n",
              "\n",
              "    .colab-df-convert {\n",
              "      background-color: #E8F0FE;\n",
              "      border: none;\n",
              "      border-radius: 50%;\n",
              "      cursor: pointer;\n",
              "      display: none;\n",
              "      fill: #1967D2;\n",
              "      height: 32px;\n",
              "      padding: 0 0 0 0;\n",
              "      width: 32px;\n",
              "    }\n",
              "\n",
              "    .colab-df-convert:hover {\n",
              "      background-color: #E2EBFA;\n",
              "      box-shadow: 0px 1px 2px rgba(60, 64, 67, 0.3), 0px 1px 3px 1px rgba(60, 64, 67, 0.15);\n",
              "      fill: #174EA6;\n",
              "    }\n",
              "\n",
              "    .colab-df-buttons div {\n",
              "      margin-bottom: 4px;\n",
              "    }\n",
              "\n",
              "    [theme=dark] .colab-df-convert {\n",
              "      background-color: #3B4455;\n",
              "      fill: #D2E3FC;\n",
              "    }\n",
              "\n",
              "    [theme=dark] .colab-df-convert:hover {\n",
              "      background-color: #434B5C;\n",
              "      box-shadow: 0px 1px 3px 1px rgba(0, 0, 0, 0.15);\n",
              "      filter: drop-shadow(0px 1px 2px rgba(0, 0, 0, 0.3));\n",
              "      fill: #FFFFFF;\n",
              "    }\n",
              "  </style>\n",
              "\n",
              "    <script>\n",
              "      const buttonEl =\n",
              "        document.querySelector('#df-f48306d3-5089-4622-afd8-a570e3d35701 button.colab-df-convert');\n",
              "      buttonEl.style.display =\n",
              "        google.colab.kernel.accessAllowed ? 'block' : 'none';\n",
              "\n",
              "      async function convertToInteractive(key) {\n",
              "        const element = document.querySelector('#df-f48306d3-5089-4622-afd8-a570e3d35701');\n",
              "        const dataTable =\n",
              "          await google.colab.kernel.invokeFunction('convertToInteractive',\n",
              "                                                    [key], {});\n",
              "        if (!dataTable) return;\n",
              "\n",
              "        const docLinkHtml = 'Like what you see? Visit the ' +\n",
              "          '<a target=\"_blank\" href=https://colab.research.google.com/notebooks/data_table.ipynb>data table notebook</a>'\n",
              "          + ' to learn more about interactive tables.';\n",
              "        element.innerHTML = '';\n",
              "        dataTable['output_type'] = 'display_data';\n",
              "        await google.colab.output.renderOutput(dataTable, element);\n",
              "        const docLink = document.createElement('div');\n",
              "        docLink.innerHTML = docLinkHtml;\n",
              "        element.appendChild(docLink);\n",
              "      }\n",
              "    </script>\n",
              "  </div>\n",
              "\n",
              "\n",
              "<div id=\"df-192e6665-78d7-44d8-824c-45a309104ed0\">\n",
              "  <button class=\"colab-df-quickchart\" onclick=\"quickchart('df-192e6665-78d7-44d8-824c-45a309104ed0')\"\n",
              "            title=\"Suggest charts.\"\n",
              "            style=\"display:none;\">\n",
              "\n",
              "<svg xmlns=\"http://www.w3.org/2000/svg\" height=\"24px\"viewBox=\"0 0 24 24\"\n",
              "     width=\"24px\">\n",
              "    <g>\n",
              "        <path d=\"M19 3H5c-1.1 0-2 .9-2 2v14c0 1.1.9 2 2 2h14c1.1 0 2-.9 2-2V5c0-1.1-.9-2-2-2zM9 17H7v-7h2v7zm4 0h-2V7h2v10zm4 0h-2v-4h2v4z\"/>\n",
              "    </g>\n",
              "</svg>\n",
              "  </button>\n",
              "\n",
              "<style>\n",
              "  .colab-df-quickchart {\n",
              "      --bg-color: #E8F0FE;\n",
              "      --fill-color: #1967D2;\n",
              "      --hover-bg-color: #E2EBFA;\n",
              "      --hover-fill-color: #174EA6;\n",
              "      --disabled-fill-color: #AAA;\n",
              "      --disabled-bg-color: #DDD;\n",
              "  }\n",
              "\n",
              "  [theme=dark] .colab-df-quickchart {\n",
              "      --bg-color: #3B4455;\n",
              "      --fill-color: #D2E3FC;\n",
              "      --hover-bg-color: #434B5C;\n",
              "      --hover-fill-color: #FFFFFF;\n",
              "      --disabled-bg-color: #3B4455;\n",
              "      --disabled-fill-color: #666;\n",
              "  }\n",
              "\n",
              "  .colab-df-quickchart {\n",
              "    background-color: var(--bg-color);\n",
              "    border: none;\n",
              "    border-radius: 50%;\n",
              "    cursor: pointer;\n",
              "    display: none;\n",
              "    fill: var(--fill-color);\n",
              "    height: 32px;\n",
              "    padding: 0;\n",
              "    width: 32px;\n",
              "  }\n",
              "\n",
              "  .colab-df-quickchart:hover {\n",
              "    background-color: var(--hover-bg-color);\n",
              "    box-shadow: 0 1px 2px rgba(60, 64, 67, 0.3), 0 1px 3px 1px rgba(60, 64, 67, 0.15);\n",
              "    fill: var(--button-hover-fill-color);\n",
              "  }\n",
              "\n",
              "  .colab-df-quickchart-complete:disabled,\n",
              "  .colab-df-quickchart-complete:disabled:hover {\n",
              "    background-color: var(--disabled-bg-color);\n",
              "    fill: var(--disabled-fill-color);\n",
              "    box-shadow: none;\n",
              "  }\n",
              "\n",
              "  .colab-df-spinner {\n",
              "    border: 2px solid var(--fill-color);\n",
              "    border-color: transparent;\n",
              "    border-bottom-color: var(--fill-color);\n",
              "    animation:\n",
              "      spin 1s steps(1) infinite;\n",
              "  }\n",
              "\n",
              "  @keyframes spin {\n",
              "    0% {\n",
              "      border-color: transparent;\n",
              "      border-bottom-color: var(--fill-color);\n",
              "      border-left-color: var(--fill-color);\n",
              "    }\n",
              "    20% {\n",
              "      border-color: transparent;\n",
              "      border-left-color: var(--fill-color);\n",
              "      border-top-color: var(--fill-color);\n",
              "    }\n",
              "    30% {\n",
              "      border-color: transparent;\n",
              "      border-left-color: var(--fill-color);\n",
              "      border-top-color: var(--fill-color);\n",
              "      border-right-color: var(--fill-color);\n",
              "    }\n",
              "    40% {\n",
              "      border-color: transparent;\n",
              "      border-right-color: var(--fill-color);\n",
              "      border-top-color: var(--fill-color);\n",
              "    }\n",
              "    60% {\n",
              "      border-color: transparent;\n",
              "      border-right-color: var(--fill-color);\n",
              "    }\n",
              "    80% {\n",
              "      border-color: transparent;\n",
              "      border-right-color: var(--fill-color);\n",
              "      border-bottom-color: var(--fill-color);\n",
              "    }\n",
              "    90% {\n",
              "      border-color: transparent;\n",
              "      border-bottom-color: var(--fill-color);\n",
              "    }\n",
              "  }\n",
              "</style>\n",
              "\n",
              "  <script>\n",
              "    async function quickchart(key) {\n",
              "      const quickchartButtonEl =\n",
              "        document.querySelector('#' + key + ' button');\n",
              "      quickchartButtonEl.disabled = true;  // To prevent multiple clicks.\n",
              "      quickchartButtonEl.classList.add('colab-df-spinner');\n",
              "      try {\n",
              "        const charts = await google.colab.kernel.invokeFunction(\n",
              "            'suggestCharts', [key], {});\n",
              "      } catch (error) {\n",
              "        console.error('Error during call to suggestCharts:', error);\n",
              "      }\n",
              "      quickchartButtonEl.classList.remove('colab-df-spinner');\n",
              "      quickchartButtonEl.classList.add('colab-df-quickchart-complete');\n",
              "    }\n",
              "    (() => {\n",
              "      let quickchartButtonEl =\n",
              "        document.querySelector('#df-192e6665-78d7-44d8-824c-45a309104ed0 button');\n",
              "      quickchartButtonEl.style.display =\n",
              "        google.colab.kernel.accessAllowed ? 'block' : 'none';\n",
              "    })();\n",
              "  </script>\n",
              "</div>\n",
              "    </div>\n",
              "  </div>\n"
            ]
          },
          "metadata": {},
          "execution_count": 10
        }
      ],
      "source": [
        "# Display the first few rows of the DataFrame to verify it was read correctly\n",
        "customer_demographic.head()"
      ]
    },
    {
      "cell_type": "code",
      "execution_count": 11,
      "metadata": {
        "colab": {
          "base_uri": "https://localhost:8080/",
          "height": 206
        },
        "id": "ag-Lh4kRVg42",
        "outputId": "6f593c35-049a-4584-fd99-471c4bd88960"
      },
      "outputs": [
        {
          "output_type": "execute_result",
          "data": {
            "text/plain": [
              "   customer_id              address  postcode            state    country  \\\n",
              "0            1   060 Morning Avenue      2016  New South Wales  Australia   \n",
              "1            2  6 Meadow Vale Court      2153  New South Wales  Australia   \n",
              "2            4   0 Holy Cross Court      4211              QLD  Australia   \n",
              "3            5  17979 Del Mar Point      2448  New South Wales  Australia   \n",
              "4            6     9 Oakridge Court      3216              VIC  Australia   \n",
              "\n",
              "   property_valuation  \n",
              "0                  10  \n",
              "1                  10  \n",
              "2                   9  \n",
              "3                   4  \n",
              "4                   9  "
            ],
            "text/html": [
              "\n",
              "  <div id=\"df-f9422dcf-831b-4692-8690-75fb41dc4198\" class=\"colab-df-container\">\n",
              "    <div>\n",
              "<style scoped>\n",
              "    .dataframe tbody tr th:only-of-type {\n",
              "        vertical-align: middle;\n",
              "    }\n",
              "\n",
              "    .dataframe tbody tr th {\n",
              "        vertical-align: top;\n",
              "    }\n",
              "\n",
              "    .dataframe thead th {\n",
              "        text-align: right;\n",
              "    }\n",
              "</style>\n",
              "<table border=\"1\" class=\"dataframe\">\n",
              "  <thead>\n",
              "    <tr style=\"text-align: right;\">\n",
              "      <th></th>\n",
              "      <th>customer_id</th>\n",
              "      <th>address</th>\n",
              "      <th>postcode</th>\n",
              "      <th>state</th>\n",
              "      <th>country</th>\n",
              "      <th>property_valuation</th>\n",
              "    </tr>\n",
              "  </thead>\n",
              "  <tbody>\n",
              "    <tr>\n",
              "      <th>0</th>\n",
              "      <td>1</td>\n",
              "      <td>060 Morning Avenue</td>\n",
              "      <td>2016</td>\n",
              "      <td>New South Wales</td>\n",
              "      <td>Australia</td>\n",
              "      <td>10</td>\n",
              "    </tr>\n",
              "    <tr>\n",
              "      <th>1</th>\n",
              "      <td>2</td>\n",
              "      <td>6 Meadow Vale Court</td>\n",
              "      <td>2153</td>\n",
              "      <td>New South Wales</td>\n",
              "      <td>Australia</td>\n",
              "      <td>10</td>\n",
              "    </tr>\n",
              "    <tr>\n",
              "      <th>2</th>\n",
              "      <td>4</td>\n",
              "      <td>0 Holy Cross Court</td>\n",
              "      <td>4211</td>\n",
              "      <td>QLD</td>\n",
              "      <td>Australia</td>\n",
              "      <td>9</td>\n",
              "    </tr>\n",
              "    <tr>\n",
              "      <th>3</th>\n",
              "      <td>5</td>\n",
              "      <td>17979 Del Mar Point</td>\n",
              "      <td>2448</td>\n",
              "      <td>New South Wales</td>\n",
              "      <td>Australia</td>\n",
              "      <td>4</td>\n",
              "    </tr>\n",
              "    <tr>\n",
              "      <th>4</th>\n",
              "      <td>6</td>\n",
              "      <td>9 Oakridge Court</td>\n",
              "      <td>3216</td>\n",
              "      <td>VIC</td>\n",
              "      <td>Australia</td>\n",
              "      <td>9</td>\n",
              "    </tr>\n",
              "  </tbody>\n",
              "</table>\n",
              "</div>\n",
              "    <div class=\"colab-df-buttons\">\n",
              "\n",
              "  <div class=\"colab-df-container\">\n",
              "    <button class=\"colab-df-convert\" onclick=\"convertToInteractive('df-f9422dcf-831b-4692-8690-75fb41dc4198')\"\n",
              "            title=\"Convert this dataframe to an interactive table.\"\n",
              "            style=\"display:none;\">\n",
              "\n",
              "  <svg xmlns=\"http://www.w3.org/2000/svg\" height=\"24px\" viewBox=\"0 -960 960 960\">\n",
              "    <path d=\"M120-120v-720h720v720H120Zm60-500h600v-160H180v160Zm220 220h160v-160H400v160Zm0 220h160v-160H400v160ZM180-400h160v-160H180v160Zm440 0h160v-160H620v160ZM180-180h160v-160H180v160Zm440 0h160v-160H620v160Z\"/>\n",
              "  </svg>\n",
              "    </button>\n",
              "\n",
              "  <style>\n",
              "    .colab-df-container {\n",
              "      display:flex;\n",
              "      gap: 12px;\n",
              "    }\n",
              "\n",
              "    .colab-df-convert {\n",
              "      background-color: #E8F0FE;\n",
              "      border: none;\n",
              "      border-radius: 50%;\n",
              "      cursor: pointer;\n",
              "      display: none;\n",
              "      fill: #1967D2;\n",
              "      height: 32px;\n",
              "      padding: 0 0 0 0;\n",
              "      width: 32px;\n",
              "    }\n",
              "\n",
              "    .colab-df-convert:hover {\n",
              "      background-color: #E2EBFA;\n",
              "      box-shadow: 0px 1px 2px rgba(60, 64, 67, 0.3), 0px 1px 3px 1px rgba(60, 64, 67, 0.15);\n",
              "      fill: #174EA6;\n",
              "    }\n",
              "\n",
              "    .colab-df-buttons div {\n",
              "      margin-bottom: 4px;\n",
              "    }\n",
              "\n",
              "    [theme=dark] .colab-df-convert {\n",
              "      background-color: #3B4455;\n",
              "      fill: #D2E3FC;\n",
              "    }\n",
              "\n",
              "    [theme=dark] .colab-df-convert:hover {\n",
              "      background-color: #434B5C;\n",
              "      box-shadow: 0px 1px 3px 1px rgba(0, 0, 0, 0.15);\n",
              "      filter: drop-shadow(0px 1px 2px rgba(0, 0, 0, 0.3));\n",
              "      fill: #FFFFFF;\n",
              "    }\n",
              "  </style>\n",
              "\n",
              "    <script>\n",
              "      const buttonEl =\n",
              "        document.querySelector('#df-f9422dcf-831b-4692-8690-75fb41dc4198 button.colab-df-convert');\n",
              "      buttonEl.style.display =\n",
              "        google.colab.kernel.accessAllowed ? 'block' : 'none';\n",
              "\n",
              "      async function convertToInteractive(key) {\n",
              "        const element = document.querySelector('#df-f9422dcf-831b-4692-8690-75fb41dc4198');\n",
              "        const dataTable =\n",
              "          await google.colab.kernel.invokeFunction('convertToInteractive',\n",
              "                                                    [key], {});\n",
              "        if (!dataTable) return;\n",
              "\n",
              "        const docLinkHtml = 'Like what you see? Visit the ' +\n",
              "          '<a target=\"_blank\" href=https://colab.research.google.com/notebooks/data_table.ipynb>data table notebook</a>'\n",
              "          + ' to learn more about interactive tables.';\n",
              "        element.innerHTML = '';\n",
              "        dataTable['output_type'] = 'display_data';\n",
              "        await google.colab.output.renderOutput(dataTable, element);\n",
              "        const docLink = document.createElement('div');\n",
              "        docLink.innerHTML = docLinkHtml;\n",
              "        element.appendChild(docLink);\n",
              "      }\n",
              "    </script>\n",
              "  </div>\n",
              "\n",
              "\n",
              "<div id=\"df-542a18ca-47ad-4e6b-95da-328f3316e743\">\n",
              "  <button class=\"colab-df-quickchart\" onclick=\"quickchart('df-542a18ca-47ad-4e6b-95da-328f3316e743')\"\n",
              "            title=\"Suggest charts.\"\n",
              "            style=\"display:none;\">\n",
              "\n",
              "<svg xmlns=\"http://www.w3.org/2000/svg\" height=\"24px\"viewBox=\"0 0 24 24\"\n",
              "     width=\"24px\">\n",
              "    <g>\n",
              "        <path d=\"M19 3H5c-1.1 0-2 .9-2 2v14c0 1.1.9 2 2 2h14c1.1 0 2-.9 2-2V5c0-1.1-.9-2-2-2zM9 17H7v-7h2v7zm4 0h-2V7h2v10zm4 0h-2v-4h2v4z\"/>\n",
              "    </g>\n",
              "</svg>\n",
              "  </button>\n",
              "\n",
              "<style>\n",
              "  .colab-df-quickchart {\n",
              "      --bg-color: #E8F0FE;\n",
              "      --fill-color: #1967D2;\n",
              "      --hover-bg-color: #E2EBFA;\n",
              "      --hover-fill-color: #174EA6;\n",
              "      --disabled-fill-color: #AAA;\n",
              "      --disabled-bg-color: #DDD;\n",
              "  }\n",
              "\n",
              "  [theme=dark] .colab-df-quickchart {\n",
              "      --bg-color: #3B4455;\n",
              "      --fill-color: #D2E3FC;\n",
              "      --hover-bg-color: #434B5C;\n",
              "      --hover-fill-color: #FFFFFF;\n",
              "      --disabled-bg-color: #3B4455;\n",
              "      --disabled-fill-color: #666;\n",
              "  }\n",
              "\n",
              "  .colab-df-quickchart {\n",
              "    background-color: var(--bg-color);\n",
              "    border: none;\n",
              "    border-radius: 50%;\n",
              "    cursor: pointer;\n",
              "    display: none;\n",
              "    fill: var(--fill-color);\n",
              "    height: 32px;\n",
              "    padding: 0;\n",
              "    width: 32px;\n",
              "  }\n",
              "\n",
              "  .colab-df-quickchart:hover {\n",
              "    background-color: var(--hover-bg-color);\n",
              "    box-shadow: 0 1px 2px rgba(60, 64, 67, 0.3), 0 1px 3px 1px rgba(60, 64, 67, 0.15);\n",
              "    fill: var(--button-hover-fill-color);\n",
              "  }\n",
              "\n",
              "  .colab-df-quickchart-complete:disabled,\n",
              "  .colab-df-quickchart-complete:disabled:hover {\n",
              "    background-color: var(--disabled-bg-color);\n",
              "    fill: var(--disabled-fill-color);\n",
              "    box-shadow: none;\n",
              "  }\n",
              "\n",
              "  .colab-df-spinner {\n",
              "    border: 2px solid var(--fill-color);\n",
              "    border-color: transparent;\n",
              "    border-bottom-color: var(--fill-color);\n",
              "    animation:\n",
              "      spin 1s steps(1) infinite;\n",
              "  }\n",
              "\n",
              "  @keyframes spin {\n",
              "    0% {\n",
              "      border-color: transparent;\n",
              "      border-bottom-color: var(--fill-color);\n",
              "      border-left-color: var(--fill-color);\n",
              "    }\n",
              "    20% {\n",
              "      border-color: transparent;\n",
              "      border-left-color: var(--fill-color);\n",
              "      border-top-color: var(--fill-color);\n",
              "    }\n",
              "    30% {\n",
              "      border-color: transparent;\n",
              "      border-left-color: var(--fill-color);\n",
              "      border-top-color: var(--fill-color);\n",
              "      border-right-color: var(--fill-color);\n",
              "    }\n",
              "    40% {\n",
              "      border-color: transparent;\n",
              "      border-right-color: var(--fill-color);\n",
              "      border-top-color: var(--fill-color);\n",
              "    }\n",
              "    60% {\n",
              "      border-color: transparent;\n",
              "      border-right-color: var(--fill-color);\n",
              "    }\n",
              "    80% {\n",
              "      border-color: transparent;\n",
              "      border-right-color: var(--fill-color);\n",
              "      border-bottom-color: var(--fill-color);\n",
              "    }\n",
              "    90% {\n",
              "      border-color: transparent;\n",
              "      border-bottom-color: var(--fill-color);\n",
              "    }\n",
              "  }\n",
              "</style>\n",
              "\n",
              "  <script>\n",
              "    async function quickchart(key) {\n",
              "      const quickchartButtonEl =\n",
              "        document.querySelector('#' + key + ' button');\n",
              "      quickchartButtonEl.disabled = true;  // To prevent multiple clicks.\n",
              "      quickchartButtonEl.classList.add('colab-df-spinner');\n",
              "      try {\n",
              "        const charts = await google.colab.kernel.invokeFunction(\n",
              "            'suggestCharts', [key], {});\n",
              "      } catch (error) {\n",
              "        console.error('Error during call to suggestCharts:', error);\n",
              "      }\n",
              "      quickchartButtonEl.classList.remove('colab-df-spinner');\n",
              "      quickchartButtonEl.classList.add('colab-df-quickchart-complete');\n",
              "    }\n",
              "    (() => {\n",
              "      let quickchartButtonEl =\n",
              "        document.querySelector('#df-542a18ca-47ad-4e6b-95da-328f3316e743 button');\n",
              "      quickchartButtonEl.style.display =\n",
              "        google.colab.kernel.accessAllowed ? 'block' : 'none';\n",
              "    })();\n",
              "  </script>\n",
              "</div>\n",
              "    </div>\n",
              "  </div>\n"
            ]
          },
          "metadata": {},
          "execution_count": 11
        }
      ],
      "source": [
        "customer_addresses.head()"
      ]
    },
    {
      "cell_type": "code",
      "execution_count": 12,
      "metadata": {
        "colab": {
          "base_uri": "https://localhost:8080/",
          "height": 296
        },
        "id": "PUw4pKsnWDz8",
        "outputId": "bbea3dce-2ca2-4496-b967-6bbff648719d"
      },
      "outputs": [
        {
          "output_type": "execute_result",
          "data": {
            "text/plain": [
              "   transaction_id  product_id  customer_id transaction_date  online_order  \\\n",
              "0               1           2         2950       2017-02-25           0.0   \n",
              "1               2           3         3120       2017-05-21           1.0   \n",
              "2               3          37          402       2017-10-16           0.0   \n",
              "3               4          88         3135       2017-08-31           0.0   \n",
              "4               5          78          787       2017-10-01           1.0   \n",
              "\n",
              "  order_status           brand product_line product_class product_size  \\\n",
              "0     Approved           Solex     Standard        medium       medium   \n",
              "1     Approved   Trek Bicycles     Standard        medium        large   \n",
              "2     Approved      OHM Cycles     Standard           low       medium   \n",
              "3     Approved  Norco Bicycles     Standard        medium       medium   \n",
              "4     Approved  Giant Bicycles     Standard        medium        large   \n",
              "\n",
              "   list_price  standard_cost  product_first_sold_date  \n",
              "0       71.49          53.62                  41245.0  \n",
              "1     2091.47         388.92                  41701.0  \n",
              "2     1793.43         248.82                  36361.0  \n",
              "3     1198.46         381.10                  36145.0  \n",
              "4     1765.30         709.48                  42226.0  "
            ],
            "text/html": [
              "\n",
              "  <div id=\"df-62e77cbb-9e9c-4772-a874-8db52fe7aea1\" class=\"colab-df-container\">\n",
              "    <div>\n",
              "<style scoped>\n",
              "    .dataframe tbody tr th:only-of-type {\n",
              "        vertical-align: middle;\n",
              "    }\n",
              "\n",
              "    .dataframe tbody tr th {\n",
              "        vertical-align: top;\n",
              "    }\n",
              "\n",
              "    .dataframe thead th {\n",
              "        text-align: right;\n",
              "    }\n",
              "</style>\n",
              "<table border=\"1\" class=\"dataframe\">\n",
              "  <thead>\n",
              "    <tr style=\"text-align: right;\">\n",
              "      <th></th>\n",
              "      <th>transaction_id</th>\n",
              "      <th>product_id</th>\n",
              "      <th>customer_id</th>\n",
              "      <th>transaction_date</th>\n",
              "      <th>online_order</th>\n",
              "      <th>order_status</th>\n",
              "      <th>brand</th>\n",
              "      <th>product_line</th>\n",
              "      <th>product_class</th>\n",
              "      <th>product_size</th>\n",
              "      <th>list_price</th>\n",
              "      <th>standard_cost</th>\n",
              "      <th>product_first_sold_date</th>\n",
              "    </tr>\n",
              "  </thead>\n",
              "  <tbody>\n",
              "    <tr>\n",
              "      <th>0</th>\n",
              "      <td>1</td>\n",
              "      <td>2</td>\n",
              "      <td>2950</td>\n",
              "      <td>2017-02-25</td>\n",
              "      <td>0.0</td>\n",
              "      <td>Approved</td>\n",
              "      <td>Solex</td>\n",
              "      <td>Standard</td>\n",
              "      <td>medium</td>\n",
              "      <td>medium</td>\n",
              "      <td>71.49</td>\n",
              "      <td>53.62</td>\n",
              "      <td>41245.0</td>\n",
              "    </tr>\n",
              "    <tr>\n",
              "      <th>1</th>\n",
              "      <td>2</td>\n",
              "      <td>3</td>\n",
              "      <td>3120</td>\n",
              "      <td>2017-05-21</td>\n",
              "      <td>1.0</td>\n",
              "      <td>Approved</td>\n",
              "      <td>Trek Bicycles</td>\n",
              "      <td>Standard</td>\n",
              "      <td>medium</td>\n",
              "      <td>large</td>\n",
              "      <td>2091.47</td>\n",
              "      <td>388.92</td>\n",
              "      <td>41701.0</td>\n",
              "    </tr>\n",
              "    <tr>\n",
              "      <th>2</th>\n",
              "      <td>3</td>\n",
              "      <td>37</td>\n",
              "      <td>402</td>\n",
              "      <td>2017-10-16</td>\n",
              "      <td>0.0</td>\n",
              "      <td>Approved</td>\n",
              "      <td>OHM Cycles</td>\n",
              "      <td>Standard</td>\n",
              "      <td>low</td>\n",
              "      <td>medium</td>\n",
              "      <td>1793.43</td>\n",
              "      <td>248.82</td>\n",
              "      <td>36361.0</td>\n",
              "    </tr>\n",
              "    <tr>\n",
              "      <th>3</th>\n",
              "      <td>4</td>\n",
              "      <td>88</td>\n",
              "      <td>3135</td>\n",
              "      <td>2017-08-31</td>\n",
              "      <td>0.0</td>\n",
              "      <td>Approved</td>\n",
              "      <td>Norco Bicycles</td>\n",
              "      <td>Standard</td>\n",
              "      <td>medium</td>\n",
              "      <td>medium</td>\n",
              "      <td>1198.46</td>\n",
              "      <td>381.10</td>\n",
              "      <td>36145.0</td>\n",
              "    </tr>\n",
              "    <tr>\n",
              "      <th>4</th>\n",
              "      <td>5</td>\n",
              "      <td>78</td>\n",
              "      <td>787</td>\n",
              "      <td>2017-10-01</td>\n",
              "      <td>1.0</td>\n",
              "      <td>Approved</td>\n",
              "      <td>Giant Bicycles</td>\n",
              "      <td>Standard</td>\n",
              "      <td>medium</td>\n",
              "      <td>large</td>\n",
              "      <td>1765.30</td>\n",
              "      <td>709.48</td>\n",
              "      <td>42226.0</td>\n",
              "    </tr>\n",
              "  </tbody>\n",
              "</table>\n",
              "</div>\n",
              "    <div class=\"colab-df-buttons\">\n",
              "\n",
              "  <div class=\"colab-df-container\">\n",
              "    <button class=\"colab-df-convert\" onclick=\"convertToInteractive('df-62e77cbb-9e9c-4772-a874-8db52fe7aea1')\"\n",
              "            title=\"Convert this dataframe to an interactive table.\"\n",
              "            style=\"display:none;\">\n",
              "\n",
              "  <svg xmlns=\"http://www.w3.org/2000/svg\" height=\"24px\" viewBox=\"0 -960 960 960\">\n",
              "    <path d=\"M120-120v-720h720v720H120Zm60-500h600v-160H180v160Zm220 220h160v-160H400v160Zm0 220h160v-160H400v160ZM180-400h160v-160H180v160Zm440 0h160v-160H620v160ZM180-180h160v-160H180v160Zm440 0h160v-160H620v160Z\"/>\n",
              "  </svg>\n",
              "    </button>\n",
              "\n",
              "  <style>\n",
              "    .colab-df-container {\n",
              "      display:flex;\n",
              "      gap: 12px;\n",
              "    }\n",
              "\n",
              "    .colab-df-convert {\n",
              "      background-color: #E8F0FE;\n",
              "      border: none;\n",
              "      border-radius: 50%;\n",
              "      cursor: pointer;\n",
              "      display: none;\n",
              "      fill: #1967D2;\n",
              "      height: 32px;\n",
              "      padding: 0 0 0 0;\n",
              "      width: 32px;\n",
              "    }\n",
              "\n",
              "    .colab-df-convert:hover {\n",
              "      background-color: #E2EBFA;\n",
              "      box-shadow: 0px 1px 2px rgba(60, 64, 67, 0.3), 0px 1px 3px 1px rgba(60, 64, 67, 0.15);\n",
              "      fill: #174EA6;\n",
              "    }\n",
              "\n",
              "    .colab-df-buttons div {\n",
              "      margin-bottom: 4px;\n",
              "    }\n",
              "\n",
              "    [theme=dark] .colab-df-convert {\n",
              "      background-color: #3B4455;\n",
              "      fill: #D2E3FC;\n",
              "    }\n",
              "\n",
              "    [theme=dark] .colab-df-convert:hover {\n",
              "      background-color: #434B5C;\n",
              "      box-shadow: 0px 1px 3px 1px rgba(0, 0, 0, 0.15);\n",
              "      filter: drop-shadow(0px 1px 2px rgba(0, 0, 0, 0.3));\n",
              "      fill: #FFFFFF;\n",
              "    }\n",
              "  </style>\n",
              "\n",
              "    <script>\n",
              "      const buttonEl =\n",
              "        document.querySelector('#df-62e77cbb-9e9c-4772-a874-8db52fe7aea1 button.colab-df-convert');\n",
              "      buttonEl.style.display =\n",
              "        google.colab.kernel.accessAllowed ? 'block' : 'none';\n",
              "\n",
              "      async function convertToInteractive(key) {\n",
              "        const element = document.querySelector('#df-62e77cbb-9e9c-4772-a874-8db52fe7aea1');\n",
              "        const dataTable =\n",
              "          await google.colab.kernel.invokeFunction('convertToInteractive',\n",
              "                                                    [key], {});\n",
              "        if (!dataTable) return;\n",
              "\n",
              "        const docLinkHtml = 'Like what you see? Visit the ' +\n",
              "          '<a target=\"_blank\" href=https://colab.research.google.com/notebooks/data_table.ipynb>data table notebook</a>'\n",
              "          + ' to learn more about interactive tables.';\n",
              "        element.innerHTML = '';\n",
              "        dataTable['output_type'] = 'display_data';\n",
              "        await google.colab.output.renderOutput(dataTable, element);\n",
              "        const docLink = document.createElement('div');\n",
              "        docLink.innerHTML = docLinkHtml;\n",
              "        element.appendChild(docLink);\n",
              "      }\n",
              "    </script>\n",
              "  </div>\n",
              "\n",
              "\n",
              "<div id=\"df-8672b273-83d0-4fc6-8efe-cc843e22a42b\">\n",
              "  <button class=\"colab-df-quickchart\" onclick=\"quickchart('df-8672b273-83d0-4fc6-8efe-cc843e22a42b')\"\n",
              "            title=\"Suggest charts.\"\n",
              "            style=\"display:none;\">\n",
              "\n",
              "<svg xmlns=\"http://www.w3.org/2000/svg\" height=\"24px\"viewBox=\"0 0 24 24\"\n",
              "     width=\"24px\">\n",
              "    <g>\n",
              "        <path d=\"M19 3H5c-1.1 0-2 .9-2 2v14c0 1.1.9 2 2 2h14c1.1 0 2-.9 2-2V5c0-1.1-.9-2-2-2zM9 17H7v-7h2v7zm4 0h-2V7h2v10zm4 0h-2v-4h2v4z\"/>\n",
              "    </g>\n",
              "</svg>\n",
              "  </button>\n",
              "\n",
              "<style>\n",
              "  .colab-df-quickchart {\n",
              "      --bg-color: #E8F0FE;\n",
              "      --fill-color: #1967D2;\n",
              "      --hover-bg-color: #E2EBFA;\n",
              "      --hover-fill-color: #174EA6;\n",
              "      --disabled-fill-color: #AAA;\n",
              "      --disabled-bg-color: #DDD;\n",
              "  }\n",
              "\n",
              "  [theme=dark] .colab-df-quickchart {\n",
              "      --bg-color: #3B4455;\n",
              "      --fill-color: #D2E3FC;\n",
              "      --hover-bg-color: #434B5C;\n",
              "      --hover-fill-color: #FFFFFF;\n",
              "      --disabled-bg-color: #3B4455;\n",
              "      --disabled-fill-color: #666;\n",
              "  }\n",
              "\n",
              "  .colab-df-quickchart {\n",
              "    background-color: var(--bg-color);\n",
              "    border: none;\n",
              "    border-radius: 50%;\n",
              "    cursor: pointer;\n",
              "    display: none;\n",
              "    fill: var(--fill-color);\n",
              "    height: 32px;\n",
              "    padding: 0;\n",
              "    width: 32px;\n",
              "  }\n",
              "\n",
              "  .colab-df-quickchart:hover {\n",
              "    background-color: var(--hover-bg-color);\n",
              "    box-shadow: 0 1px 2px rgba(60, 64, 67, 0.3), 0 1px 3px 1px rgba(60, 64, 67, 0.15);\n",
              "    fill: var(--button-hover-fill-color);\n",
              "  }\n",
              "\n",
              "  .colab-df-quickchart-complete:disabled,\n",
              "  .colab-df-quickchart-complete:disabled:hover {\n",
              "    background-color: var(--disabled-bg-color);\n",
              "    fill: var(--disabled-fill-color);\n",
              "    box-shadow: none;\n",
              "  }\n",
              "\n",
              "  .colab-df-spinner {\n",
              "    border: 2px solid var(--fill-color);\n",
              "    border-color: transparent;\n",
              "    border-bottom-color: var(--fill-color);\n",
              "    animation:\n",
              "      spin 1s steps(1) infinite;\n",
              "  }\n",
              "\n",
              "  @keyframes spin {\n",
              "    0% {\n",
              "      border-color: transparent;\n",
              "      border-bottom-color: var(--fill-color);\n",
              "      border-left-color: var(--fill-color);\n",
              "    }\n",
              "    20% {\n",
              "      border-color: transparent;\n",
              "      border-left-color: var(--fill-color);\n",
              "      border-top-color: var(--fill-color);\n",
              "    }\n",
              "    30% {\n",
              "      border-color: transparent;\n",
              "      border-left-color: var(--fill-color);\n",
              "      border-top-color: var(--fill-color);\n",
              "      border-right-color: var(--fill-color);\n",
              "    }\n",
              "    40% {\n",
              "      border-color: transparent;\n",
              "      border-right-color: var(--fill-color);\n",
              "      border-top-color: var(--fill-color);\n",
              "    }\n",
              "    60% {\n",
              "      border-color: transparent;\n",
              "      border-right-color: var(--fill-color);\n",
              "    }\n",
              "    80% {\n",
              "      border-color: transparent;\n",
              "      border-right-color: var(--fill-color);\n",
              "      border-bottom-color: var(--fill-color);\n",
              "    }\n",
              "    90% {\n",
              "      border-color: transparent;\n",
              "      border-bottom-color: var(--fill-color);\n",
              "    }\n",
              "  }\n",
              "</style>\n",
              "\n",
              "  <script>\n",
              "    async function quickchart(key) {\n",
              "      const quickchartButtonEl =\n",
              "        document.querySelector('#' + key + ' button');\n",
              "      quickchartButtonEl.disabled = true;  // To prevent multiple clicks.\n",
              "      quickchartButtonEl.classList.add('colab-df-spinner');\n",
              "      try {\n",
              "        const charts = await google.colab.kernel.invokeFunction(\n",
              "            'suggestCharts', [key], {});\n",
              "      } catch (error) {\n",
              "        console.error('Error during call to suggestCharts:', error);\n",
              "      }\n",
              "      quickchartButtonEl.classList.remove('colab-df-spinner');\n",
              "      quickchartButtonEl.classList.add('colab-df-quickchart-complete');\n",
              "    }\n",
              "    (() => {\n",
              "      let quickchartButtonEl =\n",
              "        document.querySelector('#df-8672b273-83d0-4fc6-8efe-cc843e22a42b button');\n",
              "      quickchartButtonEl.style.display =\n",
              "        google.colab.kernel.accessAllowed ? 'block' : 'none';\n",
              "    })();\n",
              "  </script>\n",
              "</div>\n",
              "    </div>\n",
              "  </div>\n"
            ]
          },
          "metadata": {},
          "execution_count": 12
        }
      ],
      "source": [
        "transactions.head()"
      ]
    },
    {
      "cell_type": "markdown",
      "metadata": {
        "id": "fFg29EryWTcw"
      },
      "source": [
        "#EDA of Customer Demographics"
      ]
    },
    {
      "cell_type": "markdown",
      "source": [
        "## 1. Data Completeness"
      ],
      "metadata": {
        "id": "T0hhd8yevACj"
      }
    },
    {
      "cell_type": "code",
      "execution_count": 13,
      "metadata": {
        "colab": {
          "base_uri": "https://localhost:8080/"
        },
        "id": "bae0rq1A3FMC",
        "outputId": "142d293d-e6bb-4470-f99d-233b5445942f"
      },
      "outputs": [
        {
          "output_type": "stream",
          "name": "stdout",
          "text": [
            "<class 'pandas.core.frame.DataFrame'>\n",
            "RangeIndex: 4000 entries, 0 to 3999\n",
            "Data columns (total 13 columns):\n",
            " #   Column                               Non-Null Count  Dtype         \n",
            "---  ------                               --------------  -----         \n",
            " 0   customer_id                          4000 non-null   int64         \n",
            " 1   first_name                           4000 non-null   object        \n",
            " 2   last_name                            3875 non-null   object        \n",
            " 3   gender                               4000 non-null   object        \n",
            " 4   past_3_years_bike_related_purchases  4000 non-null   int64         \n",
            " 5   DOB                                  3913 non-null   datetime64[ns]\n",
            " 6   job_title                            3494 non-null   object        \n",
            " 7   job_industry_category                3344 non-null   object        \n",
            " 8   wealth_segment                       4000 non-null   object        \n",
            " 9   deceased_indicator                   4000 non-null   object        \n",
            " 10  default                              3698 non-null   object        \n",
            " 11  owns_car                             4000 non-null   object        \n",
            " 12  tenure                               3913 non-null   float64       \n",
            "dtypes: datetime64[ns](1), float64(1), int64(2), object(9)\n",
            "memory usage: 406.4+ KB\n"
          ]
        }
      ],
      "source": [
        "customer_demographic.info()"
      ]
    },
    {
      "cell_type": "code",
      "execution_count": 14,
      "metadata": {
        "colab": {
          "base_uri": "https://localhost:8080/",
          "height": 300
        },
        "id": "acFmtdUr6uul",
        "outputId": "50b9b3b3-8d70-42b7-8a8d-5431f8a935ce"
      },
      "outputs": [
        {
          "output_type": "execute_result",
          "data": {
            "text/plain": [
              "       customer_id  past_3_years_bike_related_purchases       tenure\n",
              "count  4000.000000                          4000.000000  3913.000000\n",
              "mean   2000.500000                            48.890000    10.657041\n",
              "std    1154.844867                            28.715005     5.660146\n",
              "min       1.000000                             0.000000     1.000000\n",
              "25%    1000.750000                            24.000000     6.000000\n",
              "50%    2000.500000                            48.000000    11.000000\n",
              "75%    3000.250000                            73.000000    15.000000\n",
              "max    4000.000000                            99.000000    22.000000"
            ],
            "text/html": [
              "\n",
              "  <div id=\"df-eeb19f81-59a3-45c8-b630-08dd15c00232\" class=\"colab-df-container\">\n",
              "    <div>\n",
              "<style scoped>\n",
              "    .dataframe tbody tr th:only-of-type {\n",
              "        vertical-align: middle;\n",
              "    }\n",
              "\n",
              "    .dataframe tbody tr th {\n",
              "        vertical-align: top;\n",
              "    }\n",
              "\n",
              "    .dataframe thead th {\n",
              "        text-align: right;\n",
              "    }\n",
              "</style>\n",
              "<table border=\"1\" class=\"dataframe\">\n",
              "  <thead>\n",
              "    <tr style=\"text-align: right;\">\n",
              "      <th></th>\n",
              "      <th>customer_id</th>\n",
              "      <th>past_3_years_bike_related_purchases</th>\n",
              "      <th>tenure</th>\n",
              "    </tr>\n",
              "  </thead>\n",
              "  <tbody>\n",
              "    <tr>\n",
              "      <th>count</th>\n",
              "      <td>4000.000000</td>\n",
              "      <td>4000.000000</td>\n",
              "      <td>3913.000000</td>\n",
              "    </tr>\n",
              "    <tr>\n",
              "      <th>mean</th>\n",
              "      <td>2000.500000</td>\n",
              "      <td>48.890000</td>\n",
              "      <td>10.657041</td>\n",
              "    </tr>\n",
              "    <tr>\n",
              "      <th>std</th>\n",
              "      <td>1154.844867</td>\n",
              "      <td>28.715005</td>\n",
              "      <td>5.660146</td>\n",
              "    </tr>\n",
              "    <tr>\n",
              "      <th>min</th>\n",
              "      <td>1.000000</td>\n",
              "      <td>0.000000</td>\n",
              "      <td>1.000000</td>\n",
              "    </tr>\n",
              "    <tr>\n",
              "      <th>25%</th>\n",
              "      <td>1000.750000</td>\n",
              "      <td>24.000000</td>\n",
              "      <td>6.000000</td>\n",
              "    </tr>\n",
              "    <tr>\n",
              "      <th>50%</th>\n",
              "      <td>2000.500000</td>\n",
              "      <td>48.000000</td>\n",
              "      <td>11.000000</td>\n",
              "    </tr>\n",
              "    <tr>\n",
              "      <th>75%</th>\n",
              "      <td>3000.250000</td>\n",
              "      <td>73.000000</td>\n",
              "      <td>15.000000</td>\n",
              "    </tr>\n",
              "    <tr>\n",
              "      <th>max</th>\n",
              "      <td>4000.000000</td>\n",
              "      <td>99.000000</td>\n",
              "      <td>22.000000</td>\n",
              "    </tr>\n",
              "  </tbody>\n",
              "</table>\n",
              "</div>\n",
              "    <div class=\"colab-df-buttons\">\n",
              "\n",
              "  <div class=\"colab-df-container\">\n",
              "    <button class=\"colab-df-convert\" onclick=\"convertToInteractive('df-eeb19f81-59a3-45c8-b630-08dd15c00232')\"\n",
              "            title=\"Convert this dataframe to an interactive table.\"\n",
              "            style=\"display:none;\">\n",
              "\n",
              "  <svg xmlns=\"http://www.w3.org/2000/svg\" height=\"24px\" viewBox=\"0 -960 960 960\">\n",
              "    <path d=\"M120-120v-720h720v720H120Zm60-500h600v-160H180v160Zm220 220h160v-160H400v160Zm0 220h160v-160H400v160ZM180-400h160v-160H180v160Zm440 0h160v-160H620v160ZM180-180h160v-160H180v160Zm440 0h160v-160H620v160Z\"/>\n",
              "  </svg>\n",
              "    </button>\n",
              "\n",
              "  <style>\n",
              "    .colab-df-container {\n",
              "      display:flex;\n",
              "      gap: 12px;\n",
              "    }\n",
              "\n",
              "    .colab-df-convert {\n",
              "      background-color: #E8F0FE;\n",
              "      border: none;\n",
              "      border-radius: 50%;\n",
              "      cursor: pointer;\n",
              "      display: none;\n",
              "      fill: #1967D2;\n",
              "      height: 32px;\n",
              "      padding: 0 0 0 0;\n",
              "      width: 32px;\n",
              "    }\n",
              "\n",
              "    .colab-df-convert:hover {\n",
              "      background-color: #E2EBFA;\n",
              "      box-shadow: 0px 1px 2px rgba(60, 64, 67, 0.3), 0px 1px 3px 1px rgba(60, 64, 67, 0.15);\n",
              "      fill: #174EA6;\n",
              "    }\n",
              "\n",
              "    .colab-df-buttons div {\n",
              "      margin-bottom: 4px;\n",
              "    }\n",
              "\n",
              "    [theme=dark] .colab-df-convert {\n",
              "      background-color: #3B4455;\n",
              "      fill: #D2E3FC;\n",
              "    }\n",
              "\n",
              "    [theme=dark] .colab-df-convert:hover {\n",
              "      background-color: #434B5C;\n",
              "      box-shadow: 0px 1px 3px 1px rgba(0, 0, 0, 0.15);\n",
              "      filter: drop-shadow(0px 1px 2px rgba(0, 0, 0, 0.3));\n",
              "      fill: #FFFFFF;\n",
              "    }\n",
              "  </style>\n",
              "\n",
              "    <script>\n",
              "      const buttonEl =\n",
              "        document.querySelector('#df-eeb19f81-59a3-45c8-b630-08dd15c00232 button.colab-df-convert');\n",
              "      buttonEl.style.display =\n",
              "        google.colab.kernel.accessAllowed ? 'block' : 'none';\n",
              "\n",
              "      async function convertToInteractive(key) {\n",
              "        const element = document.querySelector('#df-eeb19f81-59a3-45c8-b630-08dd15c00232');\n",
              "        const dataTable =\n",
              "          await google.colab.kernel.invokeFunction('convertToInteractive',\n",
              "                                                    [key], {});\n",
              "        if (!dataTable) return;\n",
              "\n",
              "        const docLinkHtml = 'Like what you see? Visit the ' +\n",
              "          '<a target=\"_blank\" href=https://colab.research.google.com/notebooks/data_table.ipynb>data table notebook</a>'\n",
              "          + ' to learn more about interactive tables.';\n",
              "        element.innerHTML = '';\n",
              "        dataTable['output_type'] = 'display_data';\n",
              "        await google.colab.output.renderOutput(dataTable, element);\n",
              "        const docLink = document.createElement('div');\n",
              "        docLink.innerHTML = docLinkHtml;\n",
              "        element.appendChild(docLink);\n",
              "      }\n",
              "    </script>\n",
              "  </div>\n",
              "\n",
              "\n",
              "<div id=\"df-d63c8035-79f8-4092-9803-f2ac67163575\">\n",
              "  <button class=\"colab-df-quickchart\" onclick=\"quickchart('df-d63c8035-79f8-4092-9803-f2ac67163575')\"\n",
              "            title=\"Suggest charts.\"\n",
              "            style=\"display:none;\">\n",
              "\n",
              "<svg xmlns=\"http://www.w3.org/2000/svg\" height=\"24px\"viewBox=\"0 0 24 24\"\n",
              "     width=\"24px\">\n",
              "    <g>\n",
              "        <path d=\"M19 3H5c-1.1 0-2 .9-2 2v14c0 1.1.9 2 2 2h14c1.1 0 2-.9 2-2V5c0-1.1-.9-2-2-2zM9 17H7v-7h2v7zm4 0h-2V7h2v10zm4 0h-2v-4h2v4z\"/>\n",
              "    </g>\n",
              "</svg>\n",
              "  </button>\n",
              "\n",
              "<style>\n",
              "  .colab-df-quickchart {\n",
              "      --bg-color: #E8F0FE;\n",
              "      --fill-color: #1967D2;\n",
              "      --hover-bg-color: #E2EBFA;\n",
              "      --hover-fill-color: #174EA6;\n",
              "      --disabled-fill-color: #AAA;\n",
              "      --disabled-bg-color: #DDD;\n",
              "  }\n",
              "\n",
              "  [theme=dark] .colab-df-quickchart {\n",
              "      --bg-color: #3B4455;\n",
              "      --fill-color: #D2E3FC;\n",
              "      --hover-bg-color: #434B5C;\n",
              "      --hover-fill-color: #FFFFFF;\n",
              "      --disabled-bg-color: #3B4455;\n",
              "      --disabled-fill-color: #666;\n",
              "  }\n",
              "\n",
              "  .colab-df-quickchart {\n",
              "    background-color: var(--bg-color);\n",
              "    border: none;\n",
              "    border-radius: 50%;\n",
              "    cursor: pointer;\n",
              "    display: none;\n",
              "    fill: var(--fill-color);\n",
              "    height: 32px;\n",
              "    padding: 0;\n",
              "    width: 32px;\n",
              "  }\n",
              "\n",
              "  .colab-df-quickchart:hover {\n",
              "    background-color: var(--hover-bg-color);\n",
              "    box-shadow: 0 1px 2px rgba(60, 64, 67, 0.3), 0 1px 3px 1px rgba(60, 64, 67, 0.15);\n",
              "    fill: var(--button-hover-fill-color);\n",
              "  }\n",
              "\n",
              "  .colab-df-quickchart-complete:disabled,\n",
              "  .colab-df-quickchart-complete:disabled:hover {\n",
              "    background-color: var(--disabled-bg-color);\n",
              "    fill: var(--disabled-fill-color);\n",
              "    box-shadow: none;\n",
              "  }\n",
              "\n",
              "  .colab-df-spinner {\n",
              "    border: 2px solid var(--fill-color);\n",
              "    border-color: transparent;\n",
              "    border-bottom-color: var(--fill-color);\n",
              "    animation:\n",
              "      spin 1s steps(1) infinite;\n",
              "  }\n",
              "\n",
              "  @keyframes spin {\n",
              "    0% {\n",
              "      border-color: transparent;\n",
              "      border-bottom-color: var(--fill-color);\n",
              "      border-left-color: var(--fill-color);\n",
              "    }\n",
              "    20% {\n",
              "      border-color: transparent;\n",
              "      border-left-color: var(--fill-color);\n",
              "      border-top-color: var(--fill-color);\n",
              "    }\n",
              "    30% {\n",
              "      border-color: transparent;\n",
              "      border-left-color: var(--fill-color);\n",
              "      border-top-color: var(--fill-color);\n",
              "      border-right-color: var(--fill-color);\n",
              "    }\n",
              "    40% {\n",
              "      border-color: transparent;\n",
              "      border-right-color: var(--fill-color);\n",
              "      border-top-color: var(--fill-color);\n",
              "    }\n",
              "    60% {\n",
              "      border-color: transparent;\n",
              "      border-right-color: var(--fill-color);\n",
              "    }\n",
              "    80% {\n",
              "      border-color: transparent;\n",
              "      border-right-color: var(--fill-color);\n",
              "      border-bottom-color: var(--fill-color);\n",
              "    }\n",
              "    90% {\n",
              "      border-color: transparent;\n",
              "      border-bottom-color: var(--fill-color);\n",
              "    }\n",
              "  }\n",
              "</style>\n",
              "\n",
              "  <script>\n",
              "    async function quickchart(key) {\n",
              "      const quickchartButtonEl =\n",
              "        document.querySelector('#' + key + ' button');\n",
              "      quickchartButtonEl.disabled = true;  // To prevent multiple clicks.\n",
              "      quickchartButtonEl.classList.add('colab-df-spinner');\n",
              "      try {\n",
              "        const charts = await google.colab.kernel.invokeFunction(\n",
              "            'suggestCharts', [key], {});\n",
              "      } catch (error) {\n",
              "        console.error('Error during call to suggestCharts:', error);\n",
              "      }\n",
              "      quickchartButtonEl.classList.remove('colab-df-spinner');\n",
              "      quickchartButtonEl.classList.add('colab-df-quickchart-complete');\n",
              "    }\n",
              "    (() => {\n",
              "      let quickchartButtonEl =\n",
              "        document.querySelector('#df-d63c8035-79f8-4092-9803-f2ac67163575 button');\n",
              "      quickchartButtonEl.style.display =\n",
              "        google.colab.kernel.accessAllowed ? 'block' : 'none';\n",
              "    })();\n",
              "  </script>\n",
              "</div>\n",
              "    </div>\n",
              "  </div>\n"
            ]
          },
          "metadata": {},
          "execution_count": 14
        }
      ],
      "source": [
        "customer_demographic.describe()"
      ]
    },
    {
      "cell_type": "code",
      "execution_count": 15,
      "metadata": {
        "colab": {
          "base_uri": "https://localhost:8080/"
        },
        "id": "p4jcf5OM26PH",
        "outputId": "9fda6ec7-becb-4322-e45a-fde5169bf999"
      },
      "outputs": [
        {
          "output_type": "execute_result",
          "data": {
            "text/plain": [
              "customer_id                              0\n",
              "first_name                               0\n",
              "last_name                              125\n",
              "gender                                   0\n",
              "past_3_years_bike_related_purchases      0\n",
              "DOB                                     87\n",
              "job_title                              506\n",
              "job_industry_category                  656\n",
              "wealth_segment                           0\n",
              "deceased_indicator                       0\n",
              "default                                302\n",
              "owns_car                                 0\n",
              "tenure                                  87\n",
              "dtype: int64"
            ]
          },
          "metadata": {},
          "execution_count": 15
        }
      ],
      "source": [
        "# Check for missing values\n",
        "missing_values = customer_demographic.isnull().sum()\n",
        "missing_values"
      ]
    },
    {
      "cell_type": "markdown",
      "source": [
        "We can see that the table consists of some missing values in certain columns : 'last_name', 'DOB', 'job_title', 'job_industry_category', 'default', 'tenure'."
      ],
      "metadata": {
        "id": "rPWF4riypoxM"
      }
    },
    {
      "cell_type": "markdown",
      "metadata": {
        "id": "1vC3bztN_pwo"
      },
      "source": [
        "## 2. Data Accuracy"
      ]
    },
    {
      "cell_type": "code",
      "execution_count": 16,
      "metadata": {
        "colab": {
          "base_uri": "https://localhost:8080/"
        },
        "id": "8gTUpzcD8CZU",
        "outputId": "26488e1b-4912-4127-fc1c-91c859ab0454"
      },
      "outputs": [
        {
          "output_type": "execute_result",
          "data": {
            "text/plain": [
              "customer_id                                     int64\n",
              "first_name                                     object\n",
              "last_name                                      object\n",
              "gender                                         object\n",
              "past_3_years_bike_related_purchases             int64\n",
              "DOB                                    datetime64[ns]\n",
              "job_title                                      object\n",
              "job_industry_category                          object\n",
              "wealth_segment                                 object\n",
              "deceased_indicator                             object\n",
              "default                                        object\n",
              "owns_car                                       object\n",
              "tenure                                        float64\n",
              "dtype: object"
            ]
          },
          "metadata": {},
          "execution_count": 16
        }
      ],
      "source": [
        "# Check for data types\n",
        "data_types = customer_demographic.dtypes\n",
        "data_types"
      ]
    },
    {
      "cell_type": "code",
      "execution_count": 17,
      "metadata": {
        "colab": {
          "base_uri": "https://localhost:8080/"
        },
        "id": "O8f4urkB8b4E",
        "outputId": "830fb537-2a05-4cfb-ebf7-9376e9c235f7"
      },
      "outputs": [
        {
          "output_type": "execute_result",
          "data": {
            "text/plain": [
              "customer_id                            4000\n",
              "first_name                             3139\n",
              "last_name                              3725\n",
              "gender                                    6\n",
              "past_3_years_bike_related_purchases     100\n",
              "DOB                                    3448\n",
              "job_title                               195\n",
              "job_industry_category                     9\n",
              "wealth_segment                            3\n",
              "deceased_indicator                        2\n",
              "default                                  90\n",
              "owns_car                                  2\n",
              "tenure                                   22\n",
              "dtype: int64"
            ]
          },
          "metadata": {},
          "execution_count": 17
        }
      ],
      "source": [
        "customer_demographic.nunique()"
      ]
    },
    {
      "cell_type": "code",
      "execution_count": 18,
      "metadata": {
        "colab": {
          "base_uri": "https://localhost:8080/"
        },
        "id": "6_MnJnbxbMKH",
        "outputId": "de45b33e-ebea-439a-e303-c846d815a2fa"
      },
      "outputs": [
        {
          "output_type": "stream",
          "name": "stdout",
          "text": [
            "Duplicate Customer IDs: 0\n"
          ]
        }
      ],
      "source": [
        "# Check for duplicate customer IDs\n",
        "duplicate_ids = customer_demographic['customer_id'].duplicated()\n",
        "duplicate_count = duplicate_ids.sum()\n",
        "print(\"Duplicate Customer IDs:\", duplicate_count)"
      ]
    },
    {
      "cell_type": "markdown",
      "metadata": {
        "id": "f9rqRNvGbjeM"
      },
      "source": [
        "There are no duplicate customer_ids, meaning each ID is unique"
      ]
    },
    {
      "cell_type": "code",
      "execution_count": 19,
      "metadata": {
        "colab": {
          "base_uri": "https://localhost:8080/"
        },
        "id": "0LdgGzqvbwl2",
        "outputId": "c1d2aa61-bf4e-4e4f-c514-35babebbca65"
      },
      "outputs": [
        {
          "output_type": "stream",
          "name": "stdout",
          "text": [
            "Valid Customer ID Range: (1, 4000)\n"
          ]
        }
      ],
      "source": [
        "# Check for outliers or unexpected values\n",
        "# You can define a range of valid customer IDs based on your business rules\n",
        "valid_customer_id_range = (min(customer_demographic['customer_id']), max(customer_demographic['customer_id']))\n",
        "\n",
        "print(\"Valid Customer ID Range:\", valid_customer_id_range)"
      ]
    },
    {
      "cell_type": "markdown",
      "metadata": {
        "id": "hjFgetNCcQPf"
      },
      "source": [
        "all customer IDs in the dataset fall within this range, which means there are no outliers in terms of customer IDs"
      ]
    },
    {
      "cell_type": "code",
      "execution_count": 20,
      "metadata": {
        "colab": {
          "base_uri": "https://localhost:8080/"
        },
        "id": "LqZeMCAoeDiU",
        "outputId": "7558248f-3831-488e-be8c-b1ac5c39eda2"
      },
      "outputs": [
        {
          "output_type": "stream",
          "name": "stdout",
          "text": [
            "First Names with Unexpected Characters:\n",
            "0         Laraine\n",
            "1             Eli\n",
            "2           Arlin\n",
            "3          Talbot\n",
            "5            Curr\n",
            "          ...    \n",
            "3995      Rosalia\n",
            "3996       Blanch\n",
            "3997       Sarene\n",
            "3998    Patrizius\n",
            "3999        Kippy\n",
            "Name: first_name, Length: 3983, dtype: object\n",
            "\n",
            "Last Names with Unexpected Characters:\n",
            "\n",
            "Inconsistent First Names (Containing Numbers):\n",
            "Empty DataFrame\n",
            "Columns: [customer_id, first_name]\n",
            "Index: []\n",
            "\n",
            "Inconsistent Last Names (Containing Numbers):\n"
          ]
        }
      ],
      "source": [
        "# Check for unexpected characters in first names and last names\n",
        "unexpected_characters_first_name = customer_demographic[customer_demographic['first_name'].str.isalpha()]['first_name']\n",
        "#unexpected_characters_last_name = customer_demographic[customer_demographic['last_name'].str.isalpha()]['last_name']\n",
        "\n",
        "# Check for inconsistencies, such as titles or non-name entries\n",
        "inconsistent_first_names = customer_demographic[customer_demographic['first_name'].str.contains('[0-9]')]\n",
        "#inconsistent_last_names = df[df['last_name'].str.contains('[0-9]')]\n",
        "\n",
        "# Display the results\n",
        "print(\"First Names with Unexpected Characters:\")\n",
        "print(unexpected_characters_first_name)\n",
        "\n",
        "print(\"\\nLast Names with Unexpected Characters:\")\n",
        "#print(unexpected_characters_last_name)\n",
        "\n",
        "print(\"\\nInconsistent First Names (Containing Numbers):\")\n",
        "print(inconsistent_first_names[['customer_id', 'first_name']])\n",
        "\n",
        "print(\"\\nInconsistent Last Names (Containing Numbers):\")\n",
        "#print(inconsistent_last_names[['customer_id', 'last_name']])"
      ]
    },
    {
      "cell_type": "markdown",
      "metadata": {
        "id": "IJSuG7RnlW3M"
      },
      "source": [
        "There are some first and last names that contain non-alphabetical characters that are not typical in a person's name. Examples of unexpected characters might include numbers, special symbols, or punctuation marks."
      ]
    },
    {
      "cell_type": "code",
      "execution_count": 21,
      "metadata": {
        "colab": {
          "base_uri": "https://localhost:8080/"
        },
        "id": "FHUjA_df9GSX",
        "outputId": "e3ecbd78-f51e-4baf-e07d-0c54b10ab391"
      },
      "outputs": [
        {
          "output_type": "execute_result",
          "data": {
            "text/plain": [
              "['F', 'Male', 'Female', 'U', 'Femal', 'M']"
            ]
          },
          "metadata": {},
          "execution_count": 21
        }
      ],
      "source": [
        "customer_demographic['gender'].unique().tolist()"
      ]
    },
    {
      "cell_type": "markdown",
      "source": [
        "The 'gender' column has entries for male and female specifies by 4 values : 'Male', 'Female', 'M', 'F' and it also has an entry 'U' which means 'Unidentified'. So we will group these data and make them more consistent and correct."
      ],
      "metadata": {
        "id": "x2E0Se6fqUZQ"
      }
    },
    {
      "cell_type": "code",
      "source": [
        "customer_demographic['gender'] = customer_demographic['gender'].replace({\n",
        "    'F': 'Female',\n",
        "    'M': 'Male',\n",
        "    'Femal': 'Female'\n",
        "})"
      ],
      "metadata": {
        "id": "ItnL2AW6qVOq"
      },
      "execution_count": 22,
      "outputs": []
    },
    {
      "cell_type": "code",
      "execution_count": 23,
      "metadata": {
        "colab": {
          "base_uri": "https://localhost:8080/"
        },
        "id": "CjHMxqJCmq12",
        "outputId": "1dfce405-06dd-4675-da78-74f3eb705c83"
      },
      "outputs": [
        {
          "output_type": "stream",
          "name": "stdout",
          "text": [
            "Negative Purchase Counts:\n",
            "Series([], Name: past_3_years_bike_related_purchases, dtype: int64)\n",
            "\n",
            "Unrealistic Outliers:\n",
            "Series([], Name: past_3_years_bike_related_purchases, dtype: int64)\n"
          ]
        }
      ],
      "source": [
        "# Extract the 'Past 3 Years Bike-Related Purchases' column\n",
        "purchase_counts = customer_demographic['past_3_years_bike_related_purchases']\n",
        "\n",
        "# Check for negative values\n",
        "negative_values = purchase_counts[purchase_counts < 0]\n",
        "\n",
        "# Check for unrealistic outliers (you can set a threshold as needed)\n",
        "unrealistic_outliers = purchase_counts[purchase_counts > 100]  # Adjust the threshold as appropriate\n",
        "\n",
        "# Display the results\n",
        "print(\"Negative Purchase Counts:\")\n",
        "print(negative_values)\n",
        "\n",
        "print(\"\\nUnrealistic Outliers:\")\n",
        "print(unrealistic_outliers)"
      ]
    },
    {
      "cell_type": "markdown",
      "metadata": {
        "id": "j3jcZHHQnM2q"
      },
      "source": [
        " There are no negative purchase counts or unrealistic outliers in the \"Past 3 Years Bike-Related Purchases\" column"
      ]
    },
    {
      "cell_type": "code",
      "execution_count": 24,
      "metadata": {
        "id": "EXnV98hTn2_5"
      },
      "outputs": [],
      "source": [
        "# Calculate the reference date (current date)\n",
        "current_date = datetime.now()"
      ]
    },
    {
      "cell_type": "code",
      "execution_count": 25,
      "metadata": {
        "id": "fHknxtm4n_7X"
      },
      "outputs": [],
      "source": [
        "# Define a reasonable date range for DOB (e.g., last 80 years)\n",
        "min_dob = current_date - pd.DateOffset(years=80)"
      ]
    },
    {
      "cell_type": "code",
      "execution_count": 26,
      "metadata": {
        "colab": {
          "base_uri": "https://localhost:8080/"
        },
        "id": "Zw3e2-CioHOT",
        "outputId": "aa8e6fe3-010a-4748-b66d-ddeb64595169"
      },
      "outputs": [
        {
          "output_type": "stream",
          "name": "stdout",
          "text": [
            "Unrealistic DOB Values:\n",
            "      customer_id        DOB\n",
            "33             34 1843-12-21\n",
            "719           720 1931-10-23\n",
            "1091         1092 1935-08-22\n",
            "2412         2413 1943-08-11\n",
            "3409         3410 1940-09-22\n"
          ]
        }
      ],
      "source": [
        "# Check for unrealistic DOB values\n",
        "unrealistic_dob = customer_demographic[customer_demographic['DOB'] > current_date]  # DOB in the future\n",
        "unrealistic_dob = unrealistic_dob.append(customer_demographic[customer_demographic['DOB'] < min_dob])  # DOB too far in the past\n",
        "\n",
        "# Print unrealistic DOB values\n",
        "print(\"Unrealistic DOB Values:\")\n",
        "print(unrealistic_dob[['customer_id', 'DOB']])"
      ]
    },
    {
      "cell_type": "code",
      "execution_count": 27,
      "metadata": {
        "colab": {
          "base_uri": "https://localhost:8080/",
          "height": 583
        },
        "id": "zoetjYkVA-zj",
        "outputId": "fc0da755-abe2-4050-a8ba-365d8689360b"
      },
      "outputs": [
        {
          "output_type": "execute_result",
          "data": {
            "text/plain": [
              "      customer_id first_name   last_name gender  \\\n",
              "143           144       Jory  Barrabeale      U   \n",
              "167           168     Reggie   Broggetti      U   \n",
              "266           267      Edgar     Buckler      U   \n",
              "289           290    Giorgio      Kevane      U   \n",
              "450           451     Marlow   Flowerdew      U   \n",
              "...           ...        ...         ...    ...   \n",
              "3778         3779      Ulick      Daspar      U   \n",
              "3882         3883      Nissa      Conrad      U   \n",
              "3930         3931      Kylie       Epine      U   \n",
              "3934         3935     Teodor   Alfonsini      U   \n",
              "3997         3998     Sarene     Woolley      U   \n",
              "\n",
              "      past_3_years_bike_related_purchases DOB                   job_title  \\\n",
              "143                                    71 NaT          Environmental Tech   \n",
              "167                                     8 NaT             General Manager   \n",
              "266                                    53 NaT                         NaN   \n",
              "289                                    42 NaT      Senior Sales Associate   \n",
              "450                                    37 NaT  Quality Control Specialist   \n",
              "...                                   ...  ..                         ...   \n",
              "3778                                   68 NaT                         NaN   \n",
              "3882                                   35 NaT             Legal Assistant   \n",
              "3930                                   19 NaT                         NaN   \n",
              "3934                                   72 NaT                         NaN   \n",
              "3997                                   60 NaT           Assistant Manager   \n",
              "\n",
              "     job_industry_category     wealth_segment deceased_indicator default  \\\n",
              "143                     IT      Mass Customer                  N     NaN   \n",
              "167                     IT  Affluent Customer                  N     NaN   \n",
              "266                     IT     High Net Worth                  N     NaN   \n",
              "289                     IT      Mass Customer                  N     NaN   \n",
              "450                     IT     High Net Worth                  N     NaN   \n",
              "...                    ...                ...                ...     ...   \n",
              "3778                    IT  Affluent Customer                  N     NaN   \n",
              "3882                    IT      Mass Customer                  N     NaN   \n",
              "3930                    IT     High Net Worth                  N     NaN   \n",
              "3934                    IT     High Net Worth                  N     NaN   \n",
              "3997                    IT     High Net Worth                  N     NaN   \n",
              "\n",
              "     owns_car  tenure  \n",
              "143        No     NaN  \n",
              "167       Yes     NaN  \n",
              "266        No     NaN  \n",
              "289        No     NaN  \n",
              "450        No     NaN  \n",
              "...       ...     ...  \n",
              "3778       No     NaN  \n",
              "3882       No     NaN  \n",
              "3930      Yes     NaN  \n",
              "3934      Yes     NaN  \n",
              "3997       No     NaN  \n",
              "\n",
              "[87 rows x 13 columns]"
            ],
            "text/html": [
              "\n",
              "  <div id=\"df-118a6733-095f-408b-bbaf-4027893c924a\" class=\"colab-df-container\">\n",
              "    <div>\n",
              "<style scoped>\n",
              "    .dataframe tbody tr th:only-of-type {\n",
              "        vertical-align: middle;\n",
              "    }\n",
              "\n",
              "    .dataframe tbody tr th {\n",
              "        vertical-align: top;\n",
              "    }\n",
              "\n",
              "    .dataframe thead th {\n",
              "        text-align: right;\n",
              "    }\n",
              "</style>\n",
              "<table border=\"1\" class=\"dataframe\">\n",
              "  <thead>\n",
              "    <tr style=\"text-align: right;\">\n",
              "      <th></th>\n",
              "      <th>customer_id</th>\n",
              "      <th>first_name</th>\n",
              "      <th>last_name</th>\n",
              "      <th>gender</th>\n",
              "      <th>past_3_years_bike_related_purchases</th>\n",
              "      <th>DOB</th>\n",
              "      <th>job_title</th>\n",
              "      <th>job_industry_category</th>\n",
              "      <th>wealth_segment</th>\n",
              "      <th>deceased_indicator</th>\n",
              "      <th>default</th>\n",
              "      <th>owns_car</th>\n",
              "      <th>tenure</th>\n",
              "    </tr>\n",
              "  </thead>\n",
              "  <tbody>\n",
              "    <tr>\n",
              "      <th>143</th>\n",
              "      <td>144</td>\n",
              "      <td>Jory</td>\n",
              "      <td>Barrabeale</td>\n",
              "      <td>U</td>\n",
              "      <td>71</td>\n",
              "      <td>NaT</td>\n",
              "      <td>Environmental Tech</td>\n",
              "      <td>IT</td>\n",
              "      <td>Mass Customer</td>\n",
              "      <td>N</td>\n",
              "      <td>NaN</td>\n",
              "      <td>No</td>\n",
              "      <td>NaN</td>\n",
              "    </tr>\n",
              "    <tr>\n",
              "      <th>167</th>\n",
              "      <td>168</td>\n",
              "      <td>Reggie</td>\n",
              "      <td>Broggetti</td>\n",
              "      <td>U</td>\n",
              "      <td>8</td>\n",
              "      <td>NaT</td>\n",
              "      <td>General Manager</td>\n",
              "      <td>IT</td>\n",
              "      <td>Affluent Customer</td>\n",
              "      <td>N</td>\n",
              "      <td>NaN</td>\n",
              "      <td>Yes</td>\n",
              "      <td>NaN</td>\n",
              "    </tr>\n",
              "    <tr>\n",
              "      <th>266</th>\n",
              "      <td>267</td>\n",
              "      <td>Edgar</td>\n",
              "      <td>Buckler</td>\n",
              "      <td>U</td>\n",
              "      <td>53</td>\n",
              "      <td>NaT</td>\n",
              "      <td>NaN</td>\n",
              "      <td>IT</td>\n",
              "      <td>High Net Worth</td>\n",
              "      <td>N</td>\n",
              "      <td>NaN</td>\n",
              "      <td>No</td>\n",
              "      <td>NaN</td>\n",
              "    </tr>\n",
              "    <tr>\n",
              "      <th>289</th>\n",
              "      <td>290</td>\n",
              "      <td>Giorgio</td>\n",
              "      <td>Kevane</td>\n",
              "      <td>U</td>\n",
              "      <td>42</td>\n",
              "      <td>NaT</td>\n",
              "      <td>Senior Sales Associate</td>\n",
              "      <td>IT</td>\n",
              "      <td>Mass Customer</td>\n",
              "      <td>N</td>\n",
              "      <td>NaN</td>\n",
              "      <td>No</td>\n",
              "      <td>NaN</td>\n",
              "    </tr>\n",
              "    <tr>\n",
              "      <th>450</th>\n",
              "      <td>451</td>\n",
              "      <td>Marlow</td>\n",
              "      <td>Flowerdew</td>\n",
              "      <td>U</td>\n",
              "      <td>37</td>\n",
              "      <td>NaT</td>\n",
              "      <td>Quality Control Specialist</td>\n",
              "      <td>IT</td>\n",
              "      <td>High Net Worth</td>\n",
              "      <td>N</td>\n",
              "      <td>NaN</td>\n",
              "      <td>No</td>\n",
              "      <td>NaN</td>\n",
              "    </tr>\n",
              "    <tr>\n",
              "      <th>...</th>\n",
              "      <td>...</td>\n",
              "      <td>...</td>\n",
              "      <td>...</td>\n",
              "      <td>...</td>\n",
              "      <td>...</td>\n",
              "      <td>...</td>\n",
              "      <td>...</td>\n",
              "      <td>...</td>\n",
              "      <td>...</td>\n",
              "      <td>...</td>\n",
              "      <td>...</td>\n",
              "      <td>...</td>\n",
              "      <td>...</td>\n",
              "    </tr>\n",
              "    <tr>\n",
              "      <th>3778</th>\n",
              "      <td>3779</td>\n",
              "      <td>Ulick</td>\n",
              "      <td>Daspar</td>\n",
              "      <td>U</td>\n",
              "      <td>68</td>\n",
              "      <td>NaT</td>\n",
              "      <td>NaN</td>\n",
              "      <td>IT</td>\n",
              "      <td>Affluent Customer</td>\n",
              "      <td>N</td>\n",
              "      <td>NaN</td>\n",
              "      <td>No</td>\n",
              "      <td>NaN</td>\n",
              "    </tr>\n",
              "    <tr>\n",
              "      <th>3882</th>\n",
              "      <td>3883</td>\n",
              "      <td>Nissa</td>\n",
              "      <td>Conrad</td>\n",
              "      <td>U</td>\n",
              "      <td>35</td>\n",
              "      <td>NaT</td>\n",
              "      <td>Legal Assistant</td>\n",
              "      <td>IT</td>\n",
              "      <td>Mass Customer</td>\n",
              "      <td>N</td>\n",
              "      <td>NaN</td>\n",
              "      <td>No</td>\n",
              "      <td>NaN</td>\n",
              "    </tr>\n",
              "    <tr>\n",
              "      <th>3930</th>\n",
              "      <td>3931</td>\n",
              "      <td>Kylie</td>\n",
              "      <td>Epine</td>\n",
              "      <td>U</td>\n",
              "      <td>19</td>\n",
              "      <td>NaT</td>\n",
              "      <td>NaN</td>\n",
              "      <td>IT</td>\n",
              "      <td>High Net Worth</td>\n",
              "      <td>N</td>\n",
              "      <td>NaN</td>\n",
              "      <td>Yes</td>\n",
              "      <td>NaN</td>\n",
              "    </tr>\n",
              "    <tr>\n",
              "      <th>3934</th>\n",
              "      <td>3935</td>\n",
              "      <td>Teodor</td>\n",
              "      <td>Alfonsini</td>\n",
              "      <td>U</td>\n",
              "      <td>72</td>\n",
              "      <td>NaT</td>\n",
              "      <td>NaN</td>\n",
              "      <td>IT</td>\n",
              "      <td>High Net Worth</td>\n",
              "      <td>N</td>\n",
              "      <td>NaN</td>\n",
              "      <td>Yes</td>\n",
              "      <td>NaN</td>\n",
              "    </tr>\n",
              "    <tr>\n",
              "      <th>3997</th>\n",
              "      <td>3998</td>\n",
              "      <td>Sarene</td>\n",
              "      <td>Woolley</td>\n",
              "      <td>U</td>\n",
              "      <td>60</td>\n",
              "      <td>NaT</td>\n",
              "      <td>Assistant Manager</td>\n",
              "      <td>IT</td>\n",
              "      <td>High Net Worth</td>\n",
              "      <td>N</td>\n",
              "      <td>NaN</td>\n",
              "      <td>No</td>\n",
              "      <td>NaN</td>\n",
              "    </tr>\n",
              "  </tbody>\n",
              "</table>\n",
              "<p>87 rows × 13 columns</p>\n",
              "</div>\n",
              "    <div class=\"colab-df-buttons\">\n",
              "\n",
              "  <div class=\"colab-df-container\">\n",
              "    <button class=\"colab-df-convert\" onclick=\"convertToInteractive('df-118a6733-095f-408b-bbaf-4027893c924a')\"\n",
              "            title=\"Convert this dataframe to an interactive table.\"\n",
              "            style=\"display:none;\">\n",
              "\n",
              "  <svg xmlns=\"http://www.w3.org/2000/svg\" height=\"24px\" viewBox=\"0 -960 960 960\">\n",
              "    <path d=\"M120-120v-720h720v720H120Zm60-500h600v-160H180v160Zm220 220h160v-160H400v160Zm0 220h160v-160H400v160ZM180-400h160v-160H180v160Zm440 0h160v-160H620v160ZM180-180h160v-160H180v160Zm440 0h160v-160H620v160Z\"/>\n",
              "  </svg>\n",
              "    </button>\n",
              "\n",
              "  <style>\n",
              "    .colab-df-container {\n",
              "      display:flex;\n",
              "      gap: 12px;\n",
              "    }\n",
              "\n",
              "    .colab-df-convert {\n",
              "      background-color: #E8F0FE;\n",
              "      border: none;\n",
              "      border-radius: 50%;\n",
              "      cursor: pointer;\n",
              "      display: none;\n",
              "      fill: #1967D2;\n",
              "      height: 32px;\n",
              "      padding: 0 0 0 0;\n",
              "      width: 32px;\n",
              "    }\n",
              "\n",
              "    .colab-df-convert:hover {\n",
              "      background-color: #E2EBFA;\n",
              "      box-shadow: 0px 1px 2px rgba(60, 64, 67, 0.3), 0px 1px 3px 1px rgba(60, 64, 67, 0.15);\n",
              "      fill: #174EA6;\n",
              "    }\n",
              "\n",
              "    .colab-df-buttons div {\n",
              "      margin-bottom: 4px;\n",
              "    }\n",
              "\n",
              "    [theme=dark] .colab-df-convert {\n",
              "      background-color: #3B4455;\n",
              "      fill: #D2E3FC;\n",
              "    }\n",
              "\n",
              "    [theme=dark] .colab-df-convert:hover {\n",
              "      background-color: #434B5C;\n",
              "      box-shadow: 0px 1px 3px 1px rgba(0, 0, 0, 0.15);\n",
              "      filter: drop-shadow(0px 1px 2px rgba(0, 0, 0, 0.3));\n",
              "      fill: #FFFFFF;\n",
              "    }\n",
              "  </style>\n",
              "\n",
              "    <script>\n",
              "      const buttonEl =\n",
              "        document.querySelector('#df-118a6733-095f-408b-bbaf-4027893c924a button.colab-df-convert');\n",
              "      buttonEl.style.display =\n",
              "        google.colab.kernel.accessAllowed ? 'block' : 'none';\n",
              "\n",
              "      async function convertToInteractive(key) {\n",
              "        const element = document.querySelector('#df-118a6733-095f-408b-bbaf-4027893c924a');\n",
              "        const dataTable =\n",
              "          await google.colab.kernel.invokeFunction('convertToInteractive',\n",
              "                                                    [key], {});\n",
              "        if (!dataTable) return;\n",
              "\n",
              "        const docLinkHtml = 'Like what you see? Visit the ' +\n",
              "          '<a target=\"_blank\" href=https://colab.research.google.com/notebooks/data_table.ipynb>data table notebook</a>'\n",
              "          + ' to learn more about interactive tables.';\n",
              "        element.innerHTML = '';\n",
              "        dataTable['output_type'] = 'display_data';\n",
              "        await google.colab.output.renderOutput(dataTable, element);\n",
              "        const docLink = document.createElement('div');\n",
              "        docLink.innerHTML = docLinkHtml;\n",
              "        element.appendChild(docLink);\n",
              "      }\n",
              "    </script>\n",
              "  </div>\n",
              "\n",
              "\n",
              "<div id=\"df-516ed32d-15a8-4b77-be60-b5ecdcabf75d\">\n",
              "  <button class=\"colab-df-quickchart\" onclick=\"quickchart('df-516ed32d-15a8-4b77-be60-b5ecdcabf75d')\"\n",
              "            title=\"Suggest charts.\"\n",
              "            style=\"display:none;\">\n",
              "\n",
              "<svg xmlns=\"http://www.w3.org/2000/svg\" height=\"24px\"viewBox=\"0 0 24 24\"\n",
              "     width=\"24px\">\n",
              "    <g>\n",
              "        <path d=\"M19 3H5c-1.1 0-2 .9-2 2v14c0 1.1.9 2 2 2h14c1.1 0 2-.9 2-2V5c0-1.1-.9-2-2-2zM9 17H7v-7h2v7zm4 0h-2V7h2v10zm4 0h-2v-4h2v4z\"/>\n",
              "    </g>\n",
              "</svg>\n",
              "  </button>\n",
              "\n",
              "<style>\n",
              "  .colab-df-quickchart {\n",
              "      --bg-color: #E8F0FE;\n",
              "      --fill-color: #1967D2;\n",
              "      --hover-bg-color: #E2EBFA;\n",
              "      --hover-fill-color: #174EA6;\n",
              "      --disabled-fill-color: #AAA;\n",
              "      --disabled-bg-color: #DDD;\n",
              "  }\n",
              "\n",
              "  [theme=dark] .colab-df-quickchart {\n",
              "      --bg-color: #3B4455;\n",
              "      --fill-color: #D2E3FC;\n",
              "      --hover-bg-color: #434B5C;\n",
              "      --hover-fill-color: #FFFFFF;\n",
              "      --disabled-bg-color: #3B4455;\n",
              "      --disabled-fill-color: #666;\n",
              "  }\n",
              "\n",
              "  .colab-df-quickchart {\n",
              "    background-color: var(--bg-color);\n",
              "    border: none;\n",
              "    border-radius: 50%;\n",
              "    cursor: pointer;\n",
              "    display: none;\n",
              "    fill: var(--fill-color);\n",
              "    height: 32px;\n",
              "    padding: 0;\n",
              "    width: 32px;\n",
              "  }\n",
              "\n",
              "  .colab-df-quickchart:hover {\n",
              "    background-color: var(--hover-bg-color);\n",
              "    box-shadow: 0 1px 2px rgba(60, 64, 67, 0.3), 0 1px 3px 1px rgba(60, 64, 67, 0.15);\n",
              "    fill: var(--button-hover-fill-color);\n",
              "  }\n",
              "\n",
              "  .colab-df-quickchart-complete:disabled,\n",
              "  .colab-df-quickchart-complete:disabled:hover {\n",
              "    background-color: var(--disabled-bg-color);\n",
              "    fill: var(--disabled-fill-color);\n",
              "    box-shadow: none;\n",
              "  }\n",
              "\n",
              "  .colab-df-spinner {\n",
              "    border: 2px solid var(--fill-color);\n",
              "    border-color: transparent;\n",
              "    border-bottom-color: var(--fill-color);\n",
              "    animation:\n",
              "      spin 1s steps(1) infinite;\n",
              "  }\n",
              "\n",
              "  @keyframes spin {\n",
              "    0% {\n",
              "      border-color: transparent;\n",
              "      border-bottom-color: var(--fill-color);\n",
              "      border-left-color: var(--fill-color);\n",
              "    }\n",
              "    20% {\n",
              "      border-color: transparent;\n",
              "      border-left-color: var(--fill-color);\n",
              "      border-top-color: var(--fill-color);\n",
              "    }\n",
              "    30% {\n",
              "      border-color: transparent;\n",
              "      border-left-color: var(--fill-color);\n",
              "      border-top-color: var(--fill-color);\n",
              "      border-right-color: var(--fill-color);\n",
              "    }\n",
              "    40% {\n",
              "      border-color: transparent;\n",
              "      border-right-color: var(--fill-color);\n",
              "      border-top-color: var(--fill-color);\n",
              "    }\n",
              "    60% {\n",
              "      border-color: transparent;\n",
              "      border-right-color: var(--fill-color);\n",
              "    }\n",
              "    80% {\n",
              "      border-color: transparent;\n",
              "      border-right-color: var(--fill-color);\n",
              "      border-bottom-color: var(--fill-color);\n",
              "    }\n",
              "    90% {\n",
              "      border-color: transparent;\n",
              "      border-bottom-color: var(--fill-color);\n",
              "    }\n",
              "  }\n",
              "</style>\n",
              "\n",
              "  <script>\n",
              "    async function quickchart(key) {\n",
              "      const quickchartButtonEl =\n",
              "        document.querySelector('#' + key + ' button');\n",
              "      quickchartButtonEl.disabled = true;  // To prevent multiple clicks.\n",
              "      quickchartButtonEl.classList.add('colab-df-spinner');\n",
              "      try {\n",
              "        const charts = await google.colab.kernel.invokeFunction(\n",
              "            'suggestCharts', [key], {});\n",
              "      } catch (error) {\n",
              "        console.error('Error during call to suggestCharts:', error);\n",
              "      }\n",
              "      quickchartButtonEl.classList.remove('colab-df-spinner');\n",
              "      quickchartButtonEl.classList.add('colab-df-quickchart-complete');\n",
              "    }\n",
              "    (() => {\n",
              "      let quickchartButtonEl =\n",
              "        document.querySelector('#df-516ed32d-15a8-4b77-be60-b5ecdcabf75d button');\n",
              "      quickchartButtonEl.style.display =\n",
              "        google.colab.kernel.accessAllowed ? 'block' : 'none';\n",
              "    })();\n",
              "  </script>\n",
              "</div>\n",
              "    </div>\n",
              "  </div>\n"
            ]
          },
          "metadata": {},
          "execution_count": 27
        }
      ],
      "source": [
        "missing_dob =  customer_demographic[ customer_demographic['DOB'].isnull()]\n",
        "missing_dob"
      ]
    },
    {
      "cell_type": "code",
      "execution_count": 28,
      "metadata": {
        "colab": {
          "base_uri": "https://localhost:8080/"
        },
        "id": "_qox2jt84bgo",
        "outputId": "55635ce8-6d02-44b3-a258-487eedb2c7f0"
      },
      "outputs": [
        {
          "output_type": "stream",
          "name": "stdout",
          "text": [
            "Job Titles with Spelling Variations:\n",
            "[]\n",
            "\n",
            "Job Titles with Abbreviations:\n",
            "[]\n",
            "\n",
            "Non-Standard Job Titles:\n",
            "['Executive Secretary', 'Administrative Officer', 'Recruiting Manager', 'Senior Editor', 'Media Manager I', 'Business Systems Development Analyst', 'Senior Quality Engineer', 'Nuclear Power Engineer', 'Developer I', 'Account Executive', 'Junior Executive', 'Media Manager IV', 'Sales Associate', 'Professor', 'Geological Engineer', 'Project Manager', 'Safety Technician I', 'Research Assistant I', 'Accounting Assistant III', 'Editor', 'Research Nurse', 'Senior Quality Engineer', 'Safety Technician III', 'Staff Accountant III', 'Legal Assistant', 'Product Engineer', 'Legal Assistant', 'Information Systems Manager', 'VP Quality Control', 'Social Worker', 'Senior Cost Accountant', 'Assistant Media Planner', 'Payment Adjustment Coordinator', 'Food Chemist', 'Accountant III', 'Director of Sales', 'Assistant Media Planner', 'Senior Financial Analyst', 'Registered Nurse', 'Biostatistician II', 'VP Quality Control', 'Account Executive', 'Computer Systems Analyst II', 'Software Test Engineer II', 'Sales Associate', 'Paralegal', 'VP Sales', 'Chief Design Engineer', 'Office Assistant III', 'Physical Therapy Assistant', 'Help Desk Operator', 'Senior Quality Engineer', 'Legal Assistant', 'Information Systems Manager', 'Account Executive', 'Web Developer II', 'Information Systems Manager', 'Web Developer II', 'Paralegal', 'Research Associate', 'Administrative Officer', 'VP Product Management', 'Statistician II', 'Automation Specialist IV', 'Business Systems Development Analyst', 'Account Executive', 'Data Coordiator', 'Software Test Engineer III', 'Internal Auditor', 'Accountant III', 'Analyst Programmer', 'Occupational Therapist', 'Editor', 'Help Desk Operator', 'Speech Pathologist', 'Quality Control Specialist', 'Senior Financial Analyst', 'Recruiting Manager', 'Project Manager', 'Civil Engineer', 'Software Engineer III', 'Nuclear Power Engineer', 'Community Outreach Specialist', 'Safety Technician IV', 'VP Accounting', 'General Manager', 'Nurse Practicioner', 'Quality Control Specialist', 'Product Engineer', 'Automation Specialist II', 'Recruiting Manager', 'Software Test Engineer III', 'Nurse Practicioner', 'Marketing Assistant', 'Analyst Programmer', 'Marketing Manager', 'Staff Scientist', 'Account Executive', 'Assistant Professor', 'Marketing Manager', 'Budget/Accounting Analyst IV', 'Associate Professor', 'Legal Assistant', 'Graphic Designer', 'Quality Control Specialist', 'Analyst Programmer', 'Administrative Assistant II', 'Computer Systems Analyst II', 'Administrative Officer', 'Compensation Analyst', 'Systems Administrator III', 'Financial Advisor', 'Chemical Engineer', 'Administrative Officer', 'Web Designer I', 'VP Accounting', 'Legal Assistant', 'Internal Auditor', 'Senior Developer', 'Office Assistant II', 'Recruiter', 'Operator', 'Programmer Analyst III', 'Quality Engineer', 'Operator', 'Environmental Tech', 'Account Executive', 'Quality Control Specialist', 'Analog Circuit Design manager', 'Programmer Analyst III', 'Research Nurse', 'Cost Accountant', 'Marketing Manager', 'Compensation Analyst', 'Assistant Media Planner', 'Junior Executive', 'Quality Engineer', 'Cost Accountant', 'Financial Advisor', 'Internal Auditor', 'Research Nurse', 'Registered Nurse', 'Nurse Practicioner', 'Librarian', 'Senior Editor', 'Administrative Officer', 'Structural Analysis Engineer', 'General Manager', 'Data Coordiator', 'Pharmacist', 'Assistant Manager', 'Editor', 'General Manager', 'Food Chemist', 'Quality Engineer', 'Accountant I', 'Professor', 'Environmental Tech', 'Web Designer III', 'Senior Editor', 'Sales Associate', 'Geologist III', 'Marketing Manager', 'Software Test Engineer I', 'Structural Engineer', 'Safety Technician II', 'Safety Technician I', 'Registered Nurse', 'Help Desk Operator', 'Junior Executive', 'Recruiting Manager', 'Web Developer III', 'Project Manager', 'Programmer Analyst II', 'Assistant Media Planner', 'Junior Executive', 'Physical Therapy Assistant', 'Design Engineer', 'Librarian', 'Senior Quality Engineer', 'Editor', 'Administrative Assistant II', 'Statistician I', 'Office Assistant III', 'Analog Circuit Design manager', 'Assistant Manager', 'VP Marketing', 'Desktop Support Technician', 'Actuary', 'Food Chemist', 'Assistant Professor', 'Quality Engineer', 'Administrative Officer', 'Database Administrator III', 'Electrical Engineer', 'Tax Accountant', 'Clinical Specialist', 'VP Sales', 'Compensation Analyst', 'Pharmacist', 'Database Administrator IV', 'Accountant I', 'Systems Administrator II', 'Internal Auditor', 'Design Engineer', 'Professor', 'Environmental Tech', 'Chief Design Engineer', 'Social Worker', 'Research Nurse', 'Account Coordinator', 'Programmer III', 'Registered Nurse', 'Administrative Assistant III', 'Quality Engineer', 'Associate Professor', 'Technical Writer', 'Staff Accountant II', 'Clinical Specialist', 'Quality Control Specialist', 'Legal Assistant', 'VP Sales', 'Account Coordinator', 'Food Chemist', 'Information Systems Manager', 'Desktop Support Technician', 'Director of Sales', 'Sales Associate', 'Administrative Officer', 'Senior Developer', 'Senior Quality Engineer', 'Structural Engineer', 'Dental Hygienist', 'Technical Writer', 'Sales Representative', 'Account Executive', 'Chemical Engineer', 'Nurse Practicioner', 'Budget/Accounting Analyst III', 'Financial Advisor', 'Product Engineer', 'Computer Systems Analyst IV', 'Social Worker', 'VP Sales', 'VP Product Management', 'Executive Secretary', 'Web Designer I', 'Geologist I', 'Cost Accountant', 'VP Quality Control', 'Assistant Manager', 'Financial Analyst', 'Community Outreach Specialist', 'Accounting Assistant II', 'Nuclear Power Engineer', 'Clinical Specialist', 'Senior Sales Associate', 'Assistant Media Planner', 'VP Product Management', 'Administrative Assistant III', 'Recruiting Manager', 'Database Administrator II', 'Electrical Engineer', 'Engineer I', 'Budget/Accounting Analyst I', 'Clinical Specialist', 'Developer IV', 'Assistant Professor', 'VP Marketing', 'Financial Analyst', 'Registered Nurse', 'Clinical Specialist', 'Database Administrator I', 'Clinical Specialist', 'Account Coordinator', 'Internal Auditor', 'Desktop Support Technician', 'Operator', 'Marketing Assistant', 'Chief Design Engineer', 'Environmental Specialist', 'Automation Specialist II', 'Programmer III', 'Registered Nurse', 'Marketing Manager', 'Research Associate', 'Senior Developer', 'Computer Systems Analyst I', 'Computer Systems Analyst I', 'Help Desk Operator', 'Design Engineer', 'Senior Developer', 'Account Representative IV', 'Recruiting Manager', 'Desktop Support Technician', 'Registered Nurse', 'Sales Associate', 'Financial Advisor', 'Senior Editor', 'Statistician IV', 'Human Resources Manager', 'GIS Technical Architect', 'Programmer IV', 'Recruiter', 'Senior Sales Associate', 'Financial Analyst', 'Marketing Manager', 'Assistant Professor', 'Computer Systems Analyst IV', 'Clinical Specialist', 'Pharmacist', 'Sales Representative', 'Information Systems Manager', 'Legal Assistant', 'Database Administrator II', 'Librarian', 'Director of Sales', 'Accounting Assistant IV', 'Legal Assistant', 'Staff Scientist', 'Software Engineer IV', 'Software Engineer IV', 'Project Manager', 'Database Administrator III', 'VP Quality Control', 'Librarian', 'Programmer II', 'Actuary', 'Systems Administrator III', 'Graphic Designer', 'Structural Analysis Engineer', 'Senior Financial Analyst', 'Automation Specialist II', 'Financial Advisor', 'Staff Scientist', 'Senior Developer', 'Structural Engineer', 'Sales Associate', 'Research Nurse', 'Nurse Practicioner', 'Project Manager', 'Senior Quality Engineer', 'Administrative Officer', 'Help Desk Operator', 'Programmer Analyst II', 'Safety Technician I', 'Associate Professor', 'Legal Assistant', 'Data Coordiator', 'Systems Administrator III', 'Paralegal', 'Engineer III', 'Financial Analyst', 'Assistant Professor', 'Desktop Support Technician', 'Graphic Designer', 'Geologist I', 'Financial Analyst', 'Structural Analysis Engineer', 'Senior Financial Analyst', 'Executive Secretary', 'Structural Engineer', 'Director of Sales', 'VP Quality Control', 'Social Worker', 'Senior Financial Analyst', 'Software Consultant', 'Biostatistician IV', 'VP Marketing', 'Help Desk Operator', 'Sales Representative', 'Senior Quality Engineer', 'Research Nurse', 'Sales Representative', 'Nuclear Power Engineer', 'Assistant Media Planner', 'Structural Engineer', 'Community Outreach Specialist', 'Paralegal', 'Research Nurse', 'Nuclear Power Engineer', 'Statistician II', 'GIS Technical Architect', 'Internal Auditor', 'Systems Administrator III', 'Internal Auditor', 'GIS Technical Architect', 'Business Systems Development Analyst', 'Analyst Programmer', 'Staff Scientist', 'Executive Secretary', 'Tax Accountant', 'Help Desk Technician', 'Software Engineer III', 'VP Product Management', 'Structural Analysis Engineer', 'Quality Control Specialist', 'Account Coordinator', 'Assistant Professor', 'Research Nurse', 'Civil Engineer', 'Automation Specialist I', 'Recruiting Manager', 'Account Representative IV', 'Civil Engineer', 'Electrical Engineer', 'Social Worker', 'Senior Cost Accountant', 'Developer III', 'Human Resources Assistant I', 'Software Test Engineer I', 'Actuary', 'Internal Auditor', 'GIS Technical Architect', 'Internal Auditor', 'Junior Executive', 'Geologist IV', 'Nuclear Power Engineer', 'Computer Systems Analyst IV', 'Media Manager II', 'Chief Design Engineer', 'Registered Nurse', 'Programmer IV', 'Sales Representative', 'Programmer IV', 'Statistician III', 'Technical Writer', 'Food Chemist', 'Help Desk Operator', 'Senior Editor', 'Environmental Tech', 'Speech Pathologist', 'Environmental Tech', 'Electrical Engineer', 'Design Engineer', 'VP Accounting', 'Engineer II', 'VP Sales', 'Budget/Accounting Analyst III', 'Recruiting Manager', 'Environmental Specialist', 'Dental Hygienist', 'Environmental Tech', 'Health Coach II', 'Project Manager', 'Developer II', 'Dental Hygienist', 'VP Accounting', 'Tax Accountant', 'Associate Professor', 'Help Desk Operator', 'Environmental Tech', 'Chief Design Engineer', 'Database Administrator IV', 'VP Quality Control', 'Help Desk Operator', 'Senior Financial Analyst', 'Chemical Engineer', 'Social Worker', 'VP Quality Control', 'Registered Nurse', 'Operator', 'Recruiter', 'Senior Cost Accountant', 'Community Outreach Specialist', 'Database Administrator III', 'Systems Administrator I', 'Recruiting Manager', 'Structural Engineer', 'Chemical Engineer', 'Chemical Engineer', 'Accountant III', 'Account Coordinator', 'Structural Engineer', 'Project Manager', 'Information Systems Manager', 'Sales Associate', 'Human Resources Manager', 'Structural Engineer', 'Geological Engineer', 'Senior Sales Associate', 'Graphic Designer', 'Junior Executive', 'Junior Executive', 'Programmer Analyst III', 'Payment Adjustment Coordinator', 'Social Worker', 'Tax Accountant', 'Marketing Assistant', 'Accounting Assistant II', 'Operator', 'Civil Engineer', 'Systems Administrator I', 'VP Sales', 'Analog Circuit Design manager', 'VP Product Management', 'Assistant Media Planner', 'Clinical Specialist', 'General Manager', 'Senior Cost Accountant', 'VP Accounting', 'Recruiter', 'Web Developer I', 'Software Engineer II', 'Compensation Analyst', 'Computer Systems Analyst IV', 'Staff Scientist', 'Registered Nurse', 'Tax Accountant', 'Pharmacist', 'Chief Design Engineer', 'Registered Nurse', 'Assistant Media Planner', 'Compensation Analyst', 'Assistant Professor', 'Business Systems Development Analyst', 'VP Sales', 'Structural Analysis Engineer', 'Office Assistant II', 'VP Marketing', 'Recruiter', 'Recruiter', 'Financial Advisor', 'Senior Financial Analyst', 'Senior Quality Engineer', 'Office Assistant II', 'Marketing Assistant', 'Help Desk Operator', 'Electrical Engineer', 'Chemical Engineer', 'Dental Hygienist', 'Accounting Assistant I', 'Computer Systems Analyst II', 'Help Desk Technician', 'Help Desk Technician', 'GIS Technical Architect', 'Analyst Programmer', 'Human Resources Assistant I', 'Director of Sales', 'Electrical Engineer', 'Speech Pathologist', 'Financial Analyst', 'Systems Administrator III', 'Health Coach II', 'Research Assistant II', 'Assistant Media Planner', 'Geological Engineer', 'Actuary', 'Chemical Engineer', 'Statistician III', 'Computer Systems Analyst I', 'General Manager', 'Speech Pathologist', 'Programmer Analyst IV', 'Systems Administrator II', 'Health Coach I', 'Nuclear Power Engineer', 'Librarian', 'Accounting Assistant I', 'Automation Specialist IV', 'Assistant Media Planner', 'Administrative Officer', 'Analyst Programmer', 'Human Resources Manager', 'Assistant Manager', 'Accountant II', 'Legal Assistant', 'Assistant Manager', 'Tax Accountant', 'Staff Scientist', 'Graphic Designer', 'Administrative Officer', 'General Manager', 'Automation Specialist III', 'Safety Technician II', 'Tax Accountant', 'Geological Engineer', 'Sales Associate', 'Chemical Engineer', 'VP Sales', 'Research Nurse', 'Human Resources Assistant I', 'Social Worker', 'Payment Adjustment Coordinator', 'Junior Executive', 'Research Associate', 'Business Systems Development Analyst', 'Analog Circuit Design manager', 'VP Sales', 'Developer II', 'Administrative Assistant I', 'Senior Editor', 'Senior Cost Accountant', 'Accounting Assistant II', 'Registered Nurse', 'VP Product Management', 'Health Coach IV', 'Desktop Support Technician', 'Senior Developer', 'GIS Technical Architect', 'Executive Secretary', 'Junior Executive', 'Senior Developer', 'Assistant Professor', 'Database Administrator IV', 'Media Manager III', 'Engineer II', 'Programmer Analyst II', 'Environmental Specialist', 'Human Resources Manager', 'Account Representative IV', 'Food Chemist', 'Help Desk Technician', 'Research Nurse', 'Quality Engineer', 'Media Manager IV', 'Executive Secretary', 'Safety Technician II', 'Accountant III', 'Sales Representative', 'Help Desk Technician', 'Junior Executive', 'Social Worker', 'VP Product Management', 'Engineer I', 'Administrative Officer', 'Recruiting Manager', 'Account Representative III', 'Marketing Manager', 'Food Chemist', 'Analog Circuit Design manager', 'Design Engineer', 'Information Systems Manager', 'Senior Editor', 'VP Accounting', 'Analog Circuit Design manager', 'Web Designer IV', 'Actuary', 'Programmer III', 'Assistant Manager', 'Help Desk Operator', 'Systems Administrator III', 'Senior Editor', 'Senior Developer', 'VP Accounting', 'Graphic Designer', 'Business Systems Development Analyst', 'Database Administrator II', 'VP Marketing', 'Environmental Specialist', 'Analyst Programmer', 'Business Systems Development Analyst', 'Speech Pathologist', 'Food Chemist', 'Senior Financial Analyst', 'Senior Cost Accountant', 'Computer Systems Analyst IV', 'Environmental Tech', 'Clinical Specialist', 'Assistant Professor', 'Media Manager II', 'Environmental Specialist', 'Computer Systems Analyst IV', 'Environmental Tech', 'Budget/Accounting Analyst II', 'Web Developer IV', 'Analog Circuit Design manager', 'Software Consultant', 'Community Outreach Specialist', 'Operator', 'Accounting Assistant IV', 'Financial Analyst', 'Paralegal', 'Assistant Professor', 'Staff Accountant III', 'Professor', 'Legal Assistant', 'Geological Engineer', 'Information Systems Manager', 'Accounting Assistant III', 'Assistant Professor', 'Social Worker', 'Geological Engineer', 'Senior Editor', 'Professor', 'Structural Engineer', 'Actuary', 'Compensation Analyst', 'Environmental Tech', 'Financial Analyst', 'Internal Auditor', 'Programmer I', 'Account Coordinator', 'Geologist IV', 'Financial Analyst', 'Nuclear Power Engineer', 'Technical Writer', 'Electrical Engineer', 'Sales Representative', 'Safety Technician I', 'Social Worker', 'Biostatistician III', 'Software Test Engineer IV', 'Nurse Practicioner', 'Account Representative III', 'Analog Circuit Design manager', 'Product Engineer', 'Editor', 'Chemical Engineer', 'Associate Professor', 'Financial Analyst', 'Sales Associate', 'Internal Auditor', 'Financial Advisor', 'Computer Systems Analyst IV', 'Recruiting Manager', 'Environmental Tech', 'VP Quality Control', 'Paralegal', 'Research Assistant IV', 'Safety Technician II', 'Environmental Tech', 'Electrical Engineer', 'Actuary', 'Internal Auditor', 'Financial Advisor', 'Structural Analysis Engineer', 'VP Sales', 'Marketing Manager', 'Compensation Analyst', 'Developer II', 'Nurse Practicioner', 'Associate Professor', 'Geologist I', 'Chief Design Engineer', 'VP Product Management', 'Librarian', 'Clinical Specialist', 'Project Manager', 'Compensation Analyst', 'Media Manager I', 'Marketing Manager', 'General Manager', 'Quality Engineer', 'General Manager', 'Internal Auditor', 'Geologist I', 'Senior Financial Analyst', 'Information Systems Manager', 'Senior Financial Analyst', 'Desktop Support Technician', 'Associate Professor', 'VP Marketing', 'VP Accounting', 'Account Representative I', 'Pharmacist', 'Structural Engineer', 'Occupational Therapist', 'Recruiting Manager', 'Physical Therapy Assistant', 'Accounting Assistant III', 'Environmental Specialist', 'Internal Auditor', 'Information Systems Manager', 'Recruiter', 'Web Designer IV', 'Statistician IV', 'Accounting Assistant III', 'Accountant IV', 'Sales Representative', 'Dental Hygienist', 'Occupational Therapist', 'Office Assistant II', 'Geologist I', 'Desktop Support Technician', 'VP Sales', 'Account Executive', 'General Manager', 'Business Systems Development Analyst', 'Associate Professor', 'Staff Scientist', 'Database Administrator II', 'Safety Technician II', 'Financial Analyst', 'Sales Associate', 'Operator', 'Biostatistician I', 'Structural Analysis Engineer', 'Sales Representative', 'Chemical Engineer', 'Budget/Accounting Analyst IV', 'Recruiter', 'VP Product Management', 'Internal Auditor', 'Registered Nurse', 'Software Test Engineer IV', 'Help Desk Technician', 'Operator', 'Senior Financial Analyst', 'Computer Systems Analyst II', 'Accountant IV', 'Professor', 'Cost Accountant', 'Associate Professor', 'Database Administrator III', 'Executive Secretary', 'Design Engineer', 'Graphic Designer', 'Help Desk Operator', 'Human Resources Manager', 'Marketing Manager', 'Speech Pathologist', 'Human Resources Assistant IV', 'Technical Writer', 'Product Engineer', 'Administrative Officer', 'Recruiting Manager', 'Director of Sales', 'Legal Assistant', 'Human Resources Manager', 'Research Associate', 'Pharmacist', 'Recruiting Manager', 'Executive Secretary', 'Recruiter', 'Assistant Media Planner', 'VP Sales', 'VP Quality Control', 'Research Nurse', 'Nuclear Power Engineer', 'Automation Specialist I', 'Biostatistician IV', 'Staff Scientist', 'GIS Technical Architect', 'Assistant Manager', 'VP Product Management', 'Budget/Accounting Analyst I', 'Assistant Professor', 'Structural Engineer', 'Speech Pathologist', 'Sales Associate', 'Accountant IV', 'Health Coach IV', 'VP Accounting', 'Geologist I', 'Project Manager', 'Data Coordiator', 'Administrative Assistant IV', 'Automation Specialist IV', 'Graphic Designer', 'Staff Accountant III', 'Nurse Practicioner', 'Budget/Accounting Analyst I', 'Registered Nurse', 'Geologist III', 'Programmer I', 'Help Desk Operator', 'Office Assistant I', 'Senior Cost Accountant', 'Director of Sales', 'Project Manager', 'Administrative Officer', 'Financial Analyst', 'Account Coordinator', 'Librarian', 'Information Systems Manager', 'Assistant Manager', 'Speech Pathologist', 'Recruiting Manager', 'Compensation Analyst', 'Recruiter', 'Business Systems Development Analyst', 'Paralegal', 'Business Systems Development Analyst', 'Design Engineer', 'Quality Control Specialist', 'Research Associate', 'Occupational Therapist', 'Software Test Engineer III', 'Physical Therapy Assistant', 'Senior Developer', 'Web Developer I', 'Legal Assistant', 'Assistant Media Planner', 'Help Desk Operator', 'Human Resources Assistant II', 'Mechanical Systems Engineer', 'Assistant Manager', 'Social Worker', 'Quality Engineer', 'Statistician I', 'Project Manager', 'VP Sales', 'Food Chemist', 'Junior Executive', 'Executive Secretary', 'Operator', 'Paralegal', 'Human Resources Assistant II', 'Engineer I', 'Food Chemist', 'Nuclear Power Engineer', 'Sales Associate', 'Food Chemist', 'Budget/Accounting Analyst II', 'VP Accounting', 'Internal Auditor', 'Software Consultant', 'Software Consultant', 'Help Desk Technician', 'Junior Executive', 'Nuclear Power Engineer', 'Data Coordiator', 'Software Test Engineer IV', 'Registered Nurse', 'Research Assistant IV', 'Account Representative III', 'Associate Professor', 'Speech Pathologist', 'Junior Executive', 'Actuary', 'Librarian', 'Quality Engineer', 'Recruiter', 'Engineer IV', 'Web Designer I', 'Account Representative IV', 'Senior Cost Accountant', 'Associate Professor', 'Accounting Assistant IV', 'Administrative Officer', 'Pharmacist', 'Executive Secretary', 'Nurse Practicioner', 'Speech Pathologist', 'Social Worker', 'Financial Analyst', 'VP Product Management', 'Accounting Assistant I', 'Internal Auditor', 'Statistician IV', 'Financial Analyst', 'Design Engineer', 'Product Engineer', 'Computer Systems Analyst II', 'VP Quality Control', 'Business Systems Development Analyst', 'Dental Hygienist', 'Project Manager', 'Software Test Engineer I', 'Engineer II', 'Administrative Assistant IV', 'Tax Accountant', 'Engineer I', 'Senior Editor', 'Recruiting Manager', 'Financial Advisor', 'Programmer III', 'General Manager', 'Software Consultant', 'Social Worker', 'Dental Hygienist', 'Web Developer II', 'Information Systems Manager', 'Director of Sales', 'Recruiter', 'Structural Engineer', 'Account Coordinator', 'Assistant Manager', 'Quality Engineer', 'Sales Representative', 'Web Developer IV', 'Registered Nurse', 'Health Coach III', 'Software Test Engineer III', 'Executive Secretary', 'Physical Therapy Assistant', 'Financial Advisor', 'VP Marketing', 'Sales Associate', 'VP Marketing', 'Actuary', 'Administrative Assistant IV', 'Software Engineer IV', 'Executive Secretary', 'Business Systems Development Analyst', 'Statistician I', 'Editor', 'Executive Secretary', 'Desktop Support Technician', 'Office Assistant IV', 'Environmental Specialist', 'Assistant Professor', 'Health Coach II', 'Statistician IV', 'Developer III', 'Information Systems Manager', 'VP Product Management', 'Business Systems Development Analyst', 'Desktop Support Technician', 'Research Nurse', 'VP Marketing', 'Marketing Assistant', 'Research Nurse', 'Senior Quality Engineer', 'Librarian', 'Speech Pathologist', 'Senior Quality Engineer', 'Marketing Assistant', 'Cost Accountant', 'Food Chemist', 'Administrative Assistant IV', 'Quality Control Specialist', 'Software Test Engineer III', 'Pharmacist', 'Actuary', 'Assistant Professor', 'Human Resources Manager', 'Recruiter', 'Statistician IV', 'Executive Secretary', 'Human Resources Manager', 'Software Engineer IV', 'Food Chemist', 'Pharmacist', 'Media Manager IV', 'Account Representative I', 'Tax Accountant', 'Data Coordiator', 'Media Manager II', 'Social Worker', 'VP Product Management', 'Help Desk Operator', 'Statistician IV', 'Geologist I', 'Assistant Professor', 'Director of Sales', 'VP Quality Control', 'Safety Technician I', 'Junior Executive', 'VP Marketing', 'Research Nurse', 'Professor', 'Sales Representative', 'VP Accounting', 'Librarian', 'Sales Representative', 'Technical Writer', 'Senior Developer', 'Business Systems Development Analyst', 'Paralegal', 'Engineer IV', 'Budget/Accounting Analyst IV', 'Senior Developer', 'Programmer II', 'VP Sales', 'Legal Assistant', 'Accounting Assistant II', 'Internal Auditor', 'VP Quality Control', 'Software Test Engineer I', 'Structural Engineer', 'Editor', 'VP Product Management', 'Account Executive', 'Senior Sales Associate', 'Junior Executive', 'Clinical Specialist', 'Director of Sales', 'Software Engineer I', 'Senior Cost Accountant', 'GIS Technical Architect', 'Social Worker', 'Help Desk Operator', 'Geologist I', 'Dental Hygienist', 'Web Designer IV', 'Research Nurse', 'Graphic Designer', 'Sales Associate', 'Pharmacist', 'Human Resources Assistant III', 'Research Assistant II', 'Financial Analyst', 'Product Engineer', 'Geologist I', 'General Manager', 'Help Desk Technician', 'Desktop Support Technician', 'Recruiting Manager', 'Research Assistant I', 'Graphic Designer', 'Food Chemist', 'Assistant Professor', 'Geological Engineer', 'Assistant Professor', 'Tax Accountant', 'Legal Assistant', 'Technical Writer', 'Biostatistician I', 'Human Resources Manager', 'Safety Technician IV', 'Account Coordinator', 'Paralegal', 'Accounting Assistant II', 'General Manager', 'Mechanical Systems Engineer', 'General Manager', 'Dental Hygienist', 'Help Desk Technician', 'Pharmacist', 'Staff Accountant I', 'Marketing Assistant', 'Administrative Assistant III', 'Programmer Analyst III', 'Clinical Specialist', 'Junior Executive', 'Office Assistant III', 'Senior Quality Engineer', 'Systems Administrator I', 'Desktop Support Technician', 'VP Marketing', 'Quality Engineer', 'Quality Engineer', 'Paralegal', 'Social Worker', 'Research Nurse', 'Media Manager IV', 'Physical Therapy Assistant', 'Structural Analysis Engineer', 'Biostatistician I', 'Administrative Assistant III', 'Executive Secretary', 'Occupational Therapist', 'Dental Hygienist', 'Analog Circuit Design manager', 'VP Marketing', 'Geological Engineer', 'VP Accounting', 'Food Chemist', 'Analyst Programmer', 'Clinical Specialist', 'Recruiter', 'General Manager', 'Senior Developer', 'Editor', 'Data Coordiator', 'Account Executive', 'Web Designer III', 'Account Executive', 'Biostatistician III', 'Director of Sales', 'Budget/Accounting Analyst IV', 'Database Administrator IV', 'Technical Writer', 'Tax Accountant', 'Technical Writer', 'Compensation Analyst', 'Senior Financial Analyst', 'Physical Therapy Assistant', 'Structural Engineer', 'Product Engineer', 'Editor', 'Statistician I', 'Computer Systems Analyst I', 'Dental Hygienist', 'Tax Accountant', 'Senior Sales Associate', 'Administrative Assistant IV', 'Help Desk Operator', 'VP Sales', 'Electrical Engineer', 'Staff Scientist', 'Office Assistant IV', 'Electrical Engineer', 'Clinical Specialist', 'Analyst Programmer', 'VP Quality Control', 'Account Representative I', 'Research Nurse', 'Dental Hygienist', 'Help Desk Technician', 'Design Engineer', 'Professor', 'Account Executive', 'Associate Professor', 'Junior Executive', 'Research Associate', 'Computer Systems Analyst IV', 'Internal Auditor', 'Civil Engineer', 'Computer Systems Analyst IV', 'Design Engineer', 'Computer Systems Analyst III', 'Director of Sales', 'Analog Circuit Design manager', 'Environmental Tech', 'Mechanical Systems Engineer', 'Legal Assistant', 'Financial Analyst', 'Engineer IV', 'Data Coordiator', 'Software Consultant', 'Quality Control Specialist', 'Cost Accountant', 'Help Desk Technician', 'Chemical Engineer', 'Internal Auditor', 'Accounting Assistant I', 'Marketing Assistant', 'Human Resources Manager', 'VP Product Management', 'Cost Accountant', 'Legal Assistant', 'Project Manager', 'Staff Scientist', 'Senior Developer', 'Assistant Professor', 'Geologist II', 'Chemical Engineer', 'VP Product Management', 'Cost Accountant', 'Structural Analysis Engineer', 'Dental Hygienist', 'Help Desk Technician', 'Marketing Manager', 'Registered Nurse', 'Tax Accountant', 'Administrative Assistant II', 'Help Desk Technician', 'Executive Secretary', 'Assistant Manager', 'Senior Sales Associate', 'Physical Therapy Assistant', 'Dental Hygienist', 'Senior Editor', 'Nuclear Power Engineer', 'Project Manager', 'Occupational Therapist', 'General Manager', 'Financial Advisor', 'Environmental Specialist', 'Sales Representative', 'Legal Assistant', 'Biostatistician I', 'Sales Associate', 'Tax Accountant', 'Account Coordinator', 'Statistician I', 'Software Engineer II', 'General Manager', 'Electrical Engineer', 'Social Worker', 'GIS Technical Architect', 'Human Resources Manager', 'Payment Adjustment Coordinator', 'Web Designer II', 'Engineer I', 'Civil Engineer', 'VP Product Management', 'Staff Accountant IV', 'Statistician I', 'Junior Executive', 'Safety Technician III', 'Computer Systems Analyst I', 'Physical Therapy Assistant', 'Software Engineer I', 'Health Coach II', 'Speech Pathologist', 'Account Representative IV', 'Senior Sales Associate', 'Information Systems Manager', 'VP Accounting', 'Chief Design Engineer', 'Office Assistant II', 'Mechanical Systems Engineer', 'Cost Accountant', 'Financial Advisor', 'Financial Advisor', 'Senior Cost Accountant', 'Environmental Specialist', 'VP Product Management', 'Structural Analysis Engineer', 'Recruiting Manager', 'Structural Analysis Engineer', 'Actuary', 'VP Quality Control', 'Help Desk Technician', 'Legal Assistant', 'Senior Financial Analyst', 'Electrical Engineer', 'Senior Quality Engineer', 'Administrative Assistant IV', 'Food Chemist', 'Geological Engineer', 'Web Designer IV', 'Assistant Manager', 'Cost Accountant', 'Senior Sales Associate', 'Media Manager I', 'Engineer II', 'Geologist I', 'Physical Therapy Assistant', 'Human Resources Manager', 'Marketing Assistant', 'Design Engineer', 'Account Executive', 'Design Engineer', 'Media Manager III', 'Data Coordiator', 'Recruiting Manager', 'Clinical Specialist', 'Computer Systems Analyst I', 'Actuary', 'Internal Auditor', 'Quality Engineer', 'Professor', 'Geological Engineer', 'VP Sales', 'Operator', 'Safety Technician IV', 'Administrative Assistant IV', 'Business Systems Development Analyst', 'Paralegal', 'Product Engineer', 'Administrative Officer', 'Database Administrator III', 'Editor', 'Chemical Engineer', 'Media Manager III', 'Pharmacist', 'Administrative Assistant III', 'VP Accounting', 'Social Worker', 'Human Resources Assistant I', 'Cost Accountant', 'Software Consultant', 'Librarian', 'Pharmacist', 'Account Executive', 'Mechanical Systems Engineer', 'Structural Engineer', 'Food Chemist', 'Database Administrator III', 'Dental Hygienist', 'Associate Professor', 'Compensation Analyst', 'Account Coordinator', 'Programmer Analyst II', 'Computer Systems Analyst I', 'Research Associate', 'Administrative Assistant IV', 'Assistant Manager', 'Tax Accountant', 'Web Developer III', 'Speech Pathologist', 'Information Systems Manager', 'Graphic Designer', 'Staff Scientist', 'Account Representative IV', 'Geologist III', 'Sales Representative', 'Executive Secretary', 'Chemical Engineer', 'Structural Analysis Engineer', 'Staff Accountant III', 'Clinical Specialist', 'Recruiting Manager', 'Web Designer I', 'Database Administrator I', 'Design Engineer', 'VP Marketing', 'Automation Specialist I', 'Desktop Support Technician', 'Associate Professor', 'Recruiter', 'Office Assistant III', 'Geologist IV', 'Legal Assistant', 'Pharmacist', 'Physical Therapy Assistant', 'Software Test Engineer III', 'Administrative Officer', 'Human Resources Manager', 'Assistant Manager', 'Operator', 'Software Test Engineer III', 'Tax Accountant', 'Human Resources Manager', 'Senior Financial Analyst', 'Cost Accountant', 'Nurse Practicioner', 'Safety Technician III', 'Senior Financial Analyst', 'Desktop Support Technician', 'Professor', 'Quality Engineer', 'Environmental Specialist', 'Marketing Assistant', 'Software Engineer III', 'Professor', 'Structural Engineer', 'Developer IV', 'Community Outreach Specialist', 'Media Manager II', 'Compensation Analyst', 'Senior Developer', 'Staff Accountant III', 'Structural Analysis Engineer', 'Social Worker', 'Senior Quality Engineer', 'Software Test Engineer III', 'Compensation Analyst', 'Information Systems Manager', 'VP Accounting', 'Librarian', 'Assistant Manager', 'VP Accounting', 'Professor', 'Speech Pathologist', 'Electrical Engineer', 'Mechanical Systems Engineer', 'Director of Sales', 'Safety Technician IV', 'Chemical Engineer', 'Statistician II', 'Speech Pathologist', 'Accountant I', 'Community Outreach Specialist', 'Systems Administrator II', 'Speech Pathologist', 'Research Associate', 'Senior Financial Analyst', 'VP Accounting', 'Chief Design Engineer', 'Tax Accountant', 'Web Designer I', 'Operator', 'Professor', 'Electrical Engineer', 'Chief Design Engineer', 'Computer Systems Analyst III', 'Sales Representative', 'Software Consultant', 'Internal Auditor', 'Administrative Assistant IV', 'Electrical Engineer', 'VP Quality Control', 'Chemical Engineer', 'Quality Engineer', 'Recruiting Manager', 'Geological Engineer', 'Financial Advisor', 'VP Accounting', 'Web Designer II', 'Account Executive', 'Design Engineer', 'Professor', 'Civil Engineer', 'Engineer I', 'Information Systems Manager', 'Editor', 'Programmer II', 'Desktop Support Technician', 'Structural Engineer', 'Budget/Accounting Analyst I', 'Environmental Tech', 'Budget/Accounting Analyst III', 'Account Representative IV', 'Systems Administrator II', 'Quality Control Specialist', 'Food Chemist', 'Account Coordinator', 'Senior Quality Engineer', 'Accountant I', 'Environmental Specialist', 'Librarian', 'Occupational Therapist', 'Nuclear Power Engineer', 'Electrical Engineer', 'Research Nurse', 'Product Engineer', 'Analyst Programmer', 'Research Associate', 'Cost Accountant', 'Marketing Manager', 'Food Chemist', 'Health Coach IV', 'Dental Hygienist', 'Senior Sales Associate', 'Web Developer III', 'Senior Developer', 'Civil Engineer', 'Professor', 'Media Manager IV', 'Staff Accountant II', 'Senior Quality Engineer', 'Cost Accountant', 'Geologist IV', 'Assistant Media Planner', 'Junior Executive', 'Junior Executive', 'Assistant Media Planner', 'Paralegal', 'Mechanical Systems Engineer', 'Senior Financial Analyst', 'Health Coach III', 'Desktop Support Technician', 'Associate Professor', 'Community Outreach Specialist', 'Occupational Therapist', 'Associate Professor', 'Senior Developer', 'Engineer II', 'Software Consultant', 'Research Associate', 'General Manager', 'Tax Accountant', 'Director of Sales', 'Nurse Practicioner', 'Chief Design Engineer', 'Operator', 'Research Assistant II', 'Recruiter', 'Internal Auditor', 'Systems Administrator II', 'VP Product Management', 'Tax Accountant', 'Junior Executive', 'Administrative Assistant I', 'Biostatistician IV', 'Dental Hygienist', 'Legal Assistant', 'Research Assistant II', 'Automation Specialist I', 'Desktop Support Technician', 'Senior Quality Engineer', 'Senior Quality Engineer', 'Software Engineer IV', 'Programmer I', 'Junior Executive', 'Geological Engineer', 'Financial Analyst', 'Compensation Analyst', 'Actuary', 'Accountant I', 'Sales Representative', 'Staff Accountant III', 'Information Systems Manager', 'Research Associate', 'Data Coordiator', 'Pharmacist', 'GIS Technical Architect', 'Clinical Specialist', 'Administrative Assistant III', 'Executive Secretary', 'Account Representative IV', 'Analog Circuit Design manager', 'Budget/Accounting Analyst IV', 'Data Coordiator', 'Actuary', 'Administrative Officer', 'Internal Auditor', 'Desktop Support Technician', 'Assistant Professor', 'Electrical Engineer', 'Executive Secretary', 'Legal Assistant', 'Nuclear Power Engineer', 'Product Engineer', 'Budget/Accounting Analyst II', 'Software Test Engineer IV', 'Help Desk Operator', 'Information Systems Manager', 'Programmer II', 'Geological Engineer', 'Clinical Specialist', 'Technical Writer', 'Web Designer IV', 'Software Test Engineer I', 'Graphic Designer', 'Assistant Media Planner', 'Graphic Designer', 'Software Engineer II', 'Web Developer IV', 'VP Quality Control', 'Safety Technician III', 'VP Quality Control', 'Chemical Engineer', 'Sales Representative', 'Junior Executive', 'Editor', 'Software Consultant', 'Social Worker', 'Programmer Analyst III', 'Actuary', 'Director of Sales', 'Financial Advisor', 'Research Nurse', 'Account Coordinator', 'Business Systems Development Analyst', 'Internal Auditor', 'Staff Scientist', 'Administrative Assistant III', 'Accountant IV', 'Recruiting Manager', 'Product Engineer', 'General Manager', 'Senior Editor', 'Executive Secretary', 'Information Systems Manager', 'Biostatistician II', 'Account Representative II', 'Research Associate', 'Recruiter', 'Community Outreach Specialist', 'Librarian', 'Associate Professor', 'Marketing Manager', 'Senior Sales Associate', 'Accountant IV', 'Nuclear Power Engineer', 'Geological Engineer', 'VP Product Management', 'Senior Quality Engineer', 'Office Assistant III', 'Marketing Manager', 'Senior Developer', 'Assistant Manager', 'Geologist IV', 'Graphic Designer', 'Senior Cost Accountant', 'Help Desk Technician', 'General Manager', 'Staff Scientist', 'Recruiting Manager', 'Associate Professor', 'Account Coordinator', 'Account Representative I', 'Quality Control Specialist', 'Account Executive', 'Software Consultant', 'Director of Sales', 'Food Chemist', 'Quality Control Specialist', 'Analyst Programmer', 'Marketing Manager', 'Administrative Officer', 'Automation Specialist III', 'Technical Writer', 'Project Manager', 'Product Engineer', 'Developer III', 'Safety Technician II', 'Budget/Accounting Analyst I', 'Environmental Tech', 'Project Manager', 'Technical Writer', 'Help Desk Technician', 'Product Engineer', 'VP Sales', 'Help Desk Technician', 'Research Assistant II', 'Systems Administrator I', 'Director of Sales', 'Account Coordinator', 'Dental Hygienist', 'VP Product Management', 'Social Worker', 'Computer Systems Analyst II', 'Senior Sales Associate', 'Staff Accountant II', 'VP Product Management', 'Sales Associate', 'Accountant III', 'Speech Pathologist', 'Health Coach IV', 'VP Product Management', 'Senior Cost Accountant', 'Software Test Engineer I', 'Chemical Engineer', 'Food Chemist', 'Speech Pathologist', 'Senior Developer', 'Librarian', 'Automation Specialist I', 'Budget/Accounting Analyst IV', 'Senior Sales Associate', 'Junior Executive', 'Quality Engineer', 'Automation Specialist IV', 'Safety Technician I', 'Librarian', 'Programmer Analyst II', 'Senior Cost Accountant', 'Programmer III', 'Software Test Engineer II', 'Systems Administrator III', 'Geologist II', 'Legal Assistant', 'Web Developer II', 'Health Coach II', 'Payment Adjustment Coordinator', 'Paralegal', 'VP Sales', 'Environmental Specialist', 'Human Resources Assistant I', 'Accountant IV', 'Professor', 'Director of Sales', 'Software Engineer II', 'Physical Therapy Assistant', 'Sales Representative', 'Biostatistician I', 'Mechanical Systems Engineer', 'Web Designer III', 'Chemical Engineer', 'Librarian', 'Desktop Support Technician', 'Media Manager IV', 'Administrative Officer', 'Product Engineer', 'Product Engineer', 'Dental Hygienist', 'Statistician III', 'Food Chemist', 'Sales Associate', 'Senior Cost Accountant', 'Assistant Media Planner', 'Information Systems Manager', 'Computer Systems Analyst I', 'Research Associate', 'Recruiting Manager', 'Graphic Designer', 'Senior Financial Analyst', 'Research Nurse', 'Web Developer I', 'Accounting Assistant II', 'Automation Specialist II', 'Structural Engineer', 'Structural Engineer', 'Media Manager IV', 'Nuclear Power Engineer', 'Assistant Professor', 'Analog Circuit Design manager', 'Mechanical Systems Engineer', 'Statistician III', 'Nuclear Power Engineer', 'Accountant I', 'Senior Developer', 'Programmer I', 'Analyst Programmer', 'Staff Accountant IV', 'Data Coordiator', 'VP Sales', 'Health Coach I', 'Registered Nurse', 'Associate Professor', 'Health Coach IV', 'Executive Secretary', 'Programmer II', 'Senior Developer', 'VP Marketing', 'Biostatistician IV', 'Software Test Engineer I', 'Associate Professor', 'VP Sales', 'VP Quality Control', 'Structural Engineer', 'VP Product Management', 'Director of Sales', 'Administrative Officer', 'Geologist III', 'Quality Control Specialist', 'Dental Hygienist', 'Speech Pathologist', 'Senior Developer', 'VP Marketing', 'Structural Engineer', 'Senior Developer', 'VP Sales', 'VP Accounting', 'Registered Nurse', 'Software Consultant', 'Quality Engineer', 'VP Sales', 'Marketing Manager', 'Paralegal', 'Financial Advisor', 'Assistant Professor', 'Business Systems Development Analyst', 'Geological Engineer', 'Administrative Assistant III', 'Biostatistician IV', 'Accounting Assistant IV', 'Database Administrator I', 'Graphic Designer', 'Statistician II', 'Technical Writer', 'Junior Executive', 'Clinical Specialist', 'VP Marketing', 'Technical Writer', 'Food Chemist', 'Registered Nurse', 'Account Representative I', 'Software Test Engineer IV', 'Recruiting Manager', 'Environmental Specialist', 'Environmental Tech', 'Assistant Manager', 'Cost Accountant', 'Computer Systems Analyst III', 'Account Executive', 'Human Resources Assistant IV', 'Senior Editor', 'Legal Assistant', 'Pharmacist', 'Senior Cost Accountant', 'Administrative Officer', 'Senior Financial Analyst', 'Safety Technician I', 'Help Desk Technician', 'Office Assistant II', 'Safety Technician IV', 'Programmer II', 'Biostatistician IV', 'Account Executive', 'Programmer III', 'Recruiter', 'Dental Hygienist', 'Senior Cost Accountant', 'Marketing Assistant', 'General Manager', 'Senior Editor', 'Business Systems Development Analyst', 'Structural Analysis Engineer', 'Food Chemist', 'Project Manager', 'Biostatistician IV', 'Software Test Engineer IV', 'Account Representative II', 'Human Resources Assistant III', 'Speech Pathologist', 'Accounting Assistant I', 'Internal Auditor', 'Safety Technician III', 'Food Chemist', 'Research Associate', 'Computer Systems Analyst I', 'Developer III', 'Senior Cost Accountant', 'Web Designer III', 'Registered Nurse', 'Software Engineer II', 'VP Quality Control', 'Product Engineer', 'Web Designer I', 'Data Coordiator', 'Electrical Engineer', 'Structural Engineer', 'Payment Adjustment Coordinator', 'Human Resources Manager', 'General Manager', 'Structural Engineer', 'Office Assistant I', 'Chemical Engineer', 'Graphic Designer', 'Accountant II', 'Help Desk Operator', 'Programmer I', 'Biostatistician IV', 'Business Systems Development Analyst', 'Office Assistant IV', 'Librarian', 'Engineer IV', 'Engineer I', 'Professor', 'Database Administrator III', 'Financial Analyst', 'Chemical Engineer', 'Data Coordiator', 'Desktop Support Technician', 'Community Outreach Specialist', 'Physical Therapy Assistant', 'Recruiter', 'Paralegal', 'VP Product Management', 'Financial Analyst', 'Civil Engineer', 'Librarian', 'VP Accounting', 'Senior Financial Analyst', 'Geological Engineer', 'Pharmacist', 'Information Systems Manager', 'Help Desk Technician', 'Account Executive', 'Web Developer III', 'Accountant II', 'Social Worker', 'Mechanical Systems Engineer', 'Desktop Support Technician', 'Chief Design Engineer', 'Account Executive', 'Assistant Media Planner', 'Programmer Analyst IV', 'Statistician III', 'Human Resources Assistant II', 'Clinical Specialist', 'Budget/Accounting Analyst I', 'Nurse Practicioner', 'Safety Technician II', 'Payment Adjustment Coordinator', 'Staff Accountant II', 'Developer III', 'Electrical Engineer', 'GIS Technical Architect', 'Media Manager I', 'Programmer Analyst I', 'Editor', 'Account Coordinator', 'Community Outreach Specialist', 'Design Engineer', 'Physical Therapy Assistant', 'Sales Associate', 'Librarian', 'Accounting Assistant III', 'Structural Engineer', 'Web Designer IV', 'Registered Nurse', 'Registered Nurse', 'Technical Writer', 'Legal Assistant', 'Structural Engineer', 'Systems Administrator II', 'Paralegal', 'Senior Sales Associate', 'Senior Quality Engineer', 'Legal Assistant', 'General Manager', 'Professor', 'Professor', 'Budget/Accounting Analyst III', 'Occupational Therapist', 'Biostatistician II', 'Systems Administrator I', 'Geological Engineer', 'Cost Accountant', 'Accounting Assistant II', 'Help Desk Technician', 'Sales Associate', 'Electrical Engineer', 'Social Worker', 'Data Coordiator', 'Director of Sales', 'Associate Professor', 'Automation Specialist III', 'Paralegal', 'VP Sales', 'Business Systems Development Analyst', 'Software Test Engineer III', 'Marketing Manager', 'Database Administrator III', 'Software Engineer I', 'Office Assistant I', 'Programmer Analyst II', 'Dental Hygienist', 'Marketing Manager', 'Librarian', 'Account Executive', 'Environmental Specialist', 'Administrative Assistant IV', 'Account Representative II', 'Pharmacist', 'Professor', 'Occupational Therapist', 'Business Systems Development Analyst', 'Pharmacist', 'Product Engineer', 'Information Systems Manager', 'Internal Auditor', 'Assistant Professor', 'Budget/Accounting Analyst IV', 'Human Resources Assistant II', 'Desktop Support Technician', 'Cost Accountant', 'Product Engineer', 'Human Resources Assistant II', 'Budget/Accounting Analyst I', 'Senior Financial Analyst', 'Software Consultant', 'Staff Accountant IV', 'Quality Control Specialist', 'Staff Scientist', 'Human Resources Assistant I', 'Staff Scientist', 'Research Nurse', 'Account Executive', 'Accountant IV', 'Research Nurse', 'Financial Advisor', 'Associate Professor', 'Internal Auditor', 'Geologist IV', 'Geological Engineer', 'Environmental Tech', 'Computer Systems Analyst I', 'Senior Cost Accountant', 'Mechanical Systems Engineer', 'Database Administrator IV', 'Chief Design Engineer', 'Paralegal', 'Desktop Support Technician', 'Paralegal', 'Accounting Assistant I', 'Executive Secretary', 'Design Engineer', 'Assistant Manager', 'Chemical Engineer', 'Registered Nurse', 'Community Outreach Specialist', 'Computer Systems Analyst IV', 'Tax Accountant', 'Automation Specialist I', 'Librarian', 'Senior Developer', 'Nuclear Power Engineer', 'Biostatistician III', 'Desktop Support Technician', 'Sales Associate', 'Database Administrator IV', 'Programmer Analyst I', 'Budget/Accounting Analyst II', 'Dental Hygienist', 'Computer Systems Analyst II', 'Account Coordinator', 'Database Administrator III', 'Developer III', 'Structural Analysis Engineer', 'Food Chemist', 'Account Executive', 'Dental Hygienist', 'Programmer Analyst II', 'Programmer Analyst IV', 'Web Designer II', 'Research Assistant IV', 'Web Designer II', 'Nurse Practicioner', 'Systems Administrator I', 'Information Systems Manager', 'Programmer Analyst I', 'Web Designer IV', 'Executive Secretary', 'Nurse Practicioner', 'Assistant Professor', 'Statistician II', 'Health Coach IV', 'Product Engineer', 'Operator', 'Geological Engineer', 'Civil Engineer', 'Senior Sales Associate', 'Mechanical Systems Engineer', 'VP Accounting', 'Help Desk Operator', 'Developer II', 'Speech Pathologist', 'Structural Analysis Engineer', 'Web Designer I', 'Electrical Engineer', 'Chemical Engineer', 'Financial Analyst', 'Analyst Programmer', 'Staff Scientist', 'Clinical Specialist', 'Structural Engineer', 'Design Engineer', 'Sales Representative', 'Community Outreach Specialist', 'Analog Circuit Design manager', 'Research Assistant II', 'Occupational Therapist', 'Technical Writer', 'Programmer I', 'Accounting Assistant III', 'Compensation Analyst', 'Operator', 'Dental Hygienist', 'Compensation Analyst', 'Cost Accountant', 'Desktop Support Technician', 'Legal Assistant', 'Nurse Practicioner', 'Marketing Assistant', 'Registered Nurse', 'GIS Technical Architect', 'Executive Secretary', 'Recruiter', 'Analyst Programmer', 'Administrative Assistant IV', 'Software Consultant', 'Office Assistant III', 'Staff Scientist', 'Cost Accountant', 'Technical Writer', 'Graphic Designer', 'Structural Analysis Engineer', 'Executive Secretary', 'VP Marketing', 'Geological Engineer', 'Technical Writer', 'Chemical Engineer', 'Environmental Specialist', 'Registered Nurse', 'Web Designer II', 'Office Assistant I', 'Software Engineer III', 'Physical Therapy Assistant', 'Staff Scientist', 'Research Nurse', 'Librarian', 'Professor', 'Help Desk Technician', 'Senior Developer', 'Help Desk Operator', 'Assistant Professor', 'Quality Engineer', 'Senior Cost Accountant', 'Nuclear Power Engineer', 'Nurse Practicioner', 'Environmental Specialist', 'Account Coordinator', 'Help Desk Technician', 'Marketing Manager', 'Speech Pathologist', 'Engineer II', 'Social Worker', 'Computer Systems Analyst I', 'Associate Professor', 'Quality Control Specialist', 'Tax Accountant', 'Structural Analysis Engineer', 'Tax Accountant', 'Structural Engineer', 'Editor', 'Chemical Engineer', 'Safety Technician II', 'Senior Sales Associate', 'Sales Associate', 'Developer IV', 'Media Manager II', 'Quality Engineer', 'Nurse Practicioner', 'Speech Pathologist', 'Assistant Media Planner', 'Pharmacist', 'Speech Pathologist', 'Senior Editor', 'Software Test Engineer IV', 'Engineer III', 'Marketing Assistant', 'Accounting Assistant II', 'Geological Engineer', 'Product Engineer', 'Administrative Assistant I', 'Executive Secretary', 'Quality Control Specialist', 'Administrative Officer', 'Electrical Engineer', 'Senior Cost Accountant', 'Community Outreach Specialist', 'Nuclear Power Engineer', 'Chief Design Engineer', 'Pharmacist', 'Senior Quality Engineer', 'Help Desk Technician', 'Structural Engineer', 'Operator', 'Senior Financial Analyst', 'Speech Pathologist', 'Clinical Specialist', 'Design Engineer', 'Assistant Media Planner', 'Senior Sales Associate', 'Assistant Professor', 'Web Developer II', 'Administrative Assistant IV', 'Software Test Engineer III', 'Account Representative I', 'Senior Developer', 'Actuary', 'Structural Engineer', 'Budget/Accounting Analyst I', 'VP Marketing', 'Biostatistician III', 'Information Systems Manager', 'Help Desk Technician', 'Human Resources Manager', 'Technical Writer', 'Web Developer I', 'Structural Analysis Engineer', 'Senior Financial Analyst', 'Registered Nurse', 'Research Nurse', 'Recruiting Manager', 'Senior Developer', 'Accountant III', 'Chemical Engineer', 'VP Marketing', 'Help Desk Technician', 'Cost Accountant', 'Software Test Engineer II', 'Technical Writer', 'Senior Editor', 'Quality Engineer', 'Business Systems Development Analyst', 'Speech Pathologist', 'Research Associate', 'Accountant III', 'Associate Professor', 'Senior Quality Engineer', 'Nuclear Power Engineer', 'Executive Secretary', 'Software Engineer II', 'Accounting Assistant I', 'Web Developer III', 'VP Marketing', 'Tax Accountant', 'Assistant Professor', 'Social Worker', 'Chief Design Engineer', 'Pharmacist', 'Pharmacist', 'VP Quality Control', 'Software Engineer III', 'Health Coach IV', 'Assistant Media Planner', 'Developer IV', 'Internal Auditor', 'Administrative Assistant IV', 'Engineer III', 'Junior Executive', 'Accountant II', 'Systems Administrator IV', 'Staff Scientist', 'VP Quality Control', 'Professor', 'Internal Auditor', 'Engineer III', 'Software Engineer I', 'Business Systems Development Analyst', 'Associate Professor', 'Operator', 'Tax Accountant', 'Desktop Support Technician', 'Director of Sales', 'Human Resources Assistant I', 'Technical Writer', 'Geologist III', 'Tax Accountant', 'Data Coordiator', 'Professor', 'General Manager', 'Help Desk Operator', 'Nuclear Power Engineer', 'Internal Auditor', 'Nurse Practicioner', 'Assistant Professor', 'Civil Engineer', 'Senior Developer', 'VP Marketing', 'Senior Financial Analyst', 'Software Engineer III', 'Structural Analysis Engineer', 'Account Executive', 'Marketing Manager', 'Electrical Engineer', 'Registered Nurse', 'Budget/Accounting Analyst III', 'Compensation Analyst', 'Account Coordinator', 'Tax Accountant', 'Statistician I', 'Administrative Assistant IV', 'Web Designer I', 'Civil Engineer', 'Assistant Media Planner', 'Staff Accountant I', 'Media Manager III', 'Community Outreach Specialist', 'Research Assistant I', 'Account Coordinator', 'Budget/Accounting Analyst II', 'Assistant Media Planner', 'Engineer IV', 'Senior Sales Associate', 'Software Engineer I', 'Quality Engineer', 'Nuclear Power Engineer', 'Help Desk Operator', 'Budget/Accounting Analyst III', 'Geologist IV', 'Computer Systems Analyst IV', 'Software Test Engineer I', 'VP Accounting', 'VP Sales', 'Technical Writer', 'Sales Representative', 'Physical Therapy Assistant', 'Account Representative I', 'Dental Hygienist', 'Business Systems Development Analyst', 'Nuclear Power Engineer', 'Biostatistician II', 'Food Chemist', 'Tax Accountant', 'Nuclear Power Engineer', 'Statistician III', 'Recruiter', 'Professor', 'VP Marketing', 'Accountant IV', 'Environmental Tech', 'Engineer II', 'Project Manager', 'Occupational Therapist', 'Product Engineer', 'Senior Quality Engineer', 'Business Systems Development Analyst', 'VP Accounting', 'Analyst Programmer', 'Clinical Specialist', 'Software Consultant', 'Food Chemist', 'Media Manager IV', 'Product Engineer', 'Sales Associate', 'Director of Sales', 'Financial Analyst', 'Programmer Analyst III', 'Accountant III', 'Biostatistician II', 'Health Coach IV', 'Automation Specialist II', 'Chemical Engineer', 'Database Administrator III', 'Senior Developer', 'Registered Nurse', 'Librarian', 'Research Associate', 'Research Assistant III', 'Quality Engineer', 'Statistician II', 'Social Worker', 'Legal Assistant', 'Administrative Officer', 'Account Representative IV', 'GIS Technical Architect', 'Dental Hygienist', 'Electrical Engineer', 'Account Representative IV', 'Nuclear Power Engineer', 'Desktop Support Technician', 'Account Coordinator', 'Product Engineer', 'Biostatistician II', 'Tax Accountant', 'Statistician II', 'Occupational Therapist', 'Civil Engineer', 'Systems Administrator I', 'Registered Nurse', 'Software Test Engineer II', 'Account Coordinator', 'Associate Professor', 'Mechanical Systems Engineer', 'Senior Quality Engineer', 'Administrative Officer', 'Administrative Officer', 'Physical Therapy Assistant', 'General Manager', 'Senior Financial Analyst', 'Accounting Assistant III', 'Help Desk Operator', 'Analog Circuit Design manager', 'Associate Professor', 'Accounting Assistant IV', 'Research Nurse', 'Mechanical Systems Engineer', 'Administrative Officer', 'Statistician II', 'Actuary', 'Social Worker', 'Senior Financial Analyst', 'Chemical Engineer', 'Actuary', 'Software Test Engineer III', 'Quality Engineer', 'Sales Representative', 'Sales Associate', 'Sales Representative', 'Nuclear Power Engineer', 'Chief Design Engineer', 'Automation Specialist I', 'Operator', 'Information Systems Manager', 'Actuary', 'Financial Advisor', 'Desktop Support Technician', 'Executive Secretary', 'Product Engineer', 'VP Quality Control', 'Recruiting Manager', 'Quality Engineer', 'Structural Engineer', 'Account Executive', 'Safety Technician III', 'Paralegal', 'Actuary', 'VP Sales', 'Tax Accountant', 'Sales Representative', 'Geological Engineer', 'Human Resources Manager', 'Accountant III', 'Marketing Assistant', 'Social Worker', 'Senior Editor', 'Account Representative IV', 'Financial Advisor', 'Web Developer I', 'Research Nurse', 'Social Worker', 'Research Assistant III', 'Web Designer II', 'Recruiter', 'VP Product Management', 'Cost Accountant', 'Programmer Analyst I', 'Senior Editor', 'Nurse Practicioner', 'Programmer Analyst II', 'Senior Editor', 'Actuary', 'Statistician IV', 'Internal Auditor', 'Budget/Accounting Analyst IV', 'Chemical Engineer', 'Junior Executive', 'Administrative Assistant II', 'Senior Financial Analyst', 'Software Test Engineer I', 'Executive Secretary', 'Engineer I', 'Human Resources Assistant III', 'Professor', 'Budget/Accounting Analyst IV', 'Assistant Media Planner', 'Budget/Accounting Analyst IV', 'Web Developer II', 'Electrical Engineer', 'Computer Systems Analyst II', 'Programmer Analyst I', 'Recruiter', 'Environmental Specialist', 'Clinical Specialist', 'Payment Adjustment Coordinator', 'Assistant Media Planner', 'Recruiter', 'Recruiting Manager', 'Recruiter', 'Staff Accountant III', 'Occupational Therapist', 'Analyst Programmer', 'Director of Sales', 'Programmer IV', 'Biostatistician I', 'Executive Secretary', 'Project Manager', 'Nurse Practicioner', 'Marketing Manager', 'Biostatistician I', 'Recruiting Manager', 'Assistant Professor', 'Physical Therapy Assistant', 'VP Quality Control', 'Cost Accountant', 'Internal Auditor', 'Analog Circuit Design manager', 'Electrical Engineer', 'Sales Associate', 'Technical Writer', 'Assistant Media Planner', 'Assistant Professor', 'Cost Accountant', 'Nuclear Power Engineer', 'Financial Analyst', 'General Manager', 'Senior Sales Associate', 'Analog Circuit Design manager', 'Executive Secretary', 'Legal Assistant', 'Associate Professor', 'Chief Design Engineer', 'Paralegal', 'Assistant Professor', 'Compensation Analyst', 'Nurse Practicioner', 'Speech Pathologist', 'Project Manager', 'Assistant Professor', 'Speech Pathologist', 'Nuclear Power Engineer', 'Junior Executive', 'Analog Circuit Design manager', 'Geologist III', 'Librarian', 'Financial Advisor', 'Assistant Professor', 'VP Sales', 'Nuclear Power Engineer', 'Occupational Therapist', 'Human Resources Manager', 'Operator', 'Software Test Engineer III', 'Account Representative I', 'GIS Technical Architect', 'Senior Financial Analyst', 'Social Worker', 'Associate Professor', 'Registered Nurse', 'Assistant Media Planner', 'VP Quality Control', 'Health Coach IV', 'Budget/Accounting Analyst IV', 'Product Engineer', 'Safety Technician I', 'Business Systems Development Analyst', 'Sales Associate', 'Assistant Media Planner', 'Business Systems Development Analyst', 'Research Nurse', 'VP Sales', 'Office Assistant I', 'Assistant Media Planner', 'Executive Secretary', 'Account Representative I', 'Administrative Officer', 'Media Manager III', 'Project Manager', 'Computer Systems Analyst I', 'Assistant Manager', 'GIS Technical Architect', 'Business Systems Development Analyst', 'Software Engineer III', 'VP Sales', 'Environmental Specialist', 'Safety Technician IV', 'Internal Auditor', 'Software Engineer I', 'Community Outreach Specialist', 'Senior Developer', 'Recruiting Manager', 'Pharmacist', 'Community Outreach Specialist', 'Quality Control Specialist', 'Social Worker', 'Health Coach II', 'Registered Nurse', 'Design Engineer', 'Assistant Manager', 'Information Systems Manager', 'Safety Technician II', 'Product Engineer', 'Dental Hygienist', 'Social Worker', 'Human Resources Assistant III', 'Database Administrator IV', 'Software Consultant', 'Marketing Assistant', 'Senior Developer', 'Engineer IV', 'Senior Cost Accountant', 'Tax Accountant', 'Community Outreach Specialist', 'Programmer IV', 'Tax Accountant', 'Chemical Engineer', 'Sales Representative', 'Senior Cost Accountant', 'Human Resources Manager', 'Payment Adjustment Coordinator', 'Sales Representative', 'Media Manager II', 'Administrative Officer', 'Dental Hygienist', 'GIS Technical Architect', 'Desktop Support Technician', 'Clinical Specialist', 'Graphic Designer', 'Accountant II', 'Cost Accountant', 'Computer Systems Analyst II', 'Nurse Practicioner', 'Business Systems Development Analyst', 'Compensation Analyst', 'Engineer IV', 'Paralegal', 'Web Developer I', 'Research Assistant II', 'Human Resources Manager', 'Environmental Tech', 'Staff Scientist', 'Technical Writer', 'Office Assistant III', 'Software Engineer II', 'Assistant Manager', 'Analog Circuit Design manager', 'Operator', 'Recruiter', 'Community Outreach Specialist', 'Chemical Engineer', 'Accountant I', 'Compensation Analyst', 'Account Representative III', 'Research Nurse', 'General Manager', 'Business Systems Development Analyst', 'Technical Writer', 'Staff Scientist', 'Analog Circuit Design manager', 'Administrative Officer', 'Web Designer IV', 'Associate Professor', 'Business Systems Development Analyst', 'Legal Assistant', 'Senior Developer', 'General Manager', 'Physical Therapy Assistant', 'Engineer II', 'Legal Assistant', 'Occupational Therapist', 'Cost Accountant', 'Programmer Analyst III', 'Speech Pathologist', 'Legal Assistant', 'Account Coordinator', 'Operator', 'General Manager', 'Health Coach II', 'Executive Secretary', 'Human Resources Manager', 'Accountant IV', 'VP Accounting', 'Office Assistant IV', 'Civil Engineer', 'VP Sales', 'Product Engineer', 'Recruiter', 'Paralegal', 'Chief Design Engineer', 'Automation Specialist I', 'Senior Cost Accountant', 'Account Executive', 'Assistant Media Planner', 'Chemical Engineer', 'VP Quality Control', 'Professor', 'Information Systems Manager', 'Safety Technician III', 'Legal Assistant', 'Graphic Designer', 'Mechanical Systems Engineer', 'Staff Scientist', 'Accountant IV', 'Biostatistician I', 'Social Worker', 'Web Developer III', 'Operator', 'Payment Adjustment Coordinator', 'Statistician IV', 'Mechanical Systems Engineer', 'Biostatistician II', 'Staff Accountant IV', 'Associate Professor', 'Actuary', 'Dental Hygienist', 'Recruiter', 'Geological Engineer', 'Assistant Manager', 'Safety Technician II', 'Business Systems Development Analyst', 'Legal Assistant', 'Accounting Assistant III', 'Automation Specialist II', 'Community Outreach Specialist', 'Associate Professor', 'Internal Auditor', 'Nuclear Power Engineer', 'Cost Accountant', 'Occupational Therapist', 'Clinical Specialist', 'Data Coordiator', 'Dental Hygienist', 'Account Executive', 'Social Worker', 'Statistician IV', 'Research Nurse', 'Geological Engineer', 'Analog Circuit Design manager', 'VP Product Management', 'Sales Representative', 'Quality Control Specialist', 'Staff Scientist', 'Marketing Manager', 'Web Designer III', 'Paralegal', 'Paralegal', 'Legal Assistant', 'Associate Professor', 'Electrical Engineer', 'Chief Design Engineer', 'Programmer Analyst III', 'Paralegal', 'Project Manager', 'Human Resources Assistant IV', 'Tax Accountant', 'Sales Associate', 'Senior Developer', 'Compensation Analyst', 'Desktop Support Technician', 'Office Assistant I', 'VP Quality Control', 'Mechanical Systems Engineer', 'Media Manager IV', 'Environmental Specialist', 'Human Resources Assistant II', 'Business Systems Development Analyst', 'Social Worker', 'Web Designer IV', 'Assistant Manager', 'Payment Adjustment Coordinator', 'Nurse Practicioner', 'Account Coordinator', 'Computer Systems Analyst I', 'Research Associate', 'Operator', 'Physical Therapy Assistant', 'Database Administrator IV', 'VP Quality Control', 'Assistant Media Planner', 'Business Systems Development Analyst', 'Senior Editor', 'Junior Executive', 'Civil Engineer', 'Senior Financial Analyst', 'Senior Quality Engineer', 'Actuary', 'Environmental Specialist', 'Director of Sales', 'Payment Adjustment Coordinator', 'Web Designer IV', 'Physical Therapy Assistant', 'Tax Accountant', 'Engineer IV', 'Environmental Specialist', 'Media Manager III', 'Product Engineer', 'Environmental Tech', 'Assistant Professor', 'Office Assistant IV', 'GIS Technical Architect', 'Media Manager III', 'Account Executive', 'Financial Advisor', 'VP Marketing', 'Civil Engineer', 'Junior Executive', 'Automation Specialist II', 'Analog Circuit Design manager', 'Software Engineer III', 'General Manager', 'Database Administrator III', 'Physical Therapy Assistant', 'Information Systems Manager', 'Web Developer III', 'Research Assistant IV', 'Internal Auditor', 'Senior Editor', 'Database Administrator III', 'Automation Specialist III', 'Chief Design Engineer', 'Social Worker', 'Sales Representative', 'Executive Secretary', 'Payment Adjustment Coordinator', 'Tax Accountant', 'Safety Technician II', 'Business Systems Development Analyst', 'Assistant Manager', 'Executive Secretary', 'Staff Scientist', 'Chief Design Engineer', 'Budget/Accounting Analyst IV', 'General Manager', 'Media Manager I', 'Systems Administrator I', 'Graphic Designer', 'Senior Cost Accountant', 'Structural Engineer', 'Programmer Analyst II', 'Analog Circuit Design manager', 'Safety Technician II', 'GIS Technical Architect', 'Cost Accountant', 'Human Resources Assistant I', 'Engineer IV', 'Professor', 'Senior Editor', 'Sales Representative', 'Quality Control Specialist', 'Research Associate', 'Product Engineer', 'Business Systems Development Analyst', 'Clinical Specialist', 'Account Representative III', 'General Manager', 'GIS Technical Architect', 'Administrative Officer', 'Chief Design Engineer', 'Payment Adjustment Coordinator', 'General Manager', 'Computer Systems Analyst IV', 'Legal Assistant', 'Computer Systems Analyst I', 'VP Product Management', 'Staff Scientist', 'General Manager', 'Administrative Assistant III', 'Clinical Specialist', 'Administrative Officer', 'Chief Design Engineer', 'Recruiter', 'Assistant Media Planner', 'Account Executive', 'Engineer III', 'Assistant Manager', 'Staff Accountant II', 'Web Designer I', 'Automation Specialist IV', 'Director of Sales', 'Human Resources Assistant III', 'Quality Engineer', 'Product Engineer', 'VP Quality Control', 'Systems Administrator II', 'Executive Secretary', 'Associate Professor', 'Compensation Analyst', 'Structural Engineer', 'Senior Developer', 'Compensation Analyst', 'Analyst Programmer', 'Cost Accountant', 'Senior Sales Associate', 'VP Marketing', 'Civil Engineer', 'Administrative Officer', 'Account Executive', 'Structural Analysis Engineer', 'Actuary', 'Nuclear Power Engineer', 'Software Test Engineer I', 'Financial Analyst', 'Account Representative I', 'Research Nurse', 'Database Administrator IV', 'Food Chemist', 'Technical Writer', 'Account Representative III', 'Software Test Engineer II', 'VP Product Management', 'Editor', 'Research Assistant IV', 'Programmer Analyst III', 'Physical Therapy Assistant', 'Help Desk Technician', 'Recruiter', 'GIS Technical Architect', 'Software Consultant', 'Computer Systems Analyst II', 'Pharmacist', 'Director of Sales', 'Analog Circuit Design manager', 'Accounting Assistant II', 'Human Resources Assistant IV', 'Software Test Engineer II', 'Staff Accountant I', 'Safety Technician II', 'Design Engineer', 'Engineer I', 'Developer III', 'Quality Engineer', 'General Manager', 'VP Accounting', 'Electrical Engineer', 'Engineer IV', 'Engineer III', 'Technical Writer', 'Librarian', 'Technical Writer', 'Research Associate', 'Data Coordiator', 'Analyst Programmer', 'Research Associate', 'Sales Associate', 'Accounting Assistant I', 'Food Chemist', 'Speech Pathologist', 'Computer Systems Analyst IV', 'Business Systems Development Analyst', 'Financial Analyst', 'Systems Administrator III', 'Structural Engineer', 'General Manager', 'VP Marketing', 'Programmer II', 'Tax Accountant', 'Technical Writer', 'Environmental Specialist', 'Research Assistant I', 'Product Engineer', 'VP Accounting', 'Sales Associate', 'Tax Accountant', 'Statistician II', 'Senior Financial Analyst', 'GIS Technical Architect', 'Project Manager', 'Business Systems Development Analyst', 'Cost Accountant', 'Tax Accountant', 'Desktop Support Technician', 'Physical Therapy Assistant', 'Office Assistant IV', 'VP Accounting', 'Software Consultant', 'Quality Engineer', 'Social Worker', 'Systems Administrator IV', 'Information Systems Manager', 'Financial Advisor', 'Computer Systems Analyst II', 'Professor', 'Registered Nurse', 'Automation Specialist III', 'GIS Technical Architect', 'Assistant Media Planner', 'Help Desk Operator', 'Chemical Engineer', 'Research Nurse', 'Community Outreach Specialist', 'Junior Executive', 'Computer Systems Analyst II', 'Account Coordinator', 'Senior Editor', 'VP Marketing', 'Project Manager', 'Technical Writer', 'Senior Sales Associate', 'Legal Assistant', 'Research Associate', 'Technical Writer', 'Nurse Practicioner', 'Database Administrator I', 'Structural Engineer', 'Software Consultant', 'VP Quality Control', 'Safety Technician III', 'Sales Associate', 'Marketing Manager', 'Product Engineer', 'Web Designer III', 'Administrative Officer', 'Web Developer III', 'Actuary', 'Environmental Specialist', 'Registered Nurse', 'Compensation Analyst', 'Staff Accountant III', 'Chemical Engineer', 'Marketing Assistant', 'VP Quality Control', 'Associate Professor', 'Nurse Practicioner', 'Recruiting Manager', 'Quality Engineer', 'VP Marketing', 'Analog Circuit Design manager', 'Assistant Manager', 'Director of Sales', 'Senior Developer', 'Quality Control Specialist', 'Systems Administrator IV', 'Clinical Specialist', 'Senior Sales Associate', 'Information Systems Manager', 'Account Representative II', 'Business Systems Development Analyst', 'Analyst Programmer', 'Speech Pathologist', 'Help Desk Operator', 'VP Product Management', 'Business Systems Development Analyst', 'Civil Engineer', 'Research Assistant I', 'Account Representative IV', 'Programmer III', 'Editor', 'Administrative Assistant IV', 'Operator', 'Senior Sales Associate', 'Financial Advisor', 'Business Systems Development Analyst', 'Web Designer I', 'Physical Therapy Assistant', 'Pharmacist', 'Pharmacist', 'Safety Technician II', 'Food Chemist', 'VP Accounting', 'Internal Auditor', 'Environmental Specialist', 'Staff Scientist', 'Accounting Assistant IV', 'Biostatistician I', 'Software Consultant', 'Research Nurse', 'Research Associate', 'Cost Accountant', 'Design Engineer', 'Editor', 'General Manager', 'Senior Cost Accountant', 'Internal Auditor', 'Structural Analysis Engineer', 'Staff Scientist', 'Marketing Manager', 'Media Manager I', 'Associate Professor', 'Technical Writer', 'Professor', 'Graphic Designer', 'Marketing Manager', 'Financial Analyst', 'Food Chemist', 'Help Desk Technician', 'Developer II', 'GIS Technical Architect', 'Senior Financial Analyst', 'Sales Representative', 'Environmental Tech', 'Pharmacist', 'Internal Auditor', 'Graphic Designer', 'GIS Technical Architect', 'Programmer Analyst II', 'Senior Developer', 'Assistant Media Planner', 'Structural Analysis Engineer', 'Help Desk Operator', 'Recruiting Manager', 'Programmer Analyst IV', 'Structural Engineer', 'Social Worker', 'Senior Editor', 'Senior Sales Associate', 'Sales Representative', 'Accounting Assistant I', 'Clinical Specialist', 'Administrative Assistant I', 'Account Coordinator', 'Staff Scientist', 'Staff Accountant IV', 'Software Test Engineer III', 'Occupational Therapist', 'Media Manager II', 'Assistant Professor', 'Registered Nurse', 'Web Developer III', 'Computer Systems Analyst II', 'Accountant III', 'Junior Executive', 'Legal Assistant', 'Marketing Assistant', 'Software Consultant', 'Executive Secretary', 'Analog Circuit Design manager', 'Computer Systems Analyst III', 'Physical Therapy Assistant', 'Staff Accountant II', 'Junior Executive', 'Account Coordinator', 'Sales Representative', 'VP Quality Control', 'Internal Auditor', 'Graphic Designer', 'Clinical Specialist', 'Nurse Practicioner', 'Marketing Manager', 'Graphic Designer', 'Statistician II', 'Budget/Accounting Analyst II', 'Environmental Specialist', 'Safety Technician II', 'Product Engineer', 'Structural Analysis Engineer', 'Statistician IV', 'Administrative Assistant IV', 'Computer Systems Analyst II', 'Developer IV', 'Compensation Analyst', 'Senior Quality Engineer', 'Cost Accountant', 'VP Marketing', 'Senior Cost Accountant', 'Financial Advisor', 'Editor', 'Tax Accountant', 'Project Manager', 'Biostatistician III', 'Speech Pathologist', 'VP Marketing', 'Director of Sales', 'Associate Professor', 'Food Chemist', 'Staff Scientist', 'Civil Engineer', 'Technical Writer', 'Physical Therapy Assistant', 'Structural Analysis Engineer', 'Social Worker', 'Marketing Manager', 'Paralegal', 'Office Assistant II', 'Office Assistant I', 'Human Resources Assistant I', 'Environmental Specialist', 'Electrical Engineer', 'VP Sales', 'Administrative Assistant IV', 'Research Associate', 'Community Outreach Specialist', 'Information Systems Manager', 'Software Test Engineer I', 'Dental Hygienist', 'Statistician II', 'Graphic Designer', 'Desktop Support Technician', 'Design Engineer', 'Programmer Analyst III', 'Tax Accountant', 'Analog Circuit Design manager', 'Health Coach I', 'Senior Financial Analyst', 'Engineer IV', 'Developer II', 'Accountant I', 'Community Outreach Specialist', 'GIS Technical Architect', 'Chief Design Engineer', 'Food Chemist', 'Human Resources Manager', 'Software Engineer III', 'General Manager', 'Chemical Engineer', 'Environmental Tech', 'Business Systems Development Analyst', 'Account Coordinator', 'Senior Financial Analyst', 'Recruiting Manager', 'Geological Engineer', 'Recruiting Manager', 'Associate Professor', 'Physical Therapy Assistant', 'Biostatistician IV', 'Health Coach III', 'Assistant Professor', 'Senior Editor', 'Cost Accountant', 'GIS Technical Architect', 'Physical Therapy Assistant', 'Associate Professor', 'Recruiting Manager', 'VP Sales', 'Computer Systems Analyst I', 'Senior Financial Analyst', 'Geologist IV', 'Sales Representative', 'Senior Quality Engineer', 'Accountant II', 'Research Assistant II', 'GIS Technical Architect', 'Assistant Professor', 'Technical Writer', 'Financial Analyst', 'Junior Executive', 'Chief Design Engineer', 'Research Associate', 'Help Desk Technician', 'Senior Quality Engineer', 'Senior Developer', 'Design Engineer', 'Professor', 'Environmental Tech', 'Dental Hygienist', 'Editor', 'Tax Accountant', 'Dental Hygienist', 'Developer II', 'Web Developer IV', 'Staff Scientist', 'Chemical Engineer', 'Environmental Specialist', 'Administrative Assistant I', 'Office Assistant II', 'Chief Design Engineer', 'Information Systems Manager', 'Recruiting Manager', 'Programmer IV', 'Biostatistician II', 'Quality Control Specialist', 'Cost Accountant', 'Automation Specialist IV', 'Desktop Support Technician', 'Web Developer IV', 'Senior Financial Analyst', 'Desktop Support Technician', 'Legal Assistant', 'Electrical Engineer', 'Physical Therapy Assistant', 'Accountant I', 'Statistician I', 'Recruiter', 'Cost Accountant', 'Dental Hygienist', 'Desktop Support Technician', 'Graphic Designer', 'Environmental Specialist', 'Compensation Analyst', 'Compensation Analyst', 'Systems Administrator IV', 'Systems Administrator III', 'Environmental Specialist', 'Civil Engineer', 'Senior Editor', 'Quality Control Specialist', 'VP Marketing', 'Engineer IV', 'Systems Administrator III', 'Paralegal', 'Occupational Therapist', 'Tax Accountant', 'Environmental Tech', 'Research Nurse', 'Chief Design Engineer', 'Dental Hygienist', 'Software Test Engineer II', 'Analyst Programmer', 'Recruiting Manager', 'VP Quality Control', 'Food Chemist', 'VP Product Management', 'Media Manager IV', 'VP Product Management', 'Librarian', 'Safety Technician I', 'VP Product Management', 'Sales Representative', 'Staff Accountant I', 'Business Systems Development Analyst', 'VP Marketing', 'Budget/Accounting Analyst II', 'Recruiting Manager', 'Dental Hygienist', 'Account Coordinator', 'Sales Representative', 'Librarian', 'Safety Technician III', 'Account Coordinator', 'Compensation Analyst', 'Project Manager', 'Electrical Engineer', 'Professor', 'Sales Associate', 'Account Executive', 'Desktop Support Technician', 'Staff Accountant II', 'Senior Financial Analyst', 'Legal Assistant', 'Geologist III', 'Analyst Programmer', 'Structural Engineer', 'Database Administrator III', 'Accountant III', 'Senior Sales Associate', 'Help Desk Operator', 'Accounting Assistant IV', 'VP Quality Control', 'General Manager', 'Accounting Assistant III', 'Structural Engineer', 'Librarian', 'Software Consultant', 'Mechanical Systems Engineer', 'Junior Executive', 'Structural Engineer', 'Quality Control Specialist', 'Help Desk Technician', 'Structural Engineer', 'Geologist II', 'Social Worker', 'Analog Circuit Design manager', 'Social Worker', 'Recruiting Manager', 'Sales Representative', 'Compensation Analyst', 'Actuary', 'Electrical Engineer', 'Internal Auditor', 'Account Coordinator', 'Programmer III', 'Payment Adjustment Coordinator', 'Web Designer I', 'Human Resources Assistant III', 'Legal Assistant', 'Web Designer II', 'Actuary', 'Recruiting Manager', 'Computer Systems Analyst IV', 'Programmer Analyst I', 'General Manager', 'Physical Therapy Assistant', 'Staff Accountant II', 'Staff Scientist', 'Health Coach II', 'Business Systems Development Analyst', 'Tax Accountant', 'Junior Executive', 'Registered Nurse', 'Research Associate', 'GIS Technical Architect', 'Marketing Manager', 'Payment Adjustment Coordinator', 'Research Assistant III', 'Sales Representative', 'Product Engineer', 'Cost Accountant', 'Technical Writer', 'Junior Executive', 'VP Sales', 'Recruiting Manager', 'Social Worker', 'Community Outreach Specialist', 'Assistant Manager', 'Statistician I', 'Chemical Engineer', 'Junior Executive', 'Cost Accountant', 'Environmental Specialist', 'Mechanical Systems Engineer', 'Tax Accountant', 'Product Engineer', 'Editor', 'Statistician I', 'Account Executive', 'Electrical Engineer', 'Senior Editor', 'Sales Associate', 'Paralegal', 'Tax Accountant', 'Account Executive', 'Sales Representative', 'Technical Writer', 'Administrative Officer', 'VP Accounting', 'Engineer III', 'GIS Technical Architect', 'Occupational Therapist', 'Web Designer IV', 'Senior Financial Analyst', 'Quality Control Specialist', 'Help Desk Operator', 'Human Resources Assistant III', 'Geologist II', 'Administrative Assistant III', 'Business Systems Development Analyst', 'Actuary', 'Recruiter', 'Project Manager', 'Software Test Engineer II', 'Sales Associate', 'Speech Pathologist', 'Geologist I', 'Senior Editor', 'Accountant II', 'Sales Representative', 'Desktop Support Technician', 'Editor', 'Technical Writer', 'Administrative Assistant I', 'Internal Auditor', 'Biostatistician II', 'Developer II', 'Web Designer I', 'Quality Control Specialist', 'General Manager', 'Graphic Designer', 'Librarian', 'Web Developer IV', 'Social Worker', 'Automation Specialist IV', 'Environmental Specialist', 'Desktop Support Technician', 'Chief Design Engineer', 'Database Administrator IV', 'Librarian', 'Structural Analysis Engineer', 'Staff Scientist', 'VP Product Management', 'Statistician II', 'Assistant Manager', 'Software Engineer IV']\n",
            "\n",
            "Job Titles with Special Characters:\n",
            "['Executive Secretary', 'Administrative Officer', 'Recruiting Manager', 'Senior Editor', 'Media Manager I', 'Business Systems Development Analyst', 'Senior Quality Engineer', 'Nuclear Power Engineer', 'Developer I', 'Account Executive', 'Junior Executive', 'Media Manager IV', 'Sales Associate', 'Geological Engineer', 'Project Manager', 'Safety Technician I', 'Research Assistant I', 'Accounting Assistant III', 'Research Nurse', 'Senior Quality Engineer', 'Safety Technician III', 'Staff Accountant III', 'Legal Assistant', 'Product Engineer', 'Legal Assistant', 'Information Systems Manager', 'VP Quality Control', 'Social Worker', 'Senior Cost Accountant', 'Assistant Media Planner', 'Payment Adjustment Coordinator', 'Food Chemist', 'Accountant III', 'Director of Sales', 'Assistant Media Planner', 'Senior Financial Analyst', 'Registered Nurse', 'Biostatistician II', 'VP Quality Control', 'Account Executive', 'Computer Systems Analyst II', 'Software Test Engineer II', 'Sales Associate', 'VP Sales', 'Chief Design Engineer', 'Office Assistant III', 'Physical Therapy Assistant', 'Help Desk Operator', 'Senior Quality Engineer', 'Legal Assistant', 'Information Systems Manager', 'Account Executive', 'Web Developer II', 'Information Systems Manager', 'Web Developer II', 'Research Associate', 'Administrative Officer', 'VP Product Management', 'Statistician II', 'Automation Specialist IV', 'Business Systems Development Analyst', 'Account Executive', 'Data Coordiator', 'Software Test Engineer III', 'Internal Auditor', 'Accountant III', 'Analyst Programmer', 'Occupational Therapist', 'Help Desk Operator', 'Speech Pathologist', 'Quality Control Specialist', 'Senior Financial Analyst', 'Recruiting Manager', 'Project Manager', 'Civil Engineer', 'Software Engineer III', 'Nuclear Power Engineer', 'Community Outreach Specialist', 'Safety Technician IV', 'VP Accounting', 'General Manager', 'Nurse Practicioner', 'Quality Control Specialist', 'Product Engineer', 'Automation Specialist II', 'Recruiting Manager', 'Software Test Engineer III', 'Nurse Practicioner', 'Marketing Assistant', 'Analyst Programmer', 'Marketing Manager', 'Staff Scientist', 'Account Executive', 'Assistant Professor', 'Marketing Manager', 'Budget/Accounting Analyst IV', 'Associate Professor', 'Legal Assistant', 'Graphic Designer', 'Quality Control Specialist', 'Analyst Programmer', 'Administrative Assistant II', 'Computer Systems Analyst II', 'Administrative Officer', 'Compensation Analyst', 'Systems Administrator III', 'Financial Advisor', 'Chemical Engineer', 'Administrative Officer', 'Web Designer I', 'VP Accounting', 'Legal Assistant', 'Internal Auditor', 'Senior Developer', 'Office Assistant II', 'Programmer Analyst III', 'Quality Engineer', 'Environmental Tech', 'Account Executive', 'Quality Control Specialist', 'Analog Circuit Design manager', 'Programmer Analyst III', 'Research Nurse', 'Cost Accountant', 'Marketing Manager', 'Compensation Analyst', 'Assistant Media Planner', 'Junior Executive', 'Quality Engineer', 'Cost Accountant', 'Financial Advisor', 'Internal Auditor', 'Research Nurse', 'Registered Nurse', 'Nurse Practicioner', 'Senior Editor', 'Administrative Officer', 'Structural Analysis Engineer', 'General Manager', 'Data Coordiator', 'Assistant Manager', 'General Manager', 'Food Chemist', 'Quality Engineer', 'Accountant I', 'Environmental Tech', 'Web Designer III', 'Senior Editor', 'Sales Associate', 'Geologist III', 'Marketing Manager', 'Software Test Engineer I', 'Structural Engineer', 'Safety Technician II', 'Safety Technician I', 'Registered Nurse', 'Help Desk Operator', 'Junior Executive', 'Recruiting Manager', 'Web Developer III', 'Project Manager', 'Programmer Analyst II', 'Assistant Media Planner', 'Junior Executive', 'Physical Therapy Assistant', 'Design Engineer', 'Senior Quality Engineer', 'Administrative Assistant II', 'Statistician I', 'Office Assistant III', 'Analog Circuit Design manager', 'Assistant Manager', 'VP Marketing', 'Desktop Support Technician', 'Food Chemist', 'Assistant Professor', 'Quality Engineer', 'Administrative Officer', 'Database Administrator III', 'Electrical Engineer', 'Tax Accountant', 'Clinical Specialist', 'VP Sales', 'Compensation Analyst', 'Database Administrator IV', 'Accountant I', 'Systems Administrator II', 'Internal Auditor', 'Design Engineer', 'Environmental Tech', 'Chief Design Engineer', 'Social Worker', 'Research Nurse', 'Account Coordinator', 'Programmer III', 'Registered Nurse', 'Administrative Assistant III', 'Quality Engineer', 'Associate Professor', 'Technical Writer', 'Staff Accountant II', 'Clinical Specialist', 'Quality Control Specialist', 'Legal Assistant', 'VP Sales', 'Account Coordinator', 'Food Chemist', 'Information Systems Manager', 'Desktop Support Technician', 'Director of Sales', 'Sales Associate', 'Administrative Officer', 'Senior Developer', 'Senior Quality Engineer', 'Structural Engineer', 'Dental Hygienist', 'Technical Writer', 'Sales Representative', 'Account Executive', 'Chemical Engineer', 'Nurse Practicioner', 'Budget/Accounting Analyst III', 'Financial Advisor', 'Product Engineer', 'Computer Systems Analyst IV', 'Social Worker', 'VP Sales', 'VP Product Management', 'Executive Secretary', 'Web Designer I', 'Geologist I', 'Cost Accountant', 'VP Quality Control', 'Assistant Manager', 'Financial Analyst', 'Community Outreach Specialist', 'Accounting Assistant II', 'Nuclear Power Engineer', 'Clinical Specialist', 'Senior Sales Associate', 'Assistant Media Planner', 'VP Product Management', 'Administrative Assistant III', 'Recruiting Manager', 'Database Administrator II', 'Electrical Engineer', 'Engineer I', 'Budget/Accounting Analyst I', 'Clinical Specialist', 'Developer IV', 'Assistant Professor', 'VP Marketing', 'Financial Analyst', 'Registered Nurse', 'Clinical Specialist', 'Database Administrator I', 'Clinical Specialist', 'Account Coordinator', 'Internal Auditor', 'Desktop Support Technician', 'Marketing Assistant', 'Chief Design Engineer', 'Environmental Specialist', 'Automation Specialist II', 'Programmer III', 'Registered Nurse', 'Marketing Manager', 'Research Associate', 'Senior Developer', 'Computer Systems Analyst I', 'Computer Systems Analyst I', 'Help Desk Operator', 'Design Engineer', 'Senior Developer', 'Account Representative IV', 'Recruiting Manager', 'Desktop Support Technician', 'Registered Nurse', 'Sales Associate', 'Financial Advisor', 'Senior Editor', 'Statistician IV', 'Human Resources Manager', 'GIS Technical Architect', 'Programmer IV', 'Senior Sales Associate', 'Financial Analyst', 'Marketing Manager', 'Assistant Professor', 'Computer Systems Analyst IV', 'Clinical Specialist', 'Sales Representative', 'Information Systems Manager', 'Legal Assistant', 'Database Administrator II', 'Director of Sales', 'Accounting Assistant IV', 'Legal Assistant', 'Staff Scientist', 'Software Engineer IV', 'Software Engineer IV', 'Project Manager', 'Database Administrator III', 'VP Quality Control', 'Programmer II', 'Systems Administrator III', 'Graphic Designer', 'Structural Analysis Engineer', 'Senior Financial Analyst', 'Automation Specialist II', 'Financial Advisor', 'Staff Scientist', 'Senior Developer', 'Structural Engineer', 'Sales Associate', 'Research Nurse', 'Nurse Practicioner', 'Project Manager', 'Senior Quality Engineer', 'Administrative Officer', 'Help Desk Operator', 'Programmer Analyst II', 'Safety Technician I', 'Associate Professor', 'Legal Assistant', 'Data Coordiator', 'Systems Administrator III', 'Engineer III', 'Financial Analyst', 'Assistant Professor', 'Desktop Support Technician', 'Graphic Designer', 'Geologist I', 'Financial Analyst', 'Structural Analysis Engineer', 'Senior Financial Analyst', 'Executive Secretary', 'Structural Engineer', 'Director of Sales', 'VP Quality Control', 'Social Worker', 'Senior Financial Analyst', 'Software Consultant', 'Biostatistician IV', 'VP Marketing', 'Help Desk Operator', 'Sales Representative', 'Senior Quality Engineer', 'Research Nurse', 'Sales Representative', 'Nuclear Power Engineer', 'Assistant Media Planner', 'Structural Engineer', 'Community Outreach Specialist', 'Research Nurse', 'Nuclear Power Engineer', 'Statistician II', 'GIS Technical Architect', 'Internal Auditor', 'Systems Administrator III', 'Internal Auditor', 'GIS Technical Architect', 'Business Systems Development Analyst', 'Analyst Programmer', 'Staff Scientist', 'Executive Secretary', 'Tax Accountant', 'Help Desk Technician', 'Software Engineer III', 'VP Product Management', 'Structural Analysis Engineer', 'Quality Control Specialist', 'Account Coordinator', 'Assistant Professor', 'Research Nurse', 'Civil Engineer', 'Automation Specialist I', 'Recruiting Manager', 'Account Representative IV', 'Civil Engineer', 'Electrical Engineer', 'Social Worker', 'Senior Cost Accountant', 'Developer III', 'Human Resources Assistant I', 'Software Test Engineer I', 'Internal Auditor', 'GIS Technical Architect', 'Internal Auditor', 'Junior Executive', 'Geologist IV', 'Nuclear Power Engineer', 'Computer Systems Analyst IV', 'Media Manager II', 'Chief Design Engineer', 'Registered Nurse', 'Programmer IV', 'Sales Representative', 'Programmer IV', 'Statistician III', 'Technical Writer', 'Food Chemist', 'Help Desk Operator', 'Senior Editor', 'Environmental Tech', 'Speech Pathologist', 'Environmental Tech', 'Electrical Engineer', 'Design Engineer', 'VP Accounting', 'Engineer II', 'VP Sales', 'Budget/Accounting Analyst III', 'Recruiting Manager', 'Environmental Specialist', 'Dental Hygienist', 'Environmental Tech', 'Health Coach II', 'Project Manager', 'Developer II', 'Dental Hygienist', 'VP Accounting', 'Tax Accountant', 'Associate Professor', 'Help Desk Operator', 'Environmental Tech', 'Chief Design Engineer', 'Database Administrator IV', 'VP Quality Control', 'Help Desk Operator', 'Senior Financial Analyst', 'Chemical Engineer', 'Social Worker', 'VP Quality Control', 'Registered Nurse', 'Senior Cost Accountant', 'Community Outreach Specialist', 'Database Administrator III', 'Systems Administrator I', 'Recruiting Manager', 'Structural Engineer', 'Chemical Engineer', 'Chemical Engineer', 'Accountant III', 'Account Coordinator', 'Structural Engineer', 'Project Manager', 'Information Systems Manager', 'Sales Associate', 'Human Resources Manager', 'Structural Engineer', 'Geological Engineer', 'Senior Sales Associate', 'Graphic Designer', 'Junior Executive', 'Junior Executive', 'Programmer Analyst III', 'Payment Adjustment Coordinator', 'Social Worker', 'Tax Accountant', 'Marketing Assistant', 'Accounting Assistant II', 'Civil Engineer', 'Systems Administrator I', 'VP Sales', 'Analog Circuit Design manager', 'VP Product Management', 'Assistant Media Planner', 'Clinical Specialist', 'General Manager', 'Senior Cost Accountant', 'VP Accounting', 'Web Developer I', 'Software Engineer II', 'Compensation Analyst', 'Computer Systems Analyst IV', 'Staff Scientist', 'Registered Nurse', 'Tax Accountant', 'Chief Design Engineer', 'Registered Nurse', 'Assistant Media Planner', 'Compensation Analyst', 'Assistant Professor', 'Business Systems Development Analyst', 'VP Sales', 'Structural Analysis Engineer', 'Office Assistant II', 'VP Marketing', 'Financial Advisor', 'Senior Financial Analyst', 'Senior Quality Engineer', 'Office Assistant II', 'Marketing Assistant', 'Help Desk Operator', 'Electrical Engineer', 'Chemical Engineer', 'Dental Hygienist', 'Accounting Assistant I', 'Computer Systems Analyst II', 'Help Desk Technician', 'Help Desk Technician', 'GIS Technical Architect', 'Analyst Programmer', 'Human Resources Assistant I', 'Director of Sales', 'Electrical Engineer', 'Speech Pathologist', 'Financial Analyst', 'Systems Administrator III', 'Health Coach II', 'Research Assistant II', 'Assistant Media Planner', 'Geological Engineer', 'Chemical Engineer', 'Statistician III', 'Computer Systems Analyst I', 'General Manager', 'Speech Pathologist', 'Programmer Analyst IV', 'Systems Administrator II', 'Health Coach I', 'Nuclear Power Engineer', 'Accounting Assistant I', 'Automation Specialist IV', 'Assistant Media Planner', 'Administrative Officer', 'Analyst Programmer', 'Human Resources Manager', 'Assistant Manager', 'Accountant II', 'Legal Assistant', 'Assistant Manager', 'Tax Accountant', 'Staff Scientist', 'Graphic Designer', 'Administrative Officer', 'General Manager', 'Automation Specialist III', 'Safety Technician II', 'Tax Accountant', 'Geological Engineer', 'Sales Associate', 'Chemical Engineer', 'VP Sales', 'Research Nurse', 'Human Resources Assistant I', 'Social Worker', 'Payment Adjustment Coordinator', 'Junior Executive', 'Research Associate', 'Business Systems Development Analyst', 'Analog Circuit Design manager', 'VP Sales', 'Developer II', 'Administrative Assistant I', 'Senior Editor', 'Senior Cost Accountant', 'Accounting Assistant II', 'Registered Nurse', 'VP Product Management', 'Health Coach IV', 'Desktop Support Technician', 'Senior Developer', 'GIS Technical Architect', 'Executive Secretary', 'Junior Executive', 'Senior Developer', 'Assistant Professor', 'Database Administrator IV', 'Media Manager III', 'Engineer II', 'Programmer Analyst II', 'Environmental Specialist', 'Human Resources Manager', 'Account Representative IV', 'Food Chemist', 'Help Desk Technician', 'Research Nurse', 'Quality Engineer', 'Media Manager IV', 'Executive Secretary', 'Safety Technician II', 'Accountant III', 'Sales Representative', 'Help Desk Technician', 'Junior Executive', 'Social Worker', 'VP Product Management', 'Engineer I', 'Administrative Officer', 'Recruiting Manager', 'Account Representative III', 'Marketing Manager', 'Food Chemist', 'Analog Circuit Design manager', 'Design Engineer', 'Information Systems Manager', 'Senior Editor', 'VP Accounting', 'Analog Circuit Design manager', 'Web Designer IV', 'Programmer III', 'Assistant Manager', 'Help Desk Operator', 'Systems Administrator III', 'Senior Editor', 'Senior Developer', 'VP Accounting', 'Graphic Designer', 'Business Systems Development Analyst', 'Database Administrator II', 'VP Marketing', 'Environmental Specialist', 'Analyst Programmer', 'Business Systems Development Analyst', 'Speech Pathologist', 'Food Chemist', 'Senior Financial Analyst', 'Senior Cost Accountant', 'Computer Systems Analyst IV', 'Environmental Tech', 'Clinical Specialist', 'Assistant Professor', 'Media Manager II', 'Environmental Specialist', 'Computer Systems Analyst IV', 'Environmental Tech', 'Budget/Accounting Analyst II', 'Web Developer IV', 'Analog Circuit Design manager', 'Software Consultant', 'Community Outreach Specialist', 'Accounting Assistant IV', 'Financial Analyst', 'Assistant Professor', 'Staff Accountant III', 'Legal Assistant', 'Geological Engineer', 'Information Systems Manager', 'Accounting Assistant III', 'Assistant Professor', 'Social Worker', 'Geological Engineer', 'Senior Editor', 'Structural Engineer', 'Compensation Analyst', 'Environmental Tech', 'Financial Analyst', 'Internal Auditor', 'Programmer I', 'Account Coordinator', 'Geologist IV', 'Financial Analyst', 'Nuclear Power Engineer', 'Technical Writer', 'Electrical Engineer', 'Sales Representative', 'Safety Technician I', 'Social Worker', 'Biostatistician III', 'Software Test Engineer IV', 'Nurse Practicioner', 'Account Representative III', 'Analog Circuit Design manager', 'Product Engineer', 'Chemical Engineer', 'Associate Professor', 'Financial Analyst', 'Sales Associate', 'Internal Auditor', 'Financial Advisor', 'Computer Systems Analyst IV', 'Recruiting Manager', 'Environmental Tech', 'VP Quality Control', 'Research Assistant IV', 'Safety Technician II', 'Environmental Tech', 'Electrical Engineer', 'Internal Auditor', 'Financial Advisor', 'Structural Analysis Engineer', 'VP Sales', 'Marketing Manager', 'Compensation Analyst', 'Developer II', 'Nurse Practicioner', 'Associate Professor', 'Geologist I', 'Chief Design Engineer', 'VP Product Management', 'Clinical Specialist', 'Project Manager', 'Compensation Analyst', 'Media Manager I', 'Marketing Manager', 'General Manager', 'Quality Engineer', 'General Manager', 'Internal Auditor', 'Geologist I', 'Senior Financial Analyst', 'Information Systems Manager', 'Senior Financial Analyst', 'Desktop Support Technician', 'Associate Professor', 'VP Marketing', 'VP Accounting', 'Account Representative I', 'Structural Engineer', 'Occupational Therapist', 'Recruiting Manager', 'Physical Therapy Assistant', 'Accounting Assistant III', 'Environmental Specialist', 'Internal Auditor', 'Information Systems Manager', 'Web Designer IV', 'Statistician IV', 'Accounting Assistant III', 'Accountant IV', 'Sales Representative', 'Dental Hygienist', 'Occupational Therapist', 'Office Assistant II', 'Geologist I', 'Desktop Support Technician', 'VP Sales', 'Account Executive', 'General Manager', 'Business Systems Development Analyst', 'Associate Professor', 'Staff Scientist', 'Database Administrator II', 'Safety Technician II', 'Financial Analyst', 'Sales Associate', 'Biostatistician I', 'Structural Analysis Engineer', 'Sales Representative', 'Chemical Engineer', 'Budget/Accounting Analyst IV', 'VP Product Management', 'Internal Auditor', 'Registered Nurse', 'Software Test Engineer IV', 'Help Desk Technician', 'Senior Financial Analyst', 'Computer Systems Analyst II', 'Accountant IV', 'Cost Accountant', 'Associate Professor', 'Database Administrator III', 'Executive Secretary', 'Design Engineer', 'Graphic Designer', 'Help Desk Operator', 'Human Resources Manager', 'Marketing Manager', 'Speech Pathologist', 'Human Resources Assistant IV', 'Technical Writer', 'Product Engineer', 'Administrative Officer', 'Recruiting Manager', 'Director of Sales', 'Legal Assistant', 'Human Resources Manager', 'Research Associate', 'Recruiting Manager', 'Executive Secretary', 'Assistant Media Planner', 'VP Sales', 'VP Quality Control', 'Research Nurse', 'Nuclear Power Engineer', 'Automation Specialist I', 'Biostatistician IV', 'Staff Scientist', 'GIS Technical Architect', 'Assistant Manager', 'VP Product Management', 'Budget/Accounting Analyst I', 'Assistant Professor', 'Structural Engineer', 'Speech Pathologist', 'Sales Associate', 'Accountant IV', 'Health Coach IV', 'VP Accounting', 'Geologist I', 'Project Manager', 'Data Coordiator', 'Administrative Assistant IV', 'Automation Specialist IV', 'Graphic Designer', 'Staff Accountant III', 'Nurse Practicioner', 'Budget/Accounting Analyst I', 'Registered Nurse', 'Geologist III', 'Programmer I', 'Help Desk Operator', 'Office Assistant I', 'Senior Cost Accountant', 'Director of Sales', 'Project Manager', 'Administrative Officer', 'Financial Analyst', 'Account Coordinator', 'Information Systems Manager', 'Assistant Manager', 'Speech Pathologist', 'Recruiting Manager', 'Compensation Analyst', 'Business Systems Development Analyst', 'Business Systems Development Analyst', 'Design Engineer', 'Quality Control Specialist', 'Research Associate', 'Occupational Therapist', 'Software Test Engineer III', 'Physical Therapy Assistant', 'Senior Developer', 'Web Developer I', 'Legal Assistant', 'Assistant Media Planner', 'Help Desk Operator', 'Human Resources Assistant II', 'Mechanical Systems Engineer', 'Assistant Manager', 'Social Worker', 'Quality Engineer', 'Statistician I', 'Project Manager', 'VP Sales', 'Food Chemist', 'Junior Executive', 'Executive Secretary', 'Human Resources Assistant II', 'Engineer I', 'Food Chemist', 'Nuclear Power Engineer', 'Sales Associate', 'Food Chemist', 'Budget/Accounting Analyst II', 'VP Accounting', 'Internal Auditor', 'Software Consultant', 'Software Consultant', 'Help Desk Technician', 'Junior Executive', 'Nuclear Power Engineer', 'Data Coordiator', 'Software Test Engineer IV', 'Registered Nurse', 'Research Assistant IV', 'Account Representative III', 'Associate Professor', 'Speech Pathologist', 'Junior Executive', 'Quality Engineer', 'Engineer IV', 'Web Designer I', 'Account Representative IV', 'Senior Cost Accountant', 'Associate Professor', 'Accounting Assistant IV', 'Administrative Officer', 'Executive Secretary', 'Nurse Practicioner', 'Speech Pathologist', 'Social Worker', 'Financial Analyst', 'VP Product Management', 'Accounting Assistant I', 'Internal Auditor', 'Statistician IV', 'Financial Analyst', 'Design Engineer', 'Product Engineer', 'Computer Systems Analyst II', 'VP Quality Control', 'Business Systems Development Analyst', 'Dental Hygienist', 'Project Manager', 'Software Test Engineer I', 'Engineer II', 'Administrative Assistant IV', 'Tax Accountant', 'Engineer I', 'Senior Editor', 'Recruiting Manager', 'Financial Advisor', 'Programmer III', 'General Manager', 'Software Consultant', 'Social Worker', 'Dental Hygienist', 'Web Developer II', 'Information Systems Manager', 'Director of Sales', 'Structural Engineer', 'Account Coordinator', 'Assistant Manager', 'Quality Engineer', 'Sales Representative', 'Web Developer IV', 'Registered Nurse', 'Health Coach III', 'Software Test Engineer III', 'Executive Secretary', 'Physical Therapy Assistant', 'Financial Advisor', 'VP Marketing', 'Sales Associate', 'VP Marketing', 'Administrative Assistant IV', 'Software Engineer IV', 'Executive Secretary', 'Business Systems Development Analyst', 'Statistician I', 'Executive Secretary', 'Desktop Support Technician', 'Office Assistant IV', 'Environmental Specialist', 'Assistant Professor', 'Health Coach II', 'Statistician IV', 'Developer III', 'Information Systems Manager', 'VP Product Management', 'Business Systems Development Analyst', 'Desktop Support Technician', 'Research Nurse', 'VP Marketing', 'Marketing Assistant', 'Research Nurse', 'Senior Quality Engineer', 'Speech Pathologist', 'Senior Quality Engineer', 'Marketing Assistant', 'Cost Accountant', 'Food Chemist', 'Administrative Assistant IV', 'Quality Control Specialist', 'Software Test Engineer III', 'Assistant Professor', 'Human Resources Manager', 'Statistician IV', 'Executive Secretary', 'Human Resources Manager', 'Software Engineer IV', 'Food Chemist', 'Media Manager IV', 'Account Representative I', 'Tax Accountant', 'Data Coordiator', 'Media Manager II', 'Social Worker', 'VP Product Management', 'Help Desk Operator', 'Statistician IV', 'Geologist I', 'Assistant Professor', 'Director of Sales', 'VP Quality Control', 'Safety Technician I', 'Junior Executive', 'VP Marketing', 'Research Nurse', 'Sales Representative', 'VP Accounting', 'Sales Representative', 'Technical Writer', 'Senior Developer', 'Business Systems Development Analyst', 'Engineer IV', 'Budget/Accounting Analyst IV', 'Senior Developer', 'Programmer II', 'VP Sales', 'Legal Assistant', 'Accounting Assistant II', 'Internal Auditor', 'VP Quality Control', 'Software Test Engineer I', 'Structural Engineer', 'VP Product Management', 'Account Executive', 'Senior Sales Associate', 'Junior Executive', 'Clinical Specialist', 'Director of Sales', 'Software Engineer I', 'Senior Cost Accountant', 'GIS Technical Architect', 'Social Worker', 'Help Desk Operator', 'Geologist I', 'Dental Hygienist', 'Web Designer IV', 'Research Nurse', 'Graphic Designer', 'Sales Associate', 'Human Resources Assistant III', 'Research Assistant II', 'Financial Analyst', 'Product Engineer', 'Geologist I', 'General Manager', 'Help Desk Technician', 'Desktop Support Technician', 'Recruiting Manager', 'Research Assistant I', 'Graphic Designer', 'Food Chemist', 'Assistant Professor', 'Geological Engineer', 'Assistant Professor', 'Tax Accountant', 'Legal Assistant', 'Technical Writer', 'Biostatistician I', 'Human Resources Manager', 'Safety Technician IV', 'Account Coordinator', 'Accounting Assistant II', 'General Manager', 'Mechanical Systems Engineer', 'General Manager', 'Dental Hygienist', 'Help Desk Technician', 'Staff Accountant I', 'Marketing Assistant', 'Administrative Assistant III', 'Programmer Analyst III', 'Clinical Specialist', 'Junior Executive', 'Office Assistant III', 'Senior Quality Engineer', 'Systems Administrator I', 'Desktop Support Technician', 'VP Marketing', 'Quality Engineer', 'Quality Engineer', 'Social Worker', 'Research Nurse', 'Media Manager IV', 'Physical Therapy Assistant', 'Structural Analysis Engineer', 'Biostatistician I', 'Administrative Assistant III', 'Executive Secretary', 'Occupational Therapist', 'Dental Hygienist', 'Analog Circuit Design manager', 'VP Marketing', 'Geological Engineer', 'VP Accounting', 'Food Chemist', 'Analyst Programmer', 'Clinical Specialist', 'General Manager', 'Senior Developer', 'Data Coordiator', 'Account Executive', 'Web Designer III', 'Account Executive', 'Biostatistician III', 'Director of Sales', 'Budget/Accounting Analyst IV', 'Database Administrator IV', 'Technical Writer', 'Tax Accountant', 'Technical Writer', 'Compensation Analyst', 'Senior Financial Analyst', 'Physical Therapy Assistant', 'Structural Engineer', 'Product Engineer', 'Statistician I', 'Computer Systems Analyst I', 'Dental Hygienist', 'Tax Accountant', 'Senior Sales Associate', 'Administrative Assistant IV', 'Help Desk Operator', 'VP Sales', 'Electrical Engineer', 'Staff Scientist', 'Office Assistant IV', 'Electrical Engineer', 'Clinical Specialist', 'Analyst Programmer', 'VP Quality Control', 'Account Representative I', 'Research Nurse', 'Dental Hygienist', 'Help Desk Technician', 'Design Engineer', 'Account Executive', 'Associate Professor', 'Junior Executive', 'Research Associate', 'Computer Systems Analyst IV', 'Internal Auditor', 'Civil Engineer', 'Computer Systems Analyst IV', 'Design Engineer', 'Computer Systems Analyst III', 'Director of Sales', 'Analog Circuit Design manager', 'Environmental Tech', 'Mechanical Systems Engineer', 'Legal Assistant', 'Financial Analyst', 'Engineer IV', 'Data Coordiator', 'Software Consultant', 'Quality Control Specialist', 'Cost Accountant', 'Help Desk Technician', 'Chemical Engineer', 'Internal Auditor', 'Accounting Assistant I', 'Marketing Assistant', 'Human Resources Manager', 'VP Product Management', 'Cost Accountant', 'Legal Assistant', 'Project Manager', 'Staff Scientist', 'Senior Developer', 'Assistant Professor', 'Geologist II', 'Chemical Engineer', 'VP Product Management', 'Cost Accountant', 'Structural Analysis Engineer', 'Dental Hygienist', 'Help Desk Technician', 'Marketing Manager', 'Registered Nurse', 'Tax Accountant', 'Administrative Assistant II', 'Help Desk Technician', 'Executive Secretary', 'Assistant Manager', 'Senior Sales Associate', 'Physical Therapy Assistant', 'Dental Hygienist', 'Senior Editor', 'Nuclear Power Engineer', 'Project Manager', 'Occupational Therapist', 'General Manager', 'Financial Advisor', 'Environmental Specialist', 'Sales Representative', 'Legal Assistant', 'Biostatistician I', 'Sales Associate', 'Tax Accountant', 'Account Coordinator', 'Statistician I', 'Software Engineer II', 'General Manager', 'Electrical Engineer', 'Social Worker', 'GIS Technical Architect', 'Human Resources Manager', 'Payment Adjustment Coordinator', 'Web Designer II', 'Engineer I', 'Civil Engineer', 'VP Product Management', 'Staff Accountant IV', 'Statistician I', 'Junior Executive', 'Safety Technician III', 'Computer Systems Analyst I', 'Physical Therapy Assistant', 'Software Engineer I', 'Health Coach II', 'Speech Pathologist', 'Account Representative IV', 'Senior Sales Associate', 'Information Systems Manager', 'VP Accounting', 'Chief Design Engineer', 'Office Assistant II', 'Mechanical Systems Engineer', 'Cost Accountant', 'Financial Advisor', 'Financial Advisor', 'Senior Cost Accountant', 'Environmental Specialist', 'VP Product Management', 'Structural Analysis Engineer', 'Recruiting Manager', 'Structural Analysis Engineer', 'VP Quality Control', 'Help Desk Technician', 'Legal Assistant', 'Senior Financial Analyst', 'Electrical Engineer', 'Senior Quality Engineer', 'Administrative Assistant IV', 'Food Chemist', 'Geological Engineer', 'Web Designer IV', 'Assistant Manager', 'Cost Accountant', 'Senior Sales Associate', 'Media Manager I', 'Engineer II', 'Geologist I', 'Physical Therapy Assistant', 'Human Resources Manager', 'Marketing Assistant', 'Design Engineer', 'Account Executive', 'Design Engineer', 'Media Manager III', 'Data Coordiator', 'Recruiting Manager', 'Clinical Specialist', 'Computer Systems Analyst I', 'Internal Auditor', 'Quality Engineer', 'Geological Engineer', 'VP Sales', 'Safety Technician IV', 'Administrative Assistant IV', 'Business Systems Development Analyst', 'Product Engineer', 'Administrative Officer', 'Database Administrator III', 'Chemical Engineer', 'Media Manager III', 'Administrative Assistant III', 'VP Accounting', 'Social Worker', 'Human Resources Assistant I', 'Cost Accountant', 'Software Consultant', 'Account Executive', 'Mechanical Systems Engineer', 'Structural Engineer', 'Food Chemist', 'Database Administrator III', 'Dental Hygienist', 'Associate Professor', 'Compensation Analyst', 'Account Coordinator', 'Programmer Analyst II', 'Computer Systems Analyst I', 'Research Associate', 'Administrative Assistant IV', 'Assistant Manager', 'Tax Accountant', 'Web Developer III', 'Speech Pathologist', 'Information Systems Manager', 'Graphic Designer', 'Staff Scientist', 'Account Representative IV', 'Geologist III', 'Sales Representative', 'Executive Secretary', 'Chemical Engineer', 'Structural Analysis Engineer', 'Staff Accountant III', 'Clinical Specialist', 'Recruiting Manager', 'Web Designer I', 'Database Administrator I', 'Design Engineer', 'VP Marketing', 'Automation Specialist I', 'Desktop Support Technician', 'Associate Professor', 'Office Assistant III', 'Geologist IV', 'Legal Assistant', 'Physical Therapy Assistant', 'Software Test Engineer III', 'Administrative Officer', 'Human Resources Manager', 'Assistant Manager', 'Software Test Engineer III', 'Tax Accountant', 'Human Resources Manager', 'Senior Financial Analyst', 'Cost Accountant', 'Nurse Practicioner', 'Safety Technician III', 'Senior Financial Analyst', 'Desktop Support Technician', 'Quality Engineer', 'Environmental Specialist', 'Marketing Assistant', 'Software Engineer III', 'Structural Engineer', 'Developer IV', 'Community Outreach Specialist', 'Media Manager II', 'Compensation Analyst', 'Senior Developer', 'Staff Accountant III', 'Structural Analysis Engineer', 'Social Worker', 'Senior Quality Engineer', 'Software Test Engineer III', 'Compensation Analyst', 'Information Systems Manager', 'VP Accounting', 'Assistant Manager', 'VP Accounting', 'Speech Pathologist', 'Electrical Engineer', 'Mechanical Systems Engineer', 'Director of Sales', 'Safety Technician IV', 'Chemical Engineer', 'Statistician II', 'Speech Pathologist', 'Accountant I', 'Community Outreach Specialist', 'Systems Administrator II', 'Speech Pathologist', 'Research Associate', 'Senior Financial Analyst', 'VP Accounting', 'Chief Design Engineer', 'Tax Accountant', 'Web Designer I', 'Electrical Engineer', 'Chief Design Engineer', 'Computer Systems Analyst III', 'Sales Representative', 'Software Consultant', 'Internal Auditor', 'Administrative Assistant IV', 'Electrical Engineer', 'VP Quality Control', 'Chemical Engineer', 'Quality Engineer', 'Recruiting Manager', 'Geological Engineer', 'Financial Advisor', 'VP Accounting', 'Web Designer II', 'Account Executive', 'Design Engineer', 'Civil Engineer', 'Engineer I', 'Information Systems Manager', 'Programmer II', 'Desktop Support Technician', 'Structural Engineer', 'Budget/Accounting Analyst I', 'Environmental Tech', 'Budget/Accounting Analyst III', 'Account Representative IV', 'Systems Administrator II', 'Quality Control Specialist', 'Food Chemist', 'Account Coordinator', 'Senior Quality Engineer', 'Accountant I', 'Environmental Specialist', 'Occupational Therapist', 'Nuclear Power Engineer', 'Electrical Engineer', 'Research Nurse', 'Product Engineer', 'Analyst Programmer', 'Research Associate', 'Cost Accountant', 'Marketing Manager', 'Food Chemist', 'Health Coach IV', 'Dental Hygienist', 'Senior Sales Associate', 'Web Developer III', 'Senior Developer', 'Civil Engineer', 'Media Manager IV', 'Staff Accountant II', 'Senior Quality Engineer', 'Cost Accountant', 'Geologist IV', 'Assistant Media Planner', 'Junior Executive', 'Junior Executive', 'Assistant Media Planner', 'Mechanical Systems Engineer', 'Senior Financial Analyst', 'Health Coach III', 'Desktop Support Technician', 'Associate Professor', 'Community Outreach Specialist', 'Occupational Therapist', 'Associate Professor', 'Senior Developer', 'Engineer II', 'Software Consultant', 'Research Associate', 'General Manager', 'Tax Accountant', 'Director of Sales', 'Nurse Practicioner', 'Chief Design Engineer', 'Research Assistant II', 'Internal Auditor', 'Systems Administrator II', 'VP Product Management', 'Tax Accountant', 'Junior Executive', 'Administrative Assistant I', 'Biostatistician IV', 'Dental Hygienist', 'Legal Assistant', 'Research Assistant II', 'Automation Specialist I', 'Desktop Support Technician', 'Senior Quality Engineer', 'Senior Quality Engineer', 'Software Engineer IV', 'Programmer I', 'Junior Executive', 'Geological Engineer', 'Financial Analyst', 'Compensation Analyst', 'Accountant I', 'Sales Representative', 'Staff Accountant III', 'Information Systems Manager', 'Research Associate', 'Data Coordiator', 'GIS Technical Architect', 'Clinical Specialist', 'Administrative Assistant III', 'Executive Secretary', 'Account Representative IV', 'Analog Circuit Design manager', 'Budget/Accounting Analyst IV', 'Data Coordiator', 'Administrative Officer', 'Internal Auditor', 'Desktop Support Technician', 'Assistant Professor', 'Electrical Engineer', 'Executive Secretary', 'Legal Assistant', 'Nuclear Power Engineer', 'Product Engineer', 'Budget/Accounting Analyst II', 'Software Test Engineer IV', 'Help Desk Operator', 'Information Systems Manager', 'Programmer II', 'Geological Engineer', 'Clinical Specialist', 'Technical Writer', 'Web Designer IV', 'Software Test Engineer I', 'Graphic Designer', 'Assistant Media Planner', 'Graphic Designer', 'Software Engineer II', 'Web Developer IV', 'VP Quality Control', 'Safety Technician III', 'VP Quality Control', 'Chemical Engineer', 'Sales Representative', 'Junior Executive', 'Software Consultant', 'Social Worker', 'Programmer Analyst III', 'Director of Sales', 'Financial Advisor', 'Research Nurse', 'Account Coordinator', 'Business Systems Development Analyst', 'Internal Auditor', 'Staff Scientist', 'Administrative Assistant III', 'Accountant IV', 'Recruiting Manager', 'Product Engineer', 'General Manager', 'Senior Editor', 'Executive Secretary', 'Information Systems Manager', 'Biostatistician II', 'Account Representative II', 'Research Associate', 'Community Outreach Specialist', 'Associate Professor', 'Marketing Manager', 'Senior Sales Associate', 'Accountant IV', 'Nuclear Power Engineer', 'Geological Engineer', 'VP Product Management', 'Senior Quality Engineer', 'Office Assistant III', 'Marketing Manager', 'Senior Developer', 'Assistant Manager', 'Geologist IV', 'Graphic Designer', 'Senior Cost Accountant', 'Help Desk Technician', 'General Manager', 'Staff Scientist', 'Recruiting Manager', 'Associate Professor', 'Account Coordinator', 'Account Representative I', 'Quality Control Specialist', 'Account Executive', 'Software Consultant', 'Director of Sales', 'Food Chemist', 'Quality Control Specialist', 'Analyst Programmer', 'Marketing Manager', 'Administrative Officer', 'Automation Specialist III', 'Technical Writer', 'Project Manager', 'Product Engineer', 'Developer III', 'Safety Technician II', 'Budget/Accounting Analyst I', 'Environmental Tech', 'Project Manager', 'Technical Writer', 'Help Desk Technician', 'Product Engineer', 'VP Sales', 'Help Desk Technician', 'Research Assistant II', 'Systems Administrator I', 'Director of Sales', 'Account Coordinator', 'Dental Hygienist', 'VP Product Management', 'Social Worker', 'Computer Systems Analyst II', 'Senior Sales Associate', 'Staff Accountant II', 'VP Product Management', 'Sales Associate', 'Accountant III', 'Speech Pathologist', 'Health Coach IV', 'VP Product Management', 'Senior Cost Accountant', 'Software Test Engineer I', 'Chemical Engineer', 'Food Chemist', 'Speech Pathologist', 'Senior Developer', 'Automation Specialist I', 'Budget/Accounting Analyst IV', 'Senior Sales Associate', 'Junior Executive', 'Quality Engineer', 'Automation Specialist IV', 'Safety Technician I', 'Programmer Analyst II', 'Senior Cost Accountant', 'Programmer III', 'Software Test Engineer II', 'Systems Administrator III', 'Geologist II', 'Legal Assistant', 'Web Developer II', 'Health Coach II', 'Payment Adjustment Coordinator', 'VP Sales', 'Environmental Specialist', 'Human Resources Assistant I', 'Accountant IV', 'Director of Sales', 'Software Engineer II', 'Physical Therapy Assistant', 'Sales Representative', 'Biostatistician I', 'Mechanical Systems Engineer', 'Web Designer III', 'Chemical Engineer', 'Desktop Support Technician', 'Media Manager IV', 'Administrative Officer', 'Product Engineer', 'Product Engineer', 'Dental Hygienist', 'Statistician III', 'Food Chemist', 'Sales Associate', 'Senior Cost Accountant', 'Assistant Media Planner', 'Information Systems Manager', 'Computer Systems Analyst I', 'Research Associate', 'Recruiting Manager', 'Graphic Designer', 'Senior Financial Analyst', 'Research Nurse', 'Web Developer I', 'Accounting Assistant II', 'Automation Specialist II', 'Structural Engineer', 'Structural Engineer', 'Media Manager IV', 'Nuclear Power Engineer', 'Assistant Professor', 'Analog Circuit Design manager', 'Mechanical Systems Engineer', 'Statistician III', 'Nuclear Power Engineer', 'Accountant I', 'Senior Developer', 'Programmer I', 'Analyst Programmer', 'Staff Accountant IV', 'Data Coordiator', 'VP Sales', 'Health Coach I', 'Registered Nurse', 'Associate Professor', 'Health Coach IV', 'Executive Secretary', 'Programmer II', 'Senior Developer', 'VP Marketing', 'Biostatistician IV', 'Software Test Engineer I', 'Associate Professor', 'VP Sales', 'VP Quality Control', 'Structural Engineer', 'VP Product Management', 'Director of Sales', 'Administrative Officer', 'Geologist III', 'Quality Control Specialist', 'Dental Hygienist', 'Speech Pathologist', 'Senior Developer', 'VP Marketing', 'Structural Engineer', 'Senior Developer', 'VP Sales', 'VP Accounting', 'Registered Nurse', 'Software Consultant', 'Quality Engineer', 'VP Sales', 'Marketing Manager', 'Financial Advisor', 'Assistant Professor', 'Business Systems Development Analyst', 'Geological Engineer', 'Administrative Assistant III', 'Biostatistician IV', 'Accounting Assistant IV', 'Database Administrator I', 'Graphic Designer', 'Statistician II', 'Technical Writer', 'Junior Executive', 'Clinical Specialist', 'VP Marketing', 'Technical Writer', 'Food Chemist', 'Registered Nurse', 'Account Representative I', 'Software Test Engineer IV', 'Recruiting Manager', 'Environmental Specialist', 'Environmental Tech', 'Assistant Manager', 'Cost Accountant', 'Computer Systems Analyst III', 'Account Executive', 'Human Resources Assistant IV', 'Senior Editor', 'Legal Assistant', 'Senior Cost Accountant', 'Administrative Officer', 'Senior Financial Analyst', 'Safety Technician I', 'Help Desk Technician', 'Office Assistant II', 'Safety Technician IV', 'Programmer II', 'Biostatistician IV', 'Account Executive', 'Programmer III', 'Dental Hygienist', 'Senior Cost Accountant', 'Marketing Assistant', 'General Manager', 'Senior Editor', 'Business Systems Development Analyst', 'Structural Analysis Engineer', 'Food Chemist', 'Project Manager', 'Biostatistician IV', 'Software Test Engineer IV', 'Account Representative II', 'Human Resources Assistant III', 'Speech Pathologist', 'Accounting Assistant I', 'Internal Auditor', 'Safety Technician III', 'Food Chemist', 'Research Associate', 'Computer Systems Analyst I', 'Developer III', 'Senior Cost Accountant', 'Web Designer III', 'Registered Nurse', 'Software Engineer II', 'VP Quality Control', 'Product Engineer', 'Web Designer I', 'Data Coordiator', 'Electrical Engineer', 'Structural Engineer', 'Payment Adjustment Coordinator', 'Human Resources Manager', 'General Manager', 'Structural Engineer', 'Office Assistant I', 'Chemical Engineer', 'Graphic Designer', 'Accountant II', 'Help Desk Operator', 'Programmer I', 'Biostatistician IV', 'Business Systems Development Analyst', 'Office Assistant IV', 'Engineer IV', 'Engineer I', 'Database Administrator III', 'Financial Analyst', 'Chemical Engineer', 'Data Coordiator', 'Desktop Support Technician', 'Community Outreach Specialist', 'Physical Therapy Assistant', 'VP Product Management', 'Financial Analyst', 'Civil Engineer', 'VP Accounting', 'Senior Financial Analyst', 'Geological Engineer', 'Information Systems Manager', 'Help Desk Technician', 'Account Executive', 'Web Developer III', 'Accountant II', 'Social Worker', 'Mechanical Systems Engineer', 'Desktop Support Technician', 'Chief Design Engineer', 'Account Executive', 'Assistant Media Planner', 'Programmer Analyst IV', 'Statistician III', 'Human Resources Assistant II', 'Clinical Specialist', 'Budget/Accounting Analyst I', 'Nurse Practicioner', 'Safety Technician II', 'Payment Adjustment Coordinator', 'Staff Accountant II', 'Developer III', 'Electrical Engineer', 'GIS Technical Architect', 'Media Manager I', 'Programmer Analyst I', 'Account Coordinator', 'Community Outreach Specialist', 'Design Engineer', 'Physical Therapy Assistant', 'Sales Associate', 'Accounting Assistant III', 'Structural Engineer', 'Web Designer IV', 'Registered Nurse', 'Registered Nurse', 'Technical Writer', 'Legal Assistant', 'Structural Engineer', 'Systems Administrator II', 'Senior Sales Associate', 'Senior Quality Engineer', 'Legal Assistant', 'General Manager', 'Budget/Accounting Analyst III', 'Occupational Therapist', 'Biostatistician II', 'Systems Administrator I', 'Geological Engineer', 'Cost Accountant', 'Accounting Assistant II', 'Help Desk Technician', 'Sales Associate', 'Electrical Engineer', 'Social Worker', 'Data Coordiator', 'Director of Sales', 'Associate Professor', 'Automation Specialist III', 'VP Sales', 'Business Systems Development Analyst', 'Software Test Engineer III', 'Marketing Manager', 'Database Administrator III', 'Software Engineer I', 'Office Assistant I', 'Programmer Analyst II', 'Dental Hygienist', 'Marketing Manager', 'Account Executive', 'Environmental Specialist', 'Administrative Assistant IV', 'Account Representative II', 'Occupational Therapist', 'Business Systems Development Analyst', 'Product Engineer', 'Information Systems Manager', 'Internal Auditor', 'Assistant Professor', 'Budget/Accounting Analyst IV', 'Human Resources Assistant II', 'Desktop Support Technician', 'Cost Accountant', 'Product Engineer', 'Human Resources Assistant II', 'Budget/Accounting Analyst I', 'Senior Financial Analyst', 'Software Consultant', 'Staff Accountant IV', 'Quality Control Specialist', 'Staff Scientist', 'Human Resources Assistant I', 'Staff Scientist', 'Research Nurse', 'Account Executive', 'Accountant IV', 'Research Nurse', 'Financial Advisor', 'Associate Professor', 'Internal Auditor', 'Geologist IV', 'Geological Engineer', 'Environmental Tech', 'Computer Systems Analyst I', 'Senior Cost Accountant', 'Mechanical Systems Engineer', 'Database Administrator IV', 'Chief Design Engineer', 'Desktop Support Technician', 'Accounting Assistant I', 'Executive Secretary', 'Design Engineer', 'Assistant Manager', 'Chemical Engineer', 'Registered Nurse', 'Community Outreach Specialist', 'Computer Systems Analyst IV', 'Tax Accountant', 'Automation Specialist I', 'Senior Developer', 'Nuclear Power Engineer', 'Biostatistician III', 'Desktop Support Technician', 'Sales Associate', 'Database Administrator IV', 'Programmer Analyst I', 'Budget/Accounting Analyst II', 'Dental Hygienist', 'Computer Systems Analyst II', 'Account Coordinator', 'Database Administrator III', 'Developer III', 'Structural Analysis Engineer', 'Food Chemist', 'Account Executive', 'Dental Hygienist', 'Programmer Analyst II', 'Programmer Analyst IV', 'Web Designer II', 'Research Assistant IV', 'Web Designer II', 'Nurse Practicioner', 'Systems Administrator I', 'Information Systems Manager', 'Programmer Analyst I', 'Web Designer IV', 'Executive Secretary', 'Nurse Practicioner', 'Assistant Professor', 'Statistician II', 'Health Coach IV', 'Product Engineer', 'Geological Engineer', 'Civil Engineer', 'Senior Sales Associate', 'Mechanical Systems Engineer', 'VP Accounting', 'Help Desk Operator', 'Developer II', 'Speech Pathologist', 'Structural Analysis Engineer', 'Web Designer I', 'Electrical Engineer', 'Chemical Engineer', 'Financial Analyst', 'Analyst Programmer', 'Staff Scientist', 'Clinical Specialist', 'Structural Engineer', 'Design Engineer', 'Sales Representative', 'Community Outreach Specialist', 'Analog Circuit Design manager', 'Research Assistant II', 'Occupational Therapist', 'Technical Writer', 'Programmer I', 'Accounting Assistant III', 'Compensation Analyst', 'Dental Hygienist', 'Compensation Analyst', 'Cost Accountant', 'Desktop Support Technician', 'Legal Assistant', 'Nurse Practicioner', 'Marketing Assistant', 'Registered Nurse', 'GIS Technical Architect', 'Executive Secretary', 'Analyst Programmer', 'Administrative Assistant IV', 'Software Consultant', 'Office Assistant III', 'Staff Scientist', 'Cost Accountant', 'Technical Writer', 'Graphic Designer', 'Structural Analysis Engineer', 'Executive Secretary', 'VP Marketing', 'Geological Engineer', 'Technical Writer', 'Chemical Engineer', 'Environmental Specialist', 'Registered Nurse', 'Web Designer II', 'Office Assistant I', 'Software Engineer III', 'Physical Therapy Assistant', 'Staff Scientist', 'Research Nurse', 'Help Desk Technician', 'Senior Developer', 'Help Desk Operator', 'Assistant Professor', 'Quality Engineer', 'Senior Cost Accountant', 'Nuclear Power Engineer', 'Nurse Practicioner', 'Environmental Specialist', 'Account Coordinator', 'Help Desk Technician', 'Marketing Manager', 'Speech Pathologist', 'Engineer II', 'Social Worker', 'Computer Systems Analyst I', 'Associate Professor', 'Quality Control Specialist', 'Tax Accountant', 'Structural Analysis Engineer', 'Tax Accountant', 'Structural Engineer', 'Chemical Engineer', 'Safety Technician II', 'Senior Sales Associate', 'Sales Associate', 'Developer IV', 'Media Manager II', 'Quality Engineer', 'Nurse Practicioner', 'Speech Pathologist', 'Assistant Media Planner', 'Speech Pathologist', 'Senior Editor', 'Software Test Engineer IV', 'Engineer III', 'Marketing Assistant', 'Accounting Assistant II', 'Geological Engineer', 'Product Engineer', 'Administrative Assistant I', 'Executive Secretary', 'Quality Control Specialist', 'Administrative Officer', 'Electrical Engineer', 'Senior Cost Accountant', 'Community Outreach Specialist', 'Nuclear Power Engineer', 'Chief Design Engineer', 'Senior Quality Engineer', 'Help Desk Technician', 'Structural Engineer', 'Senior Financial Analyst', 'Speech Pathologist', 'Clinical Specialist', 'Design Engineer', 'Assistant Media Planner', 'Senior Sales Associate', 'Assistant Professor', 'Web Developer II', 'Administrative Assistant IV', 'Software Test Engineer III', 'Account Representative I', 'Senior Developer', 'Structural Engineer', 'Budget/Accounting Analyst I', 'VP Marketing', 'Biostatistician III', 'Information Systems Manager', 'Help Desk Technician', 'Human Resources Manager', 'Technical Writer', 'Web Developer I', 'Structural Analysis Engineer', 'Senior Financial Analyst', 'Registered Nurse', 'Research Nurse', 'Recruiting Manager', 'Senior Developer', 'Accountant III', 'Chemical Engineer', 'VP Marketing', 'Help Desk Technician', 'Cost Accountant', 'Software Test Engineer II', 'Technical Writer', 'Senior Editor', 'Quality Engineer', 'Business Systems Development Analyst', 'Speech Pathologist', 'Research Associate', 'Accountant III', 'Associate Professor', 'Senior Quality Engineer', 'Nuclear Power Engineer', 'Executive Secretary', 'Software Engineer II', 'Accounting Assistant I', 'Web Developer III', 'VP Marketing', 'Tax Accountant', 'Assistant Professor', 'Social Worker', 'Chief Design Engineer', 'VP Quality Control', 'Software Engineer III', 'Health Coach IV', 'Assistant Media Planner', 'Developer IV', 'Internal Auditor', 'Administrative Assistant IV', 'Engineer III', 'Junior Executive', 'Accountant II', 'Systems Administrator IV', 'Staff Scientist', 'VP Quality Control', 'Internal Auditor', 'Engineer III', 'Software Engineer I', 'Business Systems Development Analyst', 'Associate Professor', 'Tax Accountant', 'Desktop Support Technician', 'Director of Sales', 'Human Resources Assistant I', 'Technical Writer', 'Geologist III', 'Tax Accountant', 'Data Coordiator', 'General Manager', 'Help Desk Operator', 'Nuclear Power Engineer', 'Internal Auditor', 'Nurse Practicioner', 'Assistant Professor', 'Civil Engineer', 'Senior Developer', 'VP Marketing', 'Senior Financial Analyst', 'Software Engineer III', 'Structural Analysis Engineer', 'Account Executive', 'Marketing Manager', 'Electrical Engineer', 'Registered Nurse', 'Budget/Accounting Analyst III', 'Compensation Analyst', 'Account Coordinator', 'Tax Accountant', 'Statistician I', 'Administrative Assistant IV', 'Web Designer I', 'Civil Engineer', 'Assistant Media Planner', 'Staff Accountant I', 'Media Manager III', 'Community Outreach Specialist', 'Research Assistant I', 'Account Coordinator', 'Budget/Accounting Analyst II', 'Assistant Media Planner', 'Engineer IV', 'Senior Sales Associate', 'Software Engineer I', 'Quality Engineer', 'Nuclear Power Engineer', 'Help Desk Operator', 'Budget/Accounting Analyst III', 'Geologist IV', 'Computer Systems Analyst IV', 'Software Test Engineer I', 'VP Accounting', 'VP Sales', 'Technical Writer', 'Sales Representative', 'Physical Therapy Assistant', 'Account Representative I', 'Dental Hygienist', 'Business Systems Development Analyst', 'Nuclear Power Engineer', 'Biostatistician II', 'Food Chemist', 'Tax Accountant', 'Nuclear Power Engineer', 'Statistician III', 'VP Marketing', 'Accountant IV', 'Environmental Tech', 'Engineer II', 'Project Manager', 'Occupational Therapist', 'Product Engineer', 'Senior Quality Engineer', 'Business Systems Development Analyst', 'VP Accounting', 'Analyst Programmer', 'Clinical Specialist', 'Software Consultant', 'Food Chemist', 'Media Manager IV', 'Product Engineer', 'Sales Associate', 'Director of Sales', 'Financial Analyst', 'Programmer Analyst III', 'Accountant III', 'Biostatistician II', 'Health Coach IV', 'Automation Specialist II', 'Chemical Engineer', 'Database Administrator III', 'Senior Developer', 'Registered Nurse', 'Research Associate', 'Research Assistant III', 'Quality Engineer', 'Statistician II', 'Social Worker', 'Legal Assistant', 'Administrative Officer', 'Account Representative IV', 'GIS Technical Architect', 'Dental Hygienist', 'Electrical Engineer', 'Account Representative IV', 'Nuclear Power Engineer', 'Desktop Support Technician', 'Account Coordinator', 'Product Engineer', 'Biostatistician II', 'Tax Accountant', 'Statistician II', 'Occupational Therapist', 'Civil Engineer', 'Systems Administrator I', 'Registered Nurse', 'Software Test Engineer II', 'Account Coordinator', 'Associate Professor', 'Mechanical Systems Engineer', 'Senior Quality Engineer', 'Administrative Officer', 'Administrative Officer', 'Physical Therapy Assistant', 'General Manager', 'Senior Financial Analyst', 'Accounting Assistant III', 'Help Desk Operator', 'Analog Circuit Design manager', 'Associate Professor', 'Accounting Assistant IV', 'Research Nurse', 'Mechanical Systems Engineer', 'Administrative Officer', 'Statistician II', 'Social Worker', 'Senior Financial Analyst', 'Chemical Engineer', 'Software Test Engineer III', 'Quality Engineer', 'Sales Representative', 'Sales Associate', 'Sales Representative', 'Nuclear Power Engineer', 'Chief Design Engineer', 'Automation Specialist I', 'Information Systems Manager', 'Financial Advisor', 'Desktop Support Technician', 'Executive Secretary', 'Product Engineer', 'VP Quality Control', 'Recruiting Manager', 'Quality Engineer', 'Structural Engineer', 'Account Executive', 'Safety Technician III', 'VP Sales', 'Tax Accountant', 'Sales Representative', 'Geological Engineer', 'Human Resources Manager', 'Accountant III', 'Marketing Assistant', 'Social Worker', 'Senior Editor', 'Account Representative IV', 'Financial Advisor', 'Web Developer I', 'Research Nurse', 'Social Worker', 'Research Assistant III', 'Web Designer II', 'VP Product Management', 'Cost Accountant', 'Programmer Analyst I', 'Senior Editor', 'Nurse Practicioner', 'Programmer Analyst II', 'Senior Editor', 'Statistician IV', 'Internal Auditor', 'Budget/Accounting Analyst IV', 'Chemical Engineer', 'Junior Executive', 'Administrative Assistant II', 'Senior Financial Analyst', 'Software Test Engineer I', 'Executive Secretary', 'Engineer I', 'Human Resources Assistant III', 'Budget/Accounting Analyst IV', 'Assistant Media Planner', 'Budget/Accounting Analyst IV', 'Web Developer II', 'Electrical Engineer', 'Computer Systems Analyst II', 'Programmer Analyst I', 'Environmental Specialist', 'Clinical Specialist', 'Payment Adjustment Coordinator', 'Assistant Media Planner', 'Recruiting Manager', 'Staff Accountant III', 'Occupational Therapist', 'Analyst Programmer', 'Director of Sales', 'Programmer IV', 'Biostatistician I', 'Executive Secretary', 'Project Manager', 'Nurse Practicioner', 'Marketing Manager', 'Biostatistician I', 'Recruiting Manager', 'Assistant Professor', 'Physical Therapy Assistant', 'VP Quality Control', 'Cost Accountant', 'Internal Auditor', 'Analog Circuit Design manager', 'Electrical Engineer', 'Sales Associate', 'Technical Writer', 'Assistant Media Planner', 'Assistant Professor', 'Cost Accountant', 'Nuclear Power Engineer', 'Financial Analyst', 'General Manager', 'Senior Sales Associate', 'Analog Circuit Design manager', 'Executive Secretary', 'Legal Assistant', 'Associate Professor', 'Chief Design Engineer', 'Assistant Professor', 'Compensation Analyst', 'Nurse Practicioner', 'Speech Pathologist', 'Project Manager', 'Assistant Professor', 'Speech Pathologist', 'Nuclear Power Engineer', 'Junior Executive', 'Analog Circuit Design manager', 'Geologist III', 'Financial Advisor', 'Assistant Professor', 'VP Sales', 'Nuclear Power Engineer', 'Occupational Therapist', 'Human Resources Manager', 'Software Test Engineer III', 'Account Representative I', 'GIS Technical Architect', 'Senior Financial Analyst', 'Social Worker', 'Associate Professor', 'Registered Nurse', 'Assistant Media Planner', 'VP Quality Control', 'Health Coach IV', 'Budget/Accounting Analyst IV', 'Product Engineer', 'Safety Technician I', 'Business Systems Development Analyst', 'Sales Associate', 'Assistant Media Planner', 'Business Systems Development Analyst', 'Research Nurse', 'VP Sales', 'Office Assistant I', 'Assistant Media Planner', 'Executive Secretary', 'Account Representative I', 'Administrative Officer', 'Media Manager III', 'Project Manager', 'Computer Systems Analyst I', 'Assistant Manager', 'GIS Technical Architect', 'Business Systems Development Analyst', 'Software Engineer III', 'VP Sales', 'Environmental Specialist', 'Safety Technician IV', 'Internal Auditor', 'Software Engineer I', 'Community Outreach Specialist', 'Senior Developer', 'Recruiting Manager', 'Community Outreach Specialist', 'Quality Control Specialist', 'Social Worker', 'Health Coach II', 'Registered Nurse', 'Design Engineer', 'Assistant Manager', 'Information Systems Manager', 'Safety Technician II', 'Product Engineer', 'Dental Hygienist', 'Social Worker', 'Human Resources Assistant III', 'Database Administrator IV', 'Software Consultant', 'Marketing Assistant', 'Senior Developer', 'Engineer IV', 'Senior Cost Accountant', 'Tax Accountant', 'Community Outreach Specialist', 'Programmer IV', 'Tax Accountant', 'Chemical Engineer', 'Sales Representative', 'Senior Cost Accountant', 'Human Resources Manager', 'Payment Adjustment Coordinator', 'Sales Representative', 'Media Manager II', 'Administrative Officer', 'Dental Hygienist', 'GIS Technical Architect', 'Desktop Support Technician', 'Clinical Specialist', 'Graphic Designer', 'Accountant II', 'Cost Accountant', 'Computer Systems Analyst II', 'Nurse Practicioner', 'Business Systems Development Analyst', 'Compensation Analyst', 'Engineer IV', 'Web Developer I', 'Research Assistant II', 'Human Resources Manager', 'Environmental Tech', 'Staff Scientist', 'Technical Writer', 'Office Assistant III', 'Software Engineer II', 'Assistant Manager', 'Analog Circuit Design manager', 'Community Outreach Specialist', 'Chemical Engineer', 'Accountant I', 'Compensation Analyst', 'Account Representative III', 'Research Nurse', 'General Manager', 'Business Systems Development Analyst', 'Technical Writer', 'Staff Scientist', 'Analog Circuit Design manager', 'Administrative Officer', 'Web Designer IV', 'Associate Professor', 'Business Systems Development Analyst', 'Legal Assistant', 'Senior Developer', 'General Manager', 'Physical Therapy Assistant', 'Engineer II', 'Legal Assistant', 'Occupational Therapist', 'Cost Accountant', 'Programmer Analyst III', 'Speech Pathologist', 'Legal Assistant', 'Account Coordinator', 'General Manager', 'Health Coach II', 'Executive Secretary', 'Human Resources Manager', 'Accountant IV', 'VP Accounting', 'Office Assistant IV', 'Civil Engineer', 'VP Sales', 'Product Engineer', 'Chief Design Engineer', 'Automation Specialist I', 'Senior Cost Accountant', 'Account Executive', 'Assistant Media Planner', 'Chemical Engineer', 'VP Quality Control', 'Information Systems Manager', 'Safety Technician III', 'Legal Assistant', 'Graphic Designer', 'Mechanical Systems Engineer', 'Staff Scientist', 'Accountant IV', 'Biostatistician I', 'Social Worker', 'Web Developer III', 'Payment Adjustment Coordinator', 'Statistician IV', 'Mechanical Systems Engineer', 'Biostatistician II', 'Staff Accountant IV', 'Associate Professor', 'Dental Hygienist', 'Geological Engineer', 'Assistant Manager', 'Safety Technician II', 'Business Systems Development Analyst', 'Legal Assistant', 'Accounting Assistant III', 'Automation Specialist II', 'Community Outreach Specialist', 'Associate Professor', 'Internal Auditor', 'Nuclear Power Engineer', 'Cost Accountant', 'Occupational Therapist', 'Clinical Specialist', 'Data Coordiator', 'Dental Hygienist', 'Account Executive', 'Social Worker', 'Statistician IV', 'Research Nurse', 'Geological Engineer', 'Analog Circuit Design manager', 'VP Product Management', 'Sales Representative', 'Quality Control Specialist', 'Staff Scientist', 'Marketing Manager', 'Web Designer III', 'Legal Assistant', 'Associate Professor', 'Electrical Engineer', 'Chief Design Engineer', 'Programmer Analyst III', 'Project Manager', 'Human Resources Assistant IV', 'Tax Accountant', 'Sales Associate', 'Senior Developer', 'Compensation Analyst', 'Desktop Support Technician', 'Office Assistant I', 'VP Quality Control', 'Mechanical Systems Engineer', 'Media Manager IV', 'Environmental Specialist', 'Human Resources Assistant II', 'Business Systems Development Analyst', 'Social Worker', 'Web Designer IV', 'Assistant Manager', 'Payment Adjustment Coordinator', 'Nurse Practicioner', 'Account Coordinator', 'Computer Systems Analyst I', 'Research Associate', 'Physical Therapy Assistant', 'Database Administrator IV', 'VP Quality Control', 'Assistant Media Planner', 'Business Systems Development Analyst', 'Senior Editor', 'Junior Executive', 'Civil Engineer', 'Senior Financial Analyst', 'Senior Quality Engineer', 'Environmental Specialist', 'Director of Sales', 'Payment Adjustment Coordinator', 'Web Designer IV', 'Physical Therapy Assistant', 'Tax Accountant', 'Engineer IV', 'Environmental Specialist', 'Media Manager III', 'Product Engineer', 'Environmental Tech', 'Assistant Professor', 'Office Assistant IV', 'GIS Technical Architect', 'Media Manager III', 'Account Executive', 'Financial Advisor', 'VP Marketing', 'Civil Engineer', 'Junior Executive', 'Automation Specialist II', 'Analog Circuit Design manager', 'Software Engineer III', 'General Manager', 'Database Administrator III', 'Physical Therapy Assistant', 'Information Systems Manager', 'Web Developer III', 'Research Assistant IV', 'Internal Auditor', 'Senior Editor', 'Database Administrator III', 'Automation Specialist III', 'Chief Design Engineer', 'Social Worker', 'Sales Representative', 'Executive Secretary', 'Payment Adjustment Coordinator', 'Tax Accountant', 'Safety Technician II', 'Business Systems Development Analyst', 'Assistant Manager', 'Executive Secretary', 'Staff Scientist', 'Chief Design Engineer', 'Budget/Accounting Analyst IV', 'General Manager', 'Media Manager I', 'Systems Administrator I', 'Graphic Designer', 'Senior Cost Accountant', 'Structural Engineer', 'Programmer Analyst II', 'Analog Circuit Design manager', 'Safety Technician II', 'GIS Technical Architect', 'Cost Accountant', 'Human Resources Assistant I', 'Engineer IV', 'Senior Editor', 'Sales Representative', 'Quality Control Specialist', 'Research Associate', 'Product Engineer', 'Business Systems Development Analyst', 'Clinical Specialist', 'Account Representative III', 'General Manager', 'GIS Technical Architect', 'Administrative Officer', 'Chief Design Engineer', 'Payment Adjustment Coordinator', 'General Manager', 'Computer Systems Analyst IV', 'Legal Assistant', 'Computer Systems Analyst I', 'VP Product Management', 'Staff Scientist', 'General Manager', 'Administrative Assistant III', 'Clinical Specialist', 'Administrative Officer', 'Chief Design Engineer', 'Assistant Media Planner', 'Account Executive', 'Engineer III', 'Assistant Manager', 'Staff Accountant II', 'Web Designer I', 'Automation Specialist IV', 'Director of Sales', 'Human Resources Assistant III', 'Quality Engineer', 'Product Engineer', 'VP Quality Control', 'Systems Administrator II', 'Executive Secretary', 'Associate Professor', 'Compensation Analyst', 'Structural Engineer', 'Senior Developer', 'Compensation Analyst', 'Analyst Programmer', 'Cost Accountant', 'Senior Sales Associate', 'VP Marketing', 'Civil Engineer', 'Administrative Officer', 'Account Executive', 'Structural Analysis Engineer', 'Nuclear Power Engineer', 'Software Test Engineer I', 'Financial Analyst', 'Account Representative I', 'Research Nurse', 'Database Administrator IV', 'Food Chemist', 'Technical Writer', 'Account Representative III', 'Software Test Engineer II', 'VP Product Management', 'Research Assistant IV', 'Programmer Analyst III', 'Physical Therapy Assistant', 'Help Desk Technician', 'GIS Technical Architect', 'Software Consultant', 'Computer Systems Analyst II', 'Director of Sales', 'Analog Circuit Design manager', 'Accounting Assistant II', 'Human Resources Assistant IV', 'Software Test Engineer II', 'Staff Accountant I', 'Safety Technician II', 'Design Engineer', 'Engineer I', 'Developer III', 'Quality Engineer', 'General Manager', 'VP Accounting', 'Electrical Engineer', 'Engineer IV', 'Engineer III', 'Technical Writer', 'Technical Writer', 'Research Associate', 'Data Coordiator', 'Analyst Programmer', 'Research Associate', 'Sales Associate', 'Accounting Assistant I', 'Food Chemist', 'Speech Pathologist', 'Computer Systems Analyst IV', 'Business Systems Development Analyst', 'Financial Analyst', 'Systems Administrator III', 'Structural Engineer', 'General Manager', 'VP Marketing', 'Programmer II', 'Tax Accountant', 'Technical Writer', 'Environmental Specialist', 'Research Assistant I', 'Product Engineer', 'VP Accounting', 'Sales Associate', 'Tax Accountant', 'Statistician II', 'Senior Financial Analyst', 'GIS Technical Architect', 'Project Manager', 'Business Systems Development Analyst', 'Cost Accountant', 'Tax Accountant', 'Desktop Support Technician', 'Physical Therapy Assistant', 'Office Assistant IV', 'VP Accounting', 'Software Consultant', 'Quality Engineer', 'Social Worker', 'Systems Administrator IV', 'Information Systems Manager', 'Financial Advisor', 'Computer Systems Analyst II', 'Registered Nurse', 'Automation Specialist III', 'GIS Technical Architect', 'Assistant Media Planner', 'Help Desk Operator', 'Chemical Engineer', 'Research Nurse', 'Community Outreach Specialist', 'Junior Executive', 'Computer Systems Analyst II', 'Account Coordinator', 'Senior Editor', 'VP Marketing', 'Project Manager', 'Technical Writer', 'Senior Sales Associate', 'Legal Assistant', 'Research Associate', 'Technical Writer', 'Nurse Practicioner', 'Database Administrator I', 'Structural Engineer', 'Software Consultant', 'VP Quality Control', 'Safety Technician III', 'Sales Associate', 'Marketing Manager', 'Product Engineer', 'Web Designer III', 'Administrative Officer', 'Web Developer III', 'Environmental Specialist', 'Registered Nurse', 'Compensation Analyst', 'Staff Accountant III', 'Chemical Engineer', 'Marketing Assistant', 'VP Quality Control', 'Associate Professor', 'Nurse Practicioner', 'Recruiting Manager', 'Quality Engineer', 'VP Marketing', 'Analog Circuit Design manager', 'Assistant Manager', 'Director of Sales', 'Senior Developer', 'Quality Control Specialist', 'Systems Administrator IV', 'Clinical Specialist', 'Senior Sales Associate', 'Information Systems Manager', 'Account Representative II', 'Business Systems Development Analyst', 'Analyst Programmer', 'Speech Pathologist', 'Help Desk Operator', 'VP Product Management', 'Business Systems Development Analyst', 'Civil Engineer', 'Research Assistant I', 'Account Representative IV', 'Programmer III', 'Administrative Assistant IV', 'Senior Sales Associate', 'Financial Advisor', 'Business Systems Development Analyst', 'Web Designer I', 'Physical Therapy Assistant', 'Safety Technician II', 'Food Chemist', 'VP Accounting', 'Internal Auditor', 'Environmental Specialist', 'Staff Scientist', 'Accounting Assistant IV', 'Biostatistician I', 'Software Consultant', 'Research Nurse', 'Research Associate', 'Cost Accountant', 'Design Engineer', 'General Manager', 'Senior Cost Accountant', 'Internal Auditor', 'Structural Analysis Engineer', 'Staff Scientist', 'Marketing Manager', 'Media Manager I', 'Associate Professor', 'Technical Writer', 'Graphic Designer', 'Marketing Manager', 'Financial Analyst', 'Food Chemist', 'Help Desk Technician', 'Developer II', 'GIS Technical Architect', 'Senior Financial Analyst', 'Sales Representative', 'Environmental Tech', 'Internal Auditor', 'Graphic Designer', 'GIS Technical Architect', 'Programmer Analyst II', 'Senior Developer', 'Assistant Media Planner', 'Structural Analysis Engineer', 'Help Desk Operator', 'Recruiting Manager', 'Programmer Analyst IV', 'Structural Engineer', 'Social Worker', 'Senior Editor', 'Senior Sales Associate', 'Sales Representative', 'Accounting Assistant I', 'Clinical Specialist', 'Administrative Assistant I', 'Account Coordinator', 'Staff Scientist', 'Staff Accountant IV', 'Software Test Engineer III', 'Occupational Therapist', 'Media Manager II', 'Assistant Professor', 'Registered Nurse', 'Web Developer III', 'Computer Systems Analyst II', 'Accountant III', 'Junior Executive', 'Legal Assistant', 'Marketing Assistant', 'Software Consultant', 'Executive Secretary', 'Analog Circuit Design manager', 'Computer Systems Analyst III', 'Physical Therapy Assistant', 'Staff Accountant II', 'Junior Executive', 'Account Coordinator', 'Sales Representative', 'VP Quality Control', 'Internal Auditor', 'Graphic Designer', 'Clinical Specialist', 'Nurse Practicioner', 'Marketing Manager', 'Graphic Designer', 'Statistician II', 'Budget/Accounting Analyst II', 'Environmental Specialist', 'Safety Technician II', 'Product Engineer', 'Structural Analysis Engineer', 'Statistician IV', 'Administrative Assistant IV', 'Computer Systems Analyst II', 'Developer IV', 'Compensation Analyst', 'Senior Quality Engineer', 'Cost Accountant', 'VP Marketing', 'Senior Cost Accountant', 'Financial Advisor', 'Tax Accountant', 'Project Manager', 'Biostatistician III', 'Speech Pathologist', 'VP Marketing', 'Director of Sales', 'Associate Professor', 'Food Chemist', 'Staff Scientist', 'Civil Engineer', 'Technical Writer', 'Physical Therapy Assistant', 'Structural Analysis Engineer', 'Social Worker', 'Marketing Manager', 'Office Assistant II', 'Office Assistant I', 'Human Resources Assistant I', 'Environmental Specialist', 'Electrical Engineer', 'VP Sales', 'Administrative Assistant IV', 'Research Associate', 'Community Outreach Specialist', 'Information Systems Manager', 'Software Test Engineer I', 'Dental Hygienist', 'Statistician II', 'Graphic Designer', 'Desktop Support Technician', 'Design Engineer', 'Programmer Analyst III', 'Tax Accountant', 'Analog Circuit Design manager', 'Health Coach I', 'Senior Financial Analyst', 'Engineer IV', 'Developer II', 'Accountant I', 'Community Outreach Specialist', 'GIS Technical Architect', 'Chief Design Engineer', 'Food Chemist', 'Human Resources Manager', 'Software Engineer III', 'General Manager', 'Chemical Engineer', 'Environmental Tech', 'Business Systems Development Analyst', 'Account Coordinator', 'Senior Financial Analyst', 'Recruiting Manager', 'Geological Engineer', 'Recruiting Manager', 'Associate Professor', 'Physical Therapy Assistant', 'Biostatistician IV', 'Health Coach III', 'Assistant Professor', 'Senior Editor', 'Cost Accountant', 'GIS Technical Architect', 'Physical Therapy Assistant', 'Associate Professor', 'Recruiting Manager', 'VP Sales', 'Computer Systems Analyst I', 'Senior Financial Analyst', 'Geologist IV', 'Sales Representative', 'Senior Quality Engineer', 'Accountant II', 'Research Assistant II', 'GIS Technical Architect', 'Assistant Professor', 'Technical Writer', 'Financial Analyst', 'Junior Executive', 'Chief Design Engineer', 'Research Associate', 'Help Desk Technician', 'Senior Quality Engineer', 'Senior Developer', 'Design Engineer', 'Environmental Tech', 'Dental Hygienist', 'Tax Accountant', 'Dental Hygienist', 'Developer II', 'Web Developer IV', 'Staff Scientist', 'Chemical Engineer', 'Environmental Specialist', 'Administrative Assistant I', 'Office Assistant II', 'Chief Design Engineer', 'Information Systems Manager', 'Recruiting Manager', 'Programmer IV', 'Biostatistician II', 'Quality Control Specialist', 'Cost Accountant', 'Automation Specialist IV', 'Desktop Support Technician', 'Web Developer IV', 'Senior Financial Analyst', 'Desktop Support Technician', 'Legal Assistant', 'Electrical Engineer', 'Physical Therapy Assistant', 'Accountant I', 'Statistician I', 'Cost Accountant', 'Dental Hygienist', 'Desktop Support Technician', 'Graphic Designer', 'Environmental Specialist', 'Compensation Analyst', 'Compensation Analyst', 'Systems Administrator IV', 'Systems Administrator III', 'Environmental Specialist', 'Civil Engineer', 'Senior Editor', 'Quality Control Specialist', 'VP Marketing', 'Engineer IV', 'Systems Administrator III', 'Occupational Therapist', 'Tax Accountant', 'Environmental Tech', 'Research Nurse', 'Chief Design Engineer', 'Dental Hygienist', 'Software Test Engineer II', 'Analyst Programmer', 'Recruiting Manager', 'VP Quality Control', 'Food Chemist', 'VP Product Management', 'Media Manager IV', 'VP Product Management', 'Safety Technician I', 'VP Product Management', 'Sales Representative', 'Staff Accountant I', 'Business Systems Development Analyst', 'VP Marketing', 'Budget/Accounting Analyst II', 'Recruiting Manager', 'Dental Hygienist', 'Account Coordinator', 'Sales Representative', 'Safety Technician III', 'Account Coordinator', 'Compensation Analyst', 'Project Manager', 'Electrical Engineer', 'Sales Associate', 'Account Executive', 'Desktop Support Technician', 'Staff Accountant II', 'Senior Financial Analyst', 'Legal Assistant', 'Geologist III', 'Analyst Programmer', 'Structural Engineer', 'Database Administrator III', 'Accountant III', 'Senior Sales Associate', 'Help Desk Operator', 'Accounting Assistant IV', 'VP Quality Control', 'General Manager', 'Accounting Assistant III', 'Structural Engineer', 'Software Consultant', 'Mechanical Systems Engineer', 'Junior Executive', 'Structural Engineer', 'Quality Control Specialist', 'Help Desk Technician', 'Structural Engineer', 'Geologist II', 'Social Worker', 'Analog Circuit Design manager', 'Social Worker', 'Recruiting Manager', 'Sales Representative', 'Compensation Analyst', 'Electrical Engineer', 'Internal Auditor', 'Account Coordinator', 'Programmer III', 'Payment Adjustment Coordinator', 'Web Designer I', 'Human Resources Assistant III', 'Legal Assistant', 'Web Designer II', 'Recruiting Manager', 'Computer Systems Analyst IV', 'Programmer Analyst I', 'General Manager', 'Physical Therapy Assistant', 'Staff Accountant II', 'Staff Scientist', 'Health Coach II', 'Business Systems Development Analyst', 'Tax Accountant', 'Junior Executive', 'Registered Nurse', 'Research Associate', 'GIS Technical Architect', 'Marketing Manager', 'Payment Adjustment Coordinator', 'Research Assistant III', 'Sales Representative', 'Product Engineer', 'Cost Accountant', 'Technical Writer', 'Junior Executive', 'VP Sales', 'Recruiting Manager', 'Social Worker', 'Community Outreach Specialist', 'Assistant Manager', 'Statistician I', 'Chemical Engineer', 'Junior Executive', 'Cost Accountant', 'Environmental Specialist', 'Mechanical Systems Engineer', 'Tax Accountant', 'Product Engineer', 'Statistician I', 'Account Executive', 'Electrical Engineer', 'Senior Editor', 'Sales Associate', 'Tax Accountant', 'Account Executive', 'Sales Representative', 'Technical Writer', 'Administrative Officer', 'VP Accounting', 'Engineer III', 'GIS Technical Architect', 'Occupational Therapist', 'Web Designer IV', 'Senior Financial Analyst', 'Quality Control Specialist', 'Help Desk Operator', 'Human Resources Assistant III', 'Geologist II', 'Administrative Assistant III', 'Business Systems Development Analyst', 'Project Manager', 'Software Test Engineer II', 'Sales Associate', 'Speech Pathologist', 'Geologist I', 'Senior Editor', 'Accountant II', 'Sales Representative', 'Desktop Support Technician', 'Technical Writer', 'Administrative Assistant I', 'Internal Auditor', 'Biostatistician II', 'Developer II', 'Web Designer I', 'Quality Control Specialist', 'General Manager', 'Graphic Designer', 'Web Developer IV', 'Social Worker', 'Automation Specialist IV', 'Environmental Specialist', 'Desktop Support Technician', 'Chief Design Engineer', 'Database Administrator IV', 'Structural Analysis Engineer', 'Staff Scientist', 'VP Product Management', 'Statistician II', 'Assistant Manager', 'Software Engineer IV']\n"
          ]
        }
      ],
      "source": [
        "# Extract the 'job_title' column\n",
        "job_titles = customer_demographic['job_title']\n",
        "\n",
        "# Initialize lists to store findings\n",
        "spelling_variations = []\n",
        "abbreviations = []\n",
        "non_standard_titles = []\n",
        "special_characters = []\n",
        "\n",
        "# Define a list of standard job titles or keywords\n",
        "standard_job_titles = [\"Manager\", \"Engineer\", \"Analyst\", \"Consultant\", \"Sales\", \"Teacher\", \"Doctor\", \"Nurse\", \"Technician\"]\n",
        "\n",
        "# Loop through job titles to identify patterns and inconsistencies\n",
        "for title in job_titles:\n",
        "    # Check if the title is a string (not NaN or float)\n",
        "    if isinstance(title, str):\n",
        "        # Spelling Variations\n",
        "        if \"Engineer\" in title and \"Eng.\" in title:\n",
        "            spelling_variations.append(title)\n",
        "\n",
        "        # Abbreviations\n",
        "        if \"Mgr.\" in title:\n",
        "            abbreviations.append(title)\n",
        "\n",
        "        # Non-standard Titles\n",
        "        if title not in standard_job_titles:\n",
        "            non_standard_titles.append(title)\n",
        "\n",
        "        # Special Characters\n",
        "        if not title.isalpha():\n",
        "            special_characters.append(title)\n",
        "\n",
        "# Display the findings\n",
        "print(\"Job Titles with Spelling Variations:\")\n",
        "print(spelling_variations)\n",
        "\n",
        "print(\"\\nJob Titles with Abbreviations:\")\n",
        "print(abbreviations)\n",
        "\n",
        "print(\"\\nNon-Standard Job Titles:\")\n",
        "print(non_standard_titles)\n",
        "\n",
        "print(\"\\nJob Titles with Special Characters:\")\n",
        "print(special_characters)\n"
      ]
    },
    {
      "cell_type": "markdown",
      "source": [
        "- This dataset includes job titles that do not conform to common industry roles or standard job titles. Examples include \"Budget/Accounting Analyst I,\" \"Nurse Practicioner,\" \"Chief Design Engineer,\" and many others.\n",
        "\n",
        "- This dataset includes job titles that contain special characters, numbers, or symbols not typical in job titles. Examples include \"Media Manager I,\" \"Biostatistician IV,\" and \"Community Outreach Specialist.\" Depending on your data requirements, you may need to assess whether these titles are acceptable or if they should be standardized."
      ],
      "metadata": {
        "id": "cqYpMsA4jnFD"
      }
    },
    {
      "cell_type": "code",
      "source": [
        "# Assuming your DataFrame is named 'df'\n",
        "unique_categories = customer_demographic['job_industry_category'].unique()\n",
        "print(unique_categories)"
      ],
      "metadata": {
        "colab": {
          "base_uri": "https://localhost:8080/"
        },
        "id": "itiZ10d-j4jv",
        "outputId": "4709c562-e9db-4cfa-fd09-c9bf6f4b1a0a"
      },
      "execution_count": 29,
      "outputs": [
        {
          "output_type": "stream",
          "name": "stdout",
          "text": [
            "['Health' 'Financial Services' 'Property' 'IT' nan 'Retail' 'Argiculture'\n",
            " 'Manufacturing' 'Telecommunications' 'Entertainment']\n"
          ]
        }
      ]
    },
    {
      "cell_type": "code",
      "source": [
        "expected_categories = [\"Health\", \"Financial Services\", \"Property\", \"IT\", \"Retail\", \"Agriculture\", \"Manufacturing\", \"Telecommunications\", \"Entertainment\"]"
      ],
      "metadata": {
        "id": "CPGMBFE0kFaX"
      },
      "execution_count": 30,
      "outputs": []
    },
    {
      "cell_type": "code",
      "source": [
        "unexpected_categories = [category for category in unique_categories if category not in expected_categories]\n",
        "print(\"Unexpected Categories:\", unexpected_categories)"
      ],
      "metadata": {
        "colab": {
          "base_uri": "https://localhost:8080/"
        },
        "id": "_qU-IDQnka4M",
        "outputId": "a4a6c84b-5136-4721-bf43-01d6a4a563d9"
      },
      "execution_count": 31,
      "outputs": [
        {
          "output_type": "stream",
          "name": "stdout",
          "text": [
            "Unexpected Categories: [nan, 'Argiculture']\n"
          ]
        }
      ]
    },
    {
      "cell_type": "code",
      "source": [
        "category_counts = customer_demographic['job_industry_category'].value_counts()\n",
        "print(\"Category Counts:\\n\", category_counts)\n"
      ],
      "metadata": {
        "colab": {
          "base_uri": "https://localhost:8080/"
        },
        "id": "Tv8ykP2hkcpM",
        "outputId": "5bff722b-9f58-495f-9b3f-a203bcb449d9"
      },
      "execution_count": 32,
      "outputs": [
        {
          "output_type": "stream",
          "name": "stdout",
          "text": [
            "Category Counts:\n",
            " Manufacturing         799\n",
            "Financial Services    774\n",
            "Health                602\n",
            "Retail                358\n",
            "Property              267\n",
            "IT                    223\n",
            "Entertainment         136\n",
            "Argiculture           113\n",
            "Telecommunications     72\n",
            "Name: job_industry_category, dtype: int64\n"
          ]
        }
      ]
    },
    {
      "cell_type": "markdown",
      "source": [
        "\"Manufacturing\" and \"Financial Services\" are the most common industry categories among your customers."
      ],
      "metadata": {
        "id": "CQOshI68k_IN"
      }
    },
    {
      "cell_type": "code",
      "source": [
        "# Assuming 'wealth_segment' is the column of interest\n",
        "wealth_segment_column = customer_demographic['wealth_segment']\n",
        "\n",
        "# 1. Check Unique Values:\n",
        "unique_values = wealth_segment_column.unique()\n",
        "print(unique_values)"
      ],
      "metadata": {
        "colab": {
          "base_uri": "https://localhost:8080/"
        },
        "id": "YfATsKvYmHOL",
        "outputId": "d90c76e9-3d44-4f10-b17a-5ccf7676f49a"
      },
      "execution_count": 33,
      "outputs": [
        {
          "output_type": "stream",
          "name": "stdout",
          "text": [
            "['Mass Customer' 'Affluent Customer' 'High Net Worth']\n"
          ]
        }
      ]
    },
    {
      "cell_type": "code",
      "source": [
        "expected_categories = [\"Mass Customer\", \"High Net Worth\", \"Affluent Customer\"]  # List of expected categories\n",
        "\n",
        "# Check if unique values match the expected categories\n",
        "unexpected_values = [value for value in unique_values if value not in expected_categories]\n",
        "\n",
        "if unexpected_values:\n",
        "    print(\"Unexpected Wealth Segment Values:\")\n",
        "    print(unexpected_values)\n",
        "else:\n",
        "    print(\"Wealth segment values match the expected categories.\")"
      ],
      "metadata": {
        "colab": {
          "base_uri": "https://localhost:8080/"
        },
        "id": "QlUMDmZ-mdrz",
        "outputId": "356449b0-6fa2-4f28-8d8d-a4b233a1e728"
      },
      "execution_count": 34,
      "outputs": [
        {
          "output_type": "stream",
          "name": "stdout",
          "text": [
            "Wealth segment values match the expected categories.\n"
          ]
        }
      ]
    },
    {
      "cell_type": "code",
      "source": [
        "# 2. Check for Consistency:\n",
        "segment_counts = wealth_segment_column.value_counts()\n",
        "\n",
        "# Display the counts of each wealth segment\n",
        "print(\"\\nWealth Segment Counts:\")\n",
        "print(segment_counts)"
      ],
      "metadata": {
        "colab": {
          "base_uri": "https://localhost:8080/"
        },
        "id": "kOIteTKomoNm",
        "outputId": "3b877edb-7776-4cb9-dc27-354321c66002"
      },
      "execution_count": 35,
      "outputs": [
        {
          "output_type": "stream",
          "name": "stdout",
          "text": [
            "\n",
            "Wealth Segment Counts:\n",
            "Mass Customer        2000\n",
            "High Net Worth       1021\n",
            "Affluent Customer     979\n",
            "Name: wealth_segment, dtype: int64\n"
          ]
        }
      ]
    },
    {
      "cell_type": "markdown",
      "source": [
        "The \"wealth_segment\" column appears to have consistent and expected values. The counts align with the categories you mentioned earlier (\"Mass Customer,\" \"High Net Worth,\" and \"Affluent Customer\"). The counts show how many customers fall into each wealth segment category, providing valuable insights into the distribution of customer wealth segments within the dataset."
      ],
      "metadata": {
        "id": "Wtpx504ym89b"
      }
    },
    {
      "cell_type": "code",
      "source": [
        "# Check unique values in the 'deceased_indicator' column\n",
        "unique_deceased_values = customer_demographic['deceased_indicator'].unique()\n",
        "print(unique_deceased_values)"
      ],
      "metadata": {
        "colab": {
          "base_uri": "https://localhost:8080/"
        },
        "id": "MguF8_VKvDY8",
        "outputId": "1b5314c5-d8ab-4c68-f74a-e63edf083e2e"
      },
      "execution_count": 36,
      "outputs": [
        {
          "output_type": "stream",
          "name": "stdout",
          "text": [
            "['N' 'Y']\n"
          ]
        }
      ]
    },
    {
      "cell_type": "code",
      "source": [
        "# Ensure that only 'Y' and 'N' are valid values for the 'deceased_indicator' column\n",
        "valid_values = ['Y', 'N']\n",
        "\n",
        "# Check for inconsistent values\n",
        "inconsistent_values = [value for value in unique_deceased_values if value not in valid_values]\n",
        "\n",
        "if inconsistent_values:\n",
        "    # Print and handle inconsistent values\n",
        "    print(\"Inconsistent values found in 'deceased_indicator':\", inconsistent_values)\n",
        "\n",
        "else:\n",
        "    # No inconsistent values found, the data is consistent\n",
        "    print(\"No inconsistent values found in 'deceased_indicator' column.\")"
      ],
      "metadata": {
        "colab": {
          "base_uri": "https://localhost:8080/"
        },
        "id": "iLsga-QDvNeX",
        "outputId": "446778a8-0037-4d6c-c375-000cd24d10fd"
      },
      "execution_count": 37,
      "outputs": [
        {
          "output_type": "stream",
          "name": "stdout",
          "text": [
            "No inconsistent values found in 'deceased_indicator' column.\n"
          ]
        }
      ]
    },
    {
      "cell_type": "code",
      "source": [
        "# Examine unique values in the 'Default' column\n",
        "unique_defaults =customer_demographic['default'].unique()\n",
        "print(unique_defaults)"
      ],
      "metadata": {
        "colab": {
          "base_uri": "https://localhost:8080/"
        },
        "id": "kwoWOWRAvvxJ",
        "outputId": "11c5f567-97ae-451a-c592-9d3b75bdde4a"
      },
      "execution_count": 38,
      "outputs": [
        {
          "output_type": "stream",
          "name": "stdout",
          "text": [
            "['\"\\'' \"<script>alert('hi')</script>\" datetime.datetime(2018, 2, 1, 0, 0)\n",
            " '() { _; } >_[$($())] { touch /tmp/blns.shellshock2.fail; }' 'NIL'\n",
            " 'ðµ ð ð ð' 'â°â´âµâââ' '(â¯Â°â¡Â°ï¼â¯ï¸µ â»ââ»)' '0/0' 'ð©ð½'\n",
            " 'ÅâÂ´Â®â\\xa0Â¥Â¨ËÃ¸Ïââ' 'nil' -100 'â°â´âµ' 'ð'\n",
            " 1000000000000000049861653971908893017010268485438462151574892930611988399099305815384459015356416\n",
            " 'ï¾ï½¥â¿ã¾â²(ï½¡ââ¿âï½¡)â±â¿ï½¥ï¾' 'Î©âÃ§ââ«ËÂµâ¤â¥Ã·' 'ÅâÂ´â°ËÃÂ¨ËÃâââ'\n",
            " 'ï¼ï¼ï¼' '../../../../../../../../../../../etc/hosts'\n",
            " '×Ö¸×Ö°×ªÖ¸×testØ§ÙØµÙØ\\xadØ§Øª Ø§ÙØªÙØ\\xadÙÙ' '<>?:\"{}|_+' '\\'\\'\\'\\'\"'\n",
            " \",./;'[]\\\\-=\" '() { 0; }; touch /tmp/blns.shellshock1.fail;'\n",
            " 'ì¬íê³¼íì ì´íì°êµ¬ì' 'testâ\\xa0testâ«'\n",
            " '0ï¸â£ 1ï¸â£ 2ï¸â£ 3ï¸â£ 4ï¸â£ 5ï¸â£ 6ï¸â£ 7ï¸â£ 8ï¸â£ 9ï¸â£ ð' nan\n",
            " '!@#$%^&*()' \"'\"\n",
            " 'Ì¦HÍÌ¬Ì¤ÌÌ¤eÍ ÍÌÌ¥ÌÌ»ÍÌwÌhÌÌ¯ÍoÌÍÌÍÌ±Ì® ÒÌºÌÌÌÍWÌ·Ì¼Ì\\xadaÌºÌªÍiÌ¨ÍÍÌ\\xadÍÌ¯ÌtÌ¶Ì¼Ì®sÌÌÍÍ Ì\\xa0Ì«Ì\\xa0BÌ»ÍÍÍÍÌ³eÌµhÌµÌ¬ÍÌ«ÍiÌÌ¹ÍÌ³Ì³Ì®ÍÌ«nÍdÌ´ÌªÌÌ ÍÌ°ÍÌ©ÍÍÍÌ²TÍ¢ÍÌ¼ÍÌªhÍÍÌ®Ì»eÌ¬ÌÍÌ Ì¤Ì¹ÌWÍÍÍÌÌÍÍaÍÍÍÌ¹Ì¼'\n",
            " '../../../../../../../../../../../etc/passwd%00' 'åè£½æ¼¢èª'\n",
            " '`ââ¬â¹âºï¬ï¬â¡Â°Â·ââÂ±' 'ãã¼ãã£ã¼ã¸è¡ããªãã' 1 -0.5\n",
            " 'ZÌ®ÌÍÌ\\xa0ÍÍAÌ¥ÌÌÍÌ»ÌLÌ£ÍÍÌ¯Ì¹ÌÍGÌ»OÌ\\xadÌÌ®' 'ã' 100\n",
            " '1;DROP TABLE users' -1 'á' '(ï¾à²¥çà²¥ï¼ï¾ï»¿ â»ââ»' '00ËÆ$-' '1/0'\n",
            " 'ï½ï½¨(Â´âï½â©' \"<svg><script>0<1>alert('XSS')</script>\" 'âââ'\n",
            " 'ã»(ï¿£âï¿£)ã»:*:' ',ãã»:*:ã»ãâ( â» Ï â» )ãã»:*:ã»ãâ' 'â¢'\n",
            " 'ç°ä¸\\xadããã«ããã¦ä¸ãã' '__ï¾(,_,*)' 'Ù¡Ù¢Ù£'\n",
            " 'Ø«Ù ÙÙØ³ Ø³ÙØ·Øª ÙØ¨Ø§ÙØªØ\\xadØ¯ÙØ¯Ø, Ø¬Ø²ÙØ±ØªÙ Ø¨Ø§Ø³ØªØ®Ø¯Ø§Ù Ø£Ù Ø¯ÙÙ. Ø¥Ø° ÙÙØ§Ø Ø§ÙØ³ØªØ§Ø± ÙØªÙØµÙØ¨ ÙØ§Ù. Ø£ÙÙÙ Ø§ÙØ·Ø§ÙÙØ§Ø Ø¨Ø±ÙØ·Ø§ÙÙØ§-ÙØ±ÙØ³Ø§ ÙØ¯ Ø£Ø®Ø°. Ø³ÙÙÙØ§ÙØ Ø¥ØªÙØ§ÙÙØ© Ø¨ÙÙ ÙØ§, ÙØ°ÙØ± Ø'\n",
            " 'ð¾ ð ð ð ð ð ð ð§' \"<img src=x onerror=alert('hi') />\"\n",
            " 'ã½à¼¼àºÙÍàºà¼½ï¾ ã½à¼¼àºÙÍàºà¼½ï¾' 'âð¿ ðªð¿ ðð¿ ðð¿ ðð¿ ðð¿'\n",
            " 'TÌÌ\\xadÌºÌºoÍ Ì·iÌ²Ì¬ÍÌªÍnÌÌÍvÍÌÌÌÌ¦oÌ¶ÌÌ°Ì\\xa0keÍÍÌ®ÌºÌªÌ¹Ì±Ì¤ ÌtÍÌÍÌ³Ì£Ì»ÌªhÌ¼ÍÌ²Ì¦Ì³ÌÌ²eÍÌ£Ì°Ì¦Ì¬Í Ì¢Ì¼Ì»Ì±ÌhÍÍÍÍÌÌ£Ì²iÌ¦Ì²Ì£Ì°Ì¤vÌ»ÍeÌºÌ\\xadÌ³ÌªÌ°-mÌ¢iÍnÌÌºÌÌ²Ì¯Ì°dÌµÌ¼ÌÍÌ©Ì¼ÌÌ³ ÌÌ¥Ì±Ì³Ì\\xadrÌÌÌeÍpÍ\\xa0rÌ¼ÌÌ»Ì\\xadÌeÍÌºÌ\\xa0Ì£sÌ'\n",
            " 'ÃÃÃÃËÃÃï£¿ÃÃÃâ' '(ï½¡â â âï½¡)' 'é¨è½æ\\xa0¼'\n",
            " \"ËÉnbá´lÉ ÉuÆÉÉ¯ ÇÉ¹olop ÊÇ ÇÉ¹oqÉl Ên Êunpá´pá´Éuá´ É¹odÉ¯ÇÊ poÉ¯sná´Ç op pÇs 'Êá´lÇ Æuá´Ésá´dá´pÉ É¹nÊÇÊÉÇsuoÉ 'ÊÇÉ¯É Êá´s É¹olop É¯nsdá´ É¯ÇÉ¹oË¥\"\n",
            " 'á\\xa0'\n",
            " '×Ö¼Ö°×¨Öµ××©×Ö´××ª, ×Ö¼Ö¸×¨Ö¸× ×Ö±×Ö¹×Ö´××, ×Öµ×ª ×Ö·×©Ö¼×Ö¸×Ö·×Ö´×, ×Ö°×Öµ×ª ×Ö¸×Ö¸×¨Ö¶×¥'\n",
            " 'Â¡â¢Â£Â¢âÂ§Â¶â¢ÂªÂºââ\\xa0' '/dev/null; touch /tmp/blns.fail ; echo'\n",
            " \"1'; DROP TABLE users--\" 'ð¾ ð ð ð ð ð ð ð'\n",
            " 'Ì¡ÍÍÌIÍÌÌÌ¦nÍÍÍvÌ®Ì«okÌ²Ì«ÌÍiÌÍÌ\\xadÌ¹Ì\\xa0ÌnÌ¡Ì»Ì®Ì£ÌºgÌ²ÍÍÌ\\xadÍÌ¬Í Ì°tÍÌ¦hÌÌ²eÌ¢Ì¤ ÍÌ¬Ì²ÍfÌ´ÌÍÌ£eÍÍeÌ£Ì¥Ì©lÍÍÍiÍ\\xa0ÍÍÌ¦nÍÍÌÍÌ³Ì®gÍ Ì¨oÍ¡ÍÌªfÌÌ£Ì¬ ÌÌÍÌÍÌ®cÒÍÌ«ÍÍÍÍÍhÌµÌ¤Ì£ÍÍaÍÌÌ¼ÍÍoÌ¼Ì£Ì¥sÍ¢Ì±ÍÌºÌÌ¦Ì».ÌÌ'\n",
            " 'â' 'Â¸ËÃâÄ±ËÃÂ¯ËÂ¿' 'ì¸ëë°í\\xa0ë¥´'\n",
            " 'ÌÌºÍÌ¹Ì¯ÍTÌ±Ì¤ÍÌ¥ÍÍhÍÌ²eÍÍÌ¼ÌÌÌ¼Ì£Í ÍÌÌ±Ì\\xa0ÍÍÍNÍ\\xa0ÍeÌÌ±zÌÌÌÌºÍpÌ¤ÌºÌ¹ÍÌ¯ÍeÍÌ\\xa0Ì»Ì\\xa0rÌ¨Ì¤ÍÌºÌÍÌÌdÍÌ\\xa0ÌÌ\\xadÌ¬ÌiÌ¦ÍÌ©ÍÍÌ¤aÌ\\xa0ÌÌ¬ÍÌnÍÍ Ì»ÌÌ°ÍÍhÌµÍiÌ³ÌvÌ¢ÍeÍÌ\\xadÍ-ÒÌ\\xadÌ©Ì¼ÍmÌ¤Ì\\xadÌ«iÍÍÌÌ¦nÌÍdÌ£Ì ÍÌ¯Ì²ÍoÌ¨ÌÌ¯Ì°Ì²'\n",
            " 0 'â©testâ©' 'â£' 'Ã¥ÃâÆÂ©ËâËÂ¬â¦Ã¦' 'ç¤¾æç§å\\xad¸é¢èªå\\xad¸ç\\xa0ç©¶æ'\n",
            " 'âªâªtestâª' 'ï»¿' 'â¤ï¸ ð ð ð ð ð ð ð ð ð ð ð ð ð ð' 'â«testâ«'\n",
            " 'â¦testâ§' '\\'\"\\'\\'\\'\\'\"' 'â¡'\n",
            " 'ð\\xa0ð\\xa0±ð\\xa0¹ð\\xa0±ð\\xa0±¸ð\\xa0²ð\\xa0³']\n"
          ]
        }
      ]
    },
    {
      "cell_type": "markdown",
      "source": [
        "The 'default' column seems to have some random text entries in it. And it seems to serve no purpose so it can be dropped from the table."
      ],
      "metadata": {
        "id": "LwGmrhnGp71s"
      }
    },
    {
      "cell_type": "markdown",
      "source": [
        "The output for the unique values in the \"Default\" column appears to contain a wide range of unexpected and non-standard values, including special characters, symbols, and unusual text strings. This suggests that there may be data quality issues or data entry errors in this column."
      ],
      "metadata": {
        "id": "s2WBVzX_wKzT"
      }
    },
    {
      "cell_type": "code",
      "source": [
        "customer_demographic = customer_demographic.drop('default', axis=1)"
      ],
      "metadata": {
        "id": "pDuOUQiSp9Tr"
      },
      "execution_count": 39,
      "outputs": []
    },
    {
      "cell_type": "code",
      "source": [
        "# Check unique values in the \"owns_car\" column\n",
        "unique_values = customer_demographic['owns_car'].unique()\n",
        "print(unique_values)"
      ],
      "metadata": {
        "colab": {
          "base_uri": "https://localhost:8080/"
        },
        "id": "U_2jA2uAwo_6",
        "outputId": "8efde0f7-623d-4aec-a8b0-6e97620e1e88"
      },
      "execution_count": 40,
      "outputs": [
        {
          "output_type": "stream",
          "name": "stdout",
          "text": [
            "['Yes' 'No']\n"
          ]
        }
      ]
    },
    {
      "cell_type": "code",
      "source": [
        "# Check for inconsistencies (non-\"Yes\" or \"No\" values)\n",
        "inconsistent_values = [value for value in unique_values if value not in [\"Yes\", \"No\"]]\n",
        "\n",
        "# Print inconsistent values\n",
        "if inconsistent_values:\n",
        "    print(\"Inconsistent 'owns_car' values:\", inconsistent_values)\n",
        "else:\n",
        "    print(\"All 'owns_car' values are consistent.\")"
      ],
      "metadata": {
        "colab": {
          "base_uri": "https://localhost:8080/"
        },
        "id": "hiW05PGiw0sP",
        "outputId": "1b15c317-3d6b-42cf-8d7c-ce0527f17048"
      },
      "execution_count": 41,
      "outputs": [
        {
          "output_type": "stream",
          "name": "stdout",
          "text": [
            "All 'owns_car' values are consistent.\n"
          ]
        }
      ]
    },
    {
      "cell_type": "code",
      "source": [
        "# Check for missing values in the \"owns_car\" column\n",
        "missing_values = customer_demographic['owns_car'].isnull().sum()\n",
        "print(\"Missing 'owns_car' values:\", missing_values)"
      ],
      "metadata": {
        "colab": {
          "base_uri": "https://localhost:8080/"
        },
        "id": "Q65HFQZnw9sG",
        "outputId": "34d0f3a5-af5b-4e84-8d61-60b04b1851c3"
      },
      "execution_count": 42,
      "outputs": [
        {
          "output_type": "stream",
          "name": "stdout",
          "text": [
            "Missing 'owns_car' values: 0\n"
          ]
        }
      ]
    },
    {
      "cell_type": "code",
      "source": [
        "# Check for negative tenure values\n",
        "negative_tenure = customer_demographic[customer_demographic['tenure'] < 0]\n",
        "\n",
        "# Check for unrealistic tenure values (you can define a threshold)\n",
        "unrealistic_tenure = customer_demographic[customer_demographic['tenure'] > 100]  # Adjust the threshold as needed\n",
        "\n",
        "# Display the rows with negative tenure values (if any)\n",
        "print(\"Rows with Negative Tenure:\")\n",
        "print(negative_tenure)\n",
        "\n",
        "# Display the rows with unrealistic tenure values (if any)\n",
        "print(\"\\nRows with Unrealistic Tenure:\")\n",
        "print(unrealistic_tenure)"
      ],
      "metadata": {
        "colab": {
          "base_uri": "https://localhost:8080/"
        },
        "id": "Me4kIsotxRJv",
        "outputId": "1121628d-7c69-4044-cf73-29fbfb02da80"
      },
      "execution_count": 43,
      "outputs": [
        {
          "output_type": "stream",
          "name": "stdout",
          "text": [
            "Rows with Negative Tenure:\n",
            "Empty DataFrame\n",
            "Columns: [customer_id, first_name, last_name, gender, past_3_years_bike_related_purchases, DOB, job_title, job_industry_category, wealth_segment, deceased_indicator, owns_car, tenure]\n",
            "Index: []\n",
            "\n",
            "Rows with Unrealistic Tenure:\n",
            "Empty DataFrame\n",
            "Columns: [customer_id, first_name, last_name, gender, past_3_years_bike_related_purchases, DOB, job_title, job_industry_category, wealth_segment, deceased_indicator, owns_car, tenure]\n",
            "Index: []\n"
          ]
        }
      ]
    },
    {
      "cell_type": "code",
      "source": [
        "plt.figure(figsize=[6,4])\n",
        "sns.countplot(x='owns_car', data=customer_demographic);\n",
        "plt.title('Customers having cars', fontsize = 15);\n",
        "plt.xlabel('Car owners', fontsize = 15);\n",
        "plt.ylabel('Number of customers', fontsize = 15)\n",
        "plt.tight_layout()"
      ],
      "metadata": {
        "colab": {
          "base_uri": "https://localhost:8080/",
          "height": 407
        },
        "id": "8WcaMwP10LLv",
        "outputId": "5144a274-c28a-43b2-e407-76d8a30b5b88"
      },
      "execution_count": 44,
      "outputs": [
        {
          "output_type": "display_data",
          "data": {
            "text/plain": [
              "<Figure size 600x400 with 1 Axes>"
            ],
            "image/png": "[encoded data removed]"
          },
          "metadata": {}
        }
      ]
    },
    {
      "cell_type": "code",
      "source": [
        "def Plots(x, color, title, xlab, ylab, *size):\n",
        "    plt.figure(figsize=size)\n",
        "    sns.countplot(x=x, data=customer_demographic, color = color);\n",
        "    plt.title(title, fontsize = 15);\n",
        "    plt.xlabel(xlab, fontsize = 15);\n",
        "    plt.ylabel(ylab, fontsize = 15)\n",
        "    plt.tight_layout()"
      ],
      "metadata": {
        "id": "A0RpfENa04QA"
      },
      "execution_count": 45,
      "outputs": []
    },
    {
      "cell_type": "code",
      "source": [
        "Plots(\"job_industry_category\",\"orange\",\"Job Industry Distribution\",\"Industry\",\"Number of customers\",13,4)"
      ],
      "metadata": {
        "colab": {
          "base_uri": "https://localhost:8080/",
          "height": 406
        },
        "id": "-Q3xLwyW0eTH",
        "outputId": "64e7b587-148c-4bd5-97e1-c5315ceecf58"
      },
      "execution_count": 46,
      "outputs": [
        {
          "output_type": "display_data",
          "data": {
            "text/plain": [
              "<Figure size 1300x400 with 1 Axes>"
            ],
            "image/png": "[encoded data removed]"
          },
          "metadata": {}
        }
      ]
    },
    {
      "cell_type": "markdown",
      "source": [
        "Observations:\n",
        "\n",
        "* There are a major number of customers under Manufacturing and Financial Services followed by Health\n",
        "* The number of customers under Telecommunications followed by Agriculture are the least"
      ],
      "metadata": {
        "id": "V_NO3DvG3gQs"
      }
    },
    {
      "cell_type": "code",
      "source": [
        "Plots(\"wealth_segment\",\"deeppink\",\"Wealth Class Distribution\",\"Wealth Class\",\"Number of customers\",6,4)"
      ],
      "metadata": {
        "colab": {
          "base_uri": "https://localhost:8080/",
          "height": 407
        },
        "id": "U0FOjB4z3qgc",
        "outputId": "f14fbf1a-ac92-42cf-c3ef-1958b2612b51"
      },
      "execution_count": 47,
      "outputs": [
        {
          "output_type": "display_data",
          "data": {
            "text/plain": [
              "<Figure size 600x400 with 1 Axes>"
            ],
            "image/png": "[encoded data removed]"
          },
          "metadata": {}
        }
      ]
    },
    {
      "cell_type": "markdown",
      "source": [
        "Observations:\n",
        "\n",
        "* There are a major number of customers under Mass Customer followed by High New Worth Customers\n",
        "* The number of customers under Affleunt Customers and High New Worth Customers are almost equal"
      ],
      "metadata": {
        "id": "I48wTEZl3tTx"
      }
    },
    {
      "cell_type": "code",
      "source": [
        "plt.figure(figsize=[6,4])\n",
        "sns.countplot(x='gender', data=customer_demographic);\n",
        "plt.title('Distribution of Gender', fontsize = 15);\n",
        "plt.xlabel('Gender', fontsize = 15);\n",
        "plt.ylabel('Number of customers', fontsize = 15)\n",
        "plt.tight_layout()"
      ],
      "metadata": {
        "colab": {
          "base_uri": "https://localhost:8080/",
          "height": 407
        },
        "id": "9d5t7EVP34al",
        "outputId": "0b689f60-91f7-4ad2-d003-248836579805"
      },
      "execution_count": 48,
      "outputs": [
        {
          "output_type": "display_data",
          "data": {
            "text/plain": [
              "<Figure size 600x400 with 1 Axes>"
            ],
            "image/png": "[encoded data removed]"
          },
          "metadata": {}
        }
      ]
    },
    {
      "cell_type": "markdown",
      "source": [
        "Observations:\n",
        "\n",
        "* As per the data being provided, it is seen that there are a greater number of Females than other genders\n",
        "* The label U denotes the Unknown gender class"
      ],
      "metadata": {
        "id": "xj1oS5cZ4Azy"
      }
    },
    {
      "cell_type": "markdown",
      "source": [
        "## 3. Data Redundancy"
      ],
      "metadata": {
        "id": "4dXLtKhf7_Fc"
      }
    },
    {
      "cell_type": "code",
      "source": [
        "# Check for duplicate customer IDs\n",
        "duplicate_customer_ids = customer_demographic[customer_demographic.duplicated(subset=['customer_id'], keep=False)]\n",
        "\n",
        "# Display duplicate records (if any)\n",
        "if not duplicate_customer_ids.empty:\n",
        "    print(\"Duplicate Customer IDs:\")\n",
        "    print(duplicate_customer_ids)\n",
        "else:\n",
        "    print(\"No Duplicate Customer IDs Found\")"
      ],
      "metadata": {
        "colab": {
          "base_uri": "https://localhost:8080/"
        },
        "id": "IrpdHHLO8B_d",
        "outputId": "bcaac453-36ea-41bf-855f-512be9226217"
      },
      "execution_count": 49,
      "outputs": [
        {
          "output_type": "stream",
          "name": "stdout",
          "text": [
            "No Duplicate Customer IDs Found\n"
          ]
        }
      ]
    },
    {
      "cell_type": "markdown",
      "source": [
        "## 4. Data Integrity"
      ],
      "metadata": {
        "id": "ejTy7gdy8wGt"
      }
    },
    {
      "cell_type": "code",
      "source": [
        "# Use df.isnull().sum() to count missing values in each column\n",
        "missing_values = customer_demographic.isnull().sum()\n",
        "\n",
        "# Print the results to see the extent of missing data in each column\n",
        "print(\"Missing Values in Each Column:\")\n",
        "print(missing_values)"
      ],
      "metadata": {
        "colab": {
          "base_uri": "https://localhost:8080/"
        },
        "id": "LI-k_QVk9CQu",
        "outputId": "246a3348-aa16-4327-eef3-18fc78a77d6e"
      },
      "execution_count": 50,
      "outputs": [
        {
          "output_type": "stream",
          "name": "stdout",
          "text": [
            "Missing Values in Each Column:\n",
            "customer_id                              0\n",
            "first_name                               0\n",
            "last_name                              125\n",
            "gender                                   0\n",
            "past_3_years_bike_related_purchases      0\n",
            "DOB                                     87\n",
            "job_title                              506\n",
            "job_industry_category                  656\n",
            "wealth_segment                           0\n",
            "deceased_indicator                       0\n",
            "owns_car                                 0\n",
            "tenure                                  87\n",
            "dtype: int64\n"
          ]
        }
      ]
    },
    {
      "cell_type": "markdown",
      "source": [
        "## 5. Data Currency"
      ],
      "metadata": {
        "id": "KvLrO-M_ChBl"
      }
    },
    {
      "cell_type": "code",
      "source": [
        "# Define your reasonable tenure range\n",
        "reasonable_tenure_range = (0, 20)  # Adjust based on your business history\n",
        "\n",
        "# Filter rows where tenure is outside the reasonable range\n",
        "tenure_outside_range = customer_demographic[(customer_demographic['tenure'] < reasonable_tenure_range[0]) | (customer_demographic['tenure'] > reasonable_tenure_range[1])]\n",
        "\n",
        "# Display the customers with extreme tenure values\n",
        "print(\"Customers with extreme tenure values:\")\n",
        "tenure_outside_range\n"
      ],
      "metadata": {
        "colab": {
          "base_uri": "https://localhost:8080/",
          "height": 687
        },
        "id": "_lJiUNVgAoE0",
        "outputId": "a7fa836b-9d56-4f3d-b690-b22d2bb2ab60"
      },
      "execution_count": 51,
      "outputs": [
        {
          "output_type": "stream",
          "name": "stdout",
          "text": [
            "Customers with extreme tenure values:\n"
          ]
        },
        {
          "output_type": "execute_result",
          "data": {
            "text/plain": [
              "      customer_id first_name last_name  gender  \\\n",
              "24             25      Geoff     Assaf    Male   \n",
              "27             28        Fee   Zellmer    Male   \n",
              "35             36    Lurette  Stonnell  Female   \n",
              "38             39   Hunfredo   Smalley    Male   \n",
              "61             62     Sorcha   Roggers  Female   \n",
              "...           ...        ...       ...     ...   \n",
              "3911         3912       Ryon  Darridon    Male   \n",
              "3913         3914     Izabel   Roelofs  Female   \n",
              "3929         3930    Blancha     Baldi  Female   \n",
              "3967         3968  Alexandra     Kroch  Female   \n",
              "3985         3986     Oralle  Petrello  Female   \n",
              "\n",
              "      past_3_years_bike_related_purchases        DOB  \\\n",
              "24                                     72 1976-12-02   \n",
              "27                                      5 1973-09-30   \n",
              "35                                     33 1977-11-09   \n",
              "38                                      5 1979-04-16   \n",
              "61                                     38 1979-07-06   \n",
              "...                                   ...        ...   \n",
              "3911                                   89 1986-10-27   \n",
              "3913                                   79 1988-05-21   \n",
              "3929                                   43 1988-01-06   \n",
              "3967                                   99 1977-12-22   \n",
              "3985                                    1 1976-12-01   \n",
              "\n",
              "                     job_title job_industry_category     wealth_segment  \\\n",
              "24    Accounting Assistant III    Financial Services      Mass Customer   \n",
              "27     Senior Quality Engineer                Health  Affluent Customer   \n",
              "35          VP Quality Control                   NaN  Affluent Customer   \n",
              "38     Assistant Media Planner         Entertainment      Mass Customer   \n",
              "61                         NaN                    IT      Mass Customer   \n",
              "...                        ...                   ...                ...   \n",
              "3911             Social Worker                Health  Affluent Customer   \n",
              "3913         Assistant Manager         Entertainment  Affluent Customer   \n",
              "3929                       NaN    Financial Services     High Net Worth   \n",
              "3967                       NaN              Property     High Net Worth   \n",
              "3985             Social Worker                Health      Mass Customer   \n",
              "\n",
              "     deceased_indicator owns_car  tenure  \n",
              "24                    N      Yes    21.0  \n",
              "27                    N      Yes    21.0  \n",
              "35                    N       No    22.0  \n",
              "38                    N       No    22.0  \n",
              "61                    N      Yes    22.0  \n",
              "...                 ...      ...     ...  \n",
              "3911                  N       No    22.0  \n",
              "3913                  N      Yes    22.0  \n",
              "3929                  N       No    22.0  \n",
              "3967                  N       No    22.0  \n",
              "3985                  N       No    21.0  \n",
              "\n",
              "[109 rows x 12 columns]"
            ],
            "text/html": [
              "\n",
              "  <div id=\"df-ddc1f976-31ca-42cf-a758-2d76da925500\" class=\"colab-df-container\">\n",
              "    <div>\n",
              "<style scoped>\n",
              "    .dataframe tbody tr th:only-of-type {\n",
              "        vertical-align: middle;\n",
              "    }\n",
              "\n",
              "    .dataframe tbody tr th {\n",
              "        vertical-align: top;\n",
              "    }\n",
              "\n",
              "    .dataframe thead th {\n",
              "        text-align: right;\n",
              "    }\n",
              "</style>\n",
              "<table border=\"1\" class=\"dataframe\">\n",
              "  <thead>\n",
              "    <tr style=\"text-align: right;\">\n",
              "      <th></th>\n",
              "      <th>customer_id</th>\n",
              "      <th>first_name</th>\n",
              "      <th>last_name</th>\n",
              "      <th>gender</th>\n",
              "      <th>past_3_years_bike_related_purchases</th>\n",
              "      <th>DOB</th>\n",
              "      <th>job_title</th>\n",
              "      <th>job_industry_category</th>\n",
              "      <th>wealth_segment</th>\n",
              "      <th>deceased_indicator</th>\n",
              "      <th>owns_car</th>\n",
              "      <th>tenure</th>\n",
              "    </tr>\n",
              "  </thead>\n",
              "  <tbody>\n",
              "    <tr>\n",
              "      <th>24</th>\n",
              "      <td>25</td>\n",
              "      <td>Geoff</td>\n",
              "      <td>Assaf</td>\n",
              "      <td>Male</td>\n",
              "      <td>72</td>\n",
              "      <td>1976-12-02</td>\n",
              "      <td>Accounting Assistant III</td>\n",
              "      <td>Financial Services</td>\n",
              "      <td>Mass Customer</td>\n",
              "      <td>N</td>\n",
              "      <td>Yes</td>\n",
              "      <td>21.0</td>\n",
              "    </tr>\n",
              "    <tr>\n",
              "      <th>27</th>\n",
              "      <td>28</td>\n",
              "      <td>Fee</td>\n",
              "      <td>Zellmer</td>\n",
              "      <td>Male</td>\n",
              "      <td>5</td>\n",
              "      <td>1973-09-30</td>\n",
              "      <td>Senior Quality Engineer</td>\n",
              "      <td>Health</td>\n",
              "      <td>Affluent Customer</td>\n",
              "      <td>N</td>\n",
              "      <td>Yes</td>\n",
              "      <td>21.0</td>\n",
              "    </tr>\n",
              "    <tr>\n",
              "      <th>35</th>\n",
              "      <td>36</td>\n",
              "      <td>Lurette</td>\n",
              "      <td>Stonnell</td>\n",
              "      <td>Female</td>\n",
              "      <td>33</td>\n",
              "      <td>1977-11-09</td>\n",
              "      <td>VP Quality Control</td>\n",
              "      <td>NaN</td>\n",
              "      <td>Affluent Customer</td>\n",
              "      <td>N</td>\n",
              "      <td>No</td>\n",
              "      <td>22.0</td>\n",
              "    </tr>\n",
              "    <tr>\n",
              "      <th>38</th>\n",
              "      <td>39</td>\n",
              "      <td>Hunfredo</td>\n",
              "      <td>Smalley</td>\n",
              "      <td>Male</td>\n",
              "      <td>5</td>\n",
              "      <td>1979-04-16</td>\n",
              "      <td>Assistant Media Planner</td>\n",
              "      <td>Entertainment</td>\n",
              "      <td>Mass Customer</td>\n",
              "      <td>N</td>\n",
              "      <td>No</td>\n",
              "      <td>22.0</td>\n",
              "    </tr>\n",
              "    <tr>\n",
              "      <th>61</th>\n",
              "      <td>62</td>\n",
              "      <td>Sorcha</td>\n",
              "      <td>Roggers</td>\n",
              "      <td>Female</td>\n",
              "      <td>38</td>\n",
              "      <td>1979-07-06</td>\n",
              "      <td>NaN</td>\n",
              "      <td>IT</td>\n",
              "      <td>Mass Customer</td>\n",
              "      <td>N</td>\n",
              "      <td>Yes</td>\n",
              "      <td>22.0</td>\n",
              "    </tr>\n",
              "    <tr>\n",
              "      <th>...</th>\n",
              "      <td>...</td>\n",
              "      <td>...</td>\n",
              "      <td>...</td>\n",
              "      <td>...</td>\n",
              "      <td>...</td>\n",
              "      <td>...</td>\n",
              "      <td>...</td>\n",
              "      <td>...</td>\n",
              "      <td>...</td>\n",
              "      <td>...</td>\n",
              "      <td>...</td>\n",
              "      <td>...</td>\n",
              "    </tr>\n",
              "    <tr>\n",
              "      <th>3911</th>\n",
              "      <td>3912</td>\n",
              "      <td>Ryon</td>\n",
              "      <td>Darridon</td>\n",
              "      <td>Male</td>\n",
              "      <td>89</td>\n",
              "      <td>1986-10-27</td>\n",
              "      <td>Social Worker</td>\n",
              "      <td>Health</td>\n",
              "      <td>Affluent Customer</td>\n",
              "      <td>N</td>\n",
              "      <td>No</td>\n",
              "      <td>22.0</td>\n",
              "    </tr>\n",
              "    <tr>\n",
              "      <th>3913</th>\n",
              "      <td>3914</td>\n",
              "      <td>Izabel</td>\n",
              "      <td>Roelofs</td>\n",
              "      <td>Female</td>\n",
              "      <td>79</td>\n",
              "      <td>1988-05-21</td>\n",
              "      <td>Assistant Manager</td>\n",
              "      <td>Entertainment</td>\n",
              "      <td>Affluent Customer</td>\n",
              "      <td>N</td>\n",
              "      <td>Yes</td>\n",
              "      <td>22.0</td>\n",
              "    </tr>\n",
              "    <tr>\n",
              "      <th>3929</th>\n",
              "      <td>3930</td>\n",
              "      <td>Blancha</td>\n",
              "      <td>Baldi</td>\n",
              "      <td>Female</td>\n",
              "      <td>43</td>\n",
              "      <td>1988-01-06</td>\n",
              "      <td>NaN</td>\n",
              "      <td>Financial Services</td>\n",
              "      <td>High Net Worth</td>\n",
              "      <td>N</td>\n",
              "      <td>No</td>\n",
              "      <td>22.0</td>\n",
              "    </tr>\n",
              "    <tr>\n",
              "      <th>3967</th>\n",
              "      <td>3968</td>\n",
              "      <td>Alexandra</td>\n",
              "      <td>Kroch</td>\n",
              "      <td>Female</td>\n",
              "      <td>99</td>\n",
              "      <td>1977-12-22</td>\n",
              "      <td>NaN</td>\n",
              "      <td>Property</td>\n",
              "      <td>High Net Worth</td>\n",
              "      <td>N</td>\n",
              "      <td>No</td>\n",
              "      <td>22.0</td>\n",
              "    </tr>\n",
              "    <tr>\n",
              "      <th>3985</th>\n",
              "      <td>3986</td>\n",
              "      <td>Oralle</td>\n",
              "      <td>Petrello</td>\n",
              "      <td>Female</td>\n",
              "      <td>1</td>\n",
              "      <td>1976-12-01</td>\n",
              "      <td>Social Worker</td>\n",
              "      <td>Health</td>\n",
              "      <td>Mass Customer</td>\n",
              "      <td>N</td>\n",
              "      <td>No</td>\n",
              "      <td>21.0</td>\n",
              "    </tr>\n",
              "  </tbody>\n",
              "</table>\n",
              "<p>109 rows × 12 columns</p>\n",
              "</div>\n",
              "    <div class=\"colab-df-buttons\">\n",
              "\n",
              "  <div class=\"colab-df-container\">\n",
              "    <button class=\"colab-df-convert\" onclick=\"convertToInteractive('df-ddc1f976-31ca-42cf-a758-2d76da925500')\"\n",
              "            title=\"Convert this dataframe to an interactive table.\"\n",
              "            style=\"display:none;\">\n",
              "\n",
              "  <svg xmlns=\"http://www.w3.org/2000/svg\" height=\"24px\" viewBox=\"0 -960 960 960\">\n",
              "    <path d=\"M120-120v-720h720v720H120Zm60-500h600v-160H180v160Zm220 220h160v-160H400v160Zm0 220h160v-160H400v160ZM180-400h160v-160H180v160Zm440 0h160v-160H620v160ZM180-180h160v-160H180v160Zm440 0h160v-160H620v160Z\"/>\n",
              "  </svg>\n",
              "    </button>\n",
              "\n",
              "  <style>\n",
              "    .colab-df-container {\n",
              "      display:flex;\n",
              "      gap: 12px;\n",
              "    }\n",
              "\n",
              "    .colab-df-convert {\n",
              "      background-color: #E8F0FE;\n",
              "      border: none;\n",
              "      border-radius: 50%;\n",
              "      cursor: pointer;\n",
              "      display: none;\n",
              "      fill: #1967D2;\n",
              "      height: 32px;\n",
              "      padding: 0 0 0 0;\n",
              "      width: 32px;\n",
              "    }\n",
              "\n",
              "    .colab-df-convert:hover {\n",
              "      background-color: #E2EBFA;\n",
              "      box-shadow: 0px 1px 2px rgba(60, 64, 67, 0.3), 0px 1px 3px 1px rgba(60, 64, 67, 0.15);\n",
              "      fill: #174EA6;\n",
              "    }\n",
              "\n",
              "    .colab-df-buttons div {\n",
              "      margin-bottom: 4px;\n",
              "    }\n",
              "\n",
              "    [theme=dark] .colab-df-convert {\n",
              "      background-color: #3B4455;\n",
              "      fill: #D2E3FC;\n",
              "    }\n",
              "\n",
              "    [theme=dark] .colab-df-convert:hover {\n",
              "      background-color: #434B5C;\n",
              "      box-shadow: 0px 1px 3px 1px rgba(0, 0, 0, 0.15);\n",
              "      filter: drop-shadow(0px 1px 2px rgba(0, 0, 0, 0.3));\n",
              "      fill: #FFFFFF;\n",
              "    }\n",
              "  </style>\n",
              "\n",
              "    <script>\n",
              "      const buttonEl =\n",
              "        document.querySelector('#df-ddc1f976-31ca-42cf-a758-2d76da925500 button.colab-df-convert');\n",
              "      buttonEl.style.display =\n",
              "        google.colab.kernel.accessAllowed ? 'block' : 'none';\n",
              "\n",
              "      async function convertToInteractive(key) {\n",
              "        const element = document.querySelector('#df-ddc1f976-31ca-42cf-a758-2d76da925500');\n",
              "        const dataTable =\n",
              "          await google.colab.kernel.invokeFunction('convertToInteractive',\n",
              "                                                    [key], {});\n",
              "        if (!dataTable) return;\n",
              "\n",
              "        const docLinkHtml = 'Like what you see? Visit the ' +\n",
              "          '<a target=\"_blank\" href=https://colab.research.google.com/notebooks/data_table.ipynb>data table notebook</a>'\n",
              "          + ' to learn more about interactive tables.';\n",
              "        element.innerHTML = '';\n",
              "        dataTable['output_type'] = 'display_data';\n",
              "        await google.colab.output.renderOutput(dataTable, element);\n",
              "        const docLink = document.createElement('div');\n",
              "        docLink.innerHTML = docLinkHtml;\n",
              "        element.appendChild(docLink);\n",
              "      }\n",
              "    </script>\n",
              "  </div>\n",
              "\n",
              "\n",
              "<div id=\"df-e59349b7-a7c5-46b3-8556-ab895d09c719\">\n",
              "  <button class=\"colab-df-quickchart\" onclick=\"quickchart('df-e59349b7-a7c5-46b3-8556-ab895d09c719')\"\n",
              "            title=\"Suggest charts.\"\n",
              "            style=\"display:none;\">\n",
              "\n",
              "<svg xmlns=\"http://www.w3.org/2000/svg\" height=\"24px\"viewBox=\"0 0 24 24\"\n",
              "     width=\"24px\">\n",
              "    <g>\n",
              "        <path d=\"M19 3H5c-1.1 0-2 .9-2 2v14c0 1.1.9 2 2 2h14c1.1 0 2-.9 2-2V5c0-1.1-.9-2-2-2zM9 17H7v-7h2v7zm4 0h-2V7h2v10zm4 0h-2v-4h2v4z\"/>\n",
              "    </g>\n",
              "</svg>\n",
              "  </button>\n",
              "\n",
              "<style>\n",
              "  .colab-df-quickchart {\n",
              "      --bg-color: #E8F0FE;\n",
              "      --fill-color: #1967D2;\n",
              "      --hover-bg-color: #E2EBFA;\n",
              "      --hover-fill-color: #174EA6;\n",
              "      --disabled-fill-color: #AAA;\n",
              "      --disabled-bg-color: #DDD;\n",
              "  }\n",
              "\n",
              "  [theme=dark] .colab-df-quickchart {\n",
              "      --bg-color: #3B4455;\n",
              "      --fill-color: #D2E3FC;\n",
              "      --hover-bg-color: #434B5C;\n",
              "      --hover-fill-color: #FFFFFF;\n",
              "      --disabled-bg-color: #3B4455;\n",
              "      --disabled-fill-color: #666;\n",
              "  }\n",
              "\n",
              "  .colab-df-quickchart {\n",
              "    background-color: var(--bg-color);\n",
              "    border: none;\n",
              "    border-radius: 50%;\n",
              "    cursor: pointer;\n",
              "    display: none;\n",
              "    fill: var(--fill-color);\n",
              "    height: 32px;\n",
              "    padding: 0;\n",
              "    width: 32px;\n",
              "  }\n",
              "\n",
              "  .colab-df-quickchart:hover {\n",
              "    background-color: var(--hover-bg-color);\n",
              "    box-shadow: 0 1px 2px rgba(60, 64, 67, 0.3), 0 1px 3px 1px rgba(60, 64, 67, 0.15);\n",
              "    fill: var(--button-hover-fill-color);\n",
              "  }\n",
              "\n",
              "  .colab-df-quickchart-complete:disabled,\n",
              "  .colab-df-quickchart-complete:disabled:hover {\n",
              "    background-color: var(--disabled-bg-color);\n",
              "    fill: var(--disabled-fill-color);\n",
              "    box-shadow: none;\n",
              "  }\n",
              "\n",
              "  .colab-df-spinner {\n",
              "    border: 2px solid var(--fill-color);\n",
              "    border-color: transparent;\n",
              "    border-bottom-color: var(--fill-color);\n",
              "    animation:\n",
              "      spin 1s steps(1) infinite;\n",
              "  }\n",
              "\n",
              "  @keyframes spin {\n",
              "    0% {\n",
              "      border-color: transparent;\n",
              "      border-bottom-color: var(--fill-color);\n",
              "      border-left-color: var(--fill-color);\n",
              "    }\n",
              "    20% {\n",
              "      border-color: transparent;\n",
              "      border-left-color: var(--fill-color);\n",
              "      border-top-color: var(--fill-color);\n",
              "    }\n",
              "    30% {\n",
              "      border-color: transparent;\n",
              "      border-left-color: var(--fill-color);\n",
              "      border-top-color: var(--fill-color);\n",
              "      border-right-color: var(--fill-color);\n",
              "    }\n",
              "    40% {\n",
              "      border-color: transparent;\n",
              "      border-right-color: var(--fill-color);\n",
              "      border-top-color: var(--fill-color);\n",
              "    }\n",
              "    60% {\n",
              "      border-color: transparent;\n",
              "      border-right-color: var(--fill-color);\n",
              "    }\n",
              "    80% {\n",
              "      border-color: transparent;\n",
              "      border-right-color: var(--fill-color);\n",
              "      border-bottom-color: var(--fill-color);\n",
              "    }\n",
              "    90% {\n",
              "      border-color: transparent;\n",
              "      border-bottom-color: var(--fill-color);\n",
              "    }\n",
              "  }\n",
              "</style>\n",
              "\n",
              "  <script>\n",
              "    async function quickchart(key) {\n",
              "      const quickchartButtonEl =\n",
              "        document.querySelector('#' + key + ' button');\n",
              "      quickchartButtonEl.disabled = true;  // To prevent multiple clicks.\n",
              "      quickchartButtonEl.classList.add('colab-df-spinner');\n",
              "      try {\n",
              "        const charts = await google.colab.kernel.invokeFunction(\n",
              "            'suggestCharts', [key], {});\n",
              "      } catch (error) {\n",
              "        console.error('Error during call to suggestCharts:', error);\n",
              "      }\n",
              "      quickchartButtonEl.classList.remove('colab-df-spinner');\n",
              "      quickchartButtonEl.classList.add('colab-df-quickchart-complete');\n",
              "    }\n",
              "    (() => {\n",
              "      let quickchartButtonEl =\n",
              "        document.querySelector('#df-e59349b7-a7c5-46b3-8556-ab895d09c719 button');\n",
              "      quickchartButtonEl.style.display =\n",
              "        google.colab.kernel.accessAllowed ? 'block' : 'none';\n",
              "    })();\n",
              "  </script>\n",
              "</div>\n",
              "    </div>\n",
              "  </div>\n"
            ]
          },
          "metadata": {},
          "execution_count": 51
        }
      ]
    },
    {
      "cell_type": "markdown",
      "source": [
        "Assuming Sprocket has been in existence for 20 years, there are customer records with tenure values above 20. These records represent customers who have been associated with your company for a longer period than expected based on your business's history"
      ],
      "metadata": {
        "id": "bhNlbCaYCcf8"
      }
    },
    {
      "cell_type": "code",
      "source": [
        "# Check for customers marked as deceased\n",
        "deceased_customers = customer_demographic[customer_demographic['deceased_indicator'] == 'Y']\n",
        "\n",
        "# Print the list of deceased customers\n",
        "print(\"List of Deceased Customers:\")\n",
        "deceased_customers\n",
        "\n",
        "# Count the number of deceased customers\n",
        "num_deceased_customers = deceased_customers.shape[0]\n",
        "print(f\"Total Number of Deceased Customers:\")\n",
        "num_deceased_customers"
      ],
      "metadata": {
        "colab": {
          "base_uri": "https://localhost:8080/"
        },
        "id": "qiG2-K2FCaNL",
        "outputId": "2ab827db-864d-4c0d-d403-3d660041c1ac"
      },
      "execution_count": 52,
      "outputs": [
        {
          "output_type": "stream",
          "name": "stdout",
          "text": [
            "List of Deceased Customers:\n",
            "Total Number of Deceased Customers:\n"
          ]
        },
        {
          "output_type": "execute_result",
          "data": {
            "text/plain": [
              "2"
            ]
          },
          "metadata": {},
          "execution_count": 52
        }
      ]
    },
    {
      "cell_type": "markdown",
      "source": [
        "The presence of deceased customers in the dataset has implications for data currency. There are 2 customers marked as deceased, suggesting that there are individuals in the dataset who are no longer alive, according to the recorded information."
      ],
      "metadata": {
        "id": "vME4mtQZDcmy"
      }
    },
    {
      "cell_type": "markdown",
      "source": [
        "## Other Data Exploration"
      ],
      "metadata": {
        "id": "iDICBLGHUj4X"
      }
    },
    {
      "cell_type": "code",
      "source": [
        "# Filter out rows where gender is not specified\n",
        "customer_demographics_filtered = customer_demographic.dropna(subset=['gender'])\n",
        "\n",
        "male_data = customer_demographics_filtered[customer_demographics_filtered['gender'] == 'Male']\n",
        "female_data = customer_demographics_filtered[customer_demographics_filtered['gender'] == 'Female']\n",
        "\n",
        "# Plot using seaborn\n",
        "plt.figure(figsize=(10, 6))\n",
        "sns.barplot(data=customer_demographics_filtered, x='gender', y='past_3_years_bike_related_purchases', ci=None, palette='pastel')\n",
        "plt.title('Bike-Related Purchases by Gender')\n",
        "plt.xlabel('Gender')\n",
        "plt.ylabel('Past 3 Years Bike-Related Purchases')\n",
        "plt.show()"
      ],
      "metadata": {
        "colab": {
          "base_uri": "https://localhost:8080/",
          "height": 564
        },
        "id": "Lmvpjo0yUoS1",
        "outputId": "02c0ca0b-5a0d-4baf-952d-5269b01e5433"
      },
      "execution_count": 102,
      "outputs": [
        {
          "output_type": "display_data",
          "data": {
            "text/plain": [
              "<Figure size 1000x600 with 1 Axes>"
            ],
            "image/png": "[encoded data removed]"
          },
          "metadata": {}
        }
      ]
    },
    {
      "cell_type": "markdown",
      "source": [
        "* Around 51% (25,212 bikes) males purchased a bike within the last 3 years and the female purchase sums up to 47% (23,765 bikes).\n",
        "* The marketing team might develop campaigns that specifically target male customers, leveraging their higher engagement with biking-related products.\n"
      ],
      "metadata": {
        "id": "T1gCmS7MZkos"
      }
    },
    {
      "cell_type": "code",
      "source": [
        "# Assuming 'DOB' is in datetime format\n",
        "current_year = datetime.now().year\n",
        "customer_demographic['age'] = current_year - customer_demographic['DOB'].dt.year\n",
        "\n",
        "# Define age groups\n",
        "bins = [0, 18, 30, 45, 60, float('inf')]\n",
        "labels = ['0-18', '19-30', '31-45', '46-60', '60+']\n",
        "\n",
        "# Create 'age_group' column\n",
        "customer_demographic['age_group'] = pd.cut(customer_demographic['age'], bins=bins, labels=labels, right=False)\n",
        "\n",
        "# Plot the distribution of high-value customers across age groups\n",
        "sns.set(style=\"whitegrid\")\n",
        "plt.figure(figsize=(10, 6))\n",
        "sns.countplot(x='age_group', hue='gender', data=customer_demographic)\n",
        "plt.title('Distribution of High-Value Customers Across Age Groups by Gender')\n",
        "plt.xlabel('Age Group')\n",
        "plt.ylabel('Count')\n",
        "plt.show()"
      ],
      "metadata": {
        "colab": {
          "base_uri": "https://localhost:8080/",
          "height": 573
        },
        "id": "cLhsVv3waxY8",
        "outputId": "52e2e83f-52b9-4444-87f1-ebe116cc4154"
      },
      "execution_count": 108,
      "outputs": [
        {
          "output_type": "display_data",
          "data": {
            "text/plain": [
              "<Figure size 1000x600 with 1 Axes>"
            ],
            "image/png": "[encoded data removed]"
          },
          "metadata": {}
        }
      ]
    },
    {
      "cell_type": "markdown",
      "source": [
        "* The age group \"46-60\" represents the largest proportion of high-value customers among the specified age categories.\n",
        "* Consider tailoring marketing strategies specifically for customers aged 46-60.\n",
        "* This age group might respond well to promotions, campaigns, or product features that align with their preferences and needs.\n"
      ],
      "metadata": {
        "id": "Ld78khYmjWA6"
      }
    },
    {
      "cell_type": "code",
      "source": [
        "# Filter out missing values in the 'wealth_segment' and 'gender' columns\n",
        "filtered_data = customer_demographic.dropna(subset=['wealth_segment', 'gender'])\n",
        "\n",
        "# Set the style for the plot\n",
        "sns.set(style=\"whitegrid\")\n",
        "\n",
        "# Create a bar plot to show the distribution of customers across different wealth segments\n",
        "plt.figure(figsize=(10, 6))\n",
        "sns.countplot(x='wealth_segment', hue='gender', data=filtered_data)\n",
        "\n",
        "# Set plot labels and title\n",
        "plt.title('Distribution of Customers Across Wealth Segments by Gender')\n",
        "plt.xlabel('Wealth Segment')\n",
        "plt.ylabel('Number of Customers')\n",
        "\n",
        "# Show the plot\n",
        "plt.show()\n"
      ],
      "metadata": {
        "colab": {
          "base_uri": "https://localhost:8080/",
          "height": 573
        },
        "id": "ejmvGH0llyto",
        "outputId": "5e509447-cd49-4a2f-8c7a-1e42a6ab22f5"
      },
      "execution_count": 115,
      "outputs": [
        {
          "output_type": "display_data",
          "data": {
            "text/plain": [
              "<Figure size 1000x600 with 1 Axes>"
            ],
            "image/png": "[encoded data removed]"
          },
          "metadata": {}
        }
      ]
    },
    {
      "cell_type": "markdown",
      "source": [
        "* \"Mass Customer\" especially females indicates that a large number of customers belong to this wealth segment.\n",
        "* While having a large number of mass customers is positive for broad market reach, it's essential to ensure that your marketing strategies are also reaching and appealing to other wealth segments, especially if they are more profitable.\n"
      ],
      "metadata": {
        "id": "zEyssDwFnSmz"
      }
    },
    {
      "cell_type": "markdown",
      "metadata": {
        "id": "R88r6oV1W1sH"
      },
      "source": [
        "#EDA of Customer Addresses"
      ]
    },
    {
      "cell_type": "markdown",
      "source": [
        "## 1. Data Completeness"
      ],
      "metadata": {
        "id": "NJQcTMEGuSxg"
      }
    },
    {
      "cell_type": "code",
      "source": [
        "customer_addresses.info()"
      ],
      "metadata": {
        "colab": {
          "base_uri": "https://localhost:8080/"
        },
        "id": "2iTe5j51uXoZ",
        "outputId": "aebc7500-37da-4c1e-ff3c-86cb68df4b6c"
      },
      "execution_count": 53,
      "outputs": [
        {
          "output_type": "stream",
          "name": "stdout",
          "text": [
            "<class 'pandas.core.frame.DataFrame'>\n",
            "RangeIndex: 3999 entries, 0 to 3998\n",
            "Data columns (total 6 columns):\n",
            " #   Column              Non-Null Count  Dtype \n",
            "---  ------              --------------  ----- \n",
            " 0   customer_id         3999 non-null   int64 \n",
            " 1   address             3999 non-null   object\n",
            " 2   postcode            3999 non-null   int64 \n",
            " 3   state               3999 non-null   object\n",
            " 4   country             3999 non-null   object\n",
            " 5   property_valuation  3999 non-null   int64 \n",
            "dtypes: int64(3), object(3)\n",
            "memory usage: 187.6+ KB\n"
          ]
        }
      ]
    },
    {
      "cell_type": "code",
      "source": [
        "customer_addresses.describe()"
      ],
      "metadata": {
        "colab": {
          "base_uri": "https://localhost:8080/",
          "height": 300
        },
        "id": "yAscohY7ug-1",
        "outputId": "d1393b2d-985d-4e5e-f25b-71a3f78842ce"
      },
      "execution_count": 54,
      "outputs": [
        {
          "output_type": "execute_result",
          "data": {
            "text/plain": [
              "       customer_id     postcode  property_valuation\n",
              "count  3999.000000  3999.000000         3999.000000\n",
              "mean   2003.987997  2985.755939            7.514379\n",
              "std    1154.576912   844.878364            2.824663\n",
              "min       1.000000  2000.000000            1.000000\n",
              "25%    1004.500000  2200.000000            6.000000\n",
              "50%    2004.000000  2768.000000            8.000000\n",
              "75%    3003.500000  3750.000000           10.000000\n",
              "max    4003.000000  4883.000000           12.000000"
            ],
            "text/html": [
              "\n",
              "  <div id=\"df-e3d371a4-0cc7-4606-9071-8de38e97c78a\" class=\"colab-df-container\">\n",
              "    <div>\n",
              "<style scoped>\n",
              "    .dataframe tbody tr th:only-of-type {\n",
              "        vertical-align: middle;\n",
              "    }\n",
              "\n",
              "    .dataframe tbody tr th {\n",
              "        vertical-align: top;\n",
              "    }\n",
              "\n",
              "    .dataframe thead th {\n",
              "        text-align: right;\n",
              "    }\n",
              "</style>\n",
              "<table border=\"1\" class=\"dataframe\">\n",
              "  <thead>\n",
              "    <tr style=\"text-align: right;\">\n",
              "      <th></th>\n",
              "      <th>customer_id</th>\n",
              "      <th>postcode</th>\n",
              "      <th>property_valuation</th>\n",
              "    </tr>\n",
              "  </thead>\n",
              "  <tbody>\n",
              "    <tr>\n",
              "      <th>count</th>\n",
              "      <td>3999.000000</td>\n",
              "      <td>3999.000000</td>\n",
              "      <td>3999.000000</td>\n",
              "    </tr>\n",
              "    <tr>\n",
              "      <th>mean</th>\n",
              "      <td>2003.987997</td>\n",
              "      <td>2985.755939</td>\n",
              "      <td>7.514379</td>\n",
              "    </tr>\n",
              "    <tr>\n",
              "      <th>std</th>\n",
              "      <td>1154.576912</td>\n",
              "      <td>844.878364</td>\n",
              "      <td>2.824663</td>\n",
              "    </tr>\n",
              "    <tr>\n",
              "      <th>min</th>\n",
              "      <td>1.000000</td>\n",
              "      <td>2000.000000</td>\n",
              "      <td>1.000000</td>\n",
              "    </tr>\n",
              "    <tr>\n",
              "      <th>25%</th>\n",
              "      <td>1004.500000</td>\n",
              "      <td>2200.000000</td>\n",
              "      <td>6.000000</td>\n",
              "    </tr>\n",
              "    <tr>\n",
              "      <th>50%</th>\n",
              "      <td>2004.000000</td>\n",
              "      <td>2768.000000</td>\n",
              "      <td>8.000000</td>\n",
              "    </tr>\n",
              "    <tr>\n",
              "      <th>75%</th>\n",
              "      <td>3003.500000</td>\n",
              "      <td>3750.000000</td>\n",
              "      <td>10.000000</td>\n",
              "    </tr>\n",
              "    <tr>\n",
              "      <th>max</th>\n",
              "      <td>4003.000000</td>\n",
              "      <td>4883.000000</td>\n",
              "      <td>12.000000</td>\n",
              "    </tr>\n",
              "  </tbody>\n",
              "</table>\n",
              "</div>\n",
              "    <div class=\"colab-df-buttons\">\n",
              "\n",
              "  <div class=\"colab-df-container\">\n",
              "    <button class=\"colab-df-convert\" onclick=\"convertToInteractive('df-e3d371a4-0cc7-4606-9071-8de38e97c78a')\"\n",
              "            title=\"Convert this dataframe to an interactive table.\"\n",
              "            style=\"display:none;\">\n",
              "\n",
              "  <svg xmlns=\"http://www.w3.org/2000/svg\" height=\"24px\" viewBox=\"0 -960 960 960\">\n",
              "    <path d=\"M120-120v-720h720v720H120Zm60-500h600v-160H180v160Zm220 220h160v-160H400v160Zm0 220h160v-160H400v160ZM180-400h160v-160H180v160Zm440 0h160v-160H620v160ZM180-180h160v-160H180v160Zm440 0h160v-160H620v160Z\"/>\n",
              "  </svg>\n",
              "    </button>\n",
              "\n",
              "  <style>\n",
              "    .colab-df-container {\n",
              "      display:flex;\n",
              "      gap: 12px;\n",
              "    }\n",
              "\n",
              "    .colab-df-convert {\n",
              "      background-color: #E8F0FE;\n",
              "      border: none;\n",
              "      border-radius: 50%;\n",
              "      cursor: pointer;\n",
              "      display: none;\n",
              "      fill: #1967D2;\n",
              "      height: 32px;\n",
              "      padding: 0 0 0 0;\n",
              "      width: 32px;\n",
              "    }\n",
              "\n",
              "    .colab-df-convert:hover {\n",
              "      background-color: #E2EBFA;\n",
              "      box-shadow: 0px 1px 2px rgba(60, 64, 67, 0.3), 0px 1px 3px 1px rgba(60, 64, 67, 0.15);\n",
              "      fill: #174EA6;\n",
              "    }\n",
              "\n",
              "    .colab-df-buttons div {\n",
              "      margin-bottom: 4px;\n",
              "    }\n",
              "\n",
              "    [theme=dark] .colab-df-convert {\n",
              "      background-color: #3B4455;\n",
              "      fill: #D2E3FC;\n",
              "    }\n",
              "\n",
              "    [theme=dark] .colab-df-convert:hover {\n",
              "      background-color: #434B5C;\n",
              "      box-shadow: 0px 1px 3px 1px rgba(0, 0, 0, 0.15);\n",
              "      filter: drop-shadow(0px 1px 2px rgba(0, 0, 0, 0.3));\n",
              "      fill: #FFFFFF;\n",
              "    }\n",
              "  </style>\n",
              "\n",
              "    <script>\n",
              "      const buttonEl =\n",
              "        document.querySelector('#df-e3d371a4-0cc7-4606-9071-8de38e97c78a button.colab-df-convert');\n",
              "      buttonEl.style.display =\n",
              "        google.colab.kernel.accessAllowed ? 'block' : 'none';\n",
              "\n",
              "      async function convertToInteractive(key) {\n",
              "        const element = document.querySelector('#df-e3d371a4-0cc7-4606-9071-8de38e97c78a');\n",
              "        const dataTable =\n",
              "          await google.colab.kernel.invokeFunction('convertToInteractive',\n",
              "                                                    [key], {});\n",
              "        if (!dataTable) return;\n",
              "\n",
              "        const docLinkHtml = 'Like what you see? Visit the ' +\n",
              "          '<a target=\"_blank\" href=https://colab.research.google.com/notebooks/data_table.ipynb>data table notebook</a>'\n",
              "          + ' to learn more about interactive tables.';\n",
              "        element.innerHTML = '';\n",
              "        dataTable['output_type'] = 'display_data';\n",
              "        await google.colab.output.renderOutput(dataTable, element);\n",
              "        const docLink = document.createElement('div');\n",
              "        docLink.innerHTML = docLinkHtml;\n",
              "        element.appendChild(docLink);\n",
              "      }\n",
              "    </script>\n",
              "  </div>\n",
              "\n",
              "\n",
              "<div id=\"df-8c934dab-a57b-49a1-99f3-8a192aed1e40\">\n",
              "  <button class=\"colab-df-quickchart\" onclick=\"quickchart('df-8c934dab-a57b-49a1-99f3-8a192aed1e40')\"\n",
              "            title=\"Suggest charts.\"\n",
              "            style=\"display:none;\">\n",
              "\n",
              "<svg xmlns=\"http://www.w3.org/2000/svg\" height=\"24px\"viewBox=\"0 0 24 24\"\n",
              "     width=\"24px\">\n",
              "    <g>\n",
              "        <path d=\"M19 3H5c-1.1 0-2 .9-2 2v14c0 1.1.9 2 2 2h14c1.1 0 2-.9 2-2V5c0-1.1-.9-2-2-2zM9 17H7v-7h2v7zm4 0h-2V7h2v10zm4 0h-2v-4h2v4z\"/>\n",
              "    </g>\n",
              "</svg>\n",
              "  </button>\n",
              "\n",
              "<style>\n",
              "  .colab-df-quickchart {\n",
              "      --bg-color: #E8F0FE;\n",
              "      --fill-color: #1967D2;\n",
              "      --hover-bg-color: #E2EBFA;\n",
              "      --hover-fill-color: #174EA6;\n",
              "      --disabled-fill-color: #AAA;\n",
              "      --disabled-bg-color: #DDD;\n",
              "  }\n",
              "\n",
              "  [theme=dark] .colab-df-quickchart {\n",
              "      --bg-color: #3B4455;\n",
              "      --fill-color: #D2E3FC;\n",
              "      --hover-bg-color: #434B5C;\n",
              "      --hover-fill-color: #FFFFFF;\n",
              "      --disabled-bg-color: #3B4455;\n",
              "      --disabled-fill-color: #666;\n",
              "  }\n",
              "\n",
              "  .colab-df-quickchart {\n",
              "    background-color: var(--bg-color);\n",
              "    border: none;\n",
              "    border-radius: 50%;\n",
              "    cursor: pointer;\n",
              "    display: none;\n",
              "    fill: var(--fill-color);\n",
              "    height: 32px;\n",
              "    padding: 0;\n",
              "    width: 32px;\n",
              "  }\n",
              "\n",
              "  .colab-df-quickchart:hover {\n",
              "    background-color: var(--hover-bg-color);\n",
              "    box-shadow: 0 1px 2px rgba(60, 64, 67, 0.3), 0 1px 3px 1px rgba(60, 64, 67, 0.15);\n",
              "    fill: var(--button-hover-fill-color);\n",
              "  }\n",
              "\n",
              "  .colab-df-quickchart-complete:disabled,\n",
              "  .colab-df-quickchart-complete:disabled:hover {\n",
              "    background-color: var(--disabled-bg-color);\n",
              "    fill: var(--disabled-fill-color);\n",
              "    box-shadow: none;\n",
              "  }\n",
              "\n",
              "  .colab-df-spinner {\n",
              "    border: 2px solid var(--fill-color);\n",
              "    border-color: transparent;\n",
              "    border-bottom-color: var(--fill-color);\n",
              "    animation:\n",
              "      spin 1s steps(1) infinite;\n",
              "  }\n",
              "\n",
              "  @keyframes spin {\n",
              "    0% {\n",
              "      border-color: transparent;\n",
              "      border-bottom-color: var(--fill-color);\n",
              "      border-left-color: var(--fill-color);\n",
              "    }\n",
              "    20% {\n",
              "      border-color: transparent;\n",
              "      border-left-color: var(--fill-color);\n",
              "      border-top-color: var(--fill-color);\n",
              "    }\n",
              "    30% {\n",
              "      border-color: transparent;\n",
              "      border-left-color: var(--fill-color);\n",
              "      border-top-color: var(--fill-color);\n",
              "      border-right-color: var(--fill-color);\n",
              "    }\n",
              "    40% {\n",
              "      border-color: transparent;\n",
              "      border-right-color: var(--fill-color);\n",
              "      border-top-color: var(--fill-color);\n",
              "    }\n",
              "    60% {\n",
              "      border-color: transparent;\n",
              "      border-right-color: var(--fill-color);\n",
              "    }\n",
              "    80% {\n",
              "      border-color: transparent;\n",
              "      border-right-color: var(--fill-color);\n",
              "      border-bottom-color: var(--fill-color);\n",
              "    }\n",
              "    90% {\n",
              "      border-color: transparent;\n",
              "      border-bottom-color: var(--fill-color);\n",
              "    }\n",
              "  }\n",
              "</style>\n",
              "\n",
              "  <script>\n",
              "    async function quickchart(key) {\n",
              "      const quickchartButtonEl =\n",
              "        document.querySelector('#' + key + ' button');\n",
              "      quickchartButtonEl.disabled = true;  // To prevent multiple clicks.\n",
              "      quickchartButtonEl.classList.add('colab-df-spinner');\n",
              "      try {\n",
              "        const charts = await google.colab.kernel.invokeFunction(\n",
              "            'suggestCharts', [key], {});\n",
              "      } catch (error) {\n",
              "        console.error('Error during call to suggestCharts:', error);\n",
              "      }\n",
              "      quickchartButtonEl.classList.remove('colab-df-spinner');\n",
              "      quickchartButtonEl.classList.add('colab-df-quickchart-complete');\n",
              "    }\n",
              "    (() => {\n",
              "      let quickchartButtonEl =\n",
              "        document.querySelector('#df-8c934dab-a57b-49a1-99f3-8a192aed1e40 button');\n",
              "      quickchartButtonEl.style.display =\n",
              "        google.colab.kernel.accessAllowed ? 'block' : 'none';\n",
              "    })();\n",
              "  </script>\n",
              "</div>\n",
              "    </div>\n",
              "  </div>\n"
            ]
          },
          "metadata": {},
          "execution_count": 54
        }
      ]
    },
    {
      "cell_type": "code",
      "source": [
        "missing_values = customer_addresses.isnull().sum()\n",
        "\n",
        "# Display the missing values count for each column\n",
        "print(\"Missing Values:\")\n",
        "print(missing_values)"
      ],
      "metadata": {
        "colab": {
          "base_uri": "https://localhost:8080/"
        },
        "id": "RPY0qctrunX-",
        "outputId": "a2edb8b2-5de8-4309-ecc9-af05191bec08"
      },
      "execution_count": 55,
      "outputs": [
        {
          "output_type": "stream",
          "name": "stdout",
          "text": [
            "Missing Values:\n",
            "customer_id           0\n",
            "address               0\n",
            "postcode              0\n",
            "state                 0\n",
            "country               0\n",
            "property_valuation    0\n",
            "dtype: int64\n"
          ]
        }
      ]
    },
    {
      "cell_type": "markdown",
      "source": [
        "The Customer Address Table is consisent and accurate. It contains no missing data as well as no duplicated data in it. The table seems to contain all the customer address information about customers in Australia"
      ],
      "metadata": {
        "id": "StgtSY4gskPg"
      }
    },
    {
      "cell_type": "markdown",
      "source": [
        "## 2. Data Accuracy"
      ],
      "metadata": {
        "id": "y2rcEZPhvOXr"
      }
    },
    {
      "cell_type": "code",
      "source": [
        "# Check for data types\n",
        "data_types = customer_addresses.dtypes\n",
        "data_types"
      ],
      "metadata": {
        "colab": {
          "base_uri": "https://localhost:8080/"
        },
        "id": "tXr8LUplvfPo",
        "outputId": "7da2424f-3978-4fc1-b0f0-2c32ae799644"
      },
      "execution_count": 56,
      "outputs": [
        {
          "output_type": "execute_result",
          "data": {
            "text/plain": [
              "customer_id            int64\n",
              "address               object\n",
              "postcode               int64\n",
              "state                 object\n",
              "country               object\n",
              "property_valuation     int64\n",
              "dtype: object"
            ]
          },
          "metadata": {},
          "execution_count": 56
        }
      ]
    },
    {
      "cell_type": "code",
      "source": [
        "customer_addresses.head()"
      ],
      "metadata": {
        "colab": {
          "base_uri": "https://localhost:8080/",
          "height": 206
        },
        "id": "0wU2XuBcvmfv",
        "outputId": "7ae97f81-fe6c-4d4a-b7a0-a733c2c7ac3b"
      },
      "execution_count": 57,
      "outputs": [
        {
          "output_type": "execute_result",
          "data": {
            "text/plain": [
              "   customer_id              address  postcode            state    country  \\\n",
              "0            1   060 Morning Avenue      2016  New South Wales  Australia   \n",
              "1            2  6 Meadow Vale Court      2153  New South Wales  Australia   \n",
              "2            4   0 Holy Cross Court      4211              QLD  Australia   \n",
              "3            5  17979 Del Mar Point      2448  New South Wales  Australia   \n",
              "4            6     9 Oakridge Court      3216              VIC  Australia   \n",
              "\n",
              "   property_valuation  \n",
              "0                  10  \n",
              "1                  10  \n",
              "2                   9  \n",
              "3                   4  \n",
              "4                   9  "
            ],
            "text/html": [
              "\n",
              "  <div id=\"df-20c71a2c-5800-4ada-83c5-214cd99dd7bb\" class=\"colab-df-container\">\n",
              "    <div>\n",
              "<style scoped>\n",
              "    .dataframe tbody tr th:only-of-type {\n",
              "        vertical-align: middle;\n",
              "    }\n",
              "\n",
              "    .dataframe tbody tr th {\n",
              "        vertical-align: top;\n",
              "    }\n",
              "\n",
              "    .dataframe thead th {\n",
              "        text-align: right;\n",
              "    }\n",
              "</style>\n",
              "<table border=\"1\" class=\"dataframe\">\n",
              "  <thead>\n",
              "    <tr style=\"text-align: right;\">\n",
              "      <th></th>\n",
              "      <th>customer_id</th>\n",
              "      <th>address</th>\n",
              "      <th>postcode</th>\n",
              "      <th>state</th>\n",
              "      <th>country</th>\n",
              "      <th>property_valuation</th>\n",
              "    </tr>\n",
              "  </thead>\n",
              "  <tbody>\n",
              "    <tr>\n",
              "      <th>0</th>\n",
              "      <td>1</td>\n",
              "      <td>060 Morning Avenue</td>\n",
              "      <td>2016</td>\n",
              "      <td>New South Wales</td>\n",
              "      <td>Australia</td>\n",
              "      <td>10</td>\n",
              "    </tr>\n",
              "    <tr>\n",
              "      <th>1</th>\n",
              "      <td>2</td>\n",
              "      <td>6 Meadow Vale Court</td>\n",
              "      <td>2153</td>\n",
              "      <td>New South Wales</td>\n",
              "      <td>Australia</td>\n",
              "      <td>10</td>\n",
              "    </tr>\n",
              "    <tr>\n",
              "      <th>2</th>\n",
              "      <td>4</td>\n",
              "      <td>0 Holy Cross Court</td>\n",
              "      <td>4211</td>\n",
              "      <td>QLD</td>\n",
              "      <td>Australia</td>\n",
              "      <td>9</td>\n",
              "    </tr>\n",
              "    <tr>\n",
              "      <th>3</th>\n",
              "      <td>5</td>\n",
              "      <td>17979 Del Mar Point</td>\n",
              "      <td>2448</td>\n",
              "      <td>New South Wales</td>\n",
              "      <td>Australia</td>\n",
              "      <td>4</td>\n",
              "    </tr>\n",
              "    <tr>\n",
              "      <th>4</th>\n",
              "      <td>6</td>\n",
              "      <td>9 Oakridge Court</td>\n",
              "      <td>3216</td>\n",
              "      <td>VIC</td>\n",
              "      <td>Australia</td>\n",
              "      <td>9</td>\n",
              "    </tr>\n",
              "  </tbody>\n",
              "</table>\n",
              "</div>\n",
              "    <div class=\"colab-df-buttons\">\n",
              "\n",
              "  <div class=\"colab-df-container\">\n",
              "    <button class=\"colab-df-convert\" onclick=\"convertToInteractive('df-20c71a2c-5800-4ada-83c5-214cd99dd7bb')\"\n",
              "            title=\"Convert this dataframe to an interactive table.\"\n",
              "            style=\"display:none;\">\n",
              "\n",
              "  <svg xmlns=\"http://www.w3.org/2000/svg\" height=\"24px\" viewBox=\"0 -960 960 960\">\n",
              "    <path d=\"M120-120v-720h720v720H120Zm60-500h600v-160H180v160Zm220 220h160v-160H400v160Zm0 220h160v-160H400v160ZM180-400h160v-160H180v160Zm440 0h160v-160H620v160ZM180-180h160v-160H180v160Zm440 0h160v-160H620v160Z\"/>\n",
              "  </svg>\n",
              "    </button>\n",
              "\n",
              "  <style>\n",
              "    .colab-df-container {\n",
              "      display:flex;\n",
              "      gap: 12px;\n",
              "    }\n",
              "\n",
              "    .colab-df-convert {\n",
              "      background-color: #E8F0FE;\n",
              "      border: none;\n",
              "      border-radius: 50%;\n",
              "      cursor: pointer;\n",
              "      display: none;\n",
              "      fill: #1967D2;\n",
              "      height: 32px;\n",
              "      padding: 0 0 0 0;\n",
              "      width: 32px;\n",
              "    }\n",
              "\n",
              "    .colab-df-convert:hover {\n",
              "      background-color: #E2EBFA;\n",
              "      box-shadow: 0px 1px 2px rgba(60, 64, 67, 0.3), 0px 1px 3px 1px rgba(60, 64, 67, 0.15);\n",
              "      fill: #174EA6;\n",
              "    }\n",
              "\n",
              "    .colab-df-buttons div {\n",
              "      margin-bottom: 4px;\n",
              "    }\n",
              "\n",
              "    [theme=dark] .colab-df-convert {\n",
              "      background-color: #3B4455;\n",
              "      fill: #D2E3FC;\n",
              "    }\n",
              "\n",
              "    [theme=dark] .colab-df-convert:hover {\n",
              "      background-color: #434B5C;\n",
              "      box-shadow: 0px 1px 3px 1px rgba(0, 0, 0, 0.15);\n",
              "      filter: drop-shadow(0px 1px 2px rgba(0, 0, 0, 0.3));\n",
              "      fill: #FFFFFF;\n",
              "    }\n",
              "  </style>\n",
              "\n",
              "    <script>\n",
              "      const buttonEl =\n",
              "        document.querySelector('#df-20c71a2c-5800-4ada-83c5-214cd99dd7bb button.colab-df-convert');\n",
              "      buttonEl.style.display =\n",
              "        google.colab.kernel.accessAllowed ? 'block' : 'none';\n",
              "\n",
              "      async function convertToInteractive(key) {\n",
              "        const element = document.querySelector('#df-20c71a2c-5800-4ada-83c5-214cd99dd7bb');\n",
              "        const dataTable =\n",
              "          await google.colab.kernel.invokeFunction('convertToInteractive',\n",
              "                                                    [key], {});\n",
              "        if (!dataTable) return;\n",
              "\n",
              "        const docLinkHtml = 'Like what you see? Visit the ' +\n",
              "          '<a target=\"_blank\" href=https://colab.research.google.com/notebooks/data_table.ipynb>data table notebook</a>'\n",
              "          + ' to learn more about interactive tables.';\n",
              "        element.innerHTML = '';\n",
              "        dataTable['output_type'] = 'display_data';\n",
              "        await google.colab.output.renderOutput(dataTable, element);\n",
              "        const docLink = document.createElement('div');\n",
              "        docLink.innerHTML = docLinkHtml;\n",
              "        element.appendChild(docLink);\n",
              "      }\n",
              "    </script>\n",
              "  </div>\n",
              "\n",
              "\n",
              "<div id=\"df-8d647cc9-64cc-4cf8-899b-19b66d9760f5\">\n",
              "  <button class=\"colab-df-quickchart\" onclick=\"quickchart('df-8d647cc9-64cc-4cf8-899b-19b66d9760f5')\"\n",
              "            title=\"Suggest charts.\"\n",
              "            style=\"display:none;\">\n",
              "\n",
              "<svg xmlns=\"http://www.w3.org/2000/svg\" height=\"24px\"viewBox=\"0 0 24 24\"\n",
              "     width=\"24px\">\n",
              "    <g>\n",
              "        <path d=\"M19 3H5c-1.1 0-2 .9-2 2v14c0 1.1.9 2 2 2h14c1.1 0 2-.9 2-2V5c0-1.1-.9-2-2-2zM9 17H7v-7h2v7zm4 0h-2V7h2v10zm4 0h-2v-4h2v4z\"/>\n",
              "    </g>\n",
              "</svg>\n",
              "  </button>\n",
              "\n",
              "<style>\n",
              "  .colab-df-quickchart {\n",
              "      --bg-color: #E8F0FE;\n",
              "      --fill-color: #1967D2;\n",
              "      --hover-bg-color: #E2EBFA;\n",
              "      --hover-fill-color: #174EA6;\n",
              "      --disabled-fill-color: #AAA;\n",
              "      --disabled-bg-color: #DDD;\n",
              "  }\n",
              "\n",
              "  [theme=dark] .colab-df-quickchart {\n",
              "      --bg-color: #3B4455;\n",
              "      --fill-color: #D2E3FC;\n",
              "      --hover-bg-color: #434B5C;\n",
              "      --hover-fill-color: #FFFFFF;\n",
              "      --disabled-bg-color: #3B4455;\n",
              "      --disabled-fill-color: #666;\n",
              "  }\n",
              "\n",
              "  .colab-df-quickchart {\n",
              "    background-color: var(--bg-color);\n",
              "    border: none;\n",
              "    border-radius: 50%;\n",
              "    cursor: pointer;\n",
              "    display: none;\n",
              "    fill: var(--fill-color);\n",
              "    height: 32px;\n",
              "    padding: 0;\n",
              "    width: 32px;\n",
              "  }\n",
              "\n",
              "  .colab-df-quickchart:hover {\n",
              "    background-color: var(--hover-bg-color);\n",
              "    box-shadow: 0 1px 2px rgba(60, 64, 67, 0.3), 0 1px 3px 1px rgba(60, 64, 67, 0.15);\n",
              "    fill: var(--button-hover-fill-color);\n",
              "  }\n",
              "\n",
              "  .colab-df-quickchart-complete:disabled,\n",
              "  .colab-df-quickchart-complete:disabled:hover {\n",
              "    background-color: var(--disabled-bg-color);\n",
              "    fill: var(--disabled-fill-color);\n",
              "    box-shadow: none;\n",
              "  }\n",
              "\n",
              "  .colab-df-spinner {\n",
              "    border: 2px solid var(--fill-color);\n",
              "    border-color: transparent;\n",
              "    border-bottom-color: var(--fill-color);\n",
              "    animation:\n",
              "      spin 1s steps(1) infinite;\n",
              "  }\n",
              "\n",
              "  @keyframes spin {\n",
              "    0% {\n",
              "      border-color: transparent;\n",
              "      border-bottom-color: var(--fill-color);\n",
              "      border-left-color: var(--fill-color);\n",
              "    }\n",
              "    20% {\n",
              "      border-color: transparent;\n",
              "      border-left-color: var(--fill-color);\n",
              "      border-top-color: var(--fill-color);\n",
              "    }\n",
              "    30% {\n",
              "      border-color: transparent;\n",
              "      border-left-color: var(--fill-color);\n",
              "      border-top-color: var(--fill-color);\n",
              "      border-right-color: var(--fill-color);\n",
              "    }\n",
              "    40% {\n",
              "      border-color: transparent;\n",
              "      border-right-color: var(--fill-color);\n",
              "      border-top-color: var(--fill-color);\n",
              "    }\n",
              "    60% {\n",
              "      border-color: transparent;\n",
              "      border-right-color: var(--fill-color);\n",
              "    }\n",
              "    80% {\n",
              "      border-color: transparent;\n",
              "      border-right-color: var(--fill-color);\n",
              "      border-bottom-color: var(--fill-color);\n",
              "    }\n",
              "    90% {\n",
              "      border-color: transparent;\n",
              "      border-bottom-color: var(--fill-color);\n",
              "    }\n",
              "  }\n",
              "</style>\n",
              "\n",
              "  <script>\n",
              "    async function quickchart(key) {\n",
              "      const quickchartButtonEl =\n",
              "        document.querySelector('#' + key + ' button');\n",
              "      quickchartButtonEl.disabled = true;  // To prevent multiple clicks.\n",
              "      quickchartButtonEl.classList.add('colab-df-spinner');\n",
              "      try {\n",
              "        const charts = await google.colab.kernel.invokeFunction(\n",
              "            'suggestCharts', [key], {});\n",
              "      } catch (error) {\n",
              "        console.error('Error during call to suggestCharts:', error);\n",
              "      }\n",
              "      quickchartButtonEl.classList.remove('colab-df-spinner');\n",
              "      quickchartButtonEl.classList.add('colab-df-quickchart-complete');\n",
              "    }\n",
              "    (() => {\n",
              "      let quickchartButtonEl =\n",
              "        document.querySelector('#df-8d647cc9-64cc-4cf8-899b-19b66d9760f5 button');\n",
              "      quickchartButtonEl.style.display =\n",
              "        google.colab.kernel.accessAllowed ? 'block' : 'none';\n",
              "    })();\n",
              "  </script>\n",
              "</div>\n",
              "    </div>\n",
              "  </div>\n"
            ]
          },
          "metadata": {},
          "execution_count": 57
        }
      ]
    },
    {
      "cell_type": "code",
      "source": [
        "# Check for duplicate rows based on 'customer_id'\n",
        "duplicate_rows =customer_addresses[customer_addresses.duplicated(subset='customer_id', keep=False)]\n",
        "\n",
        "# Display the duplicate rows (if any)\n",
        "if not duplicate_rows.empty:\n",
        "    print(\"Duplicate Rows:\")\n",
        "    print(duplicate_rows)\n",
        "else:\n",
        "    print(\"No duplicate rows found.\")"
      ],
      "metadata": {
        "colab": {
          "base_uri": "https://localhost:8080/"
        },
        "id": "dqRiD1FOvyRB",
        "outputId": "c5aad7c2-064d-4a27-daed-68ad88f05869"
      },
      "execution_count": 58,
      "outputs": [
        {
          "output_type": "stream",
          "name": "stdout",
          "text": [
            "No duplicate rows found.\n"
          ]
        }
      ]
    },
    {
      "cell_type": "code",
      "source": [
        "# Calculate summary statistics\n",
        "property_valuation_summary = customer_addresses['property_valuation'].describe()\n",
        "print(property_valuation_summary)"
      ],
      "metadata": {
        "colab": {
          "base_uri": "https://localhost:8080/"
        },
        "id": "DMe9F9eyv5kD",
        "outputId": "b09f4278-dc15-4748-a7fb-61149c4117a4"
      },
      "execution_count": 59,
      "outputs": [
        {
          "output_type": "stream",
          "name": "stdout",
          "text": [
            "count    3999.000000\n",
            "mean        7.514379\n",
            "std         2.824663\n",
            "min         1.000000\n",
            "25%         6.000000\n",
            "50%         8.000000\n",
            "75%        10.000000\n",
            "max        12.000000\n",
            "Name: property_valuation, dtype: float64\n"
          ]
        }
      ]
    },
    {
      "cell_type": "code",
      "source": [
        "# Create a histogram to visualize the distribution\n",
        "plt.hist(customer_addresses['property_valuation'], bins=20, edgecolor='k')\n",
        "plt.xlabel('Property Valuation')\n",
        "plt.ylabel('Frequency')\n",
        "plt.title('Distribution of Property Valuation')\n",
        "plt.show()"
      ],
      "metadata": {
        "colab": {
          "base_uri": "https://localhost:8080/",
          "height": 472
        },
        "id": "B4MjNtAewANc",
        "outputId": "97934e54-4dba-42da-ffaa-6484bfb28d13"
      },
      "execution_count": 60,
      "outputs": [
        {
          "output_type": "display_data",
          "data": {
            "text/plain": [
              "<Figure size 640x480 with 1 Axes>"
            ],
            "image/png": "[encoded data removed]"
          },
          "metadata": {}
        }
      ]
    },
    {
      "cell_type": "code",
      "source": [
        "# Create a box plot for the property_valuation column\n",
        "plt.figure(figsize=(8, 6))\n",
        "plt.boxplot(customer_addresses['property_valuation'], vert=False)  # vert=False for a horizontal box plot\n",
        "plt.xlabel('Property Valuation')\n",
        "plt.title('Box Plot of Property Valuation')\n",
        "plt.show()"
      ],
      "metadata": {
        "colab": {
          "base_uri": "https://localhost:8080/",
          "height": 564
        },
        "id": "DDxYojS1wIK0",
        "outputId": "94e71c48-fb4f-4ffe-999f-924d90d1b779"
      },
      "execution_count": 61,
      "outputs": [
        {
          "output_type": "display_data",
          "data": {
            "text/plain": [
              "<Figure size 800x600 with 1 Axes>"
            ],
            "image/png": "[encoded data removed]"
          },
          "metadata": {}
        }
      ]
    },
    {
      "cell_type": "code",
      "source": [
        "# Calculate the IQR for property_valuation\n",
        "Q1 = customer_addresses['property_valuation'].quantile(0.25)\n",
        "Q3 = customer_addresses['property_valuation'].quantile(0.75)\n",
        "IQR = Q3 - Q1\n",
        "\n",
        "# Define lower and upper bounds for potential outliers\n",
        "lower_bound = Q1 - 1.5 * IQR\n",
        "upper_bound = Q3 + 1.5 * IQR\n",
        "\n",
        "# Identify potential outliers\n",
        "potential_outliers =customer_addresses[(customer_addresses['property_valuation'] < lower_bound) | (customer_addresses['property_valuation'] > upper_bound)]\n",
        "\n",
        "# Display potential outliers\n",
        "print(\"Potential Outliers:\")\n",
        "print(potential_outliers)\n"
      ],
      "metadata": {
        "colab": {
          "base_uri": "https://localhost:8080/"
        },
        "id": "bNxnovUPwRUv",
        "outputId": "5589b09b-2ea5-42c2-83de-2df8512359db"
      },
      "execution_count": 62,
      "outputs": [
        {
          "output_type": "stream",
          "name": "stdout",
          "text": [
            "Potential Outliers:\n",
            "Empty DataFrame\n",
            "Columns: [customer_id, address, postcode, state, country, property_valuation]\n",
            "Index: []\n"
          ]
        }
      ]
    },
    {
      "cell_type": "code",
      "source": [
        "# Calculate the z-score\n",
        "from scipy import stats\n",
        "z_scores = stats.zscore(customer_addresses['property_valuation'])\n",
        "\n",
        "# Define a z-score threshold (e.g., 3)\n",
        "z_threshold = 3\n",
        "\n",
        "# Identify outliers based on z-score\n",
        "outliers = df[abs(z_scores) > z_threshold]\n",
        "\n",
        "# Optional: Remove outliers from the dataset\n",
        "# df = df[abs(z_scores) <= z_threshold]\n",
        "\n",
        "# Display identified outliers\n",
        "print(outliers)"
      ],
      "metadata": {
        "colab": {
          "base_uri": "https://localhost:8080/"
        },
        "id": "Afdstx0hwcw3",
        "outputId": "5f6388da-b28c-4faa-e76d-b97e7cd61bda"
      },
      "execution_count": 63,
      "outputs": [
        {
          "output_type": "stream",
          "name": "stdout",
          "text": [
            "Empty DataFrame\n",
            "Columns: [Unnamed: 0, Note: The data and information in this document is reflective of a hypothetical situation and client. This document is to be used for KPMG Virtual Internship purposes only. , Unnamed: 2, Unnamed: 3, Unnamed: 4, Unnamed: 5, Unnamed: 6, Unnamed: 7, Unnamed: 8]\n",
            "Index: []\n"
          ]
        }
      ]
    },
    {
      "cell_type": "markdown",
      "source": [
        "There are no outliers in Property valuation"
      ],
      "metadata": {
        "id": "sxLTMKoZweRG"
      }
    },
    {
      "cell_type": "code",
      "source": [
        "import re\n",
        "\n",
        "# Define a regex pattern for a valid address format (customize as needed)\n",
        "address_pattern = r'^\\d+\\s[A-Za-z\\s]+$'  # Example: \"123 Main Street\"\n",
        "\n",
        "# Create a boolean mask indicating whether each address matches the pattern\n",
        "valid_address_mask = customer_addresses['address'].str.match(address_pattern)\n",
        "\n",
        "# Find rows with addresses that do not match the expected pattern\n",
        "invalid_addresses = customer_addresses[~valid_address_mask]\n",
        "\n",
        "# Display the rows with invalid addresses\n",
        "print(\"Rows with Invalid Addresses:\")\n",
        "invalid_addresses"
      ],
      "metadata": {
        "colab": {
          "base_uri": "https://localhost:8080/",
          "height": 1000
        },
        "id": "MWCW6qDTwpYC",
        "outputId": "83b7cf3b-d830-45b8-b1de-70553e892c93"
      },
      "execution_count": 64,
      "outputs": [
        {
          "output_type": "stream",
          "name": "stdout",
          "text": [
            "Rows with Invalid Addresses:\n"
          ]
        },
        {
          "output_type": "execute_result",
          "data": {
            "text/plain": [
              "      customer_id             address  postcode            state    country  \\\n",
              "7               9     97736 7th Trail      2023  New South Wales  Australia   \n",
              "15             18       092 2nd Alley      2135  New South Wales  Australia   \n",
              "20             25       28 5th Center      4413              QLD  Australia   \n",
              "55             60        39 3rd Drive      2026  New South Wales  Australia   \n",
              "128           133     19392 7th Trail      4744              QLD  Australia   \n",
              "205           210   19969 5th Parkway      3152              VIC  Australia   \n",
              "225           230         4 5th Point      2075              NSW  Australia   \n",
              "242           247         2 2nd Plaza      2283              NSW  Australia   \n",
              "288           293         00 5th Lane      2830              NSW  Australia   \n",
              "318           323        82 8th Alley      4210              QLD  Australia   \n",
              "487           492      11731 3rd Hill      3004         Victoria  Australia   \n",
              "521           526     27230 7th Place      2068              NSW  Australia   \n",
              "531           536     64700 2nd Alley      2145              NSW  Australia   \n",
              "550           555      67 8th Terrace      3564         Victoria  Australia   \n",
              "735           740         12 6th Hill      4810              QLD  Australia   \n",
              "757           762        983 2nd Road      2560              NSW  Australia   \n",
              "800           805    80932 5th Street      2754              NSW  Australia   \n",
              "888           893       1 5th Parkway      2148              NSW  Australia   \n",
              "912           917       50 2nd Center      3188              VIC  Australia   \n",
              "1007         1012    44594 5th Street      4220              QLD  Australia   \n",
              "1048         1053     07716 5th Alley      2250              NSW  Australia   \n",
              "1108         1113        515 3rd Road      2037              NSW  Australia   \n",
              "1115         1120        03 6th Alley      2168              NSW  Australia   \n",
              "1119         1124      0355 3rd Drive      2118              NSW  Australia   \n",
              "1123         1128     81114 7th Place      4869              QLD  Australia   \n",
              "1139         1144    4439 7th Terrace      2177              NSW  Australia   \n",
              "1227         1232      61949 7th Road      4573              QLD  Australia   \n",
              "1240         1245       9 7th Terrace      2155              NSW  Australia   \n",
              "1504         1509     00941 7th Place      2227              NSW  Australia   \n",
              "1688         1693      419 2nd Center      4220              QLD  Australia   \n",
              "1753         1758        4 5th Circle      2800              NSW  Australia   \n",
              "1864         1869       765 6th Plaza      4226              QLD  Australia   \n",
              "2020         2025          0 3rd Road      4060              QLD  Australia   \n",
              "2022         2027      9670 4th Point      2065              NSW  Australia   \n",
              "2026         2031        34 3rd Place      3030              VIC  Australia   \n",
              "2145         2150  59694 1st Crossing      4503              QLD  Australia   \n",
              "2157         2162    79291 3rd Circle      2760              NSW  Australia   \n",
              "2248         2253         90 2nd Lane      2768              NSW  Australia   \n",
              "2324         2329          5 1st Park      2285              NSW  Australia   \n",
              "2481         2486    24877 3rd Circle      2063              NSW  Australia   \n",
              "2639         2644      008 6th Center      3141              VIC  Australia   \n",
              "2648         2653      7163 2nd Point      3931              VIC  Australia   \n",
              "2976         2981          9 7th Pass      2760              NSW  Australia   \n",
              "3026         3031       50 7th Circle      4305              QLD  Australia   \n",
              "3038         3043        05 2nd Point      2217              NSW  Australia   \n",
              "3128         3133         21 2nd Pass      2566              NSW  Australia   \n",
              "3197         3202     778 7th Parkway      2071              NSW  Australia   \n",
              "3390         3395   01716 2nd Terrace      3174              VIC  Australia   \n",
              "3461         3466          6 4th Lane      3079              VIC  Australia   \n",
              "3476         3481        00 1st Trail      3223              VIC  Australia   \n",
              "3632         3637      6415 4th Alley      2766              NSW  Australia   \n",
              "3700         3705         6 3rd Point      2256              NSW  Australia   \n",
              "3759         3764     31446 5th Court      3064              VIC  Australia   \n",
              "3857         3862      0618 5th Place      3189              VIC  Australia   \n",
              "\n",
              "      property_valuation  \n",
              "7                     12  \n",
              "15                    12  \n",
              "20                     3  \n",
              "55                    10  \n",
              "128                    1  \n",
              "205                    9  \n",
              "225                   11  \n",
              "242                    4  \n",
              "288                    2  \n",
              "318                    9  \n",
              "487                    9  \n",
              "521                   12  \n",
              "531                    7  \n",
              "550                    4  \n",
              "735                    2  \n",
              "757                    8  \n",
              "800                    8  \n",
              "888                    8  \n",
              "912                    9  \n",
              "1007                   9  \n",
              "1048                   5  \n",
              "1108                  12  \n",
              "1115                   9  \n",
              "1119                  11  \n",
              "1123                   4  \n",
              "1139                   9  \n",
              "1227                   8  \n",
              "1240                  10  \n",
              "1504                  10  \n",
              "1688                   9  \n",
              "1753                   2  \n",
              "1864                   7  \n",
              "2020                   9  \n",
              "2022                  10  \n",
              "2026                   8  \n",
              "2145                   7  \n",
              "2157                   8  \n",
              "2248                  10  \n",
              "2324                   6  \n",
              "2481                  12  \n",
              "2639                   7  \n",
              "2648                   8  \n",
              "2976                   9  \n",
              "3026                   1  \n",
              "3038                   8  \n",
              "3128                   8  \n",
              "3197                   9  \n",
              "3390                   8  \n",
              "3461                  11  \n",
              "3476                   7  \n",
              "3632                   8  \n",
              "3700                   9  \n",
              "3759                   4  \n",
              "3857                  10  "
            ],
            "text/html": [
              "\n",
              "  <div id=\"df-18dc0c70-cf6f-45f2-a2d0-53ad1e4c114c\" class=\"colab-df-container\">\n",
              "    <div>\n",
              "<style scoped>\n",
              "    .dataframe tbody tr th:only-of-type {\n",
              "        vertical-align: middle;\n",
              "    }\n",
              "\n",
              "    .dataframe tbody tr th {\n",
              "        vertical-align: top;\n",
              "    }\n",
              "\n",
              "    .dataframe thead th {\n",
              "        text-align: right;\n",
              "    }\n",
              "</style>\n",
              "<table border=\"1\" class=\"dataframe\">\n",
              "  <thead>\n",
              "    <tr style=\"text-align: right;\">\n",
              "      <th></th>\n",
              "      <th>customer_id</th>\n",
              "      <th>address</th>\n",
              "      <th>postcode</th>\n",
              "      <th>state</th>\n",
              "      <th>country</th>\n",
              "      <th>property_valuation</th>\n",
              "    </tr>\n",
              "  </thead>\n",
              "  <tbody>\n",
              "    <tr>\n",
              "      <th>7</th>\n",
              "      <td>9</td>\n",
              "      <td>97736 7th Trail</td>\n",
              "      <td>2023</td>\n",
              "      <td>New South Wales</td>\n",
              "      <td>Australia</td>\n",
              "      <td>12</td>\n",
              "    </tr>\n",
              "    <tr>\n",
              "      <th>15</th>\n",
              "      <td>18</td>\n",
              "      <td>092 2nd Alley</td>\n",
              "      <td>2135</td>\n",
              "      <td>New South Wales</td>\n",
              "      <td>Australia</td>\n",
              "      <td>12</td>\n",
              "    </tr>\n",
              "    <tr>\n",
              "      <th>20</th>\n",
              "      <td>25</td>\n",
              "      <td>28 5th Center</td>\n",
              "      <td>4413</td>\n",
              "      <td>QLD</td>\n",
              "      <td>Australia</td>\n",
              "      <td>3</td>\n",
              "    </tr>\n",
              "    <tr>\n",
              "      <th>55</th>\n",
              "      <td>60</td>\n",
              "      <td>39 3rd Drive</td>\n",
              "      <td>2026</td>\n",
              "      <td>New South Wales</td>\n",
              "      <td>Australia</td>\n",
              "      <td>10</td>\n",
              "    </tr>\n",
              "    <tr>\n",
              "      <th>128</th>\n",
              "      <td>133</td>\n",
              "      <td>19392 7th Trail</td>\n",
              "      <td>4744</td>\n",
              "      <td>QLD</td>\n",
              "      <td>Australia</td>\n",
              "      <td>1</td>\n",
              "    </tr>\n",
              "    <tr>\n",
              "      <th>205</th>\n",
              "      <td>210</td>\n",
              "      <td>19969 5th Parkway</td>\n",
              "      <td>3152</td>\n",
              "      <td>VIC</td>\n",
              "      <td>Australia</td>\n",
              "      <td>9</td>\n",
              "    </tr>\n",
              "    <tr>\n",
              "      <th>225</th>\n",
              "      <td>230</td>\n",
              "      <td>4 5th Point</td>\n",
              "      <td>2075</td>\n",
              "      <td>NSW</td>\n",
              "      <td>Australia</td>\n",
              "      <td>11</td>\n",
              "    </tr>\n",
              "    <tr>\n",
              "      <th>242</th>\n",
              "      <td>247</td>\n",
              "      <td>2 2nd Plaza</td>\n",
              "      <td>2283</td>\n",
              "      <td>NSW</td>\n",
              "      <td>Australia</td>\n",
              "      <td>4</td>\n",
              "    </tr>\n",
              "    <tr>\n",
              "      <th>288</th>\n",
              "      <td>293</td>\n",
              "      <td>00 5th Lane</td>\n",
              "      <td>2830</td>\n",
              "      <td>NSW</td>\n",
              "      <td>Australia</td>\n",
              "      <td>2</td>\n",
              "    </tr>\n",
              "    <tr>\n",
              "      <th>318</th>\n",
              "      <td>323</td>\n",
              "      <td>82 8th Alley</td>\n",
              "      <td>4210</td>\n",
              "      <td>QLD</td>\n",
              "      <td>Australia</td>\n",
              "      <td>9</td>\n",
              "    </tr>\n",
              "    <tr>\n",
              "      <th>487</th>\n",
              "      <td>492</td>\n",
              "      <td>11731 3rd Hill</td>\n",
              "      <td>3004</td>\n",
              "      <td>Victoria</td>\n",
              "      <td>Australia</td>\n",
              "      <td>9</td>\n",
              "    </tr>\n",
              "    <tr>\n",
              "      <th>521</th>\n",
              "      <td>526</td>\n",
              "      <td>27230 7th Place</td>\n",
              "      <td>2068</td>\n",
              "      <td>NSW</td>\n",
              "      <td>Australia</td>\n",
              "      <td>12</td>\n",
              "    </tr>\n",
              "    <tr>\n",
              "      <th>531</th>\n",
              "      <td>536</td>\n",
              "      <td>64700 2nd Alley</td>\n",
              "      <td>2145</td>\n",
              "      <td>NSW</td>\n",
              "      <td>Australia</td>\n",
              "      <td>7</td>\n",
              "    </tr>\n",
              "    <tr>\n",
              "      <th>550</th>\n",
              "      <td>555</td>\n",
              "      <td>67 8th Terrace</td>\n",
              "      <td>3564</td>\n",
              "      <td>Victoria</td>\n",
              "      <td>Australia</td>\n",
              "      <td>4</td>\n",
              "    </tr>\n",
              "    <tr>\n",
              "      <th>735</th>\n",
              "      <td>740</td>\n",
              "      <td>12 6th Hill</td>\n",
              "      <td>4810</td>\n",
              "      <td>QLD</td>\n",
              "      <td>Australia</td>\n",
              "      <td>2</td>\n",
              "    </tr>\n",
              "    <tr>\n",
              "      <th>757</th>\n",
              "      <td>762</td>\n",
              "      <td>983 2nd Road</td>\n",
              "      <td>2560</td>\n",
              "      <td>NSW</td>\n",
              "      <td>Australia</td>\n",
              "      <td>8</td>\n",
              "    </tr>\n",
              "    <tr>\n",
              "      <th>800</th>\n",
              "      <td>805</td>\n",
              "      <td>80932 5th Street</td>\n",
              "      <td>2754</td>\n",
              "      <td>NSW</td>\n",
              "      <td>Australia</td>\n",
              "      <td>8</td>\n",
              "    </tr>\n",
              "    <tr>\n",
              "      <th>888</th>\n",
              "      <td>893</td>\n",
              "      <td>1 5th Parkway</td>\n",
              "      <td>2148</td>\n",
              "      <td>NSW</td>\n",
              "      <td>Australia</td>\n",
              "      <td>8</td>\n",
              "    </tr>\n",
              "    <tr>\n",
              "      <th>912</th>\n",
              "      <td>917</td>\n",
              "      <td>50 2nd Center</td>\n",
              "      <td>3188</td>\n",
              "      <td>VIC</td>\n",
              "      <td>Australia</td>\n",
              "      <td>9</td>\n",
              "    </tr>\n",
              "    <tr>\n",
              "      <th>1007</th>\n",
              "      <td>1012</td>\n",
              "      <td>44594 5th Street</td>\n",
              "      <td>4220</td>\n",
              "      <td>QLD</td>\n",
              "      <td>Australia</td>\n",
              "      <td>9</td>\n",
              "    </tr>\n",
              "    <tr>\n",
              "      <th>1048</th>\n",
              "      <td>1053</td>\n",
              "      <td>07716 5th Alley</td>\n",
              "      <td>2250</td>\n",
              "      <td>NSW</td>\n",
              "      <td>Australia</td>\n",
              "      <td>5</td>\n",
              "    </tr>\n",
              "    <tr>\n",
              "      <th>1108</th>\n",
              "      <td>1113</td>\n",
              "      <td>515 3rd Road</td>\n",
              "      <td>2037</td>\n",
              "      <td>NSW</td>\n",
              "      <td>Australia</td>\n",
              "      <td>12</td>\n",
              "    </tr>\n",
              "    <tr>\n",
              "      <th>1115</th>\n",
              "      <td>1120</td>\n",
              "      <td>03 6th Alley</td>\n",
              "      <td>2168</td>\n",
              "      <td>NSW</td>\n",
              "      <td>Australia</td>\n",
              "      <td>9</td>\n",
              "    </tr>\n",
              "    <tr>\n",
              "      <th>1119</th>\n",
              "      <td>1124</td>\n",
              "      <td>0355 3rd Drive</td>\n",
              "      <td>2118</td>\n",
              "      <td>NSW</td>\n",
              "      <td>Australia</td>\n",
              "      <td>11</td>\n",
              "    </tr>\n",
              "    <tr>\n",
              "      <th>1123</th>\n",
              "      <td>1128</td>\n",
              "      <td>81114 7th Place</td>\n",
              "      <td>4869</td>\n",
              "      <td>QLD</td>\n",
              "      <td>Australia</td>\n",
              "      <td>4</td>\n",
              "    </tr>\n",
              "    <tr>\n",
              "      <th>1139</th>\n",
              "      <td>1144</td>\n",
              "      <td>4439 7th Terrace</td>\n",
              "      <td>2177</td>\n",
              "      <td>NSW</td>\n",
              "      <td>Australia</td>\n",
              "      <td>9</td>\n",
              "    </tr>\n",
              "    <tr>\n",
              "      <th>1227</th>\n",
              "      <td>1232</td>\n",
              "      <td>61949 7th Road</td>\n",
              "      <td>4573</td>\n",
              "      <td>QLD</td>\n",
              "      <td>Australia</td>\n",
              "      <td>8</td>\n",
              "    </tr>\n",
              "    <tr>\n",
              "      <th>1240</th>\n",
              "      <td>1245</td>\n",
              "      <td>9 7th Terrace</td>\n",
              "      <td>2155</td>\n",
              "      <td>NSW</td>\n",
              "      <td>Australia</td>\n",
              "      <td>10</td>\n",
              "    </tr>\n",
              "    <tr>\n",
              "      <th>1504</th>\n",
              "      <td>1509</td>\n",
              "      <td>00941 7th Place</td>\n",
              "      <td>2227</td>\n",
              "      <td>NSW</td>\n",
              "      <td>Australia</td>\n",
              "      <td>10</td>\n",
              "    </tr>\n",
              "    <tr>\n",
              "      <th>1688</th>\n",
              "      <td>1693</td>\n",
              "      <td>419 2nd Center</td>\n",
              "      <td>4220</td>\n",
              "      <td>QLD</td>\n",
              "      <td>Australia</td>\n",
              "      <td>9</td>\n",
              "    </tr>\n",
              "    <tr>\n",
              "      <th>1753</th>\n",
              "      <td>1758</td>\n",
              "      <td>4 5th Circle</td>\n",
              "      <td>2800</td>\n",
              "      <td>NSW</td>\n",
              "      <td>Australia</td>\n",
              "      <td>2</td>\n",
              "    </tr>\n",
              "    <tr>\n",
              "      <th>1864</th>\n",
              "      <td>1869</td>\n",
              "      <td>765 6th Plaza</td>\n",
              "      <td>4226</td>\n",
              "      <td>QLD</td>\n",
              "      <td>Australia</td>\n",
              "      <td>7</td>\n",
              "    </tr>\n",
              "    <tr>\n",
              "      <th>2020</th>\n",
              "      <td>2025</td>\n",
              "      <td>0 3rd Road</td>\n",
              "      <td>4060</td>\n",
              "      <td>QLD</td>\n",
              "      <td>Australia</td>\n",
              "      <td>9</td>\n",
              "    </tr>\n",
              "    <tr>\n",
              "      <th>2022</th>\n",
              "      <td>2027</td>\n",
              "      <td>9670 4th Point</td>\n",
              "      <td>2065</td>\n",
              "      <td>NSW</td>\n",
              "      <td>Australia</td>\n",
              "      <td>10</td>\n",
              "    </tr>\n",
              "    <tr>\n",
              "      <th>2026</th>\n",
              "      <td>2031</td>\n",
              "      <td>34 3rd Place</td>\n",
              "      <td>3030</td>\n",
              "      <td>VIC</td>\n",
              "      <td>Australia</td>\n",
              "      <td>8</td>\n",
              "    </tr>\n",
              "    <tr>\n",
              "      <th>2145</th>\n",
              "      <td>2150</td>\n",
              "      <td>59694 1st Crossing</td>\n",
              "      <td>4503</td>\n",
              "      <td>QLD</td>\n",
              "      <td>Australia</td>\n",
              "      <td>7</td>\n",
              "    </tr>\n",
              "    <tr>\n",
              "      <th>2157</th>\n",
              "      <td>2162</td>\n",
              "      <td>79291 3rd Circle</td>\n",
              "      <td>2760</td>\n",
              "      <td>NSW</td>\n",
              "      <td>Australia</td>\n",
              "      <td>8</td>\n",
              "    </tr>\n",
              "    <tr>\n",
              "      <th>2248</th>\n",
              "      <td>2253</td>\n",
              "      <td>90 2nd Lane</td>\n",
              "      <td>2768</td>\n",
              "      <td>NSW</td>\n",
              "      <td>Australia</td>\n",
              "      <td>10</td>\n",
              "    </tr>\n",
              "    <tr>\n",
              "      <th>2324</th>\n",
              "      <td>2329</td>\n",
              "      <td>5 1st Park</td>\n",
              "      <td>2285</td>\n",
              "      <td>NSW</td>\n",
              "      <td>Australia</td>\n",
              "      <td>6</td>\n",
              "    </tr>\n",
              "    <tr>\n",
              "      <th>2481</th>\n",
              "      <td>2486</td>\n",
              "      <td>24877 3rd Circle</td>\n",
              "      <td>2063</td>\n",
              "      <td>NSW</td>\n",
              "      <td>Australia</td>\n",
              "      <td>12</td>\n",
              "    </tr>\n",
              "    <tr>\n",
              "      <th>2639</th>\n",
              "      <td>2644</td>\n",
              "      <td>008 6th Center</td>\n",
              "      <td>3141</td>\n",
              "      <td>VIC</td>\n",
              "      <td>Australia</td>\n",
              "      <td>7</td>\n",
              "    </tr>\n",
              "    <tr>\n",
              "      <th>2648</th>\n",
              "      <td>2653</td>\n",
              "      <td>7163 2nd Point</td>\n",
              "      <td>3931</td>\n",
              "      <td>VIC</td>\n",
              "      <td>Australia</td>\n",
              "      <td>8</td>\n",
              "    </tr>\n",
              "    <tr>\n",
              "      <th>2976</th>\n",
              "      <td>2981</td>\n",
              "      <td>9 7th Pass</td>\n",
              "      <td>2760</td>\n",
              "      <td>NSW</td>\n",
              "      <td>Australia</td>\n",
              "      <td>9</td>\n",
              "    </tr>\n",
              "    <tr>\n",
              "      <th>3026</th>\n",
              "      <td>3031</td>\n",
              "      <td>50 7th Circle</td>\n",
              "      <td>4305</td>\n",
              "      <td>QLD</td>\n",
              "      <td>Australia</td>\n",
              "      <td>1</td>\n",
              "    </tr>\n",
              "    <tr>\n",
              "      <th>3038</th>\n",
              "      <td>3043</td>\n",
              "      <td>05 2nd Point</td>\n",
              "      <td>2217</td>\n",
              "      <td>NSW</td>\n",
              "      <td>Australia</td>\n",
              "      <td>8</td>\n",
              "    </tr>\n",
              "    <tr>\n",
              "      <th>3128</th>\n",
              "      <td>3133</td>\n",
              "      <td>21 2nd Pass</td>\n",
              "      <td>2566</td>\n",
              "      <td>NSW</td>\n",
              "      <td>Australia</td>\n",
              "      <td>8</td>\n",
              "    </tr>\n",
              "    <tr>\n",
              "      <th>3197</th>\n",
              "      <td>3202</td>\n",
              "      <td>778 7th Parkway</td>\n",
              "      <td>2071</td>\n",
              "      <td>NSW</td>\n",
              "      <td>Australia</td>\n",
              "      <td>9</td>\n",
              "    </tr>\n",
              "    <tr>\n",
              "      <th>3390</th>\n",
              "      <td>3395</td>\n",
              "      <td>01716 2nd Terrace</td>\n",
              "      <td>3174</td>\n",
              "      <td>VIC</td>\n",
              "      <td>Australia</td>\n",
              "      <td>8</td>\n",
              "    </tr>\n",
              "    <tr>\n",
              "      <th>3461</th>\n",
              "      <td>3466</td>\n",
              "      <td>6 4th Lane</td>\n",
              "      <td>3079</td>\n",
              "      <td>VIC</td>\n",
              "      <td>Australia</td>\n",
              "      <td>11</td>\n",
              "    </tr>\n",
              "    <tr>\n",
              "      <th>3476</th>\n",
              "      <td>3481</td>\n",
              "      <td>00 1st Trail</td>\n",
              "      <td>3223</td>\n",
              "      <td>VIC</td>\n",
              "      <td>Australia</td>\n",
              "      <td>7</td>\n",
              "    </tr>\n",
              "    <tr>\n",
              "      <th>3632</th>\n",
              "      <td>3637</td>\n",
              "      <td>6415 4th Alley</td>\n",
              "      <td>2766</td>\n",
              "      <td>NSW</td>\n",
              "      <td>Australia</td>\n",
              "      <td>8</td>\n",
              "    </tr>\n",
              "    <tr>\n",
              "      <th>3700</th>\n",
              "      <td>3705</td>\n",
              "      <td>6 3rd Point</td>\n",
              "      <td>2256</td>\n",
              "      <td>NSW</td>\n",
              "      <td>Australia</td>\n",
              "      <td>9</td>\n",
              "    </tr>\n",
              "    <tr>\n",
              "      <th>3759</th>\n",
              "      <td>3764</td>\n",
              "      <td>31446 5th Court</td>\n",
              "      <td>3064</td>\n",
              "      <td>VIC</td>\n",
              "      <td>Australia</td>\n",
              "      <td>4</td>\n",
              "    </tr>\n",
              "    <tr>\n",
              "      <th>3857</th>\n",
              "      <td>3862</td>\n",
              "      <td>0618 5th Place</td>\n",
              "      <td>3189</td>\n",
              "      <td>VIC</td>\n",
              "      <td>Australia</td>\n",
              "      <td>10</td>\n",
              "    </tr>\n",
              "  </tbody>\n",
              "</table>\n",
              "</div>\n",
              "    <div class=\"colab-df-buttons\">\n",
              "\n",
              "  <div class=\"colab-df-container\">\n",
              "    <button class=\"colab-df-convert\" onclick=\"convertToInteractive('df-18dc0c70-cf6f-45f2-a2d0-53ad1e4c114c')\"\n",
              "            title=\"Convert this dataframe to an interactive table.\"\n",
              "            style=\"display:none;\">\n",
              "\n",
              "  <svg xmlns=\"http://www.w3.org/2000/svg\" height=\"24px\" viewBox=\"0 -960 960 960\">\n",
              "    <path d=\"M120-120v-720h720v720H120Zm60-500h600v-160H180v160Zm220 220h160v-160H400v160Zm0 220h160v-160H400v160ZM180-400h160v-160H180v160Zm440 0h160v-160H620v160ZM180-180h160v-160H180v160Zm440 0h160v-160H620v160Z\"/>\n",
              "  </svg>\n",
              "    </button>\n",
              "\n",
              "  <style>\n",
              "    .colab-df-container {\n",
              "      display:flex;\n",
              "      gap: 12px;\n",
              "    }\n",
              "\n",
              "    .colab-df-convert {\n",
              "      background-color: #E8F0FE;\n",
              "      border: none;\n",
              "      border-radius: 50%;\n",
              "      cursor: pointer;\n",
              "      display: none;\n",
              "      fill: #1967D2;\n",
              "      height: 32px;\n",
              "      padding: 0 0 0 0;\n",
              "      width: 32px;\n",
              "    }\n",
              "\n",
              "    .colab-df-convert:hover {\n",
              "      background-color: #E2EBFA;\n",
              "      box-shadow: 0px 1px 2px rgba(60, 64, 67, 0.3), 0px 1px 3px 1px rgba(60, 64, 67, 0.15);\n",
              "      fill: #174EA6;\n",
              "    }\n",
              "\n",
              "    .colab-df-buttons div {\n",
              "      margin-bottom: 4px;\n",
              "    }\n",
              "\n",
              "    [theme=dark] .colab-df-convert {\n",
              "      background-color: #3B4455;\n",
              "      fill: #D2E3FC;\n",
              "    }\n",
              "\n",
              "    [theme=dark] .colab-df-convert:hover {\n",
              "      background-color: #434B5C;\n",
              "      box-shadow: 0px 1px 3px 1px rgba(0, 0, 0, 0.15);\n",
              "      filter: drop-shadow(0px 1px 2px rgba(0, 0, 0, 0.3));\n",
              "      fill: #FFFFFF;\n",
              "    }\n",
              "  </style>\n",
              "\n",
              "    <script>\n",
              "      const buttonEl =\n",
              "        document.querySelector('#df-18dc0c70-cf6f-45f2-a2d0-53ad1e4c114c button.colab-df-convert');\n",
              "      buttonEl.style.display =\n",
              "        google.colab.kernel.accessAllowed ? 'block' : 'none';\n",
              "\n",
              "      async function convertToInteractive(key) {\n",
              "        const element = document.querySelector('#df-18dc0c70-cf6f-45f2-a2d0-53ad1e4c114c');\n",
              "        const dataTable =\n",
              "          await google.colab.kernel.invokeFunction('convertToInteractive',\n",
              "                                                    [key], {});\n",
              "        if (!dataTable) return;\n",
              "\n",
              "        const docLinkHtml = 'Like what you see? Visit the ' +\n",
              "          '<a target=\"_blank\" href=https://colab.research.google.com/notebooks/data_table.ipynb>data table notebook</a>'\n",
              "          + ' to learn more about interactive tables.';\n",
              "        element.innerHTML = '';\n",
              "        dataTable['output_type'] = 'display_data';\n",
              "        await google.colab.output.renderOutput(dataTable, element);\n",
              "        const docLink = document.createElement('div');\n",
              "        docLink.innerHTML = docLinkHtml;\n",
              "        element.appendChild(docLink);\n",
              "      }\n",
              "    </script>\n",
              "  </div>\n",
              "\n",
              "\n",
              "<div id=\"df-b1e091cd-fa29-426e-b2c3-62126a381b90\">\n",
              "  <button class=\"colab-df-quickchart\" onclick=\"quickchart('df-b1e091cd-fa29-426e-b2c3-62126a381b90')\"\n",
              "            title=\"Suggest charts.\"\n",
              "            style=\"display:none;\">\n",
              "\n",
              "<svg xmlns=\"http://www.w3.org/2000/svg\" height=\"24px\"viewBox=\"0 0 24 24\"\n",
              "     width=\"24px\">\n",
              "    <g>\n",
              "        <path d=\"M19 3H5c-1.1 0-2 .9-2 2v14c0 1.1.9 2 2 2h14c1.1 0 2-.9 2-2V5c0-1.1-.9-2-2-2zM9 17H7v-7h2v7zm4 0h-2V7h2v10zm4 0h-2v-4h2v4z\"/>\n",
              "    </g>\n",
              "</svg>\n",
              "  </button>\n",
              "\n",
              "<style>\n",
              "  .colab-df-quickchart {\n",
              "      --bg-color: #E8F0FE;\n",
              "      --fill-color: #1967D2;\n",
              "      --hover-bg-color: #E2EBFA;\n",
              "      --hover-fill-color: #174EA6;\n",
              "      --disabled-fill-color: #AAA;\n",
              "      --disabled-bg-color: #DDD;\n",
              "  }\n",
              "\n",
              "  [theme=dark] .colab-df-quickchart {\n",
              "      --bg-color: #3B4455;\n",
              "      --fill-color: #D2E3FC;\n",
              "      --hover-bg-color: #434B5C;\n",
              "      --hover-fill-color: #FFFFFF;\n",
              "      --disabled-bg-color: #3B4455;\n",
              "      --disabled-fill-color: #666;\n",
              "  }\n",
              "\n",
              "  .colab-df-quickchart {\n",
              "    background-color: var(--bg-color);\n",
              "    border: none;\n",
              "    border-radius: 50%;\n",
              "    cursor: pointer;\n",
              "    display: none;\n",
              "    fill: var(--fill-color);\n",
              "    height: 32px;\n",
              "    padding: 0;\n",
              "    width: 32px;\n",
              "  }\n",
              "\n",
              "  .colab-df-quickchart:hover {\n",
              "    background-color: var(--hover-bg-color);\n",
              "    box-shadow: 0 1px 2px rgba(60, 64, 67, 0.3), 0 1px 3px 1px rgba(60, 64, 67, 0.15);\n",
              "    fill: var(--button-hover-fill-color);\n",
              "  }\n",
              "\n",
              "  .colab-df-quickchart-complete:disabled,\n",
              "  .colab-df-quickchart-complete:disabled:hover {\n",
              "    background-color: var(--disabled-bg-color);\n",
              "    fill: var(--disabled-fill-color);\n",
              "    box-shadow: none;\n",
              "  }\n",
              "\n",
              "  .colab-df-spinner {\n",
              "    border: 2px solid var(--fill-color);\n",
              "    border-color: transparent;\n",
              "    border-bottom-color: var(--fill-color);\n",
              "    animation:\n",
              "      spin 1s steps(1) infinite;\n",
              "  }\n",
              "\n",
              "  @keyframes spin {\n",
              "    0% {\n",
              "      border-color: transparent;\n",
              "      border-bottom-color: var(--fill-color);\n",
              "      border-left-color: var(--fill-color);\n",
              "    }\n",
              "    20% {\n",
              "      border-color: transparent;\n",
              "      border-left-color: var(--fill-color);\n",
              "      border-top-color: var(--fill-color);\n",
              "    }\n",
              "    30% {\n",
              "      border-color: transparent;\n",
              "      border-left-color: var(--fill-color);\n",
              "      border-top-color: var(--fill-color);\n",
              "      border-right-color: var(--fill-color);\n",
              "    }\n",
              "    40% {\n",
              "      border-color: transparent;\n",
              "      border-right-color: var(--fill-color);\n",
              "      border-top-color: var(--fill-color);\n",
              "    }\n",
              "    60% {\n",
              "      border-color: transparent;\n",
              "      border-right-color: var(--fill-color);\n",
              "    }\n",
              "    80% {\n",
              "      border-color: transparent;\n",
              "      border-right-color: var(--fill-color);\n",
              "      border-bottom-color: var(--fill-color);\n",
              "    }\n",
              "    90% {\n",
              "      border-color: transparent;\n",
              "      border-bottom-color: var(--fill-color);\n",
              "    }\n",
              "  }\n",
              "</style>\n",
              "\n",
              "  <script>\n",
              "    async function quickchart(key) {\n",
              "      const quickchartButtonEl =\n",
              "        document.querySelector('#' + key + ' button');\n",
              "      quickchartButtonEl.disabled = true;  // To prevent multiple clicks.\n",
              "      quickchartButtonEl.classList.add('colab-df-spinner');\n",
              "      try {\n",
              "        const charts = await google.colab.kernel.invokeFunction(\n",
              "            'suggestCharts', [key], {});\n",
              "      } catch (error) {\n",
              "        console.error('Error during call to suggestCharts:', error);\n",
              "      }\n",
              "      quickchartButtonEl.classList.remove('colab-df-spinner');\n",
              "      quickchartButtonEl.classList.add('colab-df-quickchart-complete');\n",
              "    }\n",
              "    (() => {\n",
              "      let quickchartButtonEl =\n",
              "        document.querySelector('#df-b1e091cd-fa29-426e-b2c3-62126a381b90 button');\n",
              "      quickchartButtonEl.style.display =\n",
              "        google.colab.kernel.accessAllowed ? 'block' : 'none';\n",
              "    })();\n",
              "  </script>\n",
              "</div>\n",
              "    </div>\n",
              "  </div>\n"
            ]
          },
          "metadata": {},
          "execution_count": 64
        }
      ]
    },
    {
      "cell_type": "markdown",
      "source": [
        "There are some addresses on the \"address\" column in your Customer Addresses dataset that don't follow expected patterns or formats such as 123 Main Street"
      ],
      "metadata": {
        "id": "XXH8ud4Ywz8Y"
      }
    },
    {
      "cell_type": "code",
      "source": [
        "def Plots(x, color, title, xlab, ylab, *size):\n",
        "    plt.figure(figsize=size)\n",
        "    sns.countplot(x=x, data=customer_addresses, color = color);\n",
        "    plt.title(title, fontsize = 15);\n",
        "    plt.xlabel(xlab, fontsize = 15);\n",
        "    plt.ylabel(ylab, fontsize = 15)\n",
        "    plt.tight_layout()"
      ],
      "metadata": {
        "id": "SKuMfPNH1HGc"
      },
      "execution_count": 65,
      "outputs": []
    },
    {
      "cell_type": "code",
      "source": [
        "Plots(\"state\",\"lime\",\"State Distribution\",\"State\",\"Number of customers\",6,4)"
      ],
      "metadata": {
        "id": "h0srVwOH1Oed",
        "colab": {
          "base_uri": "https://localhost:8080/",
          "height": 407
        },
        "outputId": "756a19e2-8331-4cf6-98fb-eef12c51cf8b"
      },
      "execution_count": 66,
      "outputs": [
        {
          "output_type": "display_data",
          "data": {
            "text/plain": [
              "<Figure size 600x400 with 1 Axes>"
            ],
            "image/png": "[encoded data removed]"
          },
          "metadata": {}
        }
      ]
    },
    {
      "cell_type": "markdown",
      "source": [
        "Observations:\n",
        "\n",
        "* There are a major number of customers from NSW in the data\n",
        "* The number of customers from Victoria and New South Wales are the least"
      ],
      "metadata": {
        "id": "9uuGRixg12mS"
      }
    },
    {
      "cell_type": "markdown",
      "source": [
        "## 3. Data Consistency"
      ],
      "metadata": {
        "id": "wTV-XA1nxoBl"
      }
    },
    {
      "cell_type": "code",
      "source": [
        "!pip install pycountry\n",
        "import pycountry\n",
        "\n",
        "# Get a list of valid country names\n",
        "country_names = [country.name for country in pycountry.countries]\n",
        "\n",
        "# Use country_names for validation\n",
        "valid_countries = customer_addresses['country'].isin(country_names).all()\n",
        "print(\"All Countries are valid:\", valid_countries)"
      ],
      "metadata": {
        "colab": {
          "base_uri": "https://localhost:8080/"
        },
        "id": "dhs0apnVxsCd",
        "outputId": "6611c18c-b64d-4258-bea0-2fffd5dec900"
      },
      "execution_count": 67,
      "outputs": [
        {
          "output_type": "stream",
          "name": "stdout",
          "text": [
            "Collecting pycountry\n",
            "  Downloading pycountry-22.3.5.tar.gz (10.1 MB)\n",
            "\u001b[2K     \u001b[90m━━━━━━━━━━━━━━━━━━━━━━━━━━━━━━━━━━━━━━━━\u001b[0m \u001b[32m10.1/10.1 MB\u001b[0m \u001b[31m56.1 MB/s\u001b[0m eta \u001b[36m0:00:00\u001b[0m\n",
            "\u001b[?25h  Installing build dependencies ... \u001b[?25l\u001b[?25hdone\n",
            "  Getting requirements to build wheel ... \u001b[?25l\u001b[?25hdone\n",
            "  Preparing metadata (pyproject.toml) ... \u001b[?25l\u001b[?25hdone\n",
            "Requirement already satisfied: setuptools in /usr/local/lib/python3.10/dist-packages (from pycountry) (67.7.2)\n",
            "Building wheels for collected packages: pycountry\n",
            "  Building wheel for pycountry (pyproject.toml) ... \u001b[?25l\u001b[?25hdone\n",
            "  Created wheel for pycountry: filename=pycountry-22.3.5-py2.py3-none-any.whl size=10681833 sha256=1773f8d09c28e51a4750d475d725df96d277067ee72035d23bb7ef6055472997\n",
            "  Stored in directory: /root/.cache/pip/wheels/03/57/cc/290c5252ec97a6d78d36479a3c5e5ecc76318afcb241ad9dbe\n",
            "Successfully built pycountry\n",
            "Installing collected packages: pycountry\n",
            "Successfully installed pycountry-22.3.5\n",
            "All Countries are valid: True\n"
          ]
        }
      ]
    },
    {
      "cell_type": "code",
      "source": [
        "# Get a list of valid state names using pycountry\n",
        "valid_state_names = [state.name for state in pycountry.subdivisions]\n",
        "\n",
        "# Check if the 'state' column contains only valid state names\n",
        "valid_states = customer_addresses['state'].isin(valid_state_names).all()\n",
        "\n",
        "# Print the result\n",
        "print(\"All states are valid:\", valid_states)"
      ],
      "metadata": {
        "colab": {
          "base_uri": "https://localhost:8080/"
        },
        "id": "EuTQaxNSxv3x",
        "outputId": "2375caf0-4b34-46ae-dfe1-e304ba81d514"
      },
      "execution_count": 68,
      "outputs": [
        {
          "output_type": "stream",
          "name": "stdout",
          "text": [
            "All states are valid: False\n"
          ]
        }
      ]
    },
    {
      "cell_type": "markdown",
      "source": [
        "## 4. Data Redundancy"
      ],
      "metadata": {
        "id": "PvcS4MBXyefE"
      }
    },
    {
      "cell_type": "code",
      "source": [
        "# Check for duplicate rows based on all columns\n",
        "duplicate_rows = customer_addresses[customer_addresses.duplicated()]\n",
        "\n",
        "# If there are any duplicate rows, they will be stored in the duplicate_rows DataFrame\n",
        "# You can display these duplicate rows to examine them\n",
        "print(\"Duplicate Rows:\")\n",
        "print(duplicate_rows)"
      ],
      "metadata": {
        "colab": {
          "base_uri": "https://localhost:8080/"
        },
        "id": "xtXLVimIyhN3",
        "outputId": "c8b21282-3676-47dd-f8d0-ad5f23370cb7"
      },
      "execution_count": 69,
      "outputs": [
        {
          "output_type": "stream",
          "name": "stdout",
          "text": [
            "Duplicate Rows:\n",
            "Empty DataFrame\n",
            "Columns: [customer_id, address, postcode, state, country, property_valuation]\n",
            "Index: []\n"
          ]
        }
      ]
    },
    {
      "cell_type": "markdown",
      "source": [
        "There are no duplicate records."
      ],
      "metadata": {
        "id": "QnR1K915yod0"
      }
    },
    {
      "cell_type": "markdown",
      "metadata": {
        "id": "qoITs2ElW3qp"
      },
      "source": [
        "#EDA of Transactions"
      ]
    },
    {
      "cell_type": "markdown",
      "source": [
        "## 1. Data Completeness"
      ],
      "metadata": {
        "id": "wV2qInDBusnY"
      }
    },
    {
      "cell_type": "code",
      "source": [
        "transactions.info()"
      ],
      "metadata": {
        "colab": {
          "base_uri": "https://localhost:8080/"
        },
        "id": "VDKrK8-Uus_S",
        "outputId": "fd1d8e27-35ea-4ee1-eacd-c2b245f29fe5"
      },
      "execution_count": 70,
      "outputs": [
        {
          "output_type": "stream",
          "name": "stdout",
          "text": [
            "<class 'pandas.core.frame.DataFrame'>\n",
            "RangeIndex: 20000 entries, 0 to 19999\n",
            "Data columns (total 13 columns):\n",
            " #   Column                   Non-Null Count  Dtype         \n",
            "---  ------                   --------------  -----         \n",
            " 0   transaction_id           20000 non-null  int64         \n",
            " 1   product_id               20000 non-null  int64         \n",
            " 2   customer_id              20000 non-null  int64         \n",
            " 3   transaction_date         20000 non-null  datetime64[ns]\n",
            " 4   online_order             19640 non-null  float64       \n",
            " 5   order_status             20000 non-null  object        \n",
            " 6   brand                    19803 non-null  object        \n",
            " 7   product_line             19803 non-null  object        \n",
            " 8   product_class            19803 non-null  object        \n",
            " 9   product_size             19803 non-null  object        \n",
            " 10  list_price               20000 non-null  float64       \n",
            " 11  standard_cost            19803 non-null  float64       \n",
            " 12  product_first_sold_date  19803 non-null  float64       \n",
            "dtypes: datetime64[ns](1), float64(4), int64(3), object(5)\n",
            "memory usage: 2.0+ MB\n"
          ]
        }
      ]
    },
    {
      "cell_type": "markdown",
      "source": [
        "* \"online_order\", \"brand,\" \"product_line,\" \"product_class,\" \"product_size,\" \"standard_cost,\" and \"product_first_sold_date\" have missing values.\n",
        "\n",
        "* We can also notice that the 'product_first_sold_date' column is of float datatype which has to be changed to date format."
      ],
      "metadata": {
        "id": "J1mzj-6Yu62z"
      }
    },
    {
      "cell_type": "code",
      "source": [
        "transactions['product_first_sold_date'] = pd.to_datetime(transactions['product_first_sold_date'], unit='s')"
      ],
      "metadata": {
        "id": "whHeHblgoUzy"
      },
      "execution_count": 71,
      "outputs": []
    },
    {
      "cell_type": "code",
      "source": [
        "transactions.describe()"
      ],
      "metadata": {
        "colab": {
          "base_uri": "https://localhost:8080/",
          "height": 300
        },
        "id": "SMi-D3AWvAfi",
        "outputId": "d3b974f7-7b1c-44dc-cf70-d398cb6b1bda"
      },
      "execution_count": 72,
      "outputs": [
        {
          "output_type": "execute_result",
          "data": {
            "text/plain": [
              "       transaction_id   product_id   customer_id  online_order    list_price  \\\n",
              "count    20000.000000  20000.00000  20000.000000  19640.000000  20000.000000   \n",
              "mean     10000.500000     45.36465   1738.246050      0.500458   1107.829449   \n",
              "std       5773.647028     30.75359   1011.951046      0.500013    582.825242   \n",
              "min          1.000000      0.00000      1.000000      0.000000     12.010000   \n",
              "25%       5000.750000     18.00000    857.750000      0.000000    575.270000   \n",
              "50%      10000.500000     44.00000   1736.000000      1.000000   1163.890000   \n",
              "75%      15000.250000     72.00000   2613.000000      1.000000   1635.300000   \n",
              "max      20000.000000    100.00000   5034.000000      1.000000   2091.470000   \n",
              "\n",
              "       standard_cost  \n",
              "count   19803.000000  \n",
              "mean      556.046951  \n",
              "std       405.955660  \n",
              "min         7.210000  \n",
              "25%       215.140000  \n",
              "50%       507.580000  \n",
              "75%       795.100000  \n",
              "max      1759.850000  "
            ],
            "text/html": [
              "\n",
              "  <div id=\"df-c5351b97-5dfe-4945-a44b-47d9b229d1b9\" class=\"colab-df-container\">\n",
              "    <div>\n",
              "<style scoped>\n",
              "    .dataframe tbody tr th:only-of-type {\n",
              "        vertical-align: middle;\n",
              "    }\n",
              "\n",
              "    .dataframe tbody tr th {\n",
              "        vertical-align: top;\n",
              "    }\n",
              "\n",
              "    .dataframe thead th {\n",
              "        text-align: right;\n",
              "    }\n",
              "</style>\n",
              "<table border=\"1\" class=\"dataframe\">\n",
              "  <thead>\n",
              "    <tr style=\"text-align: right;\">\n",
              "      <th></th>\n",
              "      <th>transaction_id</th>\n",
              "      <th>product_id</th>\n",
              "      <th>customer_id</th>\n",
              "      <th>online_order</th>\n",
              "      <th>list_price</th>\n",
              "      <th>standard_cost</th>\n",
              "    </tr>\n",
              "  </thead>\n",
              "  <tbody>\n",
              "    <tr>\n",
              "      <th>count</th>\n",
              "      <td>20000.000000</td>\n",
              "      <td>20000.00000</td>\n",
              "      <td>20000.000000</td>\n",
              "      <td>19640.000000</td>\n",
              "      <td>20000.000000</td>\n",
              "      <td>19803.000000</td>\n",
              "    </tr>\n",
              "    <tr>\n",
              "      <th>mean</th>\n",
              "      <td>10000.500000</td>\n",
              "      <td>45.36465</td>\n",
              "      <td>1738.246050</td>\n",
              "      <td>0.500458</td>\n",
              "      <td>1107.829449</td>\n",
              "      <td>556.046951</td>\n",
              "    </tr>\n",
              "    <tr>\n",
              "      <th>std</th>\n",
              "      <td>5773.647028</td>\n",
              "      <td>30.75359</td>\n",
              "      <td>1011.951046</td>\n",
              "      <td>0.500013</td>\n",
              "      <td>582.825242</td>\n",
              "      <td>405.955660</td>\n",
              "    </tr>\n",
              "    <tr>\n",
              "      <th>min</th>\n",
              "      <td>1.000000</td>\n",
              "      <td>0.00000</td>\n",
              "      <td>1.000000</td>\n",
              "      <td>0.000000</td>\n",
              "      <td>12.010000</td>\n",
              "      <td>7.210000</td>\n",
              "    </tr>\n",
              "    <tr>\n",
              "      <th>25%</th>\n",
              "      <td>5000.750000</td>\n",
              "      <td>18.00000</td>\n",
              "      <td>857.750000</td>\n",
              "      <td>0.000000</td>\n",
              "      <td>575.270000</td>\n",
              "      <td>215.140000</td>\n",
              "    </tr>\n",
              "    <tr>\n",
              "      <th>50%</th>\n",
              "      <td>10000.500000</td>\n",
              "      <td>44.00000</td>\n",
              "      <td>1736.000000</td>\n",
              "      <td>1.000000</td>\n",
              "      <td>1163.890000</td>\n",
              "      <td>507.580000</td>\n",
              "    </tr>\n",
              "    <tr>\n",
              "      <th>75%</th>\n",
              "      <td>15000.250000</td>\n",
              "      <td>72.00000</td>\n",
              "      <td>2613.000000</td>\n",
              "      <td>1.000000</td>\n",
              "      <td>1635.300000</td>\n",
              "      <td>795.100000</td>\n",
              "    </tr>\n",
              "    <tr>\n",
              "      <th>max</th>\n",
              "      <td>20000.000000</td>\n",
              "      <td>100.00000</td>\n",
              "      <td>5034.000000</td>\n",
              "      <td>1.000000</td>\n",
              "      <td>2091.470000</td>\n",
              "      <td>1759.850000</td>\n",
              "    </tr>\n",
              "  </tbody>\n",
              "</table>\n",
              "</div>\n",
              "    <div class=\"colab-df-buttons\">\n",
              "\n",
              "  <div class=\"colab-df-container\">\n",
              "    <button class=\"colab-df-convert\" onclick=\"convertToInteractive('df-c5351b97-5dfe-4945-a44b-47d9b229d1b9')\"\n",
              "            title=\"Convert this dataframe to an interactive table.\"\n",
              "            style=\"display:none;\">\n",
              "\n",
              "  <svg xmlns=\"http://www.w3.org/2000/svg\" height=\"24px\" viewBox=\"0 -960 960 960\">\n",
              "    <path d=\"M120-120v-720h720v720H120Zm60-500h600v-160H180v160Zm220 220h160v-160H400v160Zm0 220h160v-160H400v160ZM180-400h160v-160H180v160Zm440 0h160v-160H620v160ZM180-180h160v-160H180v160Zm440 0h160v-160H620v160Z\"/>\n",
              "  </svg>\n",
              "    </button>\n",
              "\n",
              "  <style>\n",
              "    .colab-df-container {\n",
              "      display:flex;\n",
              "      gap: 12px;\n",
              "    }\n",
              "\n",
              "    .colab-df-convert {\n",
              "      background-color: #E8F0FE;\n",
              "      border: none;\n",
              "      border-radius: 50%;\n",
              "      cursor: pointer;\n",
              "      display: none;\n",
              "      fill: #1967D2;\n",
              "      height: 32px;\n",
              "      padding: 0 0 0 0;\n",
              "      width: 32px;\n",
              "    }\n",
              "\n",
              "    .colab-df-convert:hover {\n",
              "      background-color: #E2EBFA;\n",
              "      box-shadow: 0px 1px 2px rgba(60, 64, 67, 0.3), 0px 1px 3px 1px rgba(60, 64, 67, 0.15);\n",
              "      fill: #174EA6;\n",
              "    }\n",
              "\n",
              "    .colab-df-buttons div {\n",
              "      margin-bottom: 4px;\n",
              "    }\n",
              "\n",
              "    [theme=dark] .colab-df-convert {\n",
              "      background-color: #3B4455;\n",
              "      fill: #D2E3FC;\n",
              "    }\n",
              "\n",
              "    [theme=dark] .colab-df-convert:hover {\n",
              "      background-color: #434B5C;\n",
              "      box-shadow: 0px 1px 3px 1px rgba(0, 0, 0, 0.15);\n",
              "      filter: drop-shadow(0px 1px 2px rgba(0, 0, 0, 0.3));\n",
              "      fill: #FFFFFF;\n",
              "    }\n",
              "  </style>\n",
              "\n",
              "    <script>\n",
              "      const buttonEl =\n",
              "        document.querySelector('#df-c5351b97-5dfe-4945-a44b-47d9b229d1b9 button.colab-df-convert');\n",
              "      buttonEl.style.display =\n",
              "        google.colab.kernel.accessAllowed ? 'block' : 'none';\n",
              "\n",
              "      async function convertToInteractive(key) {\n",
              "        const element = document.querySelector('#df-c5351b97-5dfe-4945-a44b-47d9b229d1b9');\n",
              "        const dataTable =\n",
              "          await google.colab.kernel.invokeFunction('convertToInteractive',\n",
              "                                                    [key], {});\n",
              "        if (!dataTable) return;\n",
              "\n",
              "        const docLinkHtml = 'Like what you see? Visit the ' +\n",
              "          '<a target=\"_blank\" href=https://colab.research.google.com/notebooks/data_table.ipynb>data table notebook</a>'\n",
              "          + ' to learn more about interactive tables.';\n",
              "        element.innerHTML = '';\n",
              "        dataTable['output_type'] = 'display_data';\n",
              "        await google.colab.output.renderOutput(dataTable, element);\n",
              "        const docLink = document.createElement('div');\n",
              "        docLink.innerHTML = docLinkHtml;\n",
              "        element.appendChild(docLink);\n",
              "      }\n",
              "    </script>\n",
              "  </div>\n",
              "\n",
              "\n",
              "<div id=\"df-39f96b2b-8457-4c24-86d0-2562aca13592\">\n",
              "  <button class=\"colab-df-quickchart\" onclick=\"quickchart('df-39f96b2b-8457-4c24-86d0-2562aca13592')\"\n",
              "            title=\"Suggest charts.\"\n",
              "            style=\"display:none;\">\n",
              "\n",
              "<svg xmlns=\"http://www.w3.org/2000/svg\" height=\"24px\"viewBox=\"0 0 24 24\"\n",
              "     width=\"24px\">\n",
              "    <g>\n",
              "        <path d=\"M19 3H5c-1.1 0-2 .9-2 2v14c0 1.1.9 2 2 2h14c1.1 0 2-.9 2-2V5c0-1.1-.9-2-2-2zM9 17H7v-7h2v7zm4 0h-2V7h2v10zm4 0h-2v-4h2v4z\"/>\n",
              "    </g>\n",
              "</svg>\n",
              "  </button>\n",
              "\n",
              "<style>\n",
              "  .colab-df-quickchart {\n",
              "      --bg-color: #E8F0FE;\n",
              "      --fill-color: #1967D2;\n",
              "      --hover-bg-color: #E2EBFA;\n",
              "      --hover-fill-color: #174EA6;\n",
              "      --disabled-fill-color: #AAA;\n",
              "      --disabled-bg-color: #DDD;\n",
              "  }\n",
              "\n",
              "  [theme=dark] .colab-df-quickchart {\n",
              "      --bg-color: #3B4455;\n",
              "      --fill-color: #D2E3FC;\n",
              "      --hover-bg-color: #434B5C;\n",
              "      --hover-fill-color: #FFFFFF;\n",
              "      --disabled-bg-color: #3B4455;\n",
              "      --disabled-fill-color: #666;\n",
              "  }\n",
              "\n",
              "  .colab-df-quickchart {\n",
              "    background-color: var(--bg-color);\n",
              "    border: none;\n",
              "    border-radius: 50%;\n",
              "    cursor: pointer;\n",
              "    display: none;\n",
              "    fill: var(--fill-color);\n",
              "    height: 32px;\n",
              "    padding: 0;\n",
              "    width: 32px;\n",
              "  }\n",
              "\n",
              "  .colab-df-quickchart:hover {\n",
              "    background-color: var(--hover-bg-color);\n",
              "    box-shadow: 0 1px 2px rgba(60, 64, 67, 0.3), 0 1px 3px 1px rgba(60, 64, 67, 0.15);\n",
              "    fill: var(--button-hover-fill-color);\n",
              "  }\n",
              "\n",
              "  .colab-df-quickchart-complete:disabled,\n",
              "  .colab-df-quickchart-complete:disabled:hover {\n",
              "    background-color: var(--disabled-bg-color);\n",
              "    fill: var(--disabled-fill-color);\n",
              "    box-shadow: none;\n",
              "  }\n",
              "\n",
              "  .colab-df-spinner {\n",
              "    border: 2px solid var(--fill-color);\n",
              "    border-color: transparent;\n",
              "    border-bottom-color: var(--fill-color);\n",
              "    animation:\n",
              "      spin 1s steps(1) infinite;\n",
              "  }\n",
              "\n",
              "  @keyframes spin {\n",
              "    0% {\n",
              "      border-color: transparent;\n",
              "      border-bottom-color: var(--fill-color);\n",
              "      border-left-color: var(--fill-color);\n",
              "    }\n",
              "    20% {\n",
              "      border-color: transparent;\n",
              "      border-left-color: var(--fill-color);\n",
              "      border-top-color: var(--fill-color);\n",
              "    }\n",
              "    30% {\n",
              "      border-color: transparent;\n",
              "      border-left-color: var(--fill-color);\n",
              "      border-top-color: var(--fill-color);\n",
              "      border-right-color: var(--fill-color);\n",
              "    }\n",
              "    40% {\n",
              "      border-color: transparent;\n",
              "      border-right-color: var(--fill-color);\n",
              "      border-top-color: var(--fill-color);\n",
              "    }\n",
              "    60% {\n",
              "      border-color: transparent;\n",
              "      border-right-color: var(--fill-color);\n",
              "    }\n",
              "    80% {\n",
              "      border-color: transparent;\n",
              "      border-right-color: var(--fill-color);\n",
              "      border-bottom-color: var(--fill-color);\n",
              "    }\n",
              "    90% {\n",
              "      border-color: transparent;\n",
              "      border-bottom-color: var(--fill-color);\n",
              "    }\n",
              "  }\n",
              "</style>\n",
              "\n",
              "  <script>\n",
              "    async function quickchart(key) {\n",
              "      const quickchartButtonEl =\n",
              "        document.querySelector('#' + key + ' button');\n",
              "      quickchartButtonEl.disabled = true;  // To prevent multiple clicks.\n",
              "      quickchartButtonEl.classList.add('colab-df-spinner');\n",
              "      try {\n",
              "        const charts = await google.colab.kernel.invokeFunction(\n",
              "            'suggestCharts', [key], {});\n",
              "      } catch (error) {\n",
              "        console.error('Error during call to suggestCharts:', error);\n",
              "      }\n",
              "      quickchartButtonEl.classList.remove('colab-df-spinner');\n",
              "      quickchartButtonEl.classList.add('colab-df-quickchart-complete');\n",
              "    }\n",
              "    (() => {\n",
              "      let quickchartButtonEl =\n",
              "        document.querySelector('#df-39f96b2b-8457-4c24-86d0-2562aca13592 button');\n",
              "      quickchartButtonEl.style.display =\n",
              "        google.colab.kernel.accessAllowed ? 'block' : 'none';\n",
              "    })();\n",
              "  </script>\n",
              "</div>\n",
              "    </div>\n",
              "  </div>\n"
            ]
          },
          "metadata": {},
          "execution_count": 72
        }
      ]
    },
    {
      "cell_type": "code",
      "source": [
        "missing_values = transactions.isnull().sum()\n",
        "\n",
        "# Display the missing values count for each column\n",
        "print(\"Missing Values:\")\n",
        "print(missing_values)"
      ],
      "metadata": {
        "colab": {
          "base_uri": "https://localhost:8080/"
        },
        "id": "lCTzLzEVvHMb",
        "outputId": "363ce7d1-bb86-45a9-dd15-e9750f125071"
      },
      "execution_count": 73,
      "outputs": [
        {
          "output_type": "stream",
          "name": "stdout",
          "text": [
            "Missing Values:\n",
            "transaction_id               0\n",
            "product_id                   0\n",
            "customer_id                  0\n",
            "transaction_date             0\n",
            "online_order               360\n",
            "order_status                 0\n",
            "brand                      197\n",
            "product_line               197\n",
            "product_class              197\n",
            "product_size               197\n",
            "list_price                   0\n",
            "standard_cost              197\n",
            "product_first_sold_date    197\n",
            "dtype: int64\n"
          ]
        }
      ]
    },
    {
      "cell_type": "code",
      "source": [
        "transactions.duplicated().sum()"
      ],
      "metadata": {
        "colab": {
          "base_uri": "https://localhost:8080/"
        },
        "id": "JwJrkrI1ofWH",
        "outputId": "383f9019-af1a-403f-b4d7-7cf6ae7a712f"
      },
      "execution_count": 74,
      "outputs": [
        {
          "output_type": "execute_result",
          "data": {
            "text/plain": [
              "0"
            ]
          },
          "metadata": {},
          "execution_count": 74
        }
      ]
    },
    {
      "cell_type": "markdown",
      "source": [
        "We can see that there are many missing values in the data and that there are no duplicates. We might have to drop the missing values or fill those using suitable values, which we will do later if needed for further analysis."
      ],
      "metadata": {
        "id": "z3c62de7ok81"
      }
    },
    {
      "cell_type": "markdown",
      "source": [
        "## 2. Data Accuracy"
      ],
      "metadata": {
        "id": "md5APpozvJYt"
      }
    },
    {
      "cell_type": "code",
      "source": [
        "# Count non-null values in the \"online_order\" column\n",
        "online_order_count = transactions['online_order'].count()\n",
        "print(\"Count of Non-null Online Orders:\", online_order_count)"
      ],
      "metadata": {
        "colab": {
          "base_uri": "https://localhost:8080/"
        },
        "id": "IqOPmGiBw74U",
        "outputId": "40f443e7-bb71-44c1-d3e5-3df73683fee9"
      },
      "execution_count": 75,
      "outputs": [
        {
          "output_type": "stream",
          "name": "stdout",
          "text": [
            "Count of Non-null Online Orders: 19640\n"
          ]
        }
      ]
    },
    {
      "cell_type": "code",
      "source": [
        "order_status_counts = transactions['order_status'].value_counts()\n",
        "print(\"Order Status Value Counts:\")\n",
        "print(order_status_counts)\n"
      ],
      "metadata": {
        "colab": {
          "base_uri": "https://localhost:8080/"
        },
        "id": "h_Y1WYehxBAf",
        "outputId": "0198d7c7-87e8-4b55-e198-c4012ac25cf2"
      },
      "execution_count": 76,
      "outputs": [
        {
          "output_type": "stream",
          "name": "stdout",
          "text": [
            "Order Status Value Counts:\n",
            "Approved     19821\n",
            "Cancelled      179\n",
            "Name: order_status, dtype: int64\n"
          ]
        }
      ]
    },
    {
      "cell_type": "code",
      "source": [
        "import matplotlib.pyplot as plt\n",
        "import seaborn as sns\n",
        "\n",
        "plt.figure(figsize=(8, 6))\n",
        "sns.countplot(data=transactions, x='order_status')\n",
        "plt.title(\"Distribution of Order Status\")\n",
        "plt.xlabel(\"Order Status\")\n",
        "plt.ylabel(\"Count\")\n",
        "plt.xticks(rotation=45)\n",
        "plt.show()"
      ],
      "metadata": {
        "colab": {
          "base_uri": "https://localhost:8080/",
          "height": 608
        },
        "id": "733MvRpJxGdB",
        "outputId": "12129b0a-e8b9-4bd9-8a3a-e0a3aa556c01"
      },
      "execution_count": 77,
      "outputs": [
        {
          "output_type": "display_data",
          "data": {
            "text/plain": [
              "<Figure size 800x600 with 1 Axes>"
            ],
            "image/png": "[encoded data removed]"
          },
          "metadata": {}
        }
      ]
    },
    {
      "cell_type": "code",
      "source": [
        "# Assuming df is your Transactions dataset and 'list_price' is the column to visualize\n",
        "plt.hist(transactions['list_price'], bins=20, color='blue', alpha=0.7)\n",
        "plt.xlabel('List Price')\n",
        "plt.ylabel('Frequency')\n",
        "plt.title('Histogram of List Price')\n",
        "plt.show()"
      ],
      "metadata": {
        "colab": {
          "base_uri": "https://localhost:8080/",
          "height": 472
        },
        "id": "nQzOoY_fxMxR",
        "outputId": "e9cdf689-5f8c-483f-b8ed-6c7c72c6c3e2"
      },
      "execution_count": 78,
      "outputs": [
        {
          "output_type": "display_data",
          "data": {
            "text/plain": [
              "<Figure size 640x480 with 1 Axes>"
            ],
            "image/png": "[encoded data removed]"
          },
          "metadata": {}
        }
      ]
    },
    {
      "cell_type": "code",
      "source": [
        "# Assuming df is your Transactions dataset and 'standard_cost' is the column to visualize\n",
        "sns.boxplot(x=transactions['standard_cost'])\n",
        "plt.xlabel('Standard Cost')\n",
        "plt.title('Box Plot of Standard Cost')\n",
        "plt.show()"
      ],
      "metadata": {
        "colab": {
          "base_uri": "https://localhost:8080/",
          "height": 472
        },
        "id": "3gFq1ZnPxSiy",
        "outputId": "38ac554b-5052-4237-be5e-1a1055a0ff00"
      },
      "execution_count": 79,
      "outputs": [
        {
          "output_type": "display_data",
          "data": {
            "text/plain": [
              "<Figure size 640x480 with 1 Axes>"
            ],
            "image/png": "[encoded data removed]"
          },
          "metadata": {}
        }
      ]
    },
    {
      "cell_type": "markdown",
      "source": [
        "The presence of outliers in the \"standard_cost\" column indicates that some data points have values significantly different from the majority of the data. This could be because of data entry errors, pricing discrepancies or product variability"
      ],
      "metadata": {
        "id": "LqD7hIY-xcAt"
      }
    },
    {
      "cell_type": "code",
      "source": [
        "# Assuming df is your Transactions dataset and you want to create a scatter plot between 'list_price' and 'standard_cost'\n",
        "plt.scatter(transactions['list_price'], transactions['standard_cost'], alpha=0.5)\n",
        "plt.xlabel('List Price')\n",
        "plt.ylabel('Standard Cost')\n",
        "plt.title('Scatter Plot: List Price vs. Standard Cost')\n",
        "plt.show()"
      ],
      "metadata": {
        "colab": {
          "base_uri": "https://localhost:8080/",
          "height": 472
        },
        "id": "8IbZ7QH6xa9T",
        "outputId": "ba3cb6d3-4c5c-4af3-eac0-e0224b9f40eb"
      },
      "execution_count": 80,
      "outputs": [
        {
          "output_type": "display_data",
          "data": {
            "text/plain": [
              "<Figure size 640x480 with 1 Axes>"
            ],
            "image/png": "[encoded data removed]"
          },
          "metadata": {}
        }
      ]
    },
    {
      "cell_type": "markdown",
      "source": [
        "## 3. Data Consistency"
      ],
      "metadata": {
        "id": "Ynmb-ffgxjGj"
      }
    },
    {
      "cell_type": "code",
      "source": [
        "# Check for price and cost consistency\n",
        "inconsistent_prices = transactions[transactions['list_price'] <= transactions['standard_cost']]\n",
        "\n",
        "# Display rows with inconsistent prices and costs\n",
        "if not inconsistent_prices.empty:\n",
        "    print(\"Rows with inconsistent prices and costs:\")\n",
        "    print(inconsistent_prices)\n",
        "else:\n",
        "    print(\"No inconsistent prices and costs found.\")"
      ],
      "metadata": {
        "colab": {
          "base_uri": "https://localhost:8080/"
        },
        "id": "3MrnBs9Ux0F8",
        "outputId": "86baaa55-5ef3-4229-a709-24d4d5a9bbd4"
      },
      "execution_count": 81,
      "outputs": [
        {
          "output_type": "stream",
          "name": "stdout",
          "text": [
            "No inconsistent prices and costs found.\n"
          ]
        }
      ]
    },
    {
      "cell_type": "markdown",
      "source": [
        "All list prices are higher than standard costs for all products."
      ],
      "metadata": {
        "id": "SLXGc7GRx5Lt"
      }
    },
    {
      "cell_type": "code",
      "source": [
        "# Convert 'product_first_sold_date' to datetime if needed\n",
        "transactions['product_first_sold_date'] = pd.to_datetime(transactions['product_first_sold_date'], unit='s', errors='coerce')\n",
        "transactions['product_first_sold_date'].head()"
      ],
      "metadata": {
        "id": "I6P1KDQWx5z6",
        "colab": {
          "base_uri": "https://localhost:8080/"
        },
        "outputId": "ce34e09f-39d9-4c8e-d459-8bd1e679bd45"
      },
      "execution_count": 82,
      "outputs": [
        {
          "output_type": "execute_result",
          "data": {
            "text/plain": [
              "0   1970-01-01 11:27:25\n",
              "1   1970-01-01 11:35:01\n",
              "2   1970-01-01 10:06:01\n",
              "3   1970-01-01 10:02:25\n",
              "4   1970-01-01 11:43:46\n",
              "Name: product_first_sold_date, dtype: datetime64[ns]"
            ]
          },
          "metadata": {},
          "execution_count": 82
        }
      ]
    },
    {
      "cell_type": "code",
      "source": [
        "#convert date columns from integer to datetime\n",
        "transactions['transaction_date'] = pd.to_datetime(transactions['transaction_date'], unit='s')\n",
        "transactions['transaction_date'].head()"
      ],
      "metadata": {
        "id": "Vt2lXFvR2oDN",
        "colab": {
          "base_uri": "https://localhost:8080/"
        },
        "outputId": "9177649d-a1b3-46f3-90ac-667935b0b72b"
      },
      "execution_count": 83,
      "outputs": [
        {
          "output_type": "execute_result",
          "data": {
            "text/plain": [
              "0   2017-02-25\n",
              "1   2017-05-21\n",
              "2   2017-10-16\n",
              "3   2017-08-31\n",
              "4   2017-10-01\n",
              "Name: transaction_date, dtype: datetime64[ns]"
            ]
          },
          "metadata": {},
          "execution_count": 83
        }
      ]
    },
    {
      "cell_type": "code",
      "source": [
        "# Check for missing dates in 'transaction_date' and 'product_first_sold_date'\n",
        "missing_transaction_dates = transactions['transaction_date'].isnull()\n",
        "missing_product_dates = transactions['product_first_sold_date'].isnull()"
      ],
      "metadata": {
        "id": "fScS8hE7x-JB"
      },
      "execution_count": 84,
      "outputs": []
    },
    {
      "cell_type": "code",
      "source": [
        "current_date = pd.Timestamp.now()\n",
        "future_transaction_dates = transactions['transaction_date'] > current_date\n",
        "future_product_dates = transactions['product_first_sold_date'] > current_date"
      ],
      "metadata": {
        "id": "gRS7X4L_yKN4"
      },
      "execution_count": 85,
      "outputs": []
    },
    {
      "cell_type": "code",
      "source": [
        "print('Missing Transaction Dates', missing_transaction_dates.sum())\n",
        "print('Missing Product Dates', missing_product_dates.sum())\n",
        "print('Future Transaction Dates', future_transaction_dates.sum())\n",
        "print('Future Product Dates', future_product_dates.sum())"
      ],
      "metadata": {
        "colab": {
          "base_uri": "https://localhost:8080/"
        },
        "id": "74J78NQYyOxO",
        "outputId": "715c9317-5fae-4ed7-ee92-306989eb5c11"
      },
      "execution_count": 86,
      "outputs": [
        {
          "output_type": "stream",
          "name": "stdout",
          "text": [
            "Missing Transaction Dates 0\n",
            "Missing Product Dates 197\n",
            "Future Transaction Dates 0\n",
            "Future Product Dates 0\n"
          ]
        }
      ]
    },
    {
      "cell_type": "code",
      "source": [
        "unique_order_status = transactions['order_status'].unique()\n",
        "unique_brand = transactions['brand'].unique()\n",
        "unique_product_line = transactions['product_line'].unique()\n",
        "unique_product_size = transactions['product_size'].unique()\n",
        "unique_product_class = transactions['product_class'].unique()\n",
        "\n",
        "print(\"Unique order status:\", unique_order_status)\n",
        "print(\"Unique brand:\", unique_brand)\n",
        "print(\"Unique product line:\", unique_product_line)\n",
        "print(\"Unique product size:\", unique_product_size)\n",
        "print(\"Unique product class:\", unique_product_class)"
      ],
      "metadata": {
        "colab": {
          "base_uri": "https://localhost:8080/"
        },
        "id": "iEsxXcoTyOo-",
        "outputId": "30e835fe-fd31-45c9-ba9e-786421b951a8"
      },
      "execution_count": 87,
      "outputs": [
        {
          "output_type": "stream",
          "name": "stdout",
          "text": [
            "Unique order status: ['Approved' 'Cancelled']\n",
            "Unique brand: ['Solex' 'Trek Bicycles' 'OHM Cycles' 'Norco Bicycles' 'Giant Bicycles'\n",
            " 'WeareA2B' nan]\n",
            "Unique product line: ['Standard' 'Road' 'Mountain' 'Touring' nan]\n",
            "Unique product size: ['medium' 'large' 'small' nan]\n",
            "Unique product class: ['medium' 'low' 'high' nan]\n"
          ]
        }
      ]
    },
    {
      "cell_type": "code",
      "source": [
        "negative_values = transactions[(transactions['list_price'] < 0) | (transactions['standard_cost'] < 0) | (transactions['online_order'] < 0)]\n",
        "unrealistic_values = transactions[(transactions['list_price'] < 0) | (transactions['list_price'] > 10000) | (transactions['standard_cost'] < 0) | (transactions['standard_cost'] > 10000) | (transactions['online_order'] < 0) | (transactions['online_order'] > 10000)]\n",
        "\n",
        "print(\"Negative values:\", negative_values)\n",
        "print(\"Unrealistic values:\")\n",
        "unrealistic_values"
      ],
      "metadata": {
        "colab": {
          "base_uri": "https://localhost:8080/",
          "height": 142
        },
        "id": "QFSyQPwhyXTo",
        "outputId": "64cd4f4e-b1d5-4df0-916c-649f5a8595f6"
      },
      "execution_count": 88,
      "outputs": [
        {
          "output_type": "stream",
          "name": "stdout",
          "text": [
            "Negative values: Empty DataFrame\n",
            "Columns: [transaction_id, product_id, customer_id, transaction_date, online_order, order_status, brand, product_line, product_class, product_size, list_price, standard_cost, product_first_sold_date]\n",
            "Index: []\n",
            "Unrealistic values:\n"
          ]
        },
        {
          "output_type": "execute_result",
          "data": {
            "text/plain": [
              "Empty DataFrame\n",
              "Columns: [transaction_id, product_id, customer_id, transaction_date, online_order, order_status, brand, product_line, product_class, product_size, list_price, standard_cost, product_first_sold_date]\n",
              "Index: []"
            ],
            "text/html": [
              "\n",
              "  <div id=\"df-ff743768-b947-4714-aa51-208506fb4556\" class=\"colab-df-container\">\n",
              "    <div>\n",
              "<style scoped>\n",
              "    .dataframe tbody tr th:only-of-type {\n",
              "        vertical-align: middle;\n",
              "    }\n",
              "\n",
              "    .dataframe tbody tr th {\n",
              "        vertical-align: top;\n",
              "    }\n",
              "\n",
              "    .dataframe thead th {\n",
              "        text-align: right;\n",
              "    }\n",
              "</style>\n",
              "<table border=\"1\" class=\"dataframe\">\n",
              "  <thead>\n",
              "    <tr style=\"text-align: right;\">\n",
              "      <th></th>\n",
              "      <th>transaction_id</th>\n",
              "      <th>product_id</th>\n",
              "      <th>customer_id</th>\n",
              "      <th>transaction_date</th>\n",
              "      <th>online_order</th>\n",
              "      <th>order_status</th>\n",
              "      <th>brand</th>\n",
              "      <th>product_line</th>\n",
              "      <th>product_class</th>\n",
              "      <th>product_size</th>\n",
              "      <th>list_price</th>\n",
              "      <th>standard_cost</th>\n",
              "      <th>product_first_sold_date</th>\n",
              "    </tr>\n",
              "  </thead>\n",
              "  <tbody>\n",
              "  </tbody>\n",
              "</table>\n",
              "</div>\n",
              "    <div class=\"colab-df-buttons\">\n",
              "\n",
              "  <div class=\"colab-df-container\">\n",
              "    <button class=\"colab-df-convert\" onclick=\"convertToInteractive('df-ff743768-b947-4714-aa51-208506fb4556')\"\n",
              "            title=\"Convert this dataframe to an interactive table.\"\n",
              "            style=\"display:none;\">\n",
              "\n",
              "  <svg xmlns=\"http://www.w3.org/2000/svg\" height=\"24px\" viewBox=\"0 -960 960 960\">\n",
              "    <path d=\"M120-120v-720h720v720H120Zm60-500h600v-160H180v160Zm220 220h160v-160H400v160Zm0 220h160v-160H400v160ZM180-400h160v-160H180v160Zm440 0h160v-160H620v160ZM180-180h160v-160H180v160Zm440 0h160v-160H620v160Z\"/>\n",
              "  </svg>\n",
              "    </button>\n",
              "\n",
              "  <style>\n",
              "    .colab-df-container {\n",
              "      display:flex;\n",
              "      gap: 12px;\n",
              "    }\n",
              "\n",
              "    .colab-df-convert {\n",
              "      background-color: #E8F0FE;\n",
              "      border: none;\n",
              "      border-radius: 50%;\n",
              "      cursor: pointer;\n",
              "      display: none;\n",
              "      fill: #1967D2;\n",
              "      height: 32px;\n",
              "      padding: 0 0 0 0;\n",
              "      width: 32px;\n",
              "    }\n",
              "\n",
              "    .colab-df-convert:hover {\n",
              "      background-color: #E2EBFA;\n",
              "      box-shadow: 0px 1px 2px rgba(60, 64, 67, 0.3), 0px 1px 3px 1px rgba(60, 64, 67, 0.15);\n",
              "      fill: #174EA6;\n",
              "    }\n",
              "\n",
              "    .colab-df-buttons div {\n",
              "      margin-bottom: 4px;\n",
              "    }\n",
              "\n",
              "    [theme=dark] .colab-df-convert {\n",
              "      background-color: #3B4455;\n",
              "      fill: #D2E3FC;\n",
              "    }\n",
              "\n",
              "    [theme=dark] .colab-df-convert:hover {\n",
              "      background-color: #434B5C;\n",
              "      box-shadow: 0px 1px 3px 1px rgba(0, 0, 0, 0.15);\n",
              "      filter: drop-shadow(0px 1px 2px rgba(0, 0, 0, 0.3));\n",
              "      fill: #FFFFFF;\n",
              "    }\n",
              "  </style>\n",
              "\n",
              "    <script>\n",
              "      const buttonEl =\n",
              "        document.querySelector('#df-ff743768-b947-4714-aa51-208506fb4556 button.colab-df-convert');\n",
              "      buttonEl.style.display =\n",
              "        google.colab.kernel.accessAllowed ? 'block' : 'none';\n",
              "\n",
              "      async function convertToInteractive(key) {\n",
              "        const element = document.querySelector('#df-ff743768-b947-4714-aa51-208506fb4556');\n",
              "        const dataTable =\n",
              "          await google.colab.kernel.invokeFunction('convertToInteractive',\n",
              "                                                    [key], {});\n",
              "        if (!dataTable) return;\n",
              "\n",
              "        const docLinkHtml = 'Like what you see? Visit the ' +\n",
              "          '<a target=\"_blank\" href=https://colab.research.google.com/notebooks/data_table.ipynb>data table notebook</a>'\n",
              "          + ' to learn more about interactive tables.';\n",
              "        element.innerHTML = '';\n",
              "        dataTable['output_type'] = 'display_data';\n",
              "        await google.colab.output.renderOutput(dataTable, element);\n",
              "        const docLink = document.createElement('div');\n",
              "        docLink.innerHTML = docLinkHtml;\n",
              "        element.appendChild(docLink);\n",
              "      }\n",
              "    </script>\n",
              "  </div>\n",
              "\n",
              "    </div>\n",
              "  </div>\n"
            ]
          },
          "metadata": {},
          "execution_count": 88
        }
      ]
    },
    {
      "cell_type": "markdown",
      "source": [
        "## 4. Data Currency"
      ],
      "metadata": {
        "id": "nW4zeJ2zy0uU"
      }
    },
    {
      "cell_type": "code",
      "source": [
        "date_range = (transactions['transaction_date'].min(), transactions['transaction_date'].max())\n",
        "date_range"
      ],
      "metadata": {
        "colab": {
          "base_uri": "https://localhost:8080/"
        },
        "id": "O59ne5AFy7oz",
        "outputId": "e774a3e1-dea6-4cb7-db84-2527772c7027"
      },
      "execution_count": 89,
      "outputs": [
        {
          "output_type": "execute_result",
          "data": {
            "text/plain": [
              "(Timestamp('2017-01-01 00:00:00'), Timestamp('2017-12-30 00:00:00'))"
            ]
          },
          "metadata": {},
          "execution_count": 89
        }
      ]
    },
    {
      "cell_type": "code",
      "source": [
        "from datetime import datetime\n",
        "\n",
        "# Ensure that the \"transaction_date\" column is in datetime format\n",
        "transactions['transaction_date'] = pd.to_datetime(transactions['transaction_date'])\n",
        "\n",
        "# Find the latest transaction date\n",
        "latest_transaction_date = transactions['transaction_date'].max()\n",
        "\n",
        "# Get the current date\n",
        "current_date = datetime.now().date()\n",
        "\n",
        "# Calculate the time difference\n",
        "time_difference = current_date - latest_transaction_date.date()\n",
        "\n",
        "print(\"Latest Transaction Date:\", latest_transaction_date.date())\n",
        "print(\"Current Date:\", current_date)\n",
        "print(\"Time Difference (Days):\", time_difference.days)"
      ],
      "metadata": {
        "colab": {
          "base_uri": "https://localhost:8080/"
        },
        "id": "db1jAcz7zADe",
        "outputId": "048d5b9b-f269-4d65-bc9f-5b2058f91b4b"
      },
      "execution_count": 90,
      "outputs": [
        {
          "output_type": "stream",
          "name": "stdout",
          "text": [
            "Latest Transaction Date: 2017-12-30\n",
            "Current Date: 2023-10-16\n",
            "Time Difference (Days): 2116\n"
          ]
        }
      ]
    },
    {
      "cell_type": "code",
      "source": [
        "# Check unique values in the \"online_order\" column\n",
        "unique_online_order_values = transactions['online_order'].unique()\n",
        "print(\"Unique Online Order Values:\", unique_online_order_values)"
      ],
      "metadata": {
        "colab": {
          "base_uri": "https://localhost:8080/"
        },
        "id": "otxXlhdLzIBy",
        "outputId": "66469c9a-af6d-400e-b0a0-d5ca6dd312e3"
      },
      "execution_count": 91,
      "outputs": [
        {
          "output_type": "stream",
          "name": "stdout",
          "text": [
            "Unique Online Order Values: [ 0.  1. nan]\n"
          ]
        }
      ]
    },
    {
      "cell_type": "code",
      "source": [
        "unique_order_statuses = transactions['order_status'].unique()\n",
        "print(\"Unique Order Status Values:\")\n",
        "print(unique_order_statuses)"
      ],
      "metadata": {
        "colab": {
          "base_uri": "https://localhost:8080/"
        },
        "id": "mhBlnEjzzN3a",
        "outputId": "8ad469be-d41c-40ef-d4f4-a75d9077c5fa"
      },
      "execution_count": 92,
      "outputs": [
        {
          "output_type": "stream",
          "name": "stdout",
          "text": [
            "Unique Order Status Values:\n",
            "['Approved' 'Cancelled']\n"
          ]
        }
      ]
    },
    {
      "cell_type": "code",
      "source": [
        "# Check unique values in the 'brand' column\n",
        "unique_brands = transactions['brand'].unique()\n",
        "print(\"Unique Brands:\", unique_brands)"
      ],
      "metadata": {
        "colab": {
          "base_uri": "https://localhost:8080/"
        },
        "id": "iIEqSbr5zN_B",
        "outputId": "97960f64-ccb0-49d1-e645-13ba0ff59b1c"
      },
      "execution_count": 93,
      "outputs": [
        {
          "output_type": "stream",
          "name": "stdout",
          "text": [
            "Unique Brands: ['Solex' 'Trek Bicycles' 'OHM Cycles' 'Norco Bicycles' 'Giant Bicycles'\n",
            " 'WeareA2B' nan]\n"
          ]
        }
      ]
    },
    {
      "cell_type": "code",
      "source": [
        "# Define expected data types for each column\n",
        "expected_data_types = {\n",
        "    'transaction_id': int,\n",
        "    'product_id': int,\n",
        "    'customer_id': int,\n",
        "    'transaction_date': 'datetime64[ns]',\n",
        "    'online_order': float,  # Assuming this column can have NaN values\n",
        "    'order_status': str,     # Assuming order status is a string\n",
        "    'brand': str,\n",
        "    'product_line': str,\n",
        "    'product_class': str,\n",
        "    'product_size': str,\n",
        "    'list_price': float,\n",
        "    'standard_cost': float,\n",
        "    'product_first_sold_date': 'datetime64[ns]'  # Assuming this column represents a numeric value\n",
        "}\n",
        "\n",
        "# Check data types and enforce them\n",
        "for column, data_type in expected_data_types.items():\n",
        "    if column in transactions.columns:\n",
        "        transactions[column] = transactions[column].astype(data_type)\n",
        "\n",
        "# Now, the DataFrame 'df' should have the specified data types for each column.\n",
        "\n",
        "# You can verify the data types of each column using the dtypes attribute:\n",
        "print(transactions.dtypes)\n",
        "\n",
        "# If you encounter errors during conversion (e.g., due to incompatible data), you may need to address those issues separately.\n"
      ],
      "metadata": {
        "id": "bfKPoyU-zaVO",
        "outputId": "0c41a245-6034-4a75-8f32-1f80877d7767",
        "colab": {
          "base_uri": "https://localhost:8080/"
        }
      },
      "execution_count": 94,
      "outputs": [
        {
          "output_type": "stream",
          "name": "stdout",
          "text": [
            "transaction_id                      int64\n",
            "product_id                          int64\n",
            "customer_id                         int64\n",
            "transaction_date           datetime64[ns]\n",
            "online_order                      float64\n",
            "order_status                       object\n",
            "brand                              object\n",
            "product_line                       object\n",
            "product_class                      object\n",
            "product_size                       object\n",
            "list_price                        float64\n",
            "standard_cost                     float64\n",
            "product_first_sold_date    datetime64[ns]\n",
            "dtype: object\n"
          ]
        }
      ]
    }
  ],
  "metadata": {
    "colab": {
      "toc_visible": true,
      "provenance": [],
      "authorship_tag": "ABX9TyNC0YWuNrzEW9F2gSX8mCn0"
    },
    "kernelspec": {
      "display_name": "Python 3",
      "name": "python3"
    },
    "language_info": {
      "name": "python"
    }
  },
  "nbformat": 4,
  "nbformat_minor": 0
}